{
 "metadata": {
  "name": "",
  "signature": "sha256:a6d94bb506eed6e598bd1079b9a1a34ce815051dc662143b2d51e1eb4dadebec"
 },
 "nbformat": 3,
 "nbformat_minor": 0,
 "worksheets": [
  {
   "cells": [
    {
     "cell_type": "markdown",
     "metadata": {},
     "source": [
      "<a name=top></a>\n",
      "<center><h1>Change of Basis</h1></center>\n",
      "<p>"
     ]
    },
    {
     "cell_type": "markdown",
     "metadata": {},
     "source": [
      "<h2>Status</h2>\n",
      "\n",
      "I <i>think</i> this is all working.\n",
      "\n",
      "<h2>Contents</h2>\n",
      "<ul>\n",
      "<li> <a href=\"#setup\">Setup</a>\n",
      "<li> <a href=\"#cb_vectors\">Changing the basis of vectors</a>\n",
      "<li> <a href=\"#cb_matrices\">Changing the basis of matrices</a>\n",
      "</ul>"
     ]
    },
    {
     "cell_type": "markdown",
     "metadata": {},
     "source": [
      "<hr size=3>\n",
      "<a name=setup></a>\n",
      "<h2><a href=\"#top\">^</a> Setup</h2>"
     ]
    },
    {
     "cell_type": "code",
     "collapsed": false,
     "input": [
      "%autosave 0\n",
      "from sglib import *\n",
      "from sympy import Symbol\n",
      "\n",
      "# Make a change of basis matrix.\n",
      "# Do it by putting the basis vectors in the columns of the matrix,\n",
      "# and then taking the adjoint (which should be the inverse).\n",
      "# The first matrix returned changes components from:\n",
      "#    standard basis ---> b basis\n",
      "# The 2nd matrix returned changes components from:\n",
      "#    b basis ---> standard basis\n",
      "def make_cbm(name, b):\n",
      "    C = mat(b[0][0], b[1][0], b[0][1], b[1][1])\n",
      "    return( adjoint(C), C )"
     ],
     "language": "python",
     "metadata": {},
     "outputs": []
    },
    {
     "cell_type": "markdown",
     "metadata": {},
     "source": [
      "<hr size=3>\n",
      "<a name=cb_vectors></a>\n",
      "<h2><a href=\"#top\">^</a> Changing the basis of vectors</h2>\n",
      "<p>"
     ]
    },
    {
     "cell_type": "code",
     "collapsed": false,
     "input": [
      "name='y'\n",
      "Cy, Cya = make_cbm(name, [pY, mY])\n",
      "Print(r'$C_{%s} = %s$' %(name, myltx(Cy)))\n",
      "Print(r'$C_{%s}^{\\dagger} = %s$' %(name, myltx(Cya)))\n",
      "Print(r'$C_{%s}C_{%s}^{\\dagger} = %s$' %(name, name, myltx(Cy*Cya)))"
     ],
     "language": "python",
     "metadata": {},
     "outputs": []
    },
    {
     "cell_type": "code",
     "collapsed": false,
     "input": [
      "alpha = Symbol('alpha'); beta = Symbol('beta')\n",
      "psi_z = col(alpha, beta)\n",
      "Print(r'$|\\psi_{%s}\\rangle = %s$' %('z', myltx(psi_z)))\n",
      "#\n",
      "# Do the calculation by inner products first\n",
      "alpha_y = inner_product(pY, psi_z)\n",
      "beta_y  = inner_product(mY, psi_z)\n",
      "psi_y_good = col(alpha_y, beta_y)\n",
      "Print(r'$|\\psi_{%s}\\rangle $ should be equal to $ %s$'\n",
      "      %('y', myltx(psi_y_good)))\n",
      "#\n",
      "Print('$C_{y}$ changes into the $y$ basis:')\n",
      "psi_y = Cy*psi_z\n",
      "psi_y = megasimp(psi_y)\n",
      "Print(r'$|\\psi_{%s}\\rangle = C_{y} |\\psi_{z}\\rangle=%s%s=%s$'\n",
      "      %('y', myltx(Cy), myltx(psi_z), myltx(psi_y)))\n",
      "# change back\n",
      "Print('And $C_{y}^\\dagger$ changes back to $z$:')\n",
      "foo = Cya*psi_y\n",
      "foo = megasimp(foo)\n",
      "Print(r'$|\\psi_{z}\\rangle = C_{y}^\\dagger|\\psi_{y}\\rangle=%s%s=%s$'\n",
      "      %( myltx(Cya), myltx(psi_y), myltx(foo)))"
     ],
     "language": "python",
     "metadata": {},
     "outputs": []
    },
    {
     "cell_type": "markdown",
     "metadata": {},
     "source": [
      "<hr size=3>\n",
      "<a name=cb_matrices></a>\n",
      "<h2><a href=\"#top\">^</a> Changing the basis of matrices</h2>\n",
      "<p>"
     ]
    },
    {
     "cell_type": "code",
     "collapsed": false,
     "input": [
      "name='y'\n",
      "Cy, Cya = make_cbm(name, [pY, mY])\n",
      "Print('The $y$ operator in it\\'s own basis is: $%s$' %(latex(sigma_z)))\n",
      "Print('To change from the $y$ to the $z$ basis:')\n",
      "Print(r'$C_{%s}^{\\dagger}\\sigma_{%s}C_{%s}  = %s$' \n",
      "      %('y', 'z', 'y', latex(Cya*sigma_z*Cy)))"
     ],
     "language": "python",
     "metadata": {},
     "outputs": []
    },
    {
     "cell_type": "code",
     "collapsed": false,
     "input": [
      "Print(r'In the $z$ basis $\\sigma_{%s} = %s$' %('y', latex(sigma_y)))\n",
      "Print('To change from the $z$ to the $y$ basis:')\n",
      "Print(r'$C_{%s}\\sigma_{%s}C_{%s}^{\\dagger}  = %s$' \n",
      "      %('y', 'y', 'y', latex(Cy*sigma_y*Cya)))"
     ],
     "language": "python",
     "metadata": {},
     "outputs": []
    },
    {
     "cell_type": "code",
     "collapsed": false,
     "input": [],
     "language": "python",
     "metadata": {},
     "outputs": []
    }
   ],
   "metadata": {}
  }
 ]
}