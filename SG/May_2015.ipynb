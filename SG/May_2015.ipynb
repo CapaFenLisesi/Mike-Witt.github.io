{
 "metadata": {
  "name": "",
  "signature": "sha256:c40cbd7d4a84d324f8bf9c83569ef3e1bc5b0875a39d03e90dcfc2478fd0ae52"
 },
 "nbformat": 3,
 "nbformat_minor": 0,
 "worksheets": [
  {
   "cells": [
    {
     "cell_type": "code",
     "collapsed": false,
     "input": [
      "%autosave 0\n",
      "from sglib import *\n",
      "import sympy as sy\n",
      "half = sy.Rational(1,2)\n",
      "fz = sg_format_state(basis=['+z','-z'], separator=',').format\n",
      "f45 = sg_format_state(basis=['+45','-45'], separator=',').format\n",
      "# Zero and One states\n",
      "s0 = col(1,0); s1 = col(0,1)\n",
      "# Create a formatter for stuff like |00>\n",
      "fmt = sg_format_state(['0','1'], '').format\n",
      "# Create two-bit states and basis\n",
      "s00=TP(s0,s0); s01=TP(s0,s1); s10=TP(s1,s0); s11=TP(s1,s1)\n",
      "b2bit = [s00, s01, s10, s11]"
     ],
     "language": "python",
     "metadata": {},
     "outputs": [
      {
       "javascript": [
        "IPython.notebook.set_autosave_interval(0)"
       ],
       "metadata": {},
       "output_type": "display_data"
      },
      {
       "output_type": "stream",
       "stream": "stdout",
       "text": [
        "Autosave disabled\n"
       ]
      }
     ],
     "prompt_number": 10
    },
    {
     "cell_type": "code",
     "collapsed": false,
     "input": [
      "psi = half*s00 + half*s01 + half*s10 - half*s11\n",
      "Print(r'$\\psi = %s$'%fmt(psi))\n",
      "rho = OP(psi,psi)\n",
      "S = Entropy(rho)\n",
      "Print(r'$\\rho = %s, \\;\\; S = %s$' %(latex(rho), latex(S)))\n",
      "# Then do the reduced density for bit zero\n",
      "rho_op = matrix_as_outer_product(rho)\n",
      "rho_op.partial_trace(1)\n",
      "examine_dm(rho_op.M)"
     ],
     "language": "python",
     "metadata": {},
     "outputs": [
      {
       "html": [
        "<font size=4>$\\psi = \\frac{1}{2}|00\\rangle+\\frac{1}{2}|01\\rangle+\\frac{1}{2}|10\\rangle-\\frac{1}{2}|11\\rangle$</font>"
       ],
       "metadata": {},
       "output_type": "display_data",
       "text": [
        "<IPython.core.display.HTML at 0xb5797ec>"
       ]
      },
      {
       "html": [
        "<font size=4>$\\rho = \\left[\\begin{matrix}\\frac{1}{4} & \\frac{1}{4} & \\frac{1}{4} & - \\frac{1}{4}\\\\\\frac{1}{4} & \\frac{1}{4} & \\frac{1}{4} & - \\frac{1}{4}\\\\\\frac{1}{4} & \\frac{1}{4} & \\frac{1}{4} & - \\frac{1}{4}\\\\- \\frac{1}{4} & - \\frac{1}{4} & - \\frac{1}{4} & \\frac{1}{4}\\end{matrix}\\right], \\;\\; S = 0$</font>"
       ],
       "metadata": {},
       "output_type": "display_data",
       "text": [
        "<IPython.core.display.HTML at 0xb5794ac>"
       ]
      },
      {
       "html": [
        "<font size=4>$\\rho=\\left[\\begin{matrix}\\frac{1}{2} & 0\\\\0 & \\frac{1}{2}\\end{matrix}\\right],\\;\\;\\mathrm{Tr}(\\rho^2)=0.500,\\;\\;S=1.000$</font>"
       ],
       "metadata": {},
       "output_type": "display_data",
       "text": [
        "<IPython.core.display.HTML at 0xb57f02c>"
       ]
      }
     ],
     "prompt_number": 4
    },
    {
     "cell_type": "code",
     "collapsed": false,
     "input": [
      "Print('If we look at this as a $z$ spin we have:')\n",
      "Print(r'$%s$'%fz(psi))"
     ],
     "language": "python",
     "metadata": {},
     "outputs": [
      {
       "html": [
        "<font size=4>If we look at this as a $z$ spin we have:</font>"
       ],
       "metadata": {},
       "output_type": "display_data",
       "text": [
        "<IPython.core.display.HTML at 0xb59994c>"
       ]
      },
      {
       "html": [
        "<font size=4>$\\frac{1}{2}|+z,+z\\rangle+\\frac{1}{2}|+z,-z\\rangle+\\frac{1}{2}|-z,+z\\rangle-\\frac{1}{2}|-z,-z\\rangle$</font>"
       ],
       "metadata": {},
       "output_type": "display_data",
       "text": [
        "<IPython.core.display.HTML at 0xb59a16c>"
       ]
      }
     ],
     "prompt_number": 13
    },
    {
     "cell_type": "code",
     "collapsed": false,
     "input": [
      "M45 = 1/sqrt(2)*mat(1,1,1,-1)\n",
      "#Print('The 45 degree operator is: $%s$'%myltx(M45))\n",
      "\n",
      "eval, evec = find_eigenvectors(M45)\n",
      "m45 = evec[0]; p45 = evec[1]\n",
      "\n",
      "b45 = []\n",
      "b45 += [ TP(p45, p45), ]\n",
      "b45 += [ TP(p45, m45), ]\n",
      "b45 += [ TP(m45, p45), ]\n",
      "b45 += [ TP(m45, m45), ]\n",
      "\n",
      "a = IP(b45[0], z_state)\n",
      "b = IP(b45[1], z_state)\n",
      "c = IP(b45[2], z_state)\n",
      "d = IP(b45[3], z_state)\n",
      "state_45 = col(a,b,c,d)\n",
      "\n",
      "# Do everything possible to simplify the state\n",
      "state_45 = megasimp(state_45)\n",
      "\n",
      "#Print('But if we change to the the 45 degree basis we have:')\n",
      "#sg_print(state_45, exact=True, ndigs=4)\n",
      "Print('In the $45^{\\circ}$ basis we have: $%s$'%f45(state_45))"
     ],
     "language": "python",
     "metadata": {},
     "outputs": [
      {
       "html": [
        "<font size=4>In the $45^{\\circ}$ basis we have: $\\frac{1}{\\sqrt{2}}|+45,+45\\rangle-\\frac{1}{\\sqrt{2}}|-45,-45\\rangle$</font>"
       ],
       "metadata": {},
       "output_type": "display_data",
       "text": [
        "<IPython.core.display.HTML at 0xb5e47ac>"
       ]
      }
     ],
     "prompt_number": 15
    }
   ],
   "metadata": {}
  }
 ]
}