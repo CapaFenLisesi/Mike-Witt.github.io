{
 "metadata": {
  "name": ""
 },
 "nbformat": 3,
 "nbformat_minor": 0,
 "worksheets": [
  {
   "cells": [
    {
     "cell_type": "markdown",
     "metadata": {},
     "source": [
      "<style type=\"text/css\">\n",
      "    p {font-size: 12pt}\n",
      "    b {font-size: 12pt; font-weight: bold;}\n",
      "    i {font-size: 12pt; font-style: italic;}\n",
      "    ul.x {font-size: 12pt;}\n",
      "    ol {font-size: 12pt; list-style-type: decimal !important;}\n",
      "    ol.sp {padding: 0 0 0 0; font-size: 12pt; list-style-type: decimal !important;}\n",
      "    ol.sp li {margin-bottom: 10pt; }\n",
      "    .in {padding-left: 50pt;}\n",
      "    .din {padding-left: 75pt;}\n",
      "    .sp {padding-left: 50pt;}\n",
      "    .f12 {font-size: 12pt;}\n",
      "</style>"
     ]
    },
    {
     "cell_type": "markdown",
     "metadata": {},
     "source": [
      "<h2>Sunday Group - Projections</h2>\n",
      "<ul class=x>\n",
      "<li> Note: Before doing anything else, you need to do Shift-Enter\n",
      "    in the \"Setup\" cell, so that the library will be imported.\n",
      "</ul>"
     ]
    },
    {
     "cell_type": "markdown",
     "metadata": {},
     "source": [
      "<h2>Setup Cell</h2>"
     ]
    },
    {
     "cell_type": "code",
     "collapsed": false,
     "input": [
      "import numpy as np\n",
      "import sglib\n",
      "reload(sglib)\n",
      "from sglib import *"
     ],
     "language": "python",
     "metadata": {},
     "outputs": [],
     "prompt_number": 1
    },
    {
     "cell_type": "markdown",
     "metadata": {},
     "source": [
      "<h2>Examples of various projections</h2>"
     ]
    },
    {
     "cell_type": "code",
     "collapsed": false,
     "input": [
      "draw_projections(vector(1,0), vector(0,1), vector(2,3))"
     ],
     "language": "python",
     "metadata": {},
     "outputs": [
      {
       "html": [
        "<font size=4>The vector $\\left[\\begin{matrix}2\\\\3\\end{matrix}\\right]$, and its projection on the basis: $\\left[\\begin{matrix}1\\\\0\\end{matrix}\\right],\\left[\\begin{matrix}0\\\\1\\end{matrix}\\right]$</font>"
       ],
       "metadata": {},
       "output_type": "display_data",
       "text": [
        "<IPython.core.display.HTML at 0xb24fc8c>"
       ]
      },
      {
       "html": [
        "<font size=4>The vector in this basis is: $\\left[\\begin{matrix}2\\\\3\\end{matrix}\\right]$</font>"
       ],
       "metadata": {},
       "output_type": "display_data",
       "text": [
        "<IPython.core.display.HTML at 0xb24fd6c>"
       ]
      },
      {
       "metadata": {},
       "output_type": "display_data",
       "png": "[encoded data removed]",
       "text": [
        "<matplotlib.figure.Figure at 0xb198b2c>"
       ]
      }
     ],
     "prompt_number": 2
    },
    {
     "cell_type": "code",
     "collapsed": false,
     "input": [
      "draw_projections(1/sqrt(5)*vector(2,1), 1/sqrt(5)*vector(-1,2), vector(2,3))"
     ],
     "language": "python",
     "metadata": {},
     "outputs": []
    },
    {
     "cell_type": "code",
     "collapsed": false,
     "input": [
      "draw_projections(1/sqrt(2)*vector(1,1), 1/sqrt(2)*vector(1,-1), vector(2,3))"
     ],
     "language": "python",
     "metadata": {},
     "outputs": []
    },
    {
     "cell_type": "code",
     "collapsed": false,
     "input": [
      "draw_projections(vector(-1,0), vector(0,-1), vector(2,3))"
     ],
     "language": "python",
     "metadata": {},
     "outputs": []
    },
    {
     "cell_type": "code",
     "collapsed": false,
     "input": [
      "draw_projections(vector(-1,0), vector(0,-1), vector(5,5))"
     ],
     "language": "python",
     "metadata": {},
     "outputs": []
    },
    {
     "cell_type": "code",
     "collapsed": false,
     "input": [
      "draw_projections(vector(1,0), vector(0,1), vector(.5, .7))"
     ],
     "language": "python",
     "metadata": {},
     "outputs": []
    },
    {
     "cell_type": "code",
     "collapsed": false,
     "input": [],
     "language": "python",
     "metadata": {},
     "outputs": []
    }
   ],
   "metadata": {}
  }
 ]
}