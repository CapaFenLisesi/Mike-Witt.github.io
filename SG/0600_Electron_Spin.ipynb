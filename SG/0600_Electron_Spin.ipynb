{
 "metadata": {
  "name": "",
  "signature": "sha256:2028fc24278ce853fe0d49ab50f11775a4beb28b278f567f026ad213981b6967"
 },
 "nbformat": 3,
 "nbformat_minor": 0,
 "worksheets": [
  {
   "cells": [
    {
     "cell_type": "markdown",
     "metadata": {},
     "source": [
      "<a name=top></a>\n",
      "<center>\n",
      "<h1>Electron Spin</h1>\n",
      "</center>\n",
      "<p>\n",
      "This notebook goes with section 6 of the notes. It is intended to\n",
      "demonstrate two different types of electron spin problems.\n",
      "<p>\n",
      "(1) We are given an\n",
      "electron in some <i>superposition</i> of the x, y, or z spin states.\n",
      "Our job is to find out the probabilities for getting a + or - spin\n",
      "for some specified measurement. The measurement basis specified may\n",
      "or may not be the same one in which the original spin was given.\n",
      "<p>\n",
      "(2) We are given an electron whose spin is in some <i>arbitrary\n",
      "physical direction.</i> Then we are asked to find the probabilities\n",
      "of + or - for a measurement done in some other arbitrary direction.\n",
      "This is a more complicated problem, because we first have to\n",
      "calculate the \"mathematical model\" spin states that represent the\n",
      "physical directions given.\n"
     ]
    },
    {
     "cell_type": "markdown",
     "metadata": {},
     "source": [
      "<h2>Contents</h2>\n",
      "<ul class=ult>\n",
      "<li> <a href=\"#setup\">Setup Cell</a>\n",
      "<li> <a href=\"#prob1\">Superposition Spin Problem</a>\n",
      "<li> <a href=\"#prob2\">Arbitrary Direction Spin Problem</a>\n",
      "</ul>"
     ]
    },
    {
     "cell_type": "markdown",
     "metadata": {},
     "source": [
      "<hr size=3>\n",
      "<a name=setup></a>\n",
      "<h2><a href=\"#top\">^</a> Setup Cell</h2>"
     ]
    },
    {
     "cell_type": "code",
     "collapsed": false,
     "input": [
      "%autosave 0\n",
      "%matplotlib inline\n",
      "from sglib_v0 import *\n",
      "from sympy import sqrt, cos, sin, pi\n",
      "set_font_size(3)"
     ],
     "language": "python",
     "metadata": {},
     "outputs": [
      {
       "javascript": [
        "IPython.notebook.set_autosave_interval(0)"
       ],
       "metadata": {},
       "output_type": "display_data"
      },
      {
       "output_type": "stream",
       "stream": "stdout",
       "text": [
        "Autosave disabled\n"
       ]
      }
     ],
     "prompt_number": 17
    },
    {
     "cell_type": "markdown",
     "metadata": {},
     "source": [
      "<hr size=3>\n",
      "<a name=prob1></a>\n",
      "<h2><a href=\"#top\">^</a> Superposition Spin Problem</h2>\n",
      "<p>\n",
      "We are given an electron in the state $\\psi$ which is some superposition\n",
      "in one of the three bases x, y, or z.\n",
      "<p>\n",
      "We are then asked to calculate the probabilities of measuring a + or -\n",
      "spin in one of those three same bases. The given basis and the target\n",
      "basis may or may not be the same.\n",
      "<p>\n",
      "You can edit \"psi\" and \"meas_basis\" in the following cell to work\n",
      "the problems you're interested in. And, in the following cell, the\n",
      "problems from section 6.1 have been done."
     ]
    },
    {
     "cell_type": "code",
     "collapsed": false,
     "input": [
      "# Define the given state (any superposition in x,y, or z)\n",
      "psi = frac(1,2)*ket('+z') + frac(sqrt(3),2)*ket('-z')\n",
      "#psi = ket('-z')\n",
      "# Select the basis in which to do the measurement ( 'x', 'y', or 'z')\n",
      "meas_basis = 'x'\n",
      "superposition_spin_problem(psi, meas_basis)"
     ],
     "language": "python",
     "metadata": {},
     "outputs": [
      {
       "html": [
        "<font size=3><hr size=3</font>"
       ],
       "metadata": {},
       "output_type": "display_data",
       "text": [
        "<IPython.core.display.HTML at 0xbe0276c>"
       ]
      },
      {
       "html": [
        "<font size=3><b>Step 1: Write out the state in the z basis</b></font>"
       ],
       "metadata": {},
       "output_type": "display_data",
       "text": [
        "<IPython.core.display.HTML at 0xbad326c>"
       ]
      },
      {
       "html": [
        "<font size=3>First we need to write out the given state as a column vector.</font>"
       ],
       "metadata": {},
       "output_type": "display_data",
       "text": [
        "<IPython.core.display.HTML at 0xa4a2fac>"
       ]
      },
      {
       "html": [
        "<font size=3>We do this simply by substituting in the values of the basis</font>"
       ],
       "metadata": {},
       "output_type": "display_data",
       "text": [
        "<IPython.core.display.HTML at 0xb93deec>"
       ]
      },
      {
       "html": [
        "<font size=3>states given, multiplying them by the given probability moduli,</font>"
       ],
       "metadata": {},
       "output_type": "display_data",
       "text": [
        "<IPython.core.display.HTML at 0xbac75ec>"
       ]
      },
      {
       "html": [
        "<font size=3>and adding it all together. Note that the resulting column</font>"
       ],
       "metadata": {},
       "output_type": "display_data",
       "text": [
        "<IPython.core.display.HTML at 0xbdddf0c>"
       ]
      },
      {
       "html": [
        "<font size=3>vector will automatically be in the z basis.</font>"
       ],
       "metadata": {},
       "output_type": "display_data",
       "text": [
        "<IPython.core.display.HTML at 0xbe028ec>"
       ]
      },
      {
       "html": [
        "<font size=3>$\\psi_z=\\left[\\begin{matrix}\\frac{1}{2}\\\\\\frac{\\sqrt{3}}{2}\\end{matrix}\\right]$</font>"
       ],
       "metadata": {},
       "output_type": "display_data",
       "text": [
        "<IPython.core.display.HTML at 0xbe02eac>"
       ]
      },
      {
       "html": [
        "<font size=3><hr size=3</font>"
       ],
       "metadata": {},
       "output_type": "display_data",
       "text": [
        "<IPython.core.display.HTML at 0xbe026ac>"
       ]
      },
      {
       "html": [
        "<font size=3><b>Step 2: Do a change of basis</b></font>"
       ],
       "metadata": {},
       "output_type": "display_data",
       "text": [
        "<IPython.core.display.HTML at 0xa367fcc>"
       ]
      },
      {
       "html": [
        "<font size=3>Now we need to do a change of basis into the specified target</font>"
       ],
       "metadata": {},
       "output_type": "display_data",
       "text": [
        "<IPython.core.display.HTML at 0xbe0274c>"
       ]
      },
      {
       "html": [
        "<font size=3>basis (in this case, the x basis). We find the two components </font>"
       ],
       "metadata": {},
       "output_type": "display_data",
       "text": [
        "<IPython.core.display.HTML at 0xbde522c>"
       ]
      },
      {
       "html": [
        "<font size=3>of $\\psi$ in the x basis by projecting $\\psi$ on to the two</font>"
       ],
       "metadata": {},
       "output_type": "display_data",
       "text": [
        "<IPython.core.display.HTML at 0xbe871ec>"
       ]
      },
      {
       "html": [
        "<font size=3>x basis vectors. Suppose we call the two components of $\\psi$</font>"
       ],
       "metadata": {},
       "output_type": "display_data",
       "text": [
        "<IPython.core.display.HTML at 0xbe02cac>"
       ]
      },
      {
       "html": [
        "<font size=3>in the x basis by the names $\\alpha$ and $\\beta$. Then:</font>"
       ],
       "metadata": {},
       "output_type": "display_data",
       "text": [
        "<IPython.core.display.HTML at 0xbe8762c>"
       ]
      },
      {
       "html": [
        "<font size=3>$\\alpha = \\langle +x| \\psi \\rangle = \\frac{1}{\\sqrt{2}}\\left[\\begin{matrix}1 & 1\\end{matrix}\\right]\\left[\\begin{matrix}\\frac{1}{2}\\\\\\frac{\\sqrt{3}}{2}\\end{matrix}\\right] = \\frac{\\sqrt{2}}{4} + \\frac{\\sqrt{6}}{4}$</font>"
       ],
       "metadata": {},
       "output_type": "display_data",
       "text": [
        "<IPython.core.display.HTML at 0xb93deec>"
       ]
      },
      {
       "html": [
        "<font size=3>$\\beta = \\langle -x| \\psi \\rangle = \\frac{1}{\\sqrt{2}}\\left[\\begin{matrix}1 & -1\\end{matrix}\\right]\\left[\\begin{matrix}\\frac{1}{2}\\\\\\frac{\\sqrt{3}}{2}\\end{matrix}\\right] = - \\frac{\\sqrt{6}}{4} + \\frac{\\sqrt{2}}{4}$</font>"
       ],
       "metadata": {},
       "output_type": "display_data",
       "text": [
        "<IPython.core.display.HTML at 0xbac75ec>"
       ]
      },
      {
       "html": [
        "<font size=3>And the column vector in the x basis is: $\\left[\\begin{matrix}\\frac{\\sqrt{2}}{4} + \\frac{\\sqrt{6}}{4}\\\\- \\frac{\\sqrt{6}}{4} + \\frac{\\sqrt{2}}{4}\\end{matrix}\\right]$</font>"
       ],
       "metadata": {},
       "output_type": "display_data",
       "text": [
        "<IPython.core.display.HTML at 0xa4a2fac>"
       ]
      },
      {
       "html": [
        "<font size=3><hr size=3</font>"
       ],
       "metadata": {},
       "output_type": "display_data",
       "text": [
        "<IPython.core.display.HTML at 0xbde282c>"
       ]
      },
      {
       "html": [
        "<font size=3><b>Step 3: Calculate the probabilities</b></font>"
       ],
       "metadata": {},
       "output_type": "display_data",
       "text": [
        "<IPython.core.display.HTML at 0xbde522c>"
       ]
      },
      {
       "html": [
        "<font size=3>We can write this in \"ket format\" in the x basis by recognizing</font>"
       ],
       "metadata": {},
       "output_type": "display_data",
       "text": [
        "<IPython.core.display.HTML at 0xbe87fac>"
       ]
      },
      {
       "html": [
        "<font size=3>that the components of the vector are the same as thing as the</font>"
       ],
       "metadata": {},
       "output_type": "display_data",
       "text": [
        "<IPython.core.display.HTML at 0xbe87e8c>"
       ]
      },
      {
       "html": [
        "<font size=3>probability moduli.</font>"
       ],
       "metadata": {},
       "output_type": "display_data",
       "text": [
        "<IPython.core.display.HTML at 0xbde54cc>"
       ]
      },
      {
       "html": [
        "<font size=3>$\\psi_x = \\left(\\frac{\\sqrt{2}}{4} + \\frac{\\sqrt{6}}{4}\\right)|+x\\rangle+\\left(- \\frac{\\sqrt{6}}{4} + \\frac{\\sqrt{2}}{4}\\right)|-x\\rangle$</font>"
       ],
       "metadata": {},
       "output_type": "display_data",
       "text": [
        "<IPython.core.display.HTML at 0xbe8730c>"
       ]
      },
      {
       "html": [
        "<font size=3>And then calculate the probabilties:</font>"
       ],
       "metadata": {},
       "output_type": "display_data",
       "text": [
        "<IPython.core.display.HTML at 0xbe8734c>"
       ]
      },
      {
       "html": [
        "<font size=3>$P(+) = \\left|\\frac{\\sqrt{2}}{4} + \\frac{\\sqrt{6}}{4}\\right|^2 = \\left(\\frac{\\sqrt{2}}{4} + \\frac{\\sqrt{6}}{4}\\right)\\left(\\frac{\\sqrt{2}}{4} + \\frac{\\sqrt{6}}{4}\\right) = \\frac{\\sqrt{3}}{4} + \\frac{1}{2}$</font>"
       ],
       "metadata": {},
       "output_type": "display_data",
       "text": [
        "<IPython.core.display.HTML at 0xbe0214c>"
       ]
      },
      {
       "html": [
        "<font size=3>$P(-) = \\left|- \\frac{\\sqrt{6}}{4} + \\frac{\\sqrt{2}}{4}\\right|^2 = \\left(- \\frac{\\sqrt{6}}{4} + \\frac{\\sqrt{2}}{4}\\right)\\left(- \\frac{\\sqrt{6}}{4} + \\frac{\\sqrt{2}}{4}\\right) = - \\frac{\\sqrt{3}}{4} + \\frac{1}{2}$</font>"
       ],
       "metadata": {},
       "output_type": "display_data",
       "text": [
        "<IPython.core.display.HTML at 0xbfe382c>"
       ]
      }
     ],
     "prompt_number": 18
    },
    {
     "cell_type": "markdown",
     "metadata": {},
     "source": [
      "<h3>Section 6.1 spin problems</h3>\n",
      "<p>\n",
      "Here are the section 6.1 problems as further examples. These have\n",
      "the \"quiet\" flag turned on, so they just print the answers. You can\n",
      "turn that off, if you want to see the details. Note: It looks like\n",
      "perhaps the answer to problem 8, as given in the notes, may be wrong."
     ]
    },
    {
     "cell_type": "code",
     "collapsed": false,
     "input": [
      "Print('6.1-1: we want +')\n",
      "psi = frac(1,sqrt(2))*ket('+z') + frac(1,sqrt(2))*ket('-z')\n",
      "meas_basis = 'z'\n",
      "superposition_spin_problem(psi, meas_basis, quiet=True)\n",
      "\n",
      "Print('6.1-2: we want +')\n",
      "psi = frac(1,sqrt(2))*ket('+z') + frac(1,sqrt(2))*ket('-z')\n",
      "meas_basis = 'x'\n",
      "superposition_spin_problem(psi, meas_basis, quiet=True)\n",
      "\n",
      "Print('6.1-3: we want +')\n",
      "psi = -frac(4,5)*ket('+x') - frac(3,5)*ket('-x')\n",
      "meas_basis = 'x'\n",
      "superposition_spin_problem(psi, meas_basis, quiet=True)\n",
      "\n",
      "Print('6.1-4: we want +')\n",
      "psi = frac(3,sqrt(10))*ket('+y') + frac(1,sqrt(10))*ket('-y')\n",
      "meas_basis = 'z'\n",
      "superposition_spin_problem(psi, meas_basis, quiet=True)\n",
      "\n",
      "Print('6.1-5: we want -')\n",
      "psi = -frac(5+4*i,sqrt(51))*ket('+x') + frac(3+i,sqrt(51))*ket('-x')\n",
      "meas_basis = 'z'\n",
      "superposition_spin_problem(psi, meas_basis, quiet=True)\n",
      "\n",
      "Print('6.1-6: we want -')\n",
      "psi = -frac(1+2*i,sqrt(10))*ket('+z') + frac(1+2*i,sqrt(10))*ket('-z')\n",
      "meas_basis = 'y'\n",
      "superposition_spin_problem(psi, meas_basis, quiet=True)\n",
      "\n",
      "Print('6.1-7: we want -')\n",
      "psi = frac(3*i,sqrt(35))*ket('+z') + frac(1+5*i,sqrt(35))*ket('-z')\n",
      "meas_basis = 'z'\n",
      "superposition_spin_problem(psi, meas_basis, quiet=True)\n",
      "\n",
      "Print('6.1-8: we want -')\n",
      "psi = frac(4+3*i,5*sqrt(2))*ket('+z') + frac(3+4*i,5*sqrt(2))*ket('-z')\n",
      "meas_basis = 'x'\n",
      "superposition_spin_problem(psi, meas_basis, quiet=True)"
     ],
     "language": "python",
     "metadata": {},
     "outputs": [
      {
       "html": [
        "<font size=3>6.1-1: we want +</font>"
       ],
       "metadata": {},
       "output_type": "display_data",
       "text": [
        "<IPython.core.display.HTML at 0xbded6cc>"
       ]
      },
      {
       "html": [
        "<font size=3>$P(+)=\\frac{1}{2},\\;\\;\\;\\;P(-)=\\frac{1}{2}$</font>"
       ],
       "metadata": {},
       "output_type": "display_data",
       "text": [
        "<IPython.core.display.HTML at 0xbe024ec>"
       ]
      },
      {
       "html": [
        "<font size=3>6.1-2: we want +</font>"
       ],
       "metadata": {},
       "output_type": "display_data",
       "text": [
        "<IPython.core.display.HTML at 0xbd8dcac>"
       ]
      },
      {
       "html": [
        "<font size=3>$P(+)=1,\\;\\;\\;\\;P(-)=0$</font>"
       ],
       "metadata": {},
       "output_type": "display_data",
       "text": [
        "<IPython.core.display.HTML at 0xc70d2ac>"
       ]
      },
      {
       "html": [
        "<font size=3>6.1-3: we want +</font>"
       ],
       "metadata": {},
       "output_type": "display_data",
       "text": [
        "<IPython.core.display.HTML at 0xbe876ac>"
       ]
      },
      {
       "html": [
        "<font size=3>$P(+)=\\frac{16}{25},\\;\\;\\;\\;P(-)=\\frac{9}{25}$</font>"
       ],
       "metadata": {},
       "output_type": "display_data",
       "text": [
        "<IPython.core.display.HTML at 0xbe024ec>"
       ]
      },
      {
       "html": [
        "<font size=3>6.1-4: we want +</font>"
       ],
       "metadata": {},
       "output_type": "display_data",
       "text": [
        "<IPython.core.display.HTML at 0xbe02dec>"
       ]
      },
      {
       "html": [
        "<font size=3>$P(+)=\\frac{4}{5},\\;\\;\\;\\;P(-)=\\frac{1}{5}$</font>"
       ],
       "metadata": {},
       "output_type": "display_data",
       "text": [
        "<IPython.core.display.HTML at 0xbe876ac>"
       ]
      },
      {
       "html": [
        "<font size=3>6.1-5: we want -</font>"
       ],
       "metadata": {},
       "output_type": "display_data",
       "text": [
        "<IPython.core.display.HTML at 0xbdafa8c>"
       ]
      },
      {
       "html": [
        "<font size=3>$P(+)=\\frac{13}{102},\\;\\;\\;\\;P(-)=\\frac{89}{102}$</font>"
       ],
       "metadata": {},
       "output_type": "display_data",
       "text": [
        "<IPython.core.display.HTML at 0xbd7990c>"
       ]
      },
      {
       "html": [
        "<font size=3>6.1-6: we want -</font>"
       ],
       "metadata": {},
       "output_type": "display_data",
       "text": [
        "<IPython.core.display.HTML at 0xbded6cc>"
       ]
      },
      {
       "html": [
        "<font size=3>$P(+)=\\frac{1}{2},\\;\\;\\;\\;P(-)=\\frac{1}{2}$</font>"
       ],
       "metadata": {},
       "output_type": "display_data",
       "text": [
        "<IPython.core.display.HTML at 0xc70d18c>"
       ]
      },
      {
       "html": [
        "<font size=3>6.1-7: we want -</font>"
       ],
       "metadata": {},
       "output_type": "display_data",
       "text": [
        "<IPython.core.display.HTML at 0xbd8dcac>"
       ]
      },
      {
       "html": [
        "<font size=3>$P(+)=\\frac{9}{35},\\;\\;\\;\\;P(-)=\\frac{26}{35}$</font>"
       ],
       "metadata": {},
       "output_type": "display_data",
       "text": [
        "<IPython.core.display.HTML at 0xbcb058c>"
       ]
      },
      {
       "html": [
        "<font size=3>6.1-8: we want -</font>"
       ],
       "metadata": {},
       "output_type": "display_data",
       "text": [
        "<IPython.core.display.HTML at 0xbe876ac>"
       ]
      },
      {
       "html": [
        "<font size=3>$P(+)=\\frac{49}{50},\\;\\;\\;\\;P(-)=\\frac{1}{50}$</font>"
       ],
       "metadata": {},
       "output_type": "display_data",
       "text": [
        "<IPython.core.display.HTML at 0xbded4ec>"
       ]
      }
     ],
     "prompt_number": 19
    },
    {
     "cell_type": "markdown",
     "metadata": {},
     "source": [
      "<hr size=3>\n",
      "<a name=prob2></a>\n",
      "<h2><a href=\"#top\">^</a> Arbitrary Direction Spin Problem</h2>\n",
      "<p>"
     ]
    },
    {
     "cell_type": "code",
     "collapsed": false,
     "input": [
      "s_2 = col(1/sqrt(2), 0, 1/sqrt(2)) # This is p45 in the Bell notebook\n",
      "# = col(0, 1/sqrt(2), 1/sqrt(2))\n",
      "# = col(1/sqrt(2), 1/sqrt(2), 0)\n",
      "# = col(0,0,1)\n",
      "s_1 = col(1,0,0)\n",
      "# = col(0,1,0)\n",
      "\n",
      "arbitrary_spin_problem(s_1, s_2, exact=False, ndigs=3, draw_box=True)"
     ],
     "language": "python",
     "metadata": {},
     "outputs": [
      {
       "html": [
        "<font size=3><hr size=3</font>"
       ],
       "metadata": {},
       "output_type": "display_data",
       "text": [
        "<IPython.core.display.HTML at 0xbac78cc>"
       ]
      },
      {
       "html": [
        "<font size=3>The spin vectors are:</font>"
       ],
       "metadata": {},
       "output_type": "display_data",
       "text": [
        "<IPython.core.display.HTML at 0xbde5aac>"
       ]
      },
      {
       "html": [
        "<font size=3>$s_1 = \\left[\\begin{matrix}1.0\\\\0\\\\0\\end{matrix}\\right],\\;\\; s_2=\\left[\\begin{matrix}0.707\\\\0\\\\0.707\\end{matrix}\\right]$</font>"
       ],
       "metadata": {},
       "output_type": "display_data",
       "text": [
        "<IPython.core.display.HTML at 0xbde558c>"
       ]
      },
      {
       "html": [
        "<font size=3>Given an electron in the state $|+s_1\\rangle$</font>"
       ],
       "metadata": {},
       "output_type": "display_data",
       "text": [
        "<IPython.core.display.HTML at 0xbde512c>"
       ]
      },
      {
       "html": [
        "<font size=3>We want the probabilities of measuring $|+s_2\\rangle$ or $|-s_2\\rangle$</font>"
       ],
       "metadata": {},
       "output_type": "display_data",
       "text": [
        "<IPython.core.display.HTML at 0xbde53cc>"
       ]
      },
      {
       "html": [
        "<font size=3><hr size=3</font>"
       ],
       "metadata": {},
       "output_type": "display_data",
       "text": [
        "<IPython.core.display.HTML at 0xbde58ec>"
       ]
      },
      {
       "html": [
        "<font size=3><b>Step 1:</b></font>"
       ],
       "metadata": {},
       "output_type": "display_data",
       "text": [
        "<IPython.core.display.HTML at 0xbde522c>"
       ]
      },
      {
       "html": [
        "<font size=3>Calculate the measurement operators for both spin vectors</font>"
       ],
       "metadata": {},
       "output_type": "display_data",
       "text": [
        "<IPython.core.display.HTML at 0xbde5b0c>"
       ]
      },
      {
       "html": [
        "<font size=3>using the formula: $O = s_x\\sigma_x + s_y\\sigma_y + s_z\\sigma_z$</font>"
       ],
       "metadata": {},
       "output_type": "display_data",
       "text": [
        "<IPython.core.display.HTML at 0xbe02e6c>"
       ]
      },
      {
       "html": [
        "<font size=3>Calculating the measurment operator for $s_1$ ...</font>"
       ],
       "metadata": {},
       "output_type": "display_data",
       "text": [
        "<IPython.core.display.HTML at 0xbde54cc>"
       ]
      },
      {
       "html": [
        "<font size=3>$O_1 = 1.0 \\left[\\begin{matrix}0 & 1.0\\\\1.0 & 0\\end{matrix}\\right] + 0 \\left[\\begin{matrix}0 & - 1.0 i\\\\1.0 i & 0\\end{matrix}\\right] + 0 \\left[\\begin{matrix}1.0 & 0\\\\0 & -1.0\\end{matrix}\\right] = \\left[\\begin{matrix}0 & 1.0\\\\1.0 & 0\\end{matrix}\\right]$</font>"
       ],
       "metadata": {},
       "output_type": "display_data",
       "text": [
        "<IPython.core.display.HTML at 0xbde54ac>"
       ]
      },
      {
       "html": [
        "<font size=3>Calculating the measurment operator for $s_2$ ...</font>"
       ],
       "metadata": {},
       "output_type": "display_data",
       "text": [
        "<IPython.core.display.HTML at 0xbde544c>"
       ]
      },
      {
       "html": [
        "<font size=3>$O_2 = 0.707 \\left[\\begin{matrix}0 & 1.0\\\\1.0 & 0\\end{matrix}\\right] + 0 \\left[\\begin{matrix}0 & - 1.0 i\\\\1.0 i & 0\\end{matrix}\\right] + 0.707 \\left[\\begin{matrix}1.0 & 0\\\\0 & -1.0\\end{matrix}\\right] = \\left[\\begin{matrix}0.707 & 0.707\\\\0.707 & -0.707\\end{matrix}\\right]$</font>"
       ],
       "metadata": {},
       "output_type": "display_data",
       "text": [
        "<IPython.core.display.HTML at 0xbde554c>"
       ]
      },
      {
       "html": [
        "<font size=3><hr size=3</font>"
       ],
       "metadata": {},
       "output_type": "display_data",
       "text": [
        "<IPython.core.display.HTML at 0xbde59cc>"
       ]
      },
      {
       "html": [
        "<font size=3><b>Step 2:</b></font>"
       ],
       "metadata": {},
       "output_type": "display_data",
       "text": [
        "<IPython.core.display.HTML at 0xbde59ec>"
       ]
      },
      {
       "html": [
        "<font size=3>The computer will find the eigenvalues and eigenvectors</font>"
       ],
       "metadata": {},
       "output_type": "display_data",
       "text": [
        "<IPython.core.display.HTML at 0xbe022cc>"
       ]
      },
      {
       "html": [
        "<font size=3>Eigenvalues for $O_1$ are: $-1.0$ and $1.0$</font>"
       ],
       "metadata": {},
       "output_type": "display_data",
       "text": [
        "<IPython.core.display.HTML at 0xbe02e2c>"
       ]
      },
      {
       "html": [
        "<font size=3>Eigenvectors for $O_1$ are: $\\left[\\begin{matrix}0.707\\\\-0.707\\end{matrix}\\right]$ and $\\left[\\begin{matrix}0.707\\\\0.707\\end{matrix}\\right]$</font>"
       ],
       "metadata": {},
       "output_type": "display_data",
       "text": [
        "<IPython.core.display.HTML at 0xbe0284c>"
       ]
      },
      {
       "html": [
        "<font size=3>Eigenvalues for $O_2$ are: $-1.0$ and $1.0$</font>"
       ],
       "metadata": {},
       "output_type": "display_data",
       "text": [
        "<IPython.core.display.HTML at 0xbc1f90c>"
       ]
      },
      {
       "html": [
        "<font size=3>Eigenvectors for $O_2$ are: $\\left[\\begin{matrix}-0.383\\\\0.924\\end{matrix}\\right]$ and $\\left[\\begin{matrix}0.924\\\\0.383\\end{matrix}\\right]$</font>"
       ],
       "metadata": {},
       "output_type": "display_data",
       "text": [
        "<IPython.core.display.HTML at 0xbc300cc>"
       ]
      },
      {
       "html": [
        "<font size=3>The eigenvalues tell us which vectors represent the \"plus\"</font>"
       ],
       "metadata": {},
       "output_type": "display_data",
       "text": [
        "<IPython.core.display.HTML at 0xbac78cc>"
       ]
      },
      {
       "html": [
        "<font size=3>states and which represent the \"minus\" states</font>"
       ],
       "metadata": {},
       "output_type": "display_data",
       "text": [
        "<IPython.core.display.HTML at 0xbe02c8c>"
       ]
      },
      {
       "html": [
        "<font size=3>$|+s_1\\rangle=\\left[\\begin{matrix}0.707\\\\0.707\\end{matrix}\\right]$</font>"
       ],
       "metadata": {},
       "output_type": "display_data",
       "text": [
        "<IPython.core.display.HTML at 0xa3674ec>"
       ]
      },
      {
       "html": [
        "<font size=3>$|+s_2\\rangle=\\left[\\begin{matrix}0.924\\\\0.383\\end{matrix}\\right],\\;\\; |-s_2\\rangle=\\left[\\begin{matrix}-0.383\\\\0.924\\end{matrix}\\right]$</font>"
       ],
       "metadata": {},
       "output_type": "display_data",
       "text": [
        "<IPython.core.display.HTML at 0xbb3e38c>"
       ]
      },
      {
       "html": [
        "<font size=3><hr size=3</font>"
       ],
       "metadata": {},
       "output_type": "display_data",
       "text": [
        "<IPython.core.display.HTML at 0xbe02ecc>"
       ]
      },
      {
       "html": [
        "<font size=3><b>Step 3:</b></font>"
       ],
       "metadata": {},
       "output_type": "display_data",
       "text": [
        "<IPython.core.display.HTML at 0xbe025cc>"
       ]
      },
      {
       "html": [
        "<font size=3>Now that we know what the $s_2$ state vectors are, we want to</font>"
       ],
       "metadata": {},
       "output_type": "display_data",
       "text": [
        "<IPython.core.display.HTML at 0xbb3e4ec>"
       ]
      },
      {
       "html": [
        "<font size=3>project our given state, $|+s_1\\rangle$, onto to the $s_2$ basis. This will</font>"
       ],
       "metadata": {},
       "output_type": "display_data",
       "text": [
        "<IPython.core.display.HTML at 0xbde58ec>"
       ]
      },
      {
       "html": [
        "<font size=3>give us an expression such as:  $\\alpha |+s_2\\rangle + \\beta |-s_2\\rangle$</font>"
       ],
       "metadata": {},
       "output_type": "display_data",
       "text": [
        "<IPython.core.display.HTML at 0xbe026cc>"
       ]
      },
      {
       "html": [
        "<font size=3>from which we can calculate the probabilities.</font>"
       ],
       "metadata": {},
       "output_type": "display_data",
       "text": [
        "<IPython.core.display.HTML at 0xbe024ac>"
       ]
      },
      {
       "html": [
        "<font size=3><br>The projection onto $s_2$ goes like this:</font>"
       ],
       "metadata": {},
       "output_type": "display_data",
       "text": [
        "<IPython.core.display.HTML at 0xbcacdac>"
       ]
      },
      {
       "html": [
        "<font size=3>$\\alpha = \\langle +s_2 | +s_1 \\rangle$$ = \\left[\\begin{matrix}0.924 & 0.383\\end{matrix}\\right] \\left[\\begin{matrix}0.707\\\\0.707\\end{matrix}\\right]$$= 0.924$</font>"
       ],
       "metadata": {},
       "output_type": "display_data",
       "text": [
        "<IPython.core.display.HTML at 0xbbeaaac>"
       ]
      },
      {
       "html": [
        "<font size=3>$\\beta = \\langle -s_2 | +s_1 \\rangle$$ = \\left[\\begin{matrix}-0.383 & 0.924\\end{matrix}\\right] \\left[\\begin{matrix}0.707\\\\0.707\\end{matrix}\\right]$$= 0.383$</font>"
       ],
       "metadata": {},
       "output_type": "display_data",
       "text": [
        "<IPython.core.display.HTML at 0xbd76c2c>"
       ]
      },
      {
       "html": [
        "<font size=3><br>The state written in the $s_2$ basis is:</font>"
       ],
       "metadata": {},
       "output_type": "display_data",
       "text": [
        "<IPython.core.display.HTML at 0xbe0284c>"
       ]
      },
      {
       "html": [
        "<font size=3><br>&nbsp;&nbsp;&nbsp;&nbsp;&nbsp;$(0.924)|+s_2\\rangle + (0.383)|-s_2\\rangle$</font>"
       ],
       "metadata": {},
       "output_type": "display_data",
       "text": [
        "<IPython.core.display.HTML at 0xbaf5b2c>"
       ]
      },
      {
       "html": [
        "<font size=3><hr size=3</font>"
       ],
       "metadata": {},
       "output_type": "display_data",
       "text": [
        "<IPython.core.display.HTML at 0xbd7990c>"
       ]
      },
      {
       "html": [
        "<font size=3><b>Step 4:<b> Calculate the probabilities</font>"
       ],
       "metadata": {},
       "output_type": "display_data",
       "text": [
        "<IPython.core.display.HTML at 0xbd7b4ec>"
       ]
      },
      {
       "html": [
        "<font size=3>$P(|+s_2\\rangle)=|\\alpha|^2=\\alpha\\alpha^*$$= (0.924)(0.924)$$=0.854$</font>"
       ],
       "metadata": {},
       "output_type": "display_data",
       "text": [
        "<IPython.core.display.HTML at 0xbaf53ec>"
       ]
      },
      {
       "html": [
        "<font size=3>$P(|-s_2\\rangle)=|\\beta|^2=\\beta\\beta^*$$= (0.383)(0.383)$$=0.146$</font>"
       ],
       "metadata": {},
       "output_type": "display_data",
       "text": [
        "<IPython.core.display.HTML at 0xbac008c>"
       ]
      },
      {
       "html": [
        "<font size=3><hr size=3</font>"
       ],
       "metadata": {},
       "output_type": "display_data",
       "text": [
        "<IPython.core.display.HTML at 0xbbea0ac>"
       ]
      },
      {
       "html": [
        "<font size=3><b>Additional Note:</b></font>"
       ],
       "metadata": {},
       "output_type": "display_data",
       "text": [
        "<IPython.core.display.HTML at 0xbac00ec>"
       ]
      },
      {
       "html": [
        "<font size=3>The angle between $s_1$ and $s_2$ is: $0.785$</font>"
       ],
       "metadata": {},
       "output_type": "display_data",
       "text": [
        "<IPython.core.display.HTML at 0xbc2866c>"
       ]
      },
      {
       "html": [
        "<font size=3>The probabilities should be equivalent to:</font>"
       ],
       "metadata": {},
       "output_type": "display_data",
       "text": [
        "<IPython.core.display.HTML at 0xbc2872c>"
       ]
      },
      {
       "html": [
        "<font size=3>$\\cos^2(\\theta/2)=0.854$ and $\\sin^2(\\theta/2)=0.146$</font>"
       ],
       "metadata": {},
       "output_type": "display_data",
       "text": [
        "<IPython.core.display.HTML at 0xbd7b76c>"
       ]
      },
      {
       "html": [
        "<font size=3><hr size=3</font>"
       ],
       "metadata": {},
       "output_type": "display_data",
       "text": [
        "<IPython.core.display.HTML at 0xbc2884c>"
       ]
      },
      {
       "html": [
        "<font size=3><b>And finally, here's a picture of the spin vectors:<b></font>"
       ],
       "metadata": {},
       "output_type": "display_data",
       "text": [
        "<IPython.core.display.HTML at 0xbbeaaac>"
       ]
      },
      {
       "metadata": {},
       "output_type": "display_data",
       "png": "[encoded data removed]",
       "text": [
        "<matplotlib.figure.Figure at 0xbc287cc>"
       ]
      }
     ],
     "prompt_number": 20
    },
    {
     "cell_type": "code",
     "collapsed": false,
     "input": [],
     "language": "python",
     "metadata": {},
     "outputs": [],
     "prompt_number": 20
    }
   ],
   "metadata": {}
  }
 ]
}