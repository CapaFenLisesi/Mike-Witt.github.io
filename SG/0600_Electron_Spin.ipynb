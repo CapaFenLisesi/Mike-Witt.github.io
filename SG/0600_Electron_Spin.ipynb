{
 "metadata": {
  "name": "",
  "signature": "sha256:134df1f3b7071a66393ad5b10af48c17490ef39a9a5be430a2163fa9265b3e2c"
 },
 "nbformat": 3,
 "nbformat_minor": 0,
 "worksheets": [
  {
   "cells": [
    {
     "cell_type": "markdown",
     "metadata": {},
     "source": [
      "<a name=top></a>\n",
      "<center>\n",
      "<h1>Electron Spin</h1>\n",
      "</center>\n",
      "<p>\n",
      "See section 6 of the notes."
     ]
    },
    {
     "cell_type": "markdown",
     "metadata": {},
     "source": [
      "<h2>Contents</h2>\n",
      "<ul class=ult>\n",
      "<li> <a href=\"#setup\">Setup Cell</a></li>\n",
      "    <li> <a href=\"#es_prob\">Electron Spin Problem</a></li>\n",
      "</ul>"
     ]
    },
    {
     "cell_type": "markdown",
     "metadata": {},
     "source": [
      "<hr size=3>\n",
      "<a name=setup></a>\n",
      "<h2><a href=\"#top\">^</a> Setup Cell</h2>"
     ]
    },
    {
     "cell_type": "code",
     "collapsed": false,
     "input": [
      "%autosave 0\n",
      "%matplotlib inline\n",
      "from sglib import *"
     ],
     "language": "python",
     "metadata": {},
     "outputs": [
      {
       "javascript": [
        "IPython.notebook.set_autosave_interval(0)"
       ],
       "metadata": {},
       "output_type": "display_data"
      },
      {
       "output_type": "stream",
       "stream": "stdout",
       "text": [
        "Autosave disabled\n"
       ]
      }
     ],
     "prompt_number": 1
    },
    {
     "cell_type": "markdown",
     "metadata": {},
     "source": [
      "<hr size=3>\n",
      "<a name=es_prob></a>\n",
      "<h2><a href=\"#top\">^</a> Electron Spin Problem</h2>"
     ]
    },
    {
     "cell_type": "code",
     "collapsed": false,
     "input": [
      "import sglib\n",
      "reload(sglib)\n",
      "from sglib import *\n",
      "from sympy import sqrt, cos, sin, pi\n",
      "\n",
      "s_2 = col(1/sqrt(2), 0, 1/sqrt(2)) # This is p45 in the Bell notebook\n",
      "# = col(0, 1/sqrt(2), 1/sqrt(2))\n",
      "# = col(1/sqrt(2), 1/sqrt(2), 0)\n",
      "# = col(0,0,1)\n",
      "s_1 = col(1,0,0)\n",
      "# = col(0,1,0)\n",
      "\n",
      "electron_spin_problem(s_1, s_2, exact=False, ndigs=3, draw_box=True)"
     ],
     "language": "python",
     "metadata": {},
     "outputs": [
      {
       "html": [
        "<font size=4><hr size=3</font>"
       ],
       "metadata": {},
       "output_type": "display_data",
       "text": [
        "<IPython.core.display.HTML object>"
       ]
      },
      {
       "html": [
        "<font size=4>The spin vectors are:</font>"
       ],
       "metadata": {},
       "output_type": "display_data",
       "text": [
        "<IPython.core.display.HTML object>"
       ]
      },
      {
       "html": [
        "<font size=4>$s_1 = \\left[\\begin{matrix}1.0\\\\0\\\\0\\end{matrix}\\right],\\;\\; s_2=\\left[\\begin{matrix}0.707\\\\0\\\\0.707\\end{matrix}\\right]$</font>"
       ],
       "metadata": {},
       "output_type": "display_data",
       "text": [
        "<IPython.core.display.HTML object>"
       ]
      },
      {
       "html": [
        "<font size=4>Given an electron in the state $|+s_1\\rangle$</font>"
       ],
       "metadata": {},
       "output_type": "display_data",
       "text": [
        "<IPython.core.display.HTML object>"
       ]
      },
      {
       "html": [
        "<font size=4>We want the probabilities of measuring $|+s_2\\rangle$ or $|-s_2\\rangle$</font>"
       ],
       "metadata": {},
       "output_type": "display_data",
       "text": [
        "<IPython.core.display.HTML object>"
       ]
      },
      {
       "html": [
        "<font size=4><hr size=3</font>"
       ],
       "metadata": {},
       "output_type": "display_data",
       "text": [
        "<IPython.core.display.HTML object>"
       ]
      },
      {
       "html": [
        "<font size=4><b>Step 1:</b></font>"
       ],
       "metadata": {},
       "output_type": "display_data",
       "text": [
        "<IPython.core.display.HTML object>"
       ]
      },
      {
       "html": [
        "<font size=4>Calculate the measurement operators for both spin vectors</font>"
       ],
       "metadata": {},
       "output_type": "display_data",
       "text": [
        "<IPython.core.display.HTML object>"
       ]
      },
      {
       "html": [
        "<font size=4>using the formula: $O = s_x\\sigma_x + s_y\\sigma_y + s_z\\sigma_z$</font>"
       ],
       "metadata": {},
       "output_type": "display_data",
       "text": [
        "<IPython.core.display.HTML object>"
       ]
      },
      {
       "html": [
        "<font size=4>Calculating the measurment operator for $s_1$ ...</font>"
       ],
       "metadata": {},
       "output_type": "display_data",
       "text": [
        "<IPython.core.display.HTML object>"
       ]
      },
      {
       "html": [
        "<font size=4>$O_1 = 1.0 \\left[\\begin{matrix}0 & 1.0\\\\1.0 & 0\\end{matrix}\\right] + 0 \\left[\\begin{matrix}0 & - 1.0 i\\\\1.0 i & 0\\end{matrix}\\right] + 0 \\left[\\begin{matrix}1.0 & 0\\\\0 & -1.0\\end{matrix}\\right] = \\left[\\begin{matrix}0 & 1.0\\\\1.0 & 0\\end{matrix}\\right]$</font>"
       ],
       "metadata": {},
       "output_type": "display_data",
       "text": [
        "<IPython.core.display.HTML object>"
       ]
      },
      {
       "html": [
        "<font size=4>Calculating the measurment operator for $s_2$ ...</font>"
       ],
       "metadata": {},
       "output_type": "display_data",
       "text": [
        "<IPython.core.display.HTML object>"
       ]
      },
      {
       "html": [
        "<font size=4>$O_2 = 0.707 \\left[\\begin{matrix}0 & 1.0\\\\1.0 & 0\\end{matrix}\\right] + 0 \\left[\\begin{matrix}0 & - 1.0 i\\\\1.0 i & 0\\end{matrix}\\right] + 0.707 \\left[\\begin{matrix}1.0 & 0\\\\0 & -1.0\\end{matrix}\\right] = \\left[\\begin{matrix}0.707 & 0.707\\\\0.707 & -0.707\\end{matrix}\\right]$</font>"
       ],
       "metadata": {},
       "output_type": "display_data",
       "text": [
        "<IPython.core.display.HTML object>"
       ]
      },
      {
       "html": [
        "<font size=4><hr size=3</font>"
       ],
       "metadata": {},
       "output_type": "display_data",
       "text": [
        "<IPython.core.display.HTML object>"
       ]
      },
      {
       "html": [
        "<font size=4><b>Step 2:</b></font>"
       ],
       "metadata": {},
       "output_type": "display_data",
       "text": [
        "<IPython.core.display.HTML object>"
       ]
      },
      {
       "html": [
        "<font size=4>The computer will find the eigenvalues and eigenvectors</font>"
       ],
       "metadata": {},
       "output_type": "display_data",
       "text": [
        "<IPython.core.display.HTML object>"
       ]
      },
      {
       "html": [
        "<font size=4>Eigenvalues for $O_1$ are: $-1.0$ and $1.0$</font>"
       ],
       "metadata": {},
       "output_type": "display_data",
       "text": [
        "<IPython.core.display.HTML object>"
       ]
      },
      {
       "html": [
        "<font size=4>Eigenvectors for $O_1$ are: $\\left[\\begin{matrix}0.707\\\\-0.707\\end{matrix}\\right]$ and $\\left[\\begin{matrix}0.707\\\\0.707\\end{matrix}\\right]$</font>"
       ],
       "metadata": {},
       "output_type": "display_data",
       "text": [
        "<IPython.core.display.HTML object>"
       ]
      },
      {
       "html": [
        "<font size=4>Eigenvalues for $O_2$ are: $-1.0$ and $1.0$</font>"
       ],
       "metadata": {},
       "output_type": "display_data",
       "text": [
        "<IPython.core.display.HTML object>"
       ]
      },
      {
       "html": [
        "<font size=4>Eigenvectors for $O_2$ are: $\\left[\\begin{matrix}-0.383\\\\0.924\\end{matrix}\\right]$ and $\\left[\\begin{matrix}0.924\\\\0.383\\end{matrix}\\right]$</font>"
       ],
       "metadata": {},
       "output_type": "display_data",
       "text": [
        "<IPython.core.display.HTML object>"
       ]
      },
      {
       "html": [
        "<font size=4>The eigenvalues tell us which vectors represent the \"plus\"</font>"
       ],
       "metadata": {},
       "output_type": "display_data",
       "text": [
        "<IPython.core.display.HTML object>"
       ]
      },
      {
       "html": [
        "<font size=4>states and which represent the \"minus\" states</font>"
       ],
       "metadata": {},
       "output_type": "display_data",
       "text": [
        "<IPython.core.display.HTML object>"
       ]
      },
      {
       "html": [
        "<font size=4>$|+s_1\\rangle=\\left[\\begin{matrix}0.707\\\\0.707\\end{matrix}\\right]$</font>"
       ],
       "metadata": {},
       "output_type": "display_data",
       "text": [
        "<IPython.core.display.HTML object>"
       ]
      },
      {
       "html": [
        "<font size=4>$|+s_2\\rangle=\\left[\\begin{matrix}0.924\\\\0.383\\end{matrix}\\right],\\;\\; |-s_2\\rangle=\\left[\\begin{matrix}-0.383\\\\0.924\\end{matrix}\\right]$</font>"
       ],
       "metadata": {},
       "output_type": "display_data",
       "text": [
        "<IPython.core.display.HTML object>"
       ]
      },
      {
       "html": [
        "<font size=4><hr size=3</font>"
       ],
       "metadata": {},
       "output_type": "display_data",
       "text": [
        "<IPython.core.display.HTML object>"
       ]
      },
      {
       "html": [
        "<font size=4><b>Step 3:</b></font>"
       ],
       "metadata": {},
       "output_type": "display_data",
       "text": [
        "<IPython.core.display.HTML object>"
       ]
      },
      {
       "html": [
        "<font size=4>Now that we know what the $s_2$ state vectors are, we want to</font>"
       ],
       "metadata": {},
       "output_type": "display_data",
       "text": [
        "<IPython.core.display.HTML object>"
       ]
      },
      {
       "html": [
        "<font size=4>project our given state, $|+s_1\\rangle$, onto to the $s_2$ basis. This will</font>"
       ],
       "metadata": {},
       "output_type": "display_data",
       "text": [
        "<IPython.core.display.HTML object>"
       ]
      },
      {
       "html": [
        "<font size=4>give us an expression such as:  $\\alpha |+s_2\\rangle + \\beta |-s_2\\rangle$</font>"
       ],
       "metadata": {},
       "output_type": "display_data",
       "text": [
        "<IPython.core.display.HTML object>"
       ]
      },
      {
       "html": [
        "<font size=4>from which we can calculate the probabilities.</font>"
       ],
       "metadata": {},
       "output_type": "display_data",
       "text": [
        "<IPython.core.display.HTML object>"
       ]
      },
      {
       "html": [
        "<font size=4><br>The projection onto $s_2$ goes like this:</font>"
       ],
       "metadata": {},
       "output_type": "display_data",
       "text": [
        "<IPython.core.display.HTML object>"
       ]
      },
      {
       "html": [
        "<font size=4>$\\alpha = \\langle +s_2 | +s_1 \\rangle$$ = \\left[\\begin{matrix}0.924 & 0.383\\end{matrix}\\right] \\left[\\begin{matrix}0.707\\\\0.707\\end{matrix}\\right]$$= 0.924$</font>"
       ],
       "metadata": {},
       "output_type": "display_data",
       "text": [
        "<IPython.core.display.HTML object>"
       ]
      },
      {
       "html": [
        "<font size=4>$\\beta = \\langle -s_2 | +s_1 \\rangle$$ = \\left[\\begin{matrix}-0.383 & 0.924\\end{matrix}\\right] \\left[\\begin{matrix}0.707\\\\0.707\\end{matrix}\\right]$$= 0.383$</font>"
       ],
       "metadata": {},
       "output_type": "display_data",
       "text": [
        "<IPython.core.display.HTML object>"
       ]
      },
      {
       "html": [
        "<font size=4><br>The state written in the $s_2$ basis is:</font>"
       ],
       "metadata": {},
       "output_type": "display_data",
       "text": [
        "<IPython.core.display.HTML object>"
       ]
      },
      {
       "html": [
        "<font size=4><br>&nbsp;&nbsp;&nbsp;&nbsp;&nbsp;$(0.924)|+s_2\\rangle + (0.383)|-s_2\\rangle$</font>"
       ],
       "metadata": {},
       "output_type": "display_data",
       "text": [
        "<IPython.core.display.HTML object>"
       ]
      },
      {
       "html": [
        "<font size=4><hr size=3</font>"
       ],
       "metadata": {},
       "output_type": "display_data",
       "text": [
        "<IPython.core.display.HTML object>"
       ]
      },
      {
       "html": [
        "<font size=4><b>Step 4:<b> Calculate the probabilities</font>"
       ],
       "metadata": {},
       "output_type": "display_data",
       "text": [
        "<IPython.core.display.HTML object>"
       ]
      },
      {
       "html": [
        "<font size=4>$P(|+s_2\\rangle)=|\\alpha|^2=\\alpha\\alpha^*$$= (0.924)(0.924)$$=0.854$</font>"
       ],
       "metadata": {},
       "output_type": "display_data",
       "text": [
        "<IPython.core.display.HTML object>"
       ]
      },
      {
       "html": [
        "<font size=4>$P(|-s_2\\rangle)=|\\beta|^2=\\beta\\beta^*$$= (0.383)(0.383)$$=0.146$</font>"
       ],
       "metadata": {},
       "output_type": "display_data",
       "text": [
        "<IPython.core.display.HTML object>"
       ]
      },
      {
       "html": [
        "<font size=4><hr size=3</font>"
       ],
       "metadata": {},
       "output_type": "display_data",
       "text": [
        "<IPython.core.display.HTML object>"
       ]
      },
      {
       "html": [
        "<font size=4><b>Additional Note:</b></font>"
       ],
       "metadata": {},
       "output_type": "display_data",
       "text": [
        "<IPython.core.display.HTML object>"
       ]
      },
      {
       "html": [
        "<font size=4>The angle between $s_1$ and $s_2$ is: $0.785$</font>"
       ],
       "metadata": {},
       "output_type": "display_data",
       "text": [
        "<IPython.core.display.HTML object>"
       ]
      },
      {
       "html": [
        "<font size=4>The probabilities should be equivalent to:</font>"
       ],
       "metadata": {},
       "output_type": "display_data",
       "text": [
        "<IPython.core.display.HTML object>"
       ]
      },
      {
       "html": [
        "<font size=4>$\\cos^2(\\theta)=0.854$ and $\\sin^2(\\theta)=0.146$</font>"
       ],
       "metadata": {},
       "output_type": "display_data",
       "text": [
        "<IPython.core.display.HTML object>"
       ]
      },
      {
       "html": [
        "<font size=4><hr size=3</font>"
       ],
       "metadata": {},
       "output_type": "display_data",
       "text": [
        "<IPython.core.display.HTML object>"
       ]
      },
      {
       "html": [
        "<font size=4><b>And finally, here's a picture of the spin vectors:<b></font>"
       ],
       "metadata": {},
       "output_type": "display_data",
       "text": [
        "<IPython.core.display.HTML object>"
       ]
      },
      {
       "metadata": {},
       "output_type": "display_data",
       "png": "[encoded data removed]",
       "text": [
        "<matplotlib.figure.Figure at 0xb4774ec>"
       ]
      }
     ],
     "prompt_number": 2
    },
    {
     "cell_type": "code",
     "collapsed": false,
     "input": [],
     "language": "python",
     "metadata": {},
     "outputs": [],
     "prompt_number": 2
    }
   ],
   "metadata": {}
  }
 ]
}