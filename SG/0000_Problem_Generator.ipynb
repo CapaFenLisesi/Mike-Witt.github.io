{
 "metadata": {
  "name": "",
  "signature": "sha256:8c251eaf8ceba243ddeab646a73258b3aac0e99d5411e15b6a78676c86642bfb"
 },
 "nbformat": 3,
 "nbformat_minor": 0,
 "worksheets": [
  {
   "cells": [
    {
     "cell_type": "markdown",
     "metadata": {},
     "source": [
      "<a name=top></a>\n",
      "<center>\n",
      "<h1>Problem Generator Notebook</h1>\n",
      "</center>\n",
      "<p>\n",
      "This notebook doesn't go with any particular section of the notes.\n",
      "It is intended to generate \"random\" problems of various types."
     ]
    },
    {
     "cell_type": "markdown",
     "metadata": {},
     "source": [
      "<b><font color=brown>This setup cell below must be run first</font></b>"
     ]
    },
    {
     "cell_type": "code",
     "collapsed": false,
     "input": [
      "%autosave 0\n",
      "%matplotlib inline\n",
      "import sglib\n",
      "reload(sglib)\n",
      "from sglib import *\n",
      "# The next import makes expressions like 1/2 work.\n",
      "# So you no longer have to say frac(1/2)\n",
      "from __future__ import division"
     ],
     "language": "python",
     "metadata": {},
     "outputs": [
      {
       "javascript": [
        "IPython.notebook.set_autosave_interval(0)"
       ],
       "metadata": {},
       "output_type": "display_data"
      },
      {
       "output_type": "stream",
       "stream": "stdout",
       "text": [
        "Autosave disabled\n"
       ]
      }
     ],
     "prompt_number": 1
    },
    {
     "cell_type": "markdown",
     "metadata": {},
     "source": [
      "<h2>Contents</h2>\n",
      "<ul class=ult>\n",
      "    <li> <a href=\"#vector\">Vector Problems</a></li>\n",
      "    <li> <a href=\"#matrix\">Matrix Problems</a></li>\n",
      "    <li> <a href=\"#basis\">Basis Problems</a></li>\n",
      "    <li> <a href=\"#projections\">Draw Projections</a></li>\n",
      "    <li> <a href=\"#electron1\">Electron Spin</a></li>\n",
      "</ul>"
     ]
    },
    {
     "cell_type": "markdown",
     "metadata": {},
     "source": [
      "   \n",
      "<h2>Status</h2>\n",
      "<ul class=ult>\n",
      "    <li>To run locally: <code>ipython notebook</code>\n",
      "        <br>(the \"pylab inline\" thing should no longer be necessary)</li>\n",
      "</ul>"
     ]
    },
    {
     "cell_type": "markdown",
     "metadata": {},
     "source": [
      "<hr size=3>\n",
      "<a name=vector></a>\n",
      "<h2><a href=\"#top\">^</a> Vector Problems</h2>\n",
      "<ul class=sp>\n",
      "    <li>This will now generate <i>complex</i> vector problems.</li>\n",
      "    <li>If you want <i>real only</i> problems set: complex=False</li>\n",
      "    <li>Note: \"True\" and \"Fase\" must have the \"T\" or \"F\" capitalized.</li>\n",
      "</ul>"
     ]
    },
    {
     "cell_type": "code",
     "collapsed": false,
     "input": [
      "prob = vector_problem(max_dim=3, max_int=5, complex=True)\n",
      "prob.new()"
     ],
     "language": "python",
     "metadata": {},
     "outputs": [
      {
       "html": [
        "<font size=4>$\\left[\\begin{matrix}4 + 4 i & 3 & 4 + 4 i\\end{matrix}\\right] - \\left[\\begin{matrix}2 + 2 i & 2 i & 3\\end{matrix}\\right]$</font>"
       ],
       "metadata": {},
       "output_type": "display_data",
       "text": [
        "<IPython.core.display.HTML at 0xa8a0d2c>"
       ]
      }
     ],
     "prompt_number": 2
    },
    {
     "cell_type": "code",
     "collapsed": false,
     "input": [
      "answer = sqrt(33)\n",
      "prob.check(answer)"
     ],
     "language": "python",
     "metadata": {},
     "outputs": [
      {
       "output_type": "stream",
       "stream": "stdout",
       "text": [
        "The correct answer is:\n"
       ]
      },
      {
       "html": [
        "<font size=4>$\\left[\\begin{matrix}2 + 2 i & 3 - 2 i & 1 + 4 i\\end{matrix}\\right]$</font>"
       ],
       "metadata": {},
       "output_type": "display_data",
       "text": [
        "<IPython.core.display.HTML at 0xc07c26c>"
       ]
      }
     ],
     "prompt_number": 3
    },
    {
     "cell_type": "markdown",
     "metadata": {},
     "source": [
      "<hr size=3>\n",
      "<a name=matrix></a>\n",
      "<h2><a href=\"#top\">^</a> Matrix Problems</h2>\n",
      "<ul class=sp>\n",
      "<li> The answer must be entered in \"matrix format.\" Hopefully we've covered that\n",
      "        in the Sunday meeting. Basically, every <i>row</i> of the matrix is entered\n",
      "        as a list, in parentheses. The the whole thing looks like:\n",
      "        &nbsp;<code>Matrix([ (row2), (row2), ... ])</code>. \n",
      "        <br>Just leave the outer parens and brackets as is, and enter the rows you need. \n",
      "    <br><br>\n",
      "        Example: the matrix\n",
      "    $\\left[\\begin{smallmatrix}1 & 2 & 3\\\\4 & 5 & 6\\\\7 & 8 & 9\\end{smallmatrix}\\right]$\n",
      "    <br><br>\n",
      "    would be entered as: \n",
      "        <br><br>\n",
      "        <code>Matrix([ (1,2,3), (4,5,6), (7,8,9) ])</code></li>\n",
      "<br>\n",
      "<li> You can use the \"Matrix Test\" cell below to see the results of a particular\n",
      "    matrix command.</li>\n",
      "</ul>"
     ]
    },
    {
     "cell_type": "code",
     "collapsed": false,
     "input": [
      "prob = matrix_problem(max_dim=2, max_int=5, complex=True)\n",
      "prob.new()"
     ],
     "language": "python",
     "metadata": {},
     "outputs": [
      {
       "html": [
        "<font size=4>$\\left[\\begin{matrix}4 + 3 i\\\\3 i\\end{matrix}\\right] \\left[\\begin{matrix}5 + 4 i & 1 + 3 i\\end{matrix}\\right]$</font>"
       ],
       "metadata": {},
       "output_type": "display_data",
       "text": [
        "<IPython.core.display.HTML at 0xc11710c>"
       ]
      }
     ],
     "prompt_number": 4
    },
    {
     "cell_type": "code",
     "collapsed": false,
     "input": [
      "answer = Matrix([ (4,8), (7,27) ])\n",
      "prob.check(answer)"
     ],
     "language": "python",
     "metadata": {},
     "outputs": [
      {
       "output_type": "stream",
       "stream": "stdout",
       "text": [
        "The correct answer is:\n"
       ]
      },
      {
       "html": [
        "<font size=4>$\\left[\\begin{matrix}8 + 31 i & -5 + 15 i\\\\-12 + 15 i & -9 + 3 i\\end{matrix}\\right]$</font>"
       ],
       "metadata": {},
       "output_type": "display_data",
       "text": [
        "<IPython.core.display.HTML at 0xc16862c>"
       ]
      }
     ],
     "prompt_number": 5
    },
    {
     "cell_type": "markdown",
     "metadata": {},
     "source": [
      "<b><font color=brown>Matrix Test</font></b>"
     ]
    },
    {
     "cell_type": "code",
     "collapsed": false,
     "input": [
      "M = Matrix([ (1,2,3), (4,5,6), (7,8,9) ])\n",
      "Print('$%s$'%sy.latex(M))  "
     ],
     "language": "python",
     "metadata": {},
     "outputs": [
      {
       "html": [
        "<font size=4>$\\left[\\begin{matrix}1 & 2 & 3\\\\4 & 5 & 6\\\\7 & 8 & 9\\end{matrix}\\right]$</font>"
       ],
       "metadata": {},
       "output_type": "display_data",
       "text": [
        "<IPython.core.display.HTML at 0xc1789cc>"
       ]
      }
     ],
     "prompt_number": 6
    },
    {
     "cell_type": "markdown",
     "metadata": {},
     "source": [
      "<hr size=3>\n",
      "<a name=basis></a>\n",
      "<h2><a href=\"#top\">^</a> Basis Problems</h2>\n",
      "<ul class=sp>\n",
      "<li>In all of these problems, the original vector is given in the\n",
      "            \"standard\" basis (1, 0) and (0, 1).</li>\n",
      "<li> All vectors in these problems are column vectors.</li>\n",
      "</ul>"
     ]
    },
    {
     "cell_type": "code",
     "collapsed": false,
     "input": [
      "prob = change_basis_problem(max_int=5, complex=False)\n",
      "prob.new()"
     ],
     "language": "python",
     "metadata": {},
     "outputs": [
      {
       "html": [
        "<font size=4>Transform the vector $\\left[\\begin{matrix}2\\\\2\\end{matrix}\\right]$ to the basis $\\left(\\frac{1}{\\sqrt{2}}\\left[\\begin{matrix}1\\\\1\\end{matrix}\\right],\\frac{1}{\\sqrt{2}}\\left[\\begin{matrix}1\\\\-1\\end{matrix}\\right]\\right)$</font>"
       ],
       "metadata": {},
       "output_type": "display_data",
       "text": [
        "<IPython.core.display.HTML at 0xc16826c>"
       ]
      }
     ],
     "prompt_number": 7
    },
    {
     "cell_type": "code",
     "collapsed": false,
     "input": [
      "answer = col(0,0)\n",
      "prob.check(answer)"
     ],
     "language": "python",
     "metadata": {},
     "outputs": [
      {
       "html": [
        "<font size=4>The correct answer is: $\\left[\\begin{matrix}2 \\sqrt{2}\\\\0\\end{matrix}\\right]$</font>"
       ],
       "metadata": {},
       "output_type": "display_data",
       "text": [
        "<IPython.core.display.HTML at 0xc175e2c>"
       ]
      }
     ],
     "prompt_number": 8
    },
    {
     "cell_type": "markdown",
     "metadata": {},
     "source": [
      "<hr size=3>\n",
      "<a name=projections></a>\n",
      "<h2><a href=\"#top\">^</a> Draw Projections</h2>\n",
      "<ul class=sp>\n",
      "<li> Pick the cell below that is closest to the problem you're interested in and then modify it for your problem.</li>\n",
      "</ul>"
     ]
    },
    {
     "cell_type": "code",
     "collapsed": false,
     "input": [
      "draw_projections(vector(1,0), vector(0,1), vector(2,3))"
     ],
     "language": "python",
     "metadata": {},
     "outputs": [
      {
       "html": [
        "<font size=4>The vector $\\left[\\begin{matrix}2\\\\3\\end{matrix}\\right]$, and its projection on the basis: $\\left[\\begin{matrix}1\\\\0\\end{matrix}\\right],\\left[\\begin{matrix}0\\\\1\\end{matrix}\\right]$</font>"
       ],
       "metadata": {},
       "output_type": "display_data",
       "text": [
        "<IPython.core.display.HTML at 0xc17db6c>"
       ]
      },
      {
       "html": [
        "<font size=4>The vector in this basis is: $\\left[\\begin{matrix}2\\\\3\\end{matrix}\\right]$</font>"
       ],
       "metadata": {},
       "output_type": "display_data",
       "text": [
        "<IPython.core.display.HTML at 0xc22968c>"
       ]
      },
      {
       "metadata": {},
       "output_type": "display_data",
       "png": "[encoded data removed]",
       "text": [
        "<matplotlib.figure.Figure at 0xc16d6ac>"
       ]
      }
     ],
     "prompt_number": 9
    },
    {
     "cell_type": "code",
     "collapsed": false,
     "input": [
      "draw_projections(1/sqrt(2)*vector(1,1), 1/sqrt(2)*vector(1,-1), vector(2,3))"
     ],
     "language": "python",
     "metadata": {},
     "outputs": [
      {
       "html": [
        "<font size=4>The vector $\\left[\\begin{matrix}2\\\\3\\end{matrix}\\right]$, and its projection on the basis: $\\frac{1}{\\sqrt{2}}\\left[\\begin{matrix}1\\\\1\\end{matrix}\\right],\\frac{1}{\\sqrt{2}}\\left[\\begin{matrix}1\\\\-1\\end{matrix}\\right]$</font>"
       ],
       "metadata": {},
       "output_type": "display_data",
       "text": [
        "<IPython.core.display.HTML at 0xc222fec>"
       ]
      },
      {
       "html": [
        "<font size=4>The vector in this basis is: $\\frac{1}{\\sqrt{2}}\\left[\\begin{matrix}5\\\\-1\\end{matrix}\\right]$</font>"
       ],
       "metadata": {},
       "output_type": "display_data",
       "text": [
        "<IPython.core.display.HTML at 0xc2468ec>"
       ]
      },
      {
       "metadata": {},
       "output_type": "display_data",
       "png": "[encoded data removed]",
       "text": [
        "<matplotlib.figure.Figure at 0xc2460ac>"
       ]
      }
     ],
     "prompt_number": 10
    },
    {
     "cell_type": "code",
     "collapsed": false,
     "input": [
      "draw_projections(vector(-1,0), vector(0,-1), vector(2,3))"
     ],
     "language": "python",
     "metadata": {},
     "outputs": [
      {
       "html": [
        "<font size=4>The vector $\\left[\\begin{matrix}2\\\\3\\end{matrix}\\right]$, and its projection on the basis: $\\left[\\begin{matrix}-1\\\\0\\end{matrix}\\right],\\left[\\begin{matrix}0\\\\-1\\end{matrix}\\right]$</font>"
       ],
       "metadata": {},
       "output_type": "display_data",
       "text": [
        "<IPython.core.display.HTML at 0xc2f4fac>"
       ]
      },
      {
       "html": [
        "<font size=4>The vector in this basis is: $\\left[\\begin{matrix}-2\\\\-3\\end{matrix}\\right]$</font>"
       ],
       "metadata": {},
       "output_type": "display_data",
       "text": [
        "<IPython.core.display.HTML at 0xc19f14c>"
       ]
      },
      {
       "metadata": {},
       "output_type": "display_data",
       "png": "[encoded data removed]",
       "text": [
        "<matplotlib.figure.Figure at 0xc17338c>"
       ]
      }
     ],
     "prompt_number": 11
    },
    {
     "cell_type": "code",
     "collapsed": false,
     "input": [
      "draw_projections(1/sqrt(5)*vector(2,1), 1/sqrt(5)*vector(-1,2), vector(2,3))"
     ],
     "language": "python",
     "metadata": {},
     "outputs": [
      {
       "html": [
        "<font size=4>The vector $\\left[\\begin{matrix}2\\\\3\\end{matrix}\\right]$, and its projection on the basis: $\\frac{1}{\\sqrt{5}}\\left[\\begin{matrix}2\\\\1\\end{matrix}\\right],\\frac{1}{\\sqrt{5}}\\left[\\begin{matrix}-1\\\\2\\end{matrix}\\right]$</font>"
       ],
       "metadata": {},
       "output_type": "display_data",
       "text": [
        "<IPython.core.display.HTML at 0xc1a052c>"
       ]
      },
      {
       "html": [
        "<font size=4>The vector in this basis is: $\\frac{1}{\\sqrt{5}}\\left[\\begin{matrix}7\\\\4\\end{matrix}\\right]$</font>"
       ],
       "metadata": {},
       "output_type": "display_data",
       "text": [
        "<IPython.core.display.HTML at 0xc380aac>"
       ]
      },
      {
       "metadata": {},
       "output_type": "display_data",
       "png": "[encoded data removed]",
       "text": [
        "<matplotlib.figure.Figure at 0xc1a092c>"
       ]
      }
     ],
     "prompt_number": 12
    },
    {
     "cell_type": "markdown",
     "metadata": {},
     "source": [
      "<hr size=3>\n",
      "<a name=electron1></a>\n",
      "<h2><a href=\"#top\">^</a> Electron Spin</h2>\n",
      "<ul class=sp>\n",
      "<li>The \"use_y\" flag will determine whether y spin states are included.</li>\n",
      "<li>The \"complex\" flag tells whether to include complex amplitudes.</li>\n",
      "</ul>"
     ]
    },
    {
     "cell_type": "code",
     "collapsed": false,
     "input": [
      "import sglib\n",
      "reload(sglib)\n",
      "from sglib import *\n",
      "#\n",
      "set_font_size(3) # Font size of 3 or 4 works pretty well\n",
      "z=1; x=2; y=3 # Don't change this line!!!\n",
      "prob = electron_problem(\n",
      "    min_int=0, max_int=5, use_y=False, complex=False)\n",
      "#prob.set_debug(True) # Probably leave this commented out\n",
      "prob.new()"
     ],
     "language": "python",
     "metadata": {},
     "outputs": [
      {
       "html": [
        "<font size=4>Given the input state: $\\;-\\dfrac{4}{5}| +z \\rangle-\\dfrac{3}{5}| -z \\rangle$\n",
        "<br><br>\n",
        "If you do a measurment in the $x$ basis.\n",
        "<br><br>\n",
        "What is the probability of getting $|+x\\rangle$</font>"
       ],
       "metadata": {},
       "output_type": "display_data",
       "text": [
        "<IPython.core.display.HTML at 0xc11302c>"
       ]
      }
     ],
     "prompt_number": 13
    },
    {
     "cell_type": "code",
     "collapsed": false,
     "input": [
      "answer = 10/23\n",
      "prob.check(answer)"
     ],
     "language": "python",
     "metadata": {},
     "outputs": [
      {
       "html": [
        "<font size=4>The answer is: $\\;\\frac{49}{50}$, or approximately $\\;0.9800$</font>"
       ],
       "metadata": {},
       "output_type": "display_data",
       "text": [
        "<IPython.core.display.HTML at 0xc375b4c>"
       ]
      }
     ],
     "prompt_number": 14
    },
    {
     "cell_type": "markdown",
     "metadata": {},
     "source": [
      "<hr size=3>\n",
      "<p>\n",
      "You can ignore everything below this point.\n",
      "</p>\n",
      "<hr size=3>"
     ]
    },
    {
     "cell_type": "code",
     "collapsed": false,
     "input": [
      "Print(prob.latex)"
     ],
     "language": "python",
     "metadata": {},
     "outputs": [
      {
       "html": [
        "<font size=4>Given the input state: $\\;-\\dfrac{4}{5}| +z \\rangle-\\dfrac{3}{5}| -z \\rangle$\n",
        "<br><br>\n",
        "If you do a measurment in the $x$ basis.\n",
        "<br><br>\n",
        "What is the probability of getting $|+x\\rangle$</font>"
       ],
       "metadata": {},
       "output_type": "display_data",
       "text": [
        "<IPython.core.display.HTML at 0xc375ccc>"
       ]
      }
     ],
     "prompt_number": 15
    },
    {
     "cell_type": "code",
     "collapsed": false,
     "input": [
      "print(prob.latex)"
     ],
     "language": "python",
     "metadata": {},
     "outputs": [
      {
       "output_type": "stream",
       "stream": "stdout",
       "text": [
        "Given the input state: $\\;-\\dfrac{4}{5}| +z \\rangle-\\dfrac{3}{5}| -z \\rangle$\n",
        "<br><br>\n",
        "If you do a measurment in the $x$ basis.\n",
        "<br><br>\n",
        "What is the probability of getting $|+x\\rangle$\n"
       ]
      }
     ],
     "prompt_number": 16
    }
   ],
   "metadata": {}
  }
 ]
}