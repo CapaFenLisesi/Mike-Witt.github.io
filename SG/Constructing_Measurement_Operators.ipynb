{
 "metadata": {
  "name": "",
  "signature": "sha256:17303c3918c903dbb50d433a557120e5be1735b0f925c5b74d94855ffecda51f"
 },
 "nbformat": 3,
 "nbformat_minor": 0,
 "worksheets": [
  {
   "cells": [
    {
     "cell_type": "markdown",
     "metadata": {},
     "source": [
      "- See multi-bit.txt\n",
      "- put latex here with the algorithm to get to VDV-1, etc"
     ]
    },
    {
     "cell_type": "code",
     "collapsed": false,
     "input": [
      "%autosave 0\n",
      "from sglib import *\n",
      "from sympy.physics.quantum.qubit import matrix_to_qubit"
     ],
     "language": "python",
     "metadata": {},
     "outputs": [
      {
       "javascript": [
        "IPython.notebook.set_autosave_interval(0)"
       ],
       "metadata": {},
       "output_type": "display_data"
      },
      {
       "output_type": "stream",
       "stream": "stdout",
       "text": [
        "Autosave disabled\n"
       ]
      }
     ],
     "prompt_number": 1
    },
    {
     "cell_type": "code",
     "collapsed": false,
     "input": [
      "evec1 = (1,0); evec2 = (0,1)\n",
      "eval1 = 1; eval2 = -1\n",
      "V = Matrix([evec1, evec2]).transpose()\n",
      "Vi = V.inv()\n",
      "D = Matrix([(eval1,0), (0,eval2)])\n",
      "M = V*D*Vi\n",
      "Print('$%s %s %s = %s$' % ( myltx(V), myltx(D), myltx(Vi), myltx(M)))"
     ],
     "language": "python",
     "metadata": {},
     "outputs": [
      {
       "html": [
        "<font size=4>$\\left[\\begin{matrix}1 & 0\\\\0 & 1\\end{matrix}\\right] \\left[\\begin{matrix}1 & 0\\\\0 & -1\\end{matrix}\\right] \\left[\\begin{matrix}1 & 0\\\\0 & 1\\end{matrix}\\right] = \\left[\\begin{matrix}1 & 0\\\\0 & -1\\end{matrix}\\right]$</font>"
       ],
       "metadata": {},
       "output_type": "display_data",
       "text": [
        "<IPython.core.display.HTML object>"
       ]
      }
     ],
     "prompt_number": 2
    },
    {
     "cell_type": "code",
     "collapsed": false,
     "input": [
      "ir2 = 1/sqrt(2)\n",
      "evec1 = (ir2, ir2); evec2 = (ir2, -ir2)\n",
      "eval1 = 1; eval2 = -1\n",
      "V = Matrix([evec1, evec2]).transpose()\n",
      "Vi = V.inv()\n",
      "D = Matrix([(eval1,0), (0,eval2)])\n",
      "M = V*D*Vi\n",
      "Print('$%s %s %s = %s$' % ( myltx(V), myltx(D), myltx(Vi), myltx(M)))"
     ],
     "language": "python",
     "metadata": {},
     "outputs": [
      {
       "html": [
        "<font size=4>$\\frac{1}{\\sqrt{2}}\\left[\\begin{matrix}1 & 1\\\\1 & -1\\end{matrix}\\right] \\left[\\begin{matrix}1 & 0\\\\0 & -1\\end{matrix}\\right] \\frac{1}{\\sqrt{2}}\\left[\\begin{matrix}1 & 1\\\\1 & -1\\end{matrix}\\right] = \\left[\\begin{matrix}0 & 1\\\\1 & 0\\end{matrix}\\right]$</font>"
       ],
       "metadata": {},
       "output_type": "display_data",
       "text": [
        "<IPython.core.display.HTML object>"
       ]
      }
     ],
     "prompt_number": 3
    },
    {
     "cell_type": "code",
     "collapsed": false,
     "input": [
      "ir2 = 1/sqrt(2)\n",
      "evec1 = (ir2, i*ir2); evec2 = (ir2, -i*ir2)\n",
      "eval1 = 1; eval2 = -1\n",
      "V = Matrix([evec1, evec2]).transpose()\n",
      "Vi = V.inv()\n",
      "D = Matrix([(eval1,0), (0,eval2)])\n",
      "M = V*D*Vi\n",
      "Print('$%s %s %s = %s$' % ( myltx(V), myltx(D), myltx(Vi), myltx(M)))"
     ],
     "language": "python",
     "metadata": {},
     "outputs": [
      {
       "html": [
        "<font size=4>$\\frac{1}{\\sqrt{2}}\\left[\\begin{matrix}1 & 1\\\\i & - i\\end{matrix}\\right] \\left[\\begin{matrix}1 & 0\\\\0 & -1\\end{matrix}\\right] \\frac{1}{\\sqrt{2}}\\left[\\begin{matrix}1 & - i\\\\1 & i\\end{matrix}\\right] = \\left[\\begin{matrix}0 & - i\\\\i & 0\\end{matrix}\\right]$</font>"
       ],
       "metadata": {},
       "output_type": "display_data",
       "text": [
        "<IPython.core.display.HTML object>"
       ]
      }
     ],
     "prompt_number": 4
    },
    {
     "cell_type": "code",
     "collapsed": false,
     "input": [
      "import sglib\n",
      "reload(sglib)\n",
      "from sglib import *\n",
      "\n",
      "# Test all different forms for sigma_z\n",
      "evecs = ( col(1,0), col(0,1) )\n",
      "evecs = ( (1,0), (0,1) )\n",
      "evecs = [ [1,0], [0,1] ]\n",
      "# sigma_x\n",
      "evecs = [col(1,1)/sqrt(2),col(1,-1)/sqrt(2)]\n",
      "# sigma_y\n",
      "evecs = [col(1,i)/sqrt(2),col(1,-i)/sqrt(2)]\n",
      "#\n",
      "evals = (1, -1)\n",
      "construct_measurement_operator(evals, evecs)"
     ],
     "language": "python",
     "metadata": {},
     "outputs": [
      {
       "latex": [
        "$$\\left[\\begin{matrix}0 & - i\\\\i & 0\\end{matrix}\\right]$$"
       ],
       "metadata": {},
       "output_type": "pyout",
       "png": "[encoded data removed]",
       "prompt_number": 6,
       "text": [
        "\u23a10  -\u2148\u23a4\n",
        "\u23a2     \u23a5\n",
        "\u23a3\u2148  0 \u23a6"
       ]
      }
     ],
     "prompt_number": 6
    },
    {
     "cell_type": "code",
     "collapsed": false,
     "input": [
      "# Classical 2 bit measurement\n",
      "evecs = [ (1,0,0,0), (0,1,0,0), (0,0,1,0), (0,0,0,1)]\n",
      "#\n",
      "evals = (0,1,2,3)\n",
      "construct_measurement_operator(evals, evecs)"
     ],
     "language": "python",
     "metadata": {},
     "outputs": [
      {
       "latex": [
        "$$\\left[\\begin{matrix}0 & 0 & 0 & 0\\\\0 & 1 & 0 & 0\\\\0 & 0 & 2 & 0\\\\0 & 0 & 0 & 3\\end{matrix}\\right]$$"
       ],
       "metadata": {},
       "output_type": "pyout",
       "png": "[encoded data removed]",
       "prompt_number": 8,
       "text": [
        "\u23a10  0  0  0\u23a4\n",
        "\u23a2          \u23a5\n",
        "\u23a20  1  0  0\u23a5\n",
        "\u23a2          \u23a5\n",
        "\u23a20  0  2  0\u23a5\n",
        "\u23a2          \u23a5\n",
        "\u23a30  0  0  3\u23a6"
       ]
      }
     ],
     "prompt_number": 8
    },
    {
     "cell_type": "code",
     "collapsed": false,
     "input": [],
     "language": "python",
     "metadata": {},
     "outputs": []
    }
   ],
   "metadata": {}
  }
 ]
}