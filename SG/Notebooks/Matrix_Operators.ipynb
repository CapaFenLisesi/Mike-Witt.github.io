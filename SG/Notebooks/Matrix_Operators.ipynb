{
 "metadata": {
  "name": "",
  "signature": "sha256:7b37ddfc77d6146781b9a4e120a57c49ce0fcba7252de921613f2f9a3f886297"
 },
 "nbformat": 3,
 "nbformat_minor": 0,
 "worksheets": [
  {
   "cells": [
    {
     "cell_type": "markdown",
     "metadata": {},
     "source": [
      "<style type=\"text/css\">\n",
      "    p {font-size: 12pt}\n",
      "    b {font-size: 12pt; font-weight: bold;}\n",
      "    i {font-size: 12pt; font-style: italic;}\n",
      "    ul.x {font-size: 12pt;}\n",
      "    ol {font-size: 12pt; list-style-type: decimal !important;}\n",
      "    ol.sp {padding: 0 0 0 0; font-size: 12pt; list-style-type: decimal !important;}\n",
      "    ol.sp li {margin-bottom: 10pt; }\n",
      "    .in {padding-left: 50pt;}\n",
      "    .din {padding-left: 75pt;}\n",
      "    .sp {padding-left: 50pt;}\n",
      "    .f12 {font-size: 12pt;}\n",
      "</style>"
     ]
    },
    {
     "cell_type": "markdown",
     "metadata": {},
     "source": [
      "<h2>Matrix Operators</h2>\n",
      "<ul class=x>\n",
      "<li> Note: Before doing anything else, you need to do Shift-Enter\n",
      "    in the \"Setup\" cell, so that the library will be imported.\n",
      "</ul>"
     ]
    },
    {
     "cell_type": "markdown",
     "metadata": {},
     "source": [
      "<h2>Setup Cell</h2>"
     ]
    },
    {
     "cell_type": "code",
     "collapsed": false,
     "input": [
      "%matplotlib inline\n",
      "from sglib import *"
     ],
     "language": "python",
     "metadata": {},
     "outputs": []
    },
    {
     "cell_type": "markdown",
     "metadata": {},
     "source": [
      "<h2>Visualize a Real, 2D Operation on a Vector</h2>\n",
      "<p>\n",
      "You just need to change the input_vector and the matrix.\n",
      "The rest should work automatically. You can either supply\n",
      "a matrix of your own, or you can \"uncomment\" one of the\n",
      "ones already there (by removing the \"#\"). Make sure every\n",
      "matrix except the one you want is commented out.\n",
      "</p>"
     ]
    },
    {
     "cell_type": "code",
     "collapsed": false,
     "input": [
      "input_vector = col(5,2) # Put your vector here.\n",
      "#matrix = Matrix([(2,0),(0,2)]) # Put your matrix here.\n",
      "\n",
      "#\n",
      "# Or, uncomment one of the matrices below\n",
      "#\n",
      "\n",
      "matrix = Matrix([(-1,0),(0,-1)]) # Minus Operator\n",
      "#matrix = Matrix([(1,0),(0,-1)]) # X Reflect Operator\n",
      "#matrix = Matrix([(-1,0),(0,1)]) # Y Reflect Operator\n",
      "#matrix = Matrix([(0,1),(1,0)]) # Not Operator\n",
      "\n",
      "# For the rotation operation, note that theta is in\n",
      "# radians, not degrees. So, for example, pi/2 would\n",
      "# give you 90 degrees, pi/4 would give you 45 degrees.\n",
      "from sympy import pi, sin, cos\n",
      "theta=pi/6\n",
      "a = cos(theta); b=-sin(theta); c=sin(theta); d=cos(theta)\n",
      "#matrix = Matrix([(a,b),(c,d)]) # Rotation Operator\n",
      "\n",
      "#\n",
      "# You probably won't want to change anything below here.\n",
      "# (Unless you want to change the colors below)\n",
      "#\n",
      "\n",
      "# In the next line, the matrix \"operates\" on the vector\n",
      "output_vector = matrix * input_vector\n",
      "\n",
      "# This line contains special code to print the math nicely\n",
      "Print(r'$%s%s=%s$'\n",
      "    %( myltx(matrix), myltx(input_vector), myltx(output_vector) ))\n",
      "\n",
      "# The variable \"D\" results from a calculation that tells how\n",
      "# \"big\" we need to draw the plane and the vectors that go on it.\n",
      "D = max(1,abs(input_vector[0]), abs(input_vector[1]), \n",
      "    abs(output_vector[0]), abs(output_vector[1]))\n",
      "D = float(D)*1.3\n",
      "\n",
      "# Draw a 2D plane and then draw the input and out vectors.\n",
      "# Here you can change the colors if you want to (but be sure\n",
      "# to change the colors in the \"title\" also).\n",
      "draw_plane(domain=[-D, D, -D, D])\n",
      "pylab.title('input vector blue\\n ouput vector green', fontsize=16)\n",
      "draw_vector(input_vector, color='blue', scale=D)\n",
      "draw_vector(output_vector, color='green', scale=D)"
     ],
     "language": "python",
     "metadata": {},
     "outputs": []
    },
    {
     "cell_type": "code",
     "collapsed": false,
     "input": [],
     "language": "python",
     "metadata": {},
     "outputs": []
    }
   ],
   "metadata": {}
  }
 ]
}