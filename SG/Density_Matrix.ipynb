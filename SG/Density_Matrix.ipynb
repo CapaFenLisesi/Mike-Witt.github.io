{
 "metadata": {
  "name": "",
  "signature": "sha256:d4cbd53c88edd063a385bc877340a04530ccfa8b56a930d06540a66132ba3755"
 },
 "nbformat": 3,
 "nbformat_minor": 0,
 "worksheets": [
  {
   "cells": [
    {
     "cell_type": "markdown",
     "metadata": {},
     "source": [
      "<a name=\"top\"></a>\n",
      "<center>\n",
      "<h2>The Density Matrix</h2>\n",
      "</center>\n",
      "<p>\n",
      "For now, I'm going work directly from Schlosshauer chapter two, adding in\n",
      "examples from the Cugini paper as well as my own examples."
     ]
    },
    {
     "cell_type": "markdown",
     "metadata": {},
     "source": [
      "<hr size=3>\n",
      "<h3>Status</h3>\n",
      "<ul>\n",
      "<li> Pretty much working.\n",
      "<li> This <i>appears</i> to indicate that both purity and entropy\n",
      "    measure essentially the same things.\n",
      "<li> I'm doing the analysis of the teleportation states\n",
      "    in a separate notebook.\n",
      "</ul>\n",
      "\n",
      "<hr size=3>\n",
      "<h3>TTD</h3>\n",
      "<ul>\n",
      "<li> Document the sglib code better? (At the bottom.)\n",
      "</ul>"
     ]
    },
    {
     "cell_type": "markdown",
     "metadata": {},
     "source": [
      "<hr size=3>\n",
      "<h3>Contents</h3>\n",
      "<ol>\n",
      "<li><a href=\"#imports\">Imports, etc</a>\n",
      "<li><a href=\"#refs\">References</a>\n",
      "<li><a href=\"#dmat\">Density Matrices and the Trace Operation</a>\n",
      "<li><a href=\"#purity\">Purity</a>\n",
      "<li><a href=\"#entropy\">Entropy</a>\n",
      "<li><a href=\"#examples\">Some basic examples</a>\n",
      "<li><a href=\"#reduced\">The Partial Trace and Reduced Density Matrix</a>\n",
      "<li><a href=\"#ent_meas\">Purity and Entropy as measures of entanglement</a>\n",
      "<li><a href=\"#code-doc\">Documentation on sglib code</a>\n",
      "</ol>"
     ]
    },
    {
     "cell_type": "markdown",
     "metadata": {},
     "source": [
      "<a name=imports>\n",
      "<div style=\"Page-break-after: always;\"></div></code>\n",
      "<hr size=3>\n",
      "<h3><a href=\"#top\">^</a> Preliminaries</h3>"
     ]
    },
    {
     "cell_type": "code",
     "collapsed": false,
     "input": [
      "%autosave 0\n",
      "from __future__ import division\n",
      "from sglib import *\n",
      "from sympy import sqrt, E, Rational, latex, Symbol\n",
      "\n",
      "# Zero and One states\n",
      "s0 = col(1,0); s1 = col(0,1)\n",
      "# Create a formatter for stuff like |00>\n",
      "fmt = sg_format_state(['0','1'], '').format\n",
      "# Create two-bit states and basis\n",
      "s00=TP(s0,s0); s01=TP(s0,s1); s10=TP(s1,s0); s11=TP(s1,s1)\n",
      "b2bit = [s00, s01, s10, s11]\n",
      "# Some misc definitions\n",
      "half = Rational(1,2) # Define 1/2\n",
      "alpha = Symbol('alpha') # Define some symbols\n",
      "beta = Symbol('beta')\n",
      "# The Bell states\n",
      "bell_1 = 1/sqrt(2)*s00 + 1/sqrt(2)*s11 # phi+\n",
      "bell_2 = 1/sqrt(2)*s00 - 1/sqrt(2)*s11 # phi-\n",
      "bell_3 = 1/sqrt(2)*s01 + 1/sqrt(2)*s10 # psi+ (Triplet)\n",
      "bell_4 = 1/sqrt(2)*s01 - 1/sqrt(2)*s10 # psi- (Singlet)\n",
      "bell = [bell_1, bell_2, bell_3, bell_4]"
     ],
     "language": "python",
     "metadata": {},
     "outputs": [
      {
       "javascript": [
        "IPython.notebook.set_autosave_interval(0)"
       ],
       "metadata": {},
       "output_type": "display_data"
      },
      {
       "output_type": "stream",
       "stream": "stdout",
       "text": [
        "Autosave disabled\n"
       ]
      }
     ],
     "prompt_number": 1
    },
    {
     "cell_type": "markdown",
     "metadata": {},
     "source": [
      "<a name=refs>\n",
      "<hr size=3>\n",
      "<div style=\"Page-break-after: always;\"></div></code>\n",
      "<h3><a href=\"#top\">^</a> References</h3>\n",
      "\n",
      "<ol>\n",
      "<li><a href=\"http://www.worldcat.org/title/decoherence-and-the-quantum-to-classical-transition/oclc/750752742?referer=di&ht=edition\">\n",
      "Schlosshauer</a>\n",
      "<li><a href=\"http://digitalcommons.calpoly.edu/physsp/38/\">Cugini</a>\n",
      "</ol>"
     ]
    },
    {
     "cell_type": "markdown",
     "metadata": {},
     "source": [
      "<a name=dmat>\n",
      "<hr size=3>\n",
      "<div style=\"Page-break-after: always;\"></div></code>\n",
      "<h3><a href=\"#top\">^</a> Density Matrices and the Trace Operation</h3>"
     ]
    },
    {
     "cell_type": "markdown",
     "metadata": {},
     "source": [
      "<h3>Pure-State Density Matrices</h3>\n",
      "<p>\n",
      "The density operator of a pure state $|\\psi\\rangle$ is:\n",
      "<p>\n",
      "$$\n",
      "\\rho = |\\psi\\rangle\\langle\\psi| \n",
      "$$\n",
      "<p>\n",
      "The off-diagonal terms are the \"interference\" terms, <i>for the basis\n",
      "in which the expression is written.</i>"
     ]
    },
    {
     "cell_type": "markdown",
     "metadata": {},
     "source": [
      "<h3>Mixed-State Density Matrices</h3>\n",
      "<p>\n",
      "A mixed state can be viewed as a state chosen from a classical ensemble\n",
      "of states, consisting of states $\\{\\psi_i\\}$ for which you know the\n",
      "relative frequency of each state in the ensemble.\n",
      "<p>\n",
      "The density matrix for a mixed state is simply the weighted sum of the\n",
      "density matrices for the individual states:\n",
      "<p>\n",
      "$$\n",
      "(2.20) \\;\\; \\rho = \\sum_i p_i|\\psi_i\\rangle\\langle\\psi_i| \n",
      "$$\n",
      "where $p_i$ is the (classical) probability of drawing $\\psi_i$ from\n",
      "the ensemble.\n",
      "<p>\n",
      "For example, say you have a 50% chance of getting $|0\\rangle$ and a\n",
      "50% chance of getting $|1\\rangle$. Then we have:"
     ]
    },
    {
     "cell_type": "markdown",
     "metadata": {},
     "source": [
      "<h3>The Trace Operation</h3>\n",
      "<p>\n",
      "The trace operation is:\n",
      "<p>\n",
      "$$\n",
      "\\mathrm{Tr}(\\rho) = \\sum_i\\langle\\phi_i|\\rho|\\phi_i\\rangle\n",
      "$$\n",
      "<p>\n",
      "where $\\{\\phi_i\\}$ are a complete set of orthonormal\n",
      "basis vectors. The expression\n",
      "$\\langle\\phi_i|A|\\phi_i\\rangle$ picks out the $i$th row and column of\n",
      "$A$. So we're actually just adding up the main diagonal of the matrix."
     ]
    },
    {
     "cell_type": "markdown",
     "metadata": {},
     "source": [
      "<h3>Demonstration of the trace operation</h3>\n",
      "<p>\n",
      "Notice that trace work in any basis. As long as you use a set\n",
      "of orthonormal basis vectors, you'll trace out the same number.\n",
      "<p>"
     ]
    },
    {
     "cell_type": "code",
     "collapsed": false,
     "input": [
      "from sympy import var\n",
      "a_11, a_12, a_21, a_22 = var('a_11, a_12, a_21, a_22')\n",
      "A = mat(a_11, a_12, a_21, a_22)\n",
      "MOP = matrix_as_outer_product(A) # Just to get access to the \"demo\" Tr()\n",
      "from sglib import pZ, mZ, pX, mX, pY, mY\n",
      "trace = MOP.Tr(A, [pZ, mZ], V=True)\n",
      "trace = MOP.Tr(A, [pX, mX], V=True)\n",
      "trace = MOP.Tr(A, [pY, mY], V=True)"
     ],
     "language": "python",
     "metadata": {},
     "outputs": [
      {
       "html": [
        "<font size=4>Trace operation:</font>"
       ],
       "metadata": {},
       "output_type": "display_data",
       "text": [
        "<IPython.core.display.HTML at 0xbd86dec>"
       ]
      },
      {
       "html": [
        "<font size=4>$\\;\\;\\;\\; \\left[\\begin{matrix}1 & 0\\end{matrix}\\right] \\left[\\begin{matrix}a_{11} & a_{12}\\\\a_{21} & a_{22}\\end{matrix}\\right] \\left[\\begin{matrix}1\\\\0\\end{matrix}\\right]$</font>"
       ],
       "metadata": {},
       "output_type": "display_data",
       "text": [
        "<IPython.core.display.HTML at 0xbd765ec>"
       ]
      },
      {
       "html": [
        "<font size=4>$\\;\\;\\;\\;\\;\\;\\;\\; = \\left[\\begin{matrix}1 & 0\\end{matrix}\\right] \\left[\\begin{matrix}a_{11}\\\\a_{21}\\end{matrix}\\right]$</font>"
       ],
       "metadata": {},
       "output_type": "display_data",
       "text": [
        "<IPython.core.display.HTML at 0xbd8934c>"
       ]
      },
      {
       "html": [
        "<font size=4>$\\;\\;\\;\\;\\;\\;\\;\\; = a_{11}$</font>"
       ],
       "metadata": {},
       "output_type": "display_data",
       "text": [
        "<IPython.core.display.HTML at 0xbd898ac>"
       ]
      },
      {
       "html": [
        "<font size=4>$\\;\\;\\;\\; \\left[\\begin{matrix}0 & 1\\end{matrix}\\right] \\left[\\begin{matrix}a_{11} & a_{12}\\\\a_{21} & a_{22}\\end{matrix}\\right] \\left[\\begin{matrix}0\\\\1\\end{matrix}\\right]$</font>"
       ],
       "metadata": {},
       "output_type": "display_data",
       "text": [
        "<IPython.core.display.HTML at 0xa047fcc>"
       ]
      },
      {
       "html": [
        "<font size=4>$\\;\\;\\;\\;\\;\\;\\;\\; = \\left[\\begin{matrix}0 & 1\\end{matrix}\\right] \\left[\\begin{matrix}a_{12}\\\\a_{22}\\end{matrix}\\right]$</font>"
       ],
       "metadata": {},
       "output_type": "display_data",
       "text": [
        "<IPython.core.display.HTML at 0xbd8be2c>"
       ]
      },
      {
       "html": [
        "<font size=4>$\\;\\;\\;\\;\\;\\;\\;\\; = a_{22}$</font>"
       ],
       "metadata": {},
       "output_type": "display_data",
       "text": [
        "<IPython.core.display.HTML at 0xbd8942c>"
       ]
      },
      {
       "html": [
        "<font size=4>$\\;\\;\\;\\; = a_{11} + a_{22}$</font>"
       ],
       "metadata": {},
       "output_type": "display_data",
       "text": [
        "<IPython.core.display.HTML at 0xbd86c8c>"
       ]
      },
      {
       "html": [
        "<font size=4>Trace operation:</font>"
       ],
       "metadata": {},
       "output_type": "display_data",
       "text": [
        "<IPython.core.display.HTML at 0xbd86cec>"
       ]
      },
      {
       "html": [
        "<font size=4>$\\;\\;\\;\\; \\frac{1}{\\sqrt{2}}\\left[\\begin{matrix}1 & 1\\end{matrix}\\right] \\left[\\begin{matrix}a_{11} & a_{12}\\\\a_{21} & a_{22}\\end{matrix}\\right] \\frac{1}{\\sqrt{2}}\\left[\\begin{matrix}1\\\\1\\end{matrix}\\right]$</font>"
       ],
       "metadata": {},
       "output_type": "display_data",
       "text": [
        "<IPython.core.display.HTML at 0xbdd7a6c>"
       ]
      },
      {
       "html": [
        "<font size=4>$\\;\\;\\;\\;\\;\\;\\;\\; = \\frac{1}{\\sqrt{2}}\\left[\\begin{matrix}1 & 1\\end{matrix}\\right] \\frac{1}{\\sqrt{2}}\\left[\\begin{matrix}a_{11} + a_{12}\\\\a_{21} + a_{22}\\end{matrix}\\right]$</font>"
       ],
       "metadata": {},
       "output_type": "display_data",
       "text": [
        "<IPython.core.display.HTML at 0xbdf768c>"
       ]
      },
      {
       "html": [
        "<font size=4>$\\;\\;\\;\\;\\;\\;\\;\\; = \\frac{a_{11}}{2} + \\frac{a_{12}}{2} + \\frac{a_{21}}{2} + \\frac{a_{22}}{2}$</font>"
       ],
       "metadata": {},
       "output_type": "display_data",
       "text": [
        "<IPython.core.display.HTML at 0xbdd546c>"
       ]
      },
      {
       "html": [
        "<font size=4>$\\;\\;\\;\\; \\frac{1}{\\sqrt{2}}\\left[\\begin{matrix}1 & -1\\end{matrix}\\right] \\left[\\begin{matrix}a_{11} & a_{12}\\\\a_{21} & a_{22}\\end{matrix}\\right] \\frac{1}{\\sqrt{2}}\\left[\\begin{matrix}1\\\\-1\\end{matrix}\\right]$</font>"
       ],
       "metadata": {},
       "output_type": "display_data",
       "text": [
        "<IPython.core.display.HTML at 0xbdf98cc>"
       ]
      },
      {
       "html": [
        "<font size=4>$\\;\\;\\;\\;\\;\\;\\;\\; = \\frac{1}{\\sqrt{2}}\\left[\\begin{matrix}1 & -1\\end{matrix}\\right] \\frac{1}{\\sqrt{2}}\\left[\\begin{matrix}a_{11} - a_{12}\\\\a_{21} - a_{22}\\end{matrix}\\right]$</font>"
       ],
       "metadata": {},
       "output_type": "display_data",
       "text": [
        "<IPython.core.display.HTML at 0xbde15cc>"
       ]
      },
      {
       "html": [
        "<font size=4>$\\;\\;\\;\\;\\;\\;\\;\\; = \\frac{a_{11}}{2} - \\frac{a_{12}}{2} - \\frac{a_{21}}{2} + \\frac{a_{22}}{2}$</font>"
       ],
       "metadata": {},
       "output_type": "display_data",
       "text": [
        "<IPython.core.display.HTML at 0xbdfa48c>"
       ]
      },
      {
       "html": [
        "<font size=4>$\\;\\;\\;\\; = a_{11} + a_{22}$</font>"
       ],
       "metadata": {},
       "output_type": "display_data",
       "text": [
        "<IPython.core.display.HTML at 0xbd86e2c>"
       ]
      },
      {
       "html": [
        "<font size=4>Trace operation:</font>"
       ],
       "metadata": {},
       "output_type": "display_data",
       "text": [
        "<IPython.core.display.HTML at 0xbd7670c>"
       ]
      },
      {
       "html": [
        "<font size=4>$\\;\\;\\;\\; \\frac{1}{\\sqrt{2}}\\left[\\begin{matrix}1 & - i\\end{matrix}\\right] \\left[\\begin{matrix}a_{11} & a_{12}\\\\a_{21} & a_{22}\\end{matrix}\\right] \\frac{1}{\\sqrt{2}}\\left[\\begin{matrix}1\\\\i\\end{matrix}\\right]$</font>"
       ],
       "metadata": {},
       "output_type": "display_data",
       "text": [
        "<IPython.core.display.HTML at 0xbe577ec>"
       ]
      },
      {
       "html": [
        "<font size=4>$\\;\\;\\;\\;\\;\\;\\;\\; = \\frac{1}{\\sqrt{2}}\\left[\\begin{matrix}1 & - i\\end{matrix}\\right] \\frac{1}{\\sqrt{2}}\\left[\\begin{matrix}a_{11} + i a_{12}\\\\a_{21} + i a_{22}\\end{matrix}\\right]$</font>"
       ],
       "metadata": {},
       "output_type": "display_data",
       "text": [
        "<IPython.core.display.HTML at 0xbe5194c>"
       ]
      },
      {
       "html": [
        "<font size=4>$\\;\\;\\;\\;\\;\\;\\;\\; = \\frac{a_{11}}{2} + \\frac{i a_{12}}{2} - \\frac{i a_{21}}{2} + \\frac{a_{22}}{2}$</font>"
       ],
       "metadata": {},
       "output_type": "display_data",
       "text": [
        "<IPython.core.display.HTML at 0xbe6908c>"
       ]
      },
      {
       "html": [
        "<font size=4>$\\;\\;\\;\\; \\frac{1}{\\sqrt{2}}\\left[\\begin{matrix}1 & i\\end{matrix}\\right] \\left[\\begin{matrix}a_{11} & a_{12}\\\\a_{21} & a_{22}\\end{matrix}\\right] \\frac{1}{\\sqrt{2}}\\left[\\begin{matrix}1\\\\- i\\end{matrix}\\right]$</font>"
       ],
       "metadata": {},
       "output_type": "display_data",
       "text": [
        "<IPython.core.display.HTML at 0xbe7020c>"
       ]
      },
      {
       "html": [
        "<font size=4>$\\;\\;\\;\\;\\;\\;\\;\\; = \\frac{1}{\\sqrt{2}}\\left[\\begin{matrix}1 & i\\end{matrix}\\right] \\frac{1}{\\sqrt{2}}\\left[\\begin{matrix}a_{11} - i a_{12}\\\\a_{21} - i a_{22}\\end{matrix}\\right]$</font>"
       ],
       "metadata": {},
       "output_type": "display_data",
       "text": [
        "<IPython.core.display.HTML at 0xbeadfcc>"
       ]
      },
      {
       "html": [
        "<font size=4>$\\;\\;\\;\\;\\;\\;\\;\\; = \\frac{a_{11}}{2} - \\frac{i a_{12}}{2} + \\frac{i a_{21}}{2} + \\frac{a_{22}}{2}$</font>"
       ],
       "metadata": {},
       "output_type": "display_data",
       "text": [
        "<IPython.core.display.HTML at 0xbeadd0c>"
       ]
      },
      {
       "html": [
        "<font size=4>$\\;\\;\\;\\; = a_{11} + a_{22}$</font>"
       ],
       "metadata": {},
       "output_type": "display_data",
       "text": [
        "<IPython.core.display.HTML at 0xbdf77cc>"
       ]
      }
     ],
     "prompt_number": 2
    },
    {
     "cell_type": "markdown",
     "metadata": {},
     "source": [
      "<div style=\"Page-break-after: always;\"></div></code>\n",
      "<a name=purity>\n",
      "<hr size=3>\n",
      "<h3><a href=\"#top\">^</a> Purity</h3>\n",
      "<p>\n",
      "Purity is a measure of how mixed the density matrix is.\n",
      "<p>\n",
      "$\\;\\;\\;\\;\\mathrm{purity}(\\rho) = \\mathrm{Tr}(\\rho^2)$\n",
      "<p>\n",
      "The maximum purity is $1$ (which will be achieved for any pure state).\n",
      "The minimum purity, will be one divided by the dimension of the matrix.\n",
      "$1/2$ for a one-bit state, $1/4$ for a two-bit state, and so on."
     ]
    },
    {
     "cell_type": "markdown",
     "metadata": {},
     "source": [
      "<div style=\"Page-break-after: always;\"></div></code>\n",
      "<a name=entropy>\n",
      "<hr size=3>\n",
      "<h3><a href=\"#top\">^</a> Entropy</h3>\n",
      "<p>\n",
      "The Entropy $S$ of of a system can be calculated by the following\n",
      "formula, where the $\\lambda$ are the eigenvalues of\n",
      "the system's density (or reduced density) matrix:\n",
      "<p>\n",
      "$\\;\\;\\;\\;S = - \\displaystyle\\sum_{n} \\lambda_n \\mathrm{log}(\\lambda_n) $\n",
      "<p>\n",
      "The entropy of any pure state will be 0. The maximum entropy\n",
      "(assuming you are taking the logs in base 2) will be \n",
      "the number of bits in the state."
     ]
    },
    {
     "cell_type": "markdown",
     "metadata": {},
     "source": [
      "<div style=\"Page-break-after: always;\"></div></code>\n",
      "<a name=examples>\n",
      "<hr size=3>\n",
      "<h3><a href=\"#top\">^</a> Some basic examples</h3>\n",
      "<p>"
     ]
    },
    {
     "cell_type": "markdown",
     "metadata": {},
     "source": [
      "<b>Example: A one bit pure state</b>"
     ]
    },
    {
     "cell_type": "code",
     "collapsed": false,
     "input": [
      "psi = 1/sqrt(2)*s0 + 1/sqrt(2)*s1\n",
      "rho = OP(psi,psi)\n",
      "examine_dm(rho)"
     ],
     "language": "python",
     "metadata": {},
     "outputs": [
      {
       "html": [
        "<font size=4>$\\rho=\\left[\\begin{matrix}\\frac{1}{2} & \\frac{1}{2}\\\\\\frac{1}{2} & \\frac{1}{2}\\end{matrix}\\right],\\;\\;\\mathrm{Tr}(\\rho^2)=1.000,\\;\\;S=0.000$</font>"
       ],
       "metadata": {},
       "output_type": "display_data",
       "text": [
        "<IPython.core.display.HTML at 0xbea7fac>"
       ]
      }
     ],
     "prompt_number": 3
    },
    {
     "cell_type": "markdown",
     "metadata": {},
     "source": [
      "<b>Example: A one bit even mixture</b>"
     ]
    },
    {
     "cell_type": "code",
     "collapsed": false,
     "input": [
      "half = Rational(1,2)\n",
      "rho = half*OP(s0,s0) + half*OP(s1,s1)\n",
      "examine_dm(rho)"
     ],
     "language": "python",
     "metadata": {},
     "outputs": [
      {
       "html": [
        "<font size=4>$\\rho=\\left[\\begin{matrix}\\frac{1}{2} & 0\\\\0 & \\frac{1}{2}\\end{matrix}\\right],\\;\\;\\mathrm{Tr}(\\rho^2)=0.500,\\;\\;S=1.000$</font>"
       ],
       "metadata": {},
       "output_type": "display_data",
       "text": [
        "<IPython.core.display.HTML at 0xbe4af2c>"
       ]
      }
     ],
     "prompt_number": 4
    },
    {
     "cell_type": "markdown",
     "metadata": {},
     "source": [
      "<b>Example: One bit, somewhat mixed</b>"
     ]
    },
    {
     "cell_type": "code",
     "collapsed": false,
     "input": [
      "rho = .15*OP(s0,s0) + .85*OP(s1,s1)\n",
      "examine_dm(rho)"
     ],
     "language": "python",
     "metadata": {},
     "outputs": [
      {
       "html": [
        "<font size=4>$\\rho=\\left[\\begin{matrix}0.15 & 0\\\\0 & 0.85\\end{matrix}\\right],\\;\\;\\mathrm{Tr}(\\rho^2)=0.745,\\;\\;S=0.610$</font>"
       ],
       "metadata": {},
       "output_type": "display_data",
       "text": [
        "<IPython.core.display.HTML at 0xbeb1acc>"
       ]
      }
     ],
     "prompt_number": 5
    },
    {
     "cell_type": "markdown",
     "metadata": {},
     "source": [
      "<b>Example: Two bit pure state (Bell 1)</b>"
     ]
    },
    {
     "cell_type": "code",
     "collapsed": false,
     "input": [
      "rho = OP(bell_1, bell_1)\n",
      "examine_dm(rho)"
     ],
     "language": "python",
     "metadata": {},
     "outputs": [
      {
       "html": [
        "<font size=4>$\\rho=\\left[\\begin{matrix}\\frac{1}{2} & 0 & 0 & \\frac{1}{2}\\\\0 & 0 & 0 & 0\\\\0 & 0 & 0 & 0\\\\\\frac{1}{2} & 0 & 0 & \\frac{1}{2}\\end{matrix}\\right],\\;\\;\\mathrm{Tr}(\\rho^2)=1.000,\\;\\;S=0.000$</font>"
       ],
       "metadata": {},
       "output_type": "display_data",
       "text": [
        "<IPython.core.display.HTML at 0xbe7b26c>"
       ]
      }
     ],
     "prompt_number": 6
    },
    {
     "cell_type": "markdown",
     "metadata": {},
     "source": [
      "<b>Example: Even mixture of all four Bell states.</b>\n",
      "<br>\n",
      "This achieves the minimum purity and maximum entropy for\n",
      "a two bit state."
     ]
    },
    {
     "cell_type": "code",
     "collapsed": false,
     "input": [
      "rho = .25*OP(bell_1, bell_1) + .25*OP(bell_2, bell_2)\\\n",
      "      + .25*OP(bell_3, bell_3) + .25*OP(bell_4, bell_4)\n",
      "examine_dm(rho)"
     ],
     "language": "python",
     "metadata": {},
     "outputs": [
      {
       "html": [
        "<font size=4>$\\rho=\\left[\\begin{matrix}0.25 & 0 & 0 & 0\\\\0 & 0.25 & 0 & 0\\\\0 & 0 & 0.25 & 0\\\\0 & 0 & 0 & 0.25\\end{matrix}\\right],\\;\\;\\mathrm{Tr}(\\rho^2)=0.250,\\;\\;S=2.000$</font>"
       ],
       "metadata": {},
       "output_type": "display_data",
       "text": [
        "<IPython.core.display.HTML at 0xbeb646c>"
       ]
      }
     ],
     "prompt_number": 7
    },
    {
     "cell_type": "markdown",
     "metadata": {},
     "source": [
      "<b>Example: Partially mixed two bit state</b>"
     ]
    },
    {
     "cell_type": "code",
     "collapsed": false,
     "input": [
      "rho = .25*OP(s00,s00)+.15*OP(s01,s01)+.05*OP(s10,s10)+.55*OP(s11,s11)\n",
      "print 'trace is %s'%rho.trace() # Make sure it adds up!\n",
      "examine_dm(rho)"
     ],
     "language": "python",
     "metadata": {},
     "outputs": [
      {
       "output_type": "stream",
       "stream": "stdout",
       "text": [
        "trace is 1.00000000000000\n"
       ]
      },
      {
       "html": [
        "<font size=4>$\\rho=\\left[\\begin{matrix}0.25 & 0 & 0 & 0\\\\0 & 0.15 & 0 & 0\\\\0 & 0 & 0.05 & 0\\\\0 & 0 & 0 & 0.55\\end{matrix}\\right],\\;\\;\\mathrm{Tr}(\\rho^2)=0.390,\\;\\;S=1.601$</font>"
       ],
       "metadata": {},
       "output_type": "display_data",
       "text": [
        "<IPython.core.display.HTML at 0xbe7072c>"
       ]
      }
     ],
     "prompt_number": 8
    },
    {
     "cell_type": "markdown",
     "metadata": {},
     "source": [
      "<b>Example: A two bit state with an even mixture of two states</b>\n",
      "<br>has the same purity and entropy as an evenly mixed one bit state."
     ]
    },
    {
     "cell_type": "code",
     "collapsed": false,
     "input": [
      "rho = .50*OP(s00,s00)+.50*OP(s10,s10)\n",
      "print 'trace is %s'%rho.trace() # Make sure it adds up!\n",
      "examine_dm(rho)"
     ],
     "language": "python",
     "metadata": {},
     "outputs": [
      {
       "output_type": "stream",
       "stream": "stdout",
       "text": [
        "trace is 1.00000000000000\n"
       ]
      },
      {
       "html": [
        "<font size=4>$\\rho=\\left[\\begin{matrix}0.5 & 0 & 0 & 0\\\\0 & 0 & 0 & 0\\\\0 & 0 & 0.5 & 0\\\\0 & 0 & 0 & 0\\end{matrix}\\right],\\;\\;\\mathrm{Tr}(\\rho^2)=0.500,\\;\\;S=1.000$</font>"
       ],
       "metadata": {},
       "output_type": "display_data",
       "text": [
        "<IPython.core.display.HTML at 0xbebecac>"
       ]
      }
     ],
     "prompt_number": 9
    },
    {
     "cell_type": "markdown",
     "metadata": {},
     "source": [
      "<div style=\"Page-break-after: always;\"></div></code>\n",
      "<a name=reduced>\n",
      "<hr size=3>\n",
      "<h3><a href=\"#top\">^</a> The Partial Trace and Reduced Density Matrix</h3>\n",
      "<p>\n",
      "(1) $\\rho_{AB} = \\rho_A \\otimes \\rho_B$. \n",
      "<p>\n",
      "$\\;\\;\\;\\;$ In other words:\n",
      "$|a_1 b_1\\rangle \\langle a_2 b_2| \n",
      "= |a_1\\rangle \\langle a_2| \\otimes |b_1\\rangle \\langle b_2|$\n",
      "<p>\n",
      "(2) The trace of an outer product equals the (reversed) inner product\n",
      "<p>\n",
      "$\\;\\;\\;\\;\\;\\mathrm{Tr}(|x\\rangle\\langle y|) = \\langle y|x\\rangle$\n",
      "<p>\n",
      "\n",
      "(3) The Partial Trace operation, where we \"trace out\" bit B is:\n",
      "<p>\n",
      "$\\;\\;\\;\\;\\;\\mathrm{Tr_B}(|a_1 b_1\\rangle\\langle a_2 b_2|)\n",
      "\\\\\\;\\;\\;\\;\\;\\;\\;\n",
      " = \\mathrm{Tr_B}(|a_1\\rangle\\langle a_2|\\otimes|b_1\\rangle\\langle b_2|)\n",
      "\\\\\\;\\;\\;\\;\\;\\;\\;\n",
      "= |a_1\\rangle\\langle a_2|\\mathrm{Tr_B}(|b_1\\rangle\\langle b_2|)\n",
      "\\\\\\;\\;\\;\\;\\;\\;\\;\n",
      "= |a_1\\rangle\\langle a_2|\\langle b_2|b_1\\rangle\n",
      "$\n",
      "<p>\n",
      "(4) The Reduced Density Matrix, $\\rho_A$ is the\n",
      "matrix where we have \"traced out\" bit B:\n",
      "<p>\n",
      "$\\;\\;\\;\\;\\;\\rho_A = \\mathrm{Tr_B}(\\rho_{AB})$"
     ]
    },
    {
     "cell_type": "markdown",
     "metadata": {},
     "source": [
      "<h3>A couple of detailed examples</h3>\n",
      "<p>"
     ]
    },
    {
     "cell_type": "code",
     "collapsed": false,
     "input": [
      "one = 1/sqrt(2)*s0 + 1/sqrt(2)*s1\n",
      "two = sqrt(3)/2*s0 + Rational(1,2)*s1\n",
      "state = TP(two, one)\n",
      "Print(r'State = $%s$' %fmt(state, which_ltx='sympy'))\n",
      "rho = OP(state, state)\n",
      "Print(r'Density matrix is: $\\rho=%s$' %latex(rho))\n",
      "MOP = matrix_as_outer_product(rho)\n",
      "Print(r'In \"outer product form\":')\n",
      "Print(r'$\\rho=%s$' %MOP.latex())\n",
      "MOP.partial_trace(1)\n",
      "Print('After tracing out the second bit:')\n",
      "Print(r'$\\rho=%s$' %MOP.latex())\n",
      "Print('And in matrix form:')\n",
      "Print(r'$\\rho=%s$' %latex(MOP.M))"
     ],
     "language": "python",
     "metadata": {},
     "outputs": [
      {
       "html": [
        "<font size=4>State = $\\frac{\\sqrt{6}}{4}|00\\rangle+\\frac{\\sqrt{6}}{4}|01\\rangle+\\frac{\\sqrt{2}}{4}|10\\rangle+\\frac{\\sqrt{2}}{4}|11\\rangle$</font>"
       ],
       "metadata": {},
       "output_type": "display_data",
       "text": [
        "<IPython.core.display.HTML at 0xbec420c>"
       ]
      },
      {
       "html": [
        "<font size=4>Density matrix is: $\\rho=\\left[\\begin{matrix}\\frac{3}{8} & \\frac{3}{8} & \\frac{\\sqrt{3}}{8} & \\frac{\\sqrt{3}}{8}\\\\\\frac{3}{8} & \\frac{3}{8} & \\frac{\\sqrt{3}}{8} & \\frac{\\sqrt{3}}{8}\\\\\\frac{\\sqrt{3}}{8} & \\frac{\\sqrt{3}}{8} & \\frac{1}{8} & \\frac{1}{8}\\\\\\frac{\\sqrt{3}}{8} & \\frac{\\sqrt{3}}{8} & \\frac{1}{8} & \\frac{1}{8}\\end{matrix}\\right]$</font>"
       ],
       "metadata": {},
       "output_type": "display_data",
       "text": [
        "<IPython.core.display.HTML at 0xbec272c>"
       ]
      },
      {
       "html": [
        "<font size=4>In \"outer product form\":</font>"
       ],
       "metadata": {},
       "output_type": "display_data",
       "text": [
        "<IPython.core.display.HTML at 0xbec2ecc>"
       ]
      },
      {
       "html": [
        "<font size=4>$\\rho=\\frac{3}{8}|00\\rangle\\langle00|+\\frac{3}{8}|00\\rangle\\langle01|+\\frac{\\sqrt{3}}{8}|00\\rangle\\langle10|+\\frac{\\sqrt{3}}{8}|00\\rangle\\langle11|+\\frac{3}{8}|01\\rangle\\langle00|+\\frac{3}{8}|01\\rangle\\langle01|+\\frac{\\sqrt{3}}{8}|01\\rangle\\langle10|+\\frac{\\sqrt{3}}{8}|01\\rangle\\langle11|+\\frac{\\sqrt{3}}{8}|10\\rangle\\langle00|+\\frac{\\sqrt{3}}{8}|10\\rangle\\langle01|+\\frac{1}{8}|10\\rangle\\langle10|+\\frac{1}{8}|10\\rangle\\langle11|+\\frac{\\sqrt{3}}{8}|11\\rangle\\langle00|+\\frac{\\sqrt{3}}{8}|11\\rangle\\langle01|+\\frac{1}{8}|11\\rangle\\langle10|+\\frac{1}{8}|11\\rangle\\langle11|$</font>"
       ],
       "metadata": {},
       "output_type": "display_data",
       "text": [
        "<IPython.core.display.HTML at 0xbd86f2c>"
       ]
      },
      {
       "html": [
        "<font size=4>After tracing out the second bit:</font>"
       ],
       "metadata": {},
       "output_type": "display_data",
       "text": [
        "<IPython.core.display.HTML at 0xbec598c>"
       ]
      },
      {
       "html": [
        "<font size=4>$\\rho=\\frac{3}{4}|0\\rangle\\langle0|+\\frac{\\sqrt{3}}{4}|0\\rangle\\langle1|+\\frac{\\sqrt{3}}{4}|1\\rangle\\langle0|+\\frac{1}{4}|1\\rangle\\langle1|$</font>"
       ],
       "metadata": {},
       "output_type": "display_data",
       "text": [
        "<IPython.core.display.HTML at 0xbec5f2c>"
       ]
      },
      {
       "html": [
        "<font size=4>And in matrix form:</font>"
       ],
       "metadata": {},
       "output_type": "display_data",
       "text": [
        "<IPython.core.display.HTML at 0xbec5c4c>"
       ]
      },
      {
       "html": [
        "<font size=4>$\\rho=\\left[\\begin{matrix}\\frac{3}{4} & \\frac{\\sqrt{3}}{4}\\\\\\frac{\\sqrt{3}}{4} & \\frac{1}{4}\\end{matrix}\\right]$</font>"
       ],
       "metadata": {},
       "output_type": "display_data",
       "text": [
        "<IPython.core.display.HTML at 0xbec54ec>"
       ]
      }
     ],
     "prompt_number": 10
    },
    {
     "cell_type": "code",
     "collapsed": false,
     "input": [
      "state = 1/sqrt(2)*s00 + half*s01 + half*s11\n",
      "Print(r'State = $%s$' %fmt(state, which_ltx='mine'))\n",
      "rho = OP(state, state)\n",
      "Print(r'Density matrix is: $\\rho=%s$' %latex(rho))\n",
      "MOP = matrix_as_outer_product(rho)\n",
      "Print(r'In \"outer product form\":')\n",
      "Print(r'$\\rho=%s$' %MOP.latex())\n",
      "MOP.partial_trace(1)\n",
      "Print('After tracing out the second bit:')\n",
      "Print(r'$\\rho=%s$' %MOP.latex())\n",
      "Print('And in matrix form:')\n",
      "Print(r'$\\rho=%s$' %latex(MOP.M))"
     ],
     "language": "python",
     "metadata": {},
     "outputs": [
      {
       "html": [
        "<font size=4>State = $\\frac{1}{\\sqrt{2}}|00\\rangle+\\frac{1}{2}|01\\rangle+\\frac{1}{2}|11\\rangle$</font>"
       ],
       "metadata": {},
       "output_type": "display_data",
       "text": [
        "<IPython.core.display.HTML at 0xbec46ac>"
       ]
      },
      {
       "html": [
        "<font size=4>Density matrix is: $\\rho=\\left[\\begin{matrix}\\frac{1}{2} & \\frac{\\sqrt{2}}{4} & 0 & \\frac{\\sqrt{2}}{4}\\\\\\frac{\\sqrt{2}}{4} & \\frac{1}{4} & 0 & \\frac{1}{4}\\\\0 & 0 & 0 & 0\\\\\\frac{\\sqrt{2}}{4} & \\frac{1}{4} & 0 & \\frac{1}{4}\\end{matrix}\\right]$</font>"
       ],
       "metadata": {},
       "output_type": "display_data",
       "text": [
        "<IPython.core.display.HTML at 0xbeacb4c>"
       ]
      },
      {
       "html": [
        "<font size=4>In \"outer product form\":</font>"
       ],
       "metadata": {},
       "output_type": "display_data",
       "text": [
        "<IPython.core.display.HTML at 0xbec4d0c>"
       ]
      },
      {
       "html": [
        "<font size=4>$\\rho=\\frac{1}{2}|00\\rangle\\langle00|+\\frac{\\sqrt{2}}{4}|00\\rangle\\langle01|+0|00\\rangle\\langle10|+\\frac{\\sqrt{2}}{4}|00\\rangle\\langle11|+\\frac{\\sqrt{2}}{4}|01\\rangle\\langle00|+\\frac{1}{4}|01\\rangle\\langle01|+0|01\\rangle\\langle10|+\\frac{1}{4}|01\\rangle\\langle11|+0|10\\rangle\\langle00|+0|10\\rangle\\langle01|+0|10\\rangle\\langle10|+0|10\\rangle\\langle11|+\\frac{\\sqrt{2}}{4}|11\\rangle\\langle00|+\\frac{1}{4}|11\\rangle\\langle01|+0|11\\rangle\\langle10|+\\frac{1}{4}|11\\rangle\\langle11|$</font>"
       ],
       "metadata": {},
       "output_type": "display_data",
       "text": [
        "<IPython.core.display.HTML at 0xbec2e4c>"
       ]
      },
      {
       "html": [
        "<font size=4>After tracing out the second bit:</font>"
       ],
       "metadata": {},
       "output_type": "display_data",
       "text": [
        "<IPython.core.display.HTML at 0xbd8912c>"
       ]
      },
      {
       "html": [
        "<font size=4>$\\rho=\\frac{3}{4}|0\\rangle\\langle0|+\\frac{1}{4}|0\\rangle\\langle1|+\\frac{1}{4}|1\\rangle\\langle0|+\\frac{1}{4}|1\\rangle\\langle1|$</font>"
       ],
       "metadata": {},
       "output_type": "display_data",
       "text": [
        "<IPython.core.display.HTML at 0xbeb838c>"
       ]
      },
      {
       "html": [
        "<font size=4>And in matrix form:</font>"
       ],
       "metadata": {},
       "output_type": "display_data",
       "text": [
        "<IPython.core.display.HTML at 0xbd892cc>"
       ]
      },
      {
       "html": [
        "<font size=4>$\\rho=\\left[\\begin{matrix}\\frac{3}{4} & \\frac{1}{4}\\\\\\frac{1}{4} & \\frac{1}{4}\\end{matrix}\\right]$</font>"
       ],
       "metadata": {},
       "output_type": "display_data",
       "text": [
        "<IPython.core.display.HTML at 0xbd890ac>"
       ]
      }
     ],
     "prompt_number": 11
    },
    {
     "cell_type": "markdown",
     "metadata": {},
     "source": [
      "<div style=\"Page-break-after: always;\"></div></code>\n",
      "<a name=ent_meas>\n",
      "<hr size=3>\n",
      "<h3><a href=\"#top\">^</a> Using purity and entropy as measures of entanglement</h3>\n",
      "<p>"
     ]
    },
    {
     "cell_type": "markdown",
     "metadata": {},
     "source": [
      "<b>Example 1: Take a maximally entangled state</b>\n",
      "<p>\n",
      "It is not a mixture. So the purity should be maximum and the\n",
      "entropy minimum."
     ]
    },
    {
     "cell_type": "code",
     "collapsed": false,
     "input": [
      "Print(r'$\\psi = %s$'%fmt(bell_1))\n",
      "rho_maxE = OP(bell_1, bell_1)\n",
      "examine_dm(rho_maxE)"
     ],
     "language": "python",
     "metadata": {},
     "outputs": [
      {
       "html": [
        "<font size=4>$\\psi = \\frac{1}{\\sqrt{2}}|00\\rangle+\\frac{1}{\\sqrt{2}}|11\\rangle$</font>"
       ],
       "metadata": {},
       "output_type": "display_data",
       "text": [
        "<IPython.core.display.HTML at 0xbebecac>"
       ]
      },
      {
       "html": [
        "<font size=4>$\\rho=\\left[\\begin{matrix}\\frac{1}{2} & 0 & 0 & \\frac{1}{2}\\\\0 & 0 & 0 & 0\\\\0 & 0 & 0 & 0\\\\\\frac{1}{2} & 0 & 0 & \\frac{1}{2}\\end{matrix}\\right],\\;\\;\\mathrm{Tr}(\\rho^2)=1.000,\\;\\;S=0.000$</font>"
       ],
       "metadata": {},
       "output_type": "display_data",
       "text": [
        "<IPython.core.display.HTML at 0xbea9f2c>"
       ]
      }
     ],
     "prompt_number": 12
    },
    {
     "cell_type": "markdown",
     "metadata": {},
     "source": [
      "<b>Find the reduced density for the first bit</b>\n",
      "<p>\n",
      "Since the entanglement was maximal, either individual bit should\n",
      "contain no information about the outcome. This looks just like\n",
      "a maximally mixed state. Both the purity and entropy should reflect\n",
      "this (minimum purity, maximum entropy)."
     ]
    },
    {
     "cell_type": "code",
     "collapsed": false,
     "input": [
      "rho = matrix_as_outer_product(rho_maxE)\n",
      "rho.partial_trace(1)\n",
      "examine_dm(rho.M)"
     ],
     "language": "python",
     "metadata": {},
     "outputs": [
      {
       "html": [
        "<font size=4>$\\rho=\\left[\\begin{matrix}\\frac{1}{2} & 0\\\\0 & \\frac{1}{2}\\end{matrix}\\right],\\;\\;\\mathrm{Tr}(\\rho^2)=0.500,\\;\\;S=1.000$</font>"
       ],
       "metadata": {},
       "output_type": "display_data",
       "text": [
        "<IPython.core.display.HTML at 0xbec2e6c>"
       ]
      }
     ],
     "prompt_number": 13
    },
    {
     "cell_type": "markdown",
     "metadata": {},
     "source": [
      "<b>The reduced density for the second bit should be just like the first</b>"
     ]
    },
    {
     "cell_type": "code",
     "collapsed": false,
     "input": [
      "rho = matrix_as_outer_product(rho_maxE)\n",
      "rho.partial_trace(0)\n",
      "examine_dm(rho.M)"
     ],
     "language": "python",
     "metadata": {},
     "outputs": [
      {
       "html": [
        "<font size=4>$\\rho=\\left[\\begin{matrix}\\frac{1}{2} & 0\\\\0 & \\frac{1}{2}\\end{matrix}\\right],\\;\\;\\mathrm{Tr}(\\rho^2)=0.500,\\;\\;S=1.000$</font>"
       ],
       "metadata": {},
       "output_type": "display_data",
       "text": [
        "<IPython.core.display.HTML at 0xbd7668c>"
       ]
      }
     ],
     "prompt_number": 14
    },
    {
     "cell_type": "markdown",
     "metadata": {},
     "source": [
      "<b>Example 2: Reproduce Cugini page 13 classical mixture (base e)</b>\n",
      "<p>\n",
      "This is really just a test that my code works for base $e$."
     ]
    },
    {
     "cell_type": "code",
     "collapsed": false,
     "input": [
      "rho = mat(.5,0,0,0, 0,0,0,0, 0,0,0,0, 0,0,0,.5)\n",
      "S = Entropy(rho, base=E)\n",
      "Print(r'$\\rho = %s, \\;\\; S = %s$' %(latex(rho), float(S)))"
     ],
     "language": "python",
     "metadata": {},
     "outputs": [
      {
       "html": [
        "<font size=4>$\\rho = \\left[\\begin{matrix}0.5 & 0 & 0 & 0\\\\0 & 0 & 0 & 0\\\\0 & 0 & 0 & 0\\\\0 & 0 & 0 & 0.5\\end{matrix}\\right], \\;\\; S = 0.69314718056$</font>"
       ],
       "metadata": {},
       "output_type": "display_data",
       "text": [
        "<IPython.core.display.HTML at 0xbebd62c>"
       ]
      }
     ],
     "prompt_number": 15
    },
    {
     "cell_type": "markdown",
     "metadata": {},
     "source": [
      "<b>Example 3: A non-maximally entangled 2 bit state</b>\n",
      "<p>\n",
      "The \"intermediate\" values of purity and entropy are a reflection\n",
      "of \"some amount\" of entanglement."
     ]
    },
    {
     "cell_type": "code",
     "collapsed": false,
     "input": [
      "r3 = 1/sqrt(3)\n",
      "psi = r3*s00 + r3*s01 + r3*s10\n",
      "Print(r'$\\psi = %s$'%fmt(psi))\n",
      "rho = OP(psi,psi)\n",
      "examine_dm(rho)\n",
      "# Then do the reduced density for both bit. Should be the same.\n",
      "rho_op = matrix_as_outer_product(rho)\n",
      "rho_op.partial_trace(1)\n",
      "examine_dm(rho_op.M)\n",
      "rho_op = matrix_as_outer_product(rho)\n",
      "rho_op.partial_trace(0)\n",
      "examine_dm(rho_op.M)"
     ],
     "language": "python",
     "metadata": {},
     "outputs": [
      {
       "html": [
        "<font size=4>$\\psi = \\frac{1}{\\sqrt{3}}|00\\rangle+\\frac{1}{\\sqrt{3}}|01\\rangle+\\frac{1}{\\sqrt{3}}|10\\rangle$</font>"
       ],
       "metadata": {},
       "output_type": "display_data",
       "text": [
        "<IPython.core.display.HTML at 0xbd865ac>"
       ]
      },
      {
       "html": [
        "<font size=4>$\\rho=\\left[\\begin{matrix}\\frac{1}{3} & \\frac{1}{3} & \\frac{1}{3} & 0\\\\\\frac{1}{3} & \\frac{1}{3} & \\frac{1}{3} & 0\\\\\\frac{1}{3} & \\frac{1}{3} & \\frac{1}{3} & 0\\\\0 & 0 & 0 & 0\\end{matrix}\\right],\\;\\;\\mathrm{Tr}(\\rho^2)=1.000,\\;\\;S=0.000$</font>"
       ],
       "metadata": {},
       "output_type": "display_data",
       "text": [
        "<IPython.core.display.HTML at 0xbec564c>"
       ]
      },
      {
       "html": [
        "<font size=4>$\\rho=\\left[\\begin{matrix}\\frac{2}{3} & \\frac{1}{3}\\\\\\frac{1}{3} & \\frac{1}{3}\\end{matrix}\\right],\\;\\;\\mathrm{Tr}(\\rho^2)=0.778,\\;\\;S=0.550$</font>"
       ],
       "metadata": {},
       "output_type": "display_data",
       "text": [
        "<IPython.core.display.HTML at 0xbec4a2c>"
       ]
      },
      {
       "html": [
        "<font size=4>$\\rho=\\left[\\begin{matrix}\\frac{2}{3} & \\frac{1}{3}\\\\\\frac{1}{3} & \\frac{1}{3}\\end{matrix}\\right],\\;\\;\\mathrm{Tr}(\\rho^2)=0.778,\\;\\;S=0.550$</font>"
       ],
       "metadata": {},
       "output_type": "display_data",
       "text": [
        "<IPython.core.display.HTML at 0xbeb448c>"
       ]
      }
     ],
     "prompt_number": 16
    },
    {
     "cell_type": "markdown",
     "metadata": {},
     "source": [
      "<b>Example 4: No measurable correlations, yet entangled.</b>\n",
      "<br>\n",
      "Note the minus on the last term!\n",
      "<p>\n",
      "The minimal purity and maximal entropy of one of the bits verifies\n",
      "that this state is maximally entangled."
     ]
    },
    {
     "cell_type": "code",
     "collapsed": false,
     "input": [
      "psi = half*s00 + half*s01 + half*s10 - half*s11\n",
      "Print(r'$\\psi = %s$'%fmt(psi))\n",
      "rho = OP(psi,psi)\n",
      "S = Entropy(rho)\n",
      "Print(r'$\\rho = %s, \\;\\; S = %s$' %(latex(rho), latex(S)))\n",
      "# Then do the reduced density for bit zero\n",
      "rho_op = matrix_as_outer_product(rho)\n",
      "rho_op.partial_trace(1)\n",
      "examine_dm(rho_op.M)"
     ],
     "language": "python",
     "metadata": {},
     "outputs": [
      {
       "html": [
        "<font size=4>$\\psi = \\frac{1}{2}|00\\rangle+\\frac{1}{2}|01\\rangle+\\frac{1}{2}|10\\rangle-\\frac{1}{2}|11\\rangle$</font>"
       ],
       "metadata": {},
       "output_type": "display_data",
       "text": [
        "<IPython.core.display.HTML at 0xbec4b2c>"
       ]
      },
      {
       "html": [
        "<font size=4>$\\rho = \\left[\\begin{matrix}\\frac{1}{4} & \\frac{1}{4} & \\frac{1}{4} & - \\frac{1}{4}\\\\\\frac{1}{4} & \\frac{1}{4} & \\frac{1}{4} & - \\frac{1}{4}\\\\\\frac{1}{4} & \\frac{1}{4} & \\frac{1}{4} & - \\frac{1}{4}\\\\- \\frac{1}{4} & - \\frac{1}{4} & - \\frac{1}{4} & \\frac{1}{4}\\end{matrix}\\right], \\;\\; S = 0$</font>"
       ],
       "metadata": {},
       "output_type": "display_data",
       "text": [
        "<IPython.core.display.HTML at 0xbd8910c>"
       ]
      },
      {
       "html": [
        "<font size=4>$\\rho=\\left[\\begin{matrix}\\frac{1}{2} & 0\\\\0 & \\frac{1}{2}\\end{matrix}\\right],\\;\\;\\mathrm{Tr}(\\rho^2)=0.500,\\;\\;S=1.000$</font>"
       ],
       "metadata": {},
       "output_type": "display_data",
       "text": [
        "<IPython.core.display.HTML at 0xbec2e8c>"
       ]
      }
     ],
     "prompt_number": 17
    },
    {
     "cell_type": "markdown",
     "metadata": {},
     "source": [
      "<b>Now just change the sign on the last term</b>\n",
      "<p>\n",
      "Giving the product state: $\\left(\\frac{1}{\\sqrt{2}}|0\\rangle \n",
      "\\frac{1}{\\sqrt{2}}|1\\rangle\\right)\n",
      "\\otimes \\left(\\frac{1}{\\sqrt{2}}|0\\rangle\n",
      "\\frac{1}{\\sqrt{2}}|1\\rangle\\right)$\n",
      "<p>\n",
      "And we get maximum purity, minimum entropy."
     ]
    },
    {
     "cell_type": "code",
     "collapsed": false,
     "input": [
      "psi = half*s00 + half*s01 + half*s10 + half*s11\n",
      "Print(r'$\\psi = %s$'%fmt(psi))\n",
      "rho = OP(psi,psi)\n",
      "S = Entropy(rho)\n",
      "Print(r'$\\rho = %s, \\;\\; S = %s$' %(latex(rho), latex(S)))\n",
      "# Then do the reduced density for bit one\n",
      "rho_op = matrix_as_outer_product(rho)\n",
      "rho_op.partial_trace(1)\n",
      "examine_dm(rho_op.M)"
     ],
     "language": "python",
     "metadata": {},
     "outputs": [
      {
       "html": [
        "<font size=4>$\\psi = \\frac{1}{2}|00\\rangle+\\frac{1}{2}|01\\rangle+\\frac{1}{2}|10\\rangle+\\frac{1}{2}|11\\rangle$</font>"
       ],
       "metadata": {},
       "output_type": "display_data",
       "text": [
        "<IPython.core.display.HTML at 0xbec4c2c>"
       ]
      },
      {
       "html": [
        "<font size=4>$\\rho = \\left[\\begin{matrix}\\frac{1}{4} & \\frac{1}{4} & \\frac{1}{4} & \\frac{1}{4}\\\\\\frac{1}{4} & \\frac{1}{4} & \\frac{1}{4} & \\frac{1}{4}\\\\\\frac{1}{4} & \\frac{1}{4} & \\frac{1}{4} & \\frac{1}{4}\\\\\\frac{1}{4} & \\frac{1}{4} & \\frac{1}{4} & \\frac{1}{4}\\end{matrix}\\right], \\;\\; S = 0$</font>"
       ],
       "metadata": {},
       "output_type": "display_data",
       "text": [
        "<IPython.core.display.HTML at 0xbec2ccc>"
       ]
      },
      {
       "html": [
        "<font size=4>$\\rho=\\left[\\begin{matrix}\\frac{1}{2} & \\frac{1}{2}\\\\\\frac{1}{2} & \\frac{1}{2}\\end{matrix}\\right],\\;\\;\\mathrm{Tr}(\\rho^2)=1.000,\\;\\;S=0.000$</font>"
       ],
       "metadata": {},
       "output_type": "display_data",
       "text": [
        "<IPython.core.display.HTML at 0xbd7668c>"
       ]
      }
     ],
     "prompt_number": 18
    },
    {
     "cell_type": "markdown",
     "metadata": {},
     "source": [
      "<div style=\"Page-break-after: always;\"></div></code>\n",
      "<a name=code-doc>\n",
      "<hr size=3>\n",
      "<h3><a href=\"#top\">^</a> Documentation on sglib code</h3>"
     ]
    },
    {
     "cell_type": "code",
     "collapsed": false,
     "input": [
      "psi = alpha*s0 - beta*s1\n",
      "Print(r'$\\psi=%s$' %myltx(psi))\n",
      "rho = OP(psi,psi)\n",
      "Print(r'$\\rho=%s$' %myltx(rho))\n",
      "MOP = matrix_as_outer_product(rho)\n",
      "Print(r'$%s$' %MOP.latex())\n",
      "Print(r'$\\rho=%s$' %latex(MOP.M))"
     ],
     "language": "python",
     "metadata": {},
     "outputs": [
      {
       "html": [
        "<font size=4>$\\psi=\\left[\\begin{matrix}\\alpha\\\\- \\beta\\end{matrix}\\right]$</font>"
       ],
       "metadata": {},
       "output_type": "display_data",
       "text": [
        "<IPython.core.display.HTML at 0xbec4c6c>"
       ]
      },
      {
       "html": [
        "<font size=4>$\\rho=\\left[\\begin{matrix}\\alpha \\overline{\\alpha} & - \\alpha \\overline{\\beta}\\\\- \\beta \\overline{\\alpha} & \\beta \\overline{\\beta}\\end{matrix}\\right]$</font>"
       ],
       "metadata": {},
       "output_type": "display_data",
       "text": [
        "<IPython.core.display.HTML at 0xbece98c>"
       ]
      },
      {
       "html": [
        "<font size=4>$\\alpha \\overline{\\alpha}|0\\rangle\\langle0|- \\alpha \\overline{\\beta}|0\\rangle\\langle1|- \\beta \\overline{\\alpha}|1\\rangle\\langle0|+\\beta \\overline{\\beta}|1\\rangle\\langle1|$</font>"
       ],
       "metadata": {},
       "output_type": "display_data",
       "text": [
        "<IPython.core.display.HTML at 0xbecd94c>"
       ]
      },
      {
       "html": [
        "<font size=4>$\\rho=\\left[\\begin{matrix}\\alpha \\overline{\\alpha} & - \\alpha \\overline{\\beta}\\\\- \\beta \\overline{\\alpha} & \\beta \\overline{\\beta}\\end{matrix}\\right]$</font>"
       ],
       "metadata": {},
       "output_type": "display_data",
       "text": [
        "<IPython.core.display.HTML at 0xbec4c4c>"
       ]
      }
     ],
     "prompt_number": 19
    },
    {
     "cell_type": "code",
     "collapsed": false,
     "input": [
      "M = mat(1,2,3,4,5,6,7,8,\n",
      "        1,2,3,4,5,6,7,8,\n",
      "        1,2,3,4,5,6,7,8,\n",
      "        1,2,3,4,5,6,7,8,\n",
      "        1,2,3,4,5,6,7,8,\n",
      "        1,2,3,4,5,6,7,8,\n",
      "        1,2,3,4,5,6,7,8,\n",
      "        1,2,3,4,5,6,7,8)\n",
      "#M = mat(-1,2,3,4,5,6,7,8,9,10,11,12,13,14,15,-16)\n",
      "MOP = matrix_as_outer_product(M)\n",
      "Print('The original matrix:')\n",
      "Print(r'$%s$' %MOP.latex())\n",
      "Print('Partial Trace of bit 0:')\n",
      "MOP.partial_trace(0)\n",
      "Print(r'$%s$' %MOP.latex())\n",
      "Print('Another partial trace of bit 0:')\n",
      "MOP.partial_trace(0)\n",
      "Print(r'$%s$' %MOP.latex())"
     ],
     "language": "python",
     "metadata": {},
     "outputs": [
      {
       "html": [
        "<font size=4>The original matrix:</font>"
       ],
       "metadata": {},
       "output_type": "display_data",
       "text": [
        "<IPython.core.display.HTML at 0xbed3d0c>"
       ]
      },
      {
       "html": [
        "<font size=4>$1|000\\rangle\\langle000|+2|000\\rangle\\langle001|+3|000\\rangle\\langle010|+4|000\\rangle\\langle011|+5|000\\rangle\\langle100|+6|000\\rangle\\langle101|+7|000\\rangle\\langle110|+8|000\\rangle\\langle111|+1|001\\rangle\\langle000|+2|001\\rangle\\langle001|+3|001\\rangle\\langle010|+4|001\\rangle\\langle011|+5|001\\rangle\\langle100|+6|001\\rangle\\langle101|+7|001\\rangle\\langle110|+8|001\\rangle\\langle111|+1|010\\rangle\\langle000|+2|010\\rangle\\langle001|+3|010\\rangle\\langle010|+4|010\\rangle\\langle011|+5|010\\rangle\\langle100|+6|010\\rangle\\langle101|+7|010\\rangle\\langle110|+8|010\\rangle\\langle111|+1|011\\rangle\\langle000|+2|011\\rangle\\langle001|+3|011\\rangle\\langle010|+4|011\\rangle\\langle011|+5|011\\rangle\\langle100|+6|011\\rangle\\langle101|+7|011\\rangle\\langle110|+8|011\\rangle\\langle111|+1|100\\rangle\\langle000|+2|100\\rangle\\langle001|+3|100\\rangle\\langle010|+4|100\\rangle\\langle011|+5|100\\rangle\\langle100|+6|100\\rangle\\langle101|+7|100\\rangle\\langle110|+8|100\\rangle\\langle111|+1|101\\rangle\\langle000|+2|101\\rangle\\langle001|+3|101\\rangle\\langle010|+4|101\\rangle\\langle011|+5|101\\rangle\\langle100|+6|101\\rangle\\langle101|+7|101\\rangle\\langle110|+8|101\\rangle\\langle111|+1|110\\rangle\\langle000|+2|110\\rangle\\langle001|+3|110\\rangle\\langle010|+4|110\\rangle\\langle011|+5|110\\rangle\\langle100|+6|110\\rangle\\langle101|+7|110\\rangle\\langle110|+8|110\\rangle\\langle111|+1|111\\rangle\\langle000|+2|111\\rangle\\langle001|+3|111\\rangle\\langle010|+4|111\\rangle\\langle011|+5|111\\rangle\\langle100|+6|111\\rangle\\langle101|+7|111\\rangle\\langle110|+8|111\\rangle\\langle111|$</font>"
       ],
       "metadata": {},
       "output_type": "display_data",
       "text": [
        "<IPython.core.display.HTML at 0xbec44ec>"
       ]
      },
      {
       "html": [
        "<font size=4>Partial Trace of bit 0:</font>"
       ],
       "metadata": {},
       "output_type": "display_data",
       "text": [
        "<IPython.core.display.HTML at 0xbed3b4c>"
       ]
      },
      {
       "html": [
        "<font size=4>$6|00\\rangle\\langle00|+8|00\\rangle\\langle01|+10|00\\rangle\\langle10|+12|00\\rangle\\langle11|+6|01\\rangle\\langle00|+8|01\\rangle\\langle01|+10|01\\rangle\\langle10|+12|01\\rangle\\langle11|+6|10\\rangle\\langle00|+8|10\\rangle\\langle01|+10|10\\rangle\\langle10|+12|10\\rangle\\langle11|+6|11\\rangle\\langle00|+8|11\\rangle\\langle01|+10|11\\rangle\\langle10|+12|11\\rangle\\langle11|$</font>"
       ],
       "metadata": {},
       "output_type": "display_data",
       "text": [
        "<IPython.core.display.HTML at 0xbede04c>"
       ]
      },
      {
       "html": [
        "<font size=4>Another partial trace of bit 0:</font>"
       ],
       "metadata": {},
       "output_type": "display_data",
       "text": [
        "<IPython.core.display.HTML at 0xbed370c>"
       ]
      },
      {
       "html": [
        "<font size=4>$16|0\\rangle\\langle0|+20|0\\rangle\\langle1|+16|1\\rangle\\langle0|+20|1\\rangle\\langle1|$</font>"
       ],
       "metadata": {},
       "output_type": "display_data",
       "text": [
        "<IPython.core.display.HTML at 0xbec4ccc>"
       ]
      }
     ],
     "prompt_number": 20
    },
    {
     "cell_type": "code",
     "collapsed": false,
     "input": [
      "#\n",
      "# How about matrices with symbolic values?\n",
      "#\n",
      "\n",
      "psi = TP(1/sqrt(2)*s0 + 1/sqrt(2)*s1, col(alpha, beta))\n",
      "Print(r'$\\psi=%s$'%latex(psi))\n",
      "Print(r'$\\psi=%s$'%fmt(psi))\n",
      "M = OP(psi,psi)\n",
      "Print(r'$\\rho = %s$' %latex(M))\n",
      "MOP = matrix_as_outer_product(M)\n",
      "Print(r'$%s$'%MOP.latex())\n",
      "MOP.partial_trace(0)\n",
      "Print('Tracing out bit zero:')\n",
      "Print(r'$%s$'%MOP.latex())"
     ],
     "language": "python",
     "metadata": {},
     "outputs": [
      {
       "html": [
        "<font size=4>$\\psi=\\left[\\begin{matrix}\\frac{\\sqrt{2} \\alpha}{2}\\\\\\frac{\\sqrt{2} \\beta}{2}\\\\\\frac{\\sqrt{2} \\alpha}{2}\\\\\\frac{\\sqrt{2} \\beta}{2}\\end{matrix}\\right]$</font>"
       ],
       "metadata": {},
       "output_type": "display_data",
       "text": [
        "<IPython.core.display.HTML at 0xbec7dec>"
       ]
      },
      {
       "html": [
        "<font size=4>$\\psi=\\frac{\\sqrt{2} \\alpha}{2}|00\\rangle+\\frac{\\sqrt{2} \\beta}{2}|01\\rangle+\\frac{\\sqrt{2} \\alpha}{2}|10\\rangle+\\frac{\\sqrt{2} \\beta}{2}|11\\rangle$</font>"
       ],
       "metadata": {},
       "output_type": "display_data",
       "text": [
        "<IPython.core.display.HTML at 0xbec2b4c>"
       ]
      },
      {
       "html": [
        "<font size=4>$\\rho = \\left[\\begin{matrix}\\frac{\\alpha \\overline{\\alpha}}{2} & \\frac{\\alpha \\overline{\\beta}}{2} & \\frac{\\alpha \\overline{\\alpha}}{2} & \\frac{\\alpha \\overline{\\beta}}{2}\\\\\\frac{\\beta \\overline{\\alpha}}{2} & \\frac{\\beta \\overline{\\beta}}{2} & \\frac{\\beta \\overline{\\alpha}}{2} & \\frac{\\beta \\overline{\\beta}}{2}\\\\\\frac{\\alpha \\overline{\\alpha}}{2} & \\frac{\\alpha \\overline{\\beta}}{2} & \\frac{\\alpha \\overline{\\alpha}}{2} & \\frac{\\alpha \\overline{\\beta}}{2}\\\\\\frac{\\beta \\overline{\\alpha}}{2} & \\frac{\\beta \\overline{\\beta}}{2} & \\frac{\\beta \\overline{\\alpha}}{2} & \\frac{\\beta \\overline{\\beta}}{2}\\end{matrix}\\right]$</font>"
       ],
       "metadata": {},
       "output_type": "display_data",
       "text": [
        "<IPython.core.display.HTML at 0xbecd9ac>"
       ]
      },
      {
       "html": [
        "<font size=4>$\\frac{\\alpha \\overline{\\alpha}}{2}|00\\rangle\\langle00|+\\frac{\\alpha \\overline{\\beta}}{2}|00\\rangle\\langle01|+\\frac{\\alpha \\overline{\\alpha}}{2}|00\\rangle\\langle10|+\\frac{\\alpha \\overline{\\beta}}{2}|00\\rangle\\langle11|+\\frac{\\beta \\overline{\\alpha}}{2}|01\\rangle\\langle00|+\\frac{\\beta \\overline{\\beta}}{2}|01\\rangle\\langle01|+\\frac{\\beta \\overline{\\alpha}}{2}|01\\rangle\\langle10|+\\frac{\\beta \\overline{\\beta}}{2}|01\\rangle\\langle11|+\\frac{\\alpha \\overline{\\alpha}}{2}|10\\rangle\\langle00|+\\frac{\\alpha \\overline{\\beta}}{2}|10\\rangle\\langle01|+\\frac{\\alpha \\overline{\\alpha}}{2}|10\\rangle\\langle10|+\\frac{\\alpha \\overline{\\beta}}{2}|10\\rangle\\langle11|+\\frac{\\beta \\overline{\\alpha}}{2}|11\\rangle\\langle00|+\\frac{\\beta \\overline{\\beta}}{2}|11\\rangle\\langle01|+\\frac{\\beta \\overline{\\alpha}}{2}|11\\rangle\\langle10|+\\frac{\\beta \\overline{\\beta}}{2}|11\\rangle\\langle11|$</font>"
       ],
       "metadata": {},
       "output_type": "display_data",
       "text": [
        "<IPython.core.display.HTML at 0xbede28c>"
       ]
      },
      {
       "html": [
        "<font size=4>Tracing out bit zero:</font>"
       ],
       "metadata": {},
       "output_type": "display_data",
       "text": [
        "<IPython.core.display.HTML at 0xbedbfac>"
       ]
      },
      {
       "html": [
        "<font size=4>$\\alpha \\overline{\\alpha}|0\\rangle\\langle0|+\\alpha \\overline{\\beta}|0\\rangle\\langle1|+\\beta \\overline{\\alpha}|1\\rangle\\langle0|+\\beta \\overline{\\beta}|1\\rangle\\langle1|$</font>"
       ],
       "metadata": {},
       "output_type": "display_data",
       "text": [
        "<IPython.core.display.HTML at 0xbedbf2c>"
       ]
      }
     ],
     "prompt_number": 21
    },
    {
     "cell_type": "code",
     "collapsed": false,
     "input": [
      "#\n",
      "# Now the teleportation state\n",
      "#\n",
      "\n",
      "psi = half*TP(s00, col(alpha,beta))\\\n",
      "    + half*TP(s01, col(beta,alpha))\\\n",
      "    + half*TP(s10, col(alpha,-beta))\\\n",
      "    + half*TP(s11, col(-beta,alpha))\n",
      "Print(r'$\\psi=%s$'%fmt(psi)) # THIS IS A PROBLEM !!!\n",
      "Print(r'$\\psi=%s$'%latex(psi))\n",
      "M = OP(psi,psi)\n",
      "Print(r'$\\rho = %s$' %latex(M))\n",
      "MOP = matrix_as_outer_product(M)\n",
      "Print(r'$%s$'%MOP.latex())\n",
      "MOP.partial_trace(0)\n",
      "Print('Tracing out Alice\\'s first bit:')\n",
      "Print(r'$%s$'%MOP.latex())\n",
      "MOP.partial_trace(0)\n",
      "Print('Tracing out Alice\\'s second bit:')\n",
      "Print(r'$%s$'%MOP.latex())\n",
      "Print('And the reduced density matrix for Bob is:')\n",
      "Print(r'$\\rho_B = %s$' %latex(MOP.M))"
     ],
     "language": "python",
     "metadata": {},
     "outputs": [
      {
       "html": [
        "<font size=4>$\\psi=\\frac{\\alpha}{2}|000\\rangle+\\frac{\\beta}{2}|001\\rangle+\\frac{\\beta}{2}|010\\rangle+\\frac{\\alpha}{2}|011\\rangle+\\frac{\\alpha}{2}|100\\rangle-\\frac{\\beta}{2}|101\\rangle-\\frac{\\beta}{2}|110\\rangle+\\frac{\\alpha}{2}|111\\rangle$</font>"
       ],
       "metadata": {},
       "output_type": "display_data",
       "text": [
        "<IPython.core.display.HTML at 0xbeb46ec>"
       ]
      },
      {
       "html": [
        "<font size=4>$\\psi=\\left[\\begin{matrix}\\frac{\\alpha}{2}\\\\\\frac{\\beta}{2}\\\\\\frac{\\beta}{2}\\\\\\frac{\\alpha}{2}\\\\\\frac{\\alpha}{2}\\\\- \\frac{\\beta}{2}\\\\- \\frac{\\beta}{2}\\\\\\frac{\\alpha}{2}\\end{matrix}\\right]$</font>"
       ],
       "metadata": {},
       "output_type": "display_data",
       "text": [
        "<IPython.core.display.HTML at 0xbedbc4c>"
       ]
      },
      {
       "html": [
        "<font size=4>$\\rho = \\left[\\begin{matrix}\\frac{\\alpha \\overline{\\alpha}}{4} & \\frac{\\alpha \\overline{\\beta}}{4} & \\frac{\\alpha \\overline{\\beta}}{4} & \\frac{\\alpha \\overline{\\alpha}}{4} & \\frac{\\alpha \\overline{\\alpha}}{4} & - \\frac{\\alpha \\overline{\\beta}}{4} & - \\frac{\\alpha \\overline{\\beta}}{4} & \\frac{\\alpha \\overline{\\alpha}}{4}\\\\\\frac{\\beta \\overline{\\alpha}}{4} & \\frac{\\beta \\overline{\\beta}}{4} & \\frac{\\beta \\overline{\\beta}}{4} & \\frac{\\beta \\overline{\\alpha}}{4} & \\frac{\\beta \\overline{\\alpha}}{4} & - \\frac{\\beta \\overline{\\beta}}{4} & - \\frac{\\beta \\overline{\\beta}}{4} & \\frac{\\beta \\overline{\\alpha}}{4}\\\\\\frac{\\beta \\overline{\\alpha}}{4} & \\frac{\\beta \\overline{\\beta}}{4} & \\frac{\\beta \\overline{\\beta}}{4} & \\frac{\\beta \\overline{\\alpha}}{4} & \\frac{\\beta \\overline{\\alpha}}{4} & - \\frac{\\beta \\overline{\\beta}}{4} & - \\frac{\\beta \\overline{\\beta}}{4} & \\frac{\\beta \\overline{\\alpha}}{4}\\\\\\frac{\\alpha \\overline{\\alpha}}{4} & \\frac{\\alpha \\overline{\\beta}}{4} & \\frac{\\alpha \\overline{\\beta}}{4} & \\frac{\\alpha \\overline{\\alpha}}{4} & \\frac{\\alpha \\overline{\\alpha}}{4} & - \\frac{\\alpha \\overline{\\beta}}{4} & - \\frac{\\alpha \\overline{\\beta}}{4} & \\frac{\\alpha \\overline{\\alpha}}{4}\\\\\\frac{\\alpha \\overline{\\alpha}}{4} & \\frac{\\alpha \\overline{\\beta}}{4} & \\frac{\\alpha \\overline{\\beta}}{4} & \\frac{\\alpha \\overline{\\alpha}}{4} & \\frac{\\alpha \\overline{\\alpha}}{4} & - \\frac{\\alpha \\overline{\\beta}}{4} & - \\frac{\\alpha \\overline{\\beta}}{4} & \\frac{\\alpha \\overline{\\alpha}}{4}\\\\- \\frac{\\beta \\overline{\\alpha}}{4} & - \\frac{\\beta \\overline{\\beta}}{4} & - \\frac{\\beta \\overline{\\beta}}{4} & - \\frac{\\beta \\overline{\\alpha}}{4} & - \\frac{\\beta \\overline{\\alpha}}{4} & \\frac{\\beta \\overline{\\beta}}{4} & \\frac{\\beta \\overline{\\beta}}{4} & - \\frac{\\beta \\overline{\\alpha}}{4}\\\\- \\frac{\\beta \\overline{\\alpha}}{4} & - \\frac{\\beta \\overline{\\beta}}{4} & - \\frac{\\beta \\overline{\\beta}}{4} & - \\frac{\\beta \\overline{\\alpha}}{4} & - \\frac{\\beta \\overline{\\alpha}}{4} & \\frac{\\beta \\overline{\\beta}}{4} & \\frac{\\beta \\overline{\\beta}}{4} & - \\frac{\\beta \\overline{\\alpha}}{4}\\\\\\frac{\\alpha \\overline{\\alpha}}{4} & \\frac{\\alpha \\overline{\\beta}}{4} & \\frac{\\alpha \\overline{\\beta}}{4} & \\frac{\\alpha \\overline{\\alpha}}{4} & \\frac{\\alpha \\overline{\\alpha}}{4} & - \\frac{\\alpha \\overline{\\beta}}{4} & - \\frac{\\alpha \\overline{\\beta}}{4} & \\frac{\\alpha \\overline{\\alpha}}{4}\\end{matrix}\\right]$</font>"
       ],
       "metadata": {},
       "output_type": "display_data",
       "text": [
        "<IPython.core.display.HTML at 0xbec7d8c>"
       ]
      },
      {
       "html": [
        "<font size=4>$\\frac{\\alpha \\overline{\\alpha}}{4}|000\\rangle\\langle000|+\\frac{\\alpha \\overline{\\beta}}{4}|000\\rangle\\langle001|+\\frac{\\alpha \\overline{\\beta}}{4}|000\\rangle\\langle010|+\\frac{\\alpha \\overline{\\alpha}}{4}|000\\rangle\\langle011|+\\frac{\\alpha \\overline{\\alpha}}{4}|000\\rangle\\langle100|- \\frac{\\alpha \\overline{\\beta}}{4}|000\\rangle\\langle101|- \\frac{\\alpha \\overline{\\beta}}{4}|000\\rangle\\langle110|+\\frac{\\alpha \\overline{\\alpha}}{4}|000\\rangle\\langle111|+\\frac{\\beta \\overline{\\alpha}}{4}|001\\rangle\\langle000|+\\frac{\\beta \\overline{\\beta}}{4}|001\\rangle\\langle001|+\\frac{\\beta \\overline{\\beta}}{4}|001\\rangle\\langle010|+\\frac{\\beta \\overline{\\alpha}}{4}|001\\rangle\\langle011|+\\frac{\\beta \\overline{\\alpha}}{4}|001\\rangle\\langle100|- \\frac{\\beta \\overline{\\beta}}{4}|001\\rangle\\langle101|- \\frac{\\beta \\overline{\\beta}}{4}|001\\rangle\\langle110|+\\frac{\\beta \\overline{\\alpha}}{4}|001\\rangle\\langle111|+\\frac{\\beta \\overline{\\alpha}}{4}|010\\rangle\\langle000|+\\frac{\\beta \\overline{\\beta}}{4}|010\\rangle\\langle001|+\\frac{\\beta \\overline{\\beta}}{4}|010\\rangle\\langle010|+\\frac{\\beta \\overline{\\alpha}}{4}|010\\rangle\\langle011|+\\frac{\\beta \\overline{\\alpha}}{4}|010\\rangle\\langle100|- \\frac{\\beta \\overline{\\beta}}{4}|010\\rangle\\langle101|- \\frac{\\beta \\overline{\\beta}}{4}|010\\rangle\\langle110|+\\frac{\\beta \\overline{\\alpha}}{4}|010\\rangle\\langle111|+\\frac{\\alpha \\overline{\\alpha}}{4}|011\\rangle\\langle000|+\\frac{\\alpha \\overline{\\beta}}{4}|011\\rangle\\langle001|+\\frac{\\alpha \\overline{\\beta}}{4}|011\\rangle\\langle010|+\\frac{\\alpha \\overline{\\alpha}}{4}|011\\rangle\\langle011|+\\frac{\\alpha \\overline{\\alpha}}{4}|011\\rangle\\langle100|- \\frac{\\alpha \\overline{\\beta}}{4}|011\\rangle\\langle101|- \\frac{\\alpha \\overline{\\beta}}{4}|011\\rangle\\langle110|+\\frac{\\alpha \\overline{\\alpha}}{4}|011\\rangle\\langle111|+\\frac{\\alpha \\overline{\\alpha}}{4}|100\\rangle\\langle000|+\\frac{\\alpha \\overline{\\beta}}{4}|100\\rangle\\langle001|+\\frac{\\alpha \\overline{\\beta}}{4}|100\\rangle\\langle010|+\\frac{\\alpha \\overline{\\alpha}}{4}|100\\rangle\\langle011|+\\frac{\\alpha \\overline{\\alpha}}{4}|100\\rangle\\langle100|- \\frac{\\alpha \\overline{\\beta}}{4}|100\\rangle\\langle101|- \\frac{\\alpha \\overline{\\beta}}{4}|100\\rangle\\langle110|+\\frac{\\alpha \\overline{\\alpha}}{4}|100\\rangle\\langle111|- \\frac{\\beta \\overline{\\alpha}}{4}|101\\rangle\\langle000|- \\frac{\\beta \\overline{\\beta}}{4}|101\\rangle\\langle001|- \\frac{\\beta \\overline{\\beta}}{4}|101\\rangle\\langle010|- \\frac{\\beta \\overline{\\alpha}}{4}|101\\rangle\\langle011|- \\frac{\\beta \\overline{\\alpha}}{4}|101\\rangle\\langle100|+\\frac{\\beta \\overline{\\beta}}{4}|101\\rangle\\langle101|+\\frac{\\beta \\overline{\\beta}}{4}|101\\rangle\\langle110|- \\frac{\\beta \\overline{\\alpha}}{4}|101\\rangle\\langle111|- \\frac{\\beta \\overline{\\alpha}}{4}|110\\rangle\\langle000|- \\frac{\\beta \\overline{\\beta}}{4}|110\\rangle\\langle001|- \\frac{\\beta \\overline{\\beta}}{4}|110\\rangle\\langle010|- \\frac{\\beta \\overline{\\alpha}}{4}|110\\rangle\\langle011|- \\frac{\\beta \\overline{\\alpha}}{4}|110\\rangle\\langle100|+\\frac{\\beta \\overline{\\beta}}{4}|110\\rangle\\langle101|+\\frac{\\beta \\overline{\\beta}}{4}|110\\rangle\\langle110|- \\frac{\\beta \\overline{\\alpha}}{4}|110\\rangle\\langle111|+\\frac{\\alpha \\overline{\\alpha}}{4}|111\\rangle\\langle000|+\\frac{\\alpha \\overline{\\beta}}{4}|111\\rangle\\langle001|+\\frac{\\alpha \\overline{\\beta}}{4}|111\\rangle\\langle010|+\\frac{\\alpha \\overline{\\alpha}}{4}|111\\rangle\\langle011|+\\frac{\\alpha \\overline{\\alpha}}{4}|111\\rangle\\langle100|- \\frac{\\alpha \\overline{\\beta}}{4}|111\\rangle\\langle101|- \\frac{\\alpha \\overline{\\beta}}{4}|111\\rangle\\langle110|+\\frac{\\alpha \\overline{\\alpha}}{4}|111\\rangle\\langle111|$</font>"
       ],
       "metadata": {},
       "output_type": "display_data",
       "text": [
        "<IPython.core.display.HTML at 0xbec274c>"
       ]
      },
      {
       "html": [
        "<font size=4>Tracing out Alice's first bit:</font>"
       ],
       "metadata": {},
       "output_type": "display_data",
       "text": [
        "<IPython.core.display.HTML at 0xbeb46ec>"
       ]
      },
      {
       "html": [
        "<font size=4>$\\frac{\\alpha \\overline{\\alpha}}{2}|00\\rangle\\langle00|+0|00\\rangle\\langle01|+0|00\\rangle\\langle10|+\\frac{\\alpha \\overline{\\alpha}}{2}|00\\rangle\\langle11|+0|01\\rangle\\langle00|+\\frac{\\beta \\overline{\\beta}}{2}|01\\rangle\\langle01|+\\frac{\\beta \\overline{\\beta}}{2}|01\\rangle\\langle10|+0|01\\rangle\\langle11|+0|10\\rangle\\langle00|+\\frac{\\beta \\overline{\\beta}}{2}|10\\rangle\\langle01|+\\frac{\\beta \\overline{\\beta}}{2}|10\\rangle\\langle10|+0|10\\rangle\\langle11|+\\frac{\\alpha \\overline{\\alpha}}{2}|11\\rangle\\langle00|+0|11\\rangle\\langle01|+0|11\\rangle\\langle10|+\\frac{\\alpha \\overline{\\alpha}}{2}|11\\rangle\\langle11|$</font>"
       ],
       "metadata": {},
       "output_type": "display_data",
       "text": [
        "<IPython.core.display.HTML at 0xbecd9ac>"
       ]
      },
      {
       "html": [
        "<font size=4>Tracing out Alice's second bit:</font>"
       ],
       "metadata": {},
       "output_type": "display_data",
       "text": [
        "<IPython.core.display.HTML at 0xbec44ec>"
       ]
      },
      {
       "html": [
        "<font size=4>$\\frac{\\alpha \\overline{\\alpha}}{2} + \\frac{\\beta \\overline{\\beta}}{2}|0\\rangle\\langle0|+0|0\\rangle\\langle1|+0|1\\rangle\\langle0|+\\frac{\\alpha \\overline{\\alpha}}{2} + \\frac{\\beta \\overline{\\beta}}{2}|1\\rangle\\langle1|$</font>"
       ],
       "metadata": {},
       "output_type": "display_data",
       "text": [
        "<IPython.core.display.HTML at 0xbec054c>"
       ]
      },
      {
       "html": [
        "<font size=4>And the reduced density matrix for Bob is:</font>"
       ],
       "metadata": {},
       "output_type": "display_data",
       "text": [
        "<IPython.core.display.HTML at 0xbed370c>"
       ]
      },
      {
       "html": [
        "<font size=4>$\\rho_B = \\left[\\begin{matrix}\\frac{\\alpha \\overline{\\alpha}}{2} + \\frac{\\beta \\overline{\\beta}}{2} & 0\\\\0 & \\frac{\\alpha \\overline{\\alpha}}{2} + \\frac{\\beta \\overline{\\beta}}{2}\\end{matrix}\\right]$</font>"
       ],
       "metadata": {},
       "output_type": "display_data",
       "text": [
        "<IPython.core.display.HTML at 0xbf2926c>"
       ]
      }
     ],
     "prompt_number": 22
    }
   ],
   "metadata": {}
  }
 ]
}