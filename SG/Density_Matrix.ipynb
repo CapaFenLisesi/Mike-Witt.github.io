{
 "metadata": {
  "name": "",
  "signature": "sha256:07d02b5b0d84e68cf145af4b1e6dfd7a98fa6b1b9fc4818497d9c08e4a5a0423"
 },
 "nbformat": 3,
 "nbformat_minor": 0,
 "worksheets": [
  {
   "cells": [
    {
     "cell_type": "markdown",
     "metadata": {},
     "source": [
      "<a name=\"top\"></a>\n",
      "<center>\n",
      "<h2>The Density Matrix</h2>\n",
      "</center>\n",
      "<p>\n",
      "For now, I'm going work directly from Schlosshauer chapter two, adding in\n",
      "examples from the Cugini paper as well as my own examples."
     ]
    },
    {
     "cell_type": "markdown",
     "metadata": {},
     "source": [
      "<hr size=3>\n",
      "<h3>Status</h3>\n",
      "<ul>\n",
      "<li> In Progress\n",
      "</ul>\n",
      "\n",
      "<hr size=3>\n",
      "<h3>TTD</h3>\n",
      "<ul>\n",
      "<li> Understand the \"right\" way to \"trace out\" so that I can do\n",
      "     more than 2 bits.\n",
      "<li> See what this does to Entropy.\n",
      "<li> Try states on Q. Teleport Alg.\n",
      "</ul>"
     ]
    },
    {
     "cell_type": "markdown",
     "metadata": {},
     "source": [
      "<hr size=3>\n",
      "<h3>Contents</h3>\n",
      "<ol>\n",
      "<li><a href=\"#imports\">Imports, etc</a>\n",
      "<li><a href=\"#refs\">References</a>\n",
      "<li><a href=\"#2.4.1\">2.4.1 Pure-State Density Matrices and the Trace Operation</a>\n",
      "<li><a href=\"#2.4.2\">2.4.2 Mixed-State Density Matrices</a>\n",
      "<li><a href=\"#exp\">An Experiment</a>\n",
      "<li><a href=\"#reduced\">The Reduced Density Matrix</a>\n",
      "<li><a href=\"#sympy\">Sympy quantum code</a> (Broken?)\n",
      "</ol>"
     ]
    },
    {
     "cell_type": "markdown",
     "metadata": {},
     "source": [
      "<div style=\"Page-break-after: always;\"></div></code>\n",
      "<hr size=3>\n",
      "<a name=imports>\n",
      "<h3><a href=\"#top\">^</a> Preliminaries</h3>"
     ]
    },
    {
     "cell_type": "code",
     "collapsed": false,
     "input": [
      "%autosave 0\n",
      "from __future__ import division\n",
      "from sglib import IP, OP, TP, Print, sg_format_state, col, mat, myltx\n",
      "from sympy import sqrt, E, Rational, latex"
     ],
     "language": "python",
     "metadata": {},
     "outputs": []
    },
    {
     "cell_type": "markdown",
     "metadata": {},
     "source": [
      "<hr size=3>\n",
      "<div style=\"Page-break-after: always;\"></div></code>\n",
      "<a name=refs>\n",
      "<h3><a href=\"#top\">^</a> References</h3>"
     ]
    },
    {
     "cell_type": "markdown",
     "metadata": {},
     "source": [
      "<ol>\n",
      "<li><a href=\"http://www.worldcat.org/title/decoherence-and-the-quantum-to-classical-transition/oclc/750752742?referer=di&ht=edition\">\n",
      "Schlosshauer</a>\n",
      "<li><a href=\"http://digitalcommons.calpoly.edu/physsp/38/\">Cugini</a>\n",
      "</ol>"
     ]
    },
    {
     "cell_type": "markdown",
     "metadata": {},
     "source": [
      "<hr size=3>\n",
      "<div style=\"Page-break-after: always;\"></div></code>\n",
      "<a name=2.4.1>\n",
      "<h3><a href=\"#top\">^</a> 2.4.1 Pure-State Density Matrices and the Trace Operation</h3>\n",
      "<p>\n",
      "Note that my <i>only</i> operators are matrices for now. So I won't make\n",
      "the operator/matrix distinction at all."
     ]
    },
    {
     "cell_type": "markdown",
     "metadata": {},
     "source": [
      "The density operator of a pure state $|\\psi\\rangle$ is:\n",
      "<p>\n",
      "$$\n",
      "(2.11) \\;\\; \\rho = |\\psi\\rangle\\langle\\psi| \n",
      "$$\n",
      "<p>\n",
      "The off-diagonal terms are the \"interference\" terms, <i>for the basis\n",
      "in which the expression is written.</i>\n",
      "<p>\n",
      "The trace operation is:\n",
      "<p>\n",
      "$$\n",
      "(2.14) \\;\\; \\mathrm{Tr}(A) = \\sum_i\\langle\\phi_i|A|\\phi_i\\rangle\n",
      "$$\n",
      "<p>\n",
      "where $\\{\\phi_i\\}$ are a complete set of orthonormal\n",
      "basis vectors. The expression\n",
      "$\\langle\\phi_i|A|\\phi_i\\rangle$ picks out the $i$th row and column if\n",
      "$A$ is actually a matrix, so we're just adding up the main diagonal."
     ]
    },
    {
     "cell_type": "code",
     "collapsed": false,
     "input": [
      "# Make a verbose trace operation for demo purposes:\n",
      "def Tr(M, basis, V=False):\n",
      "    from sglib import megasimp\n",
      "    if V: Print('Trace operation:')\n",
      "    result = 0\n",
      "    for phi in basis:\n",
      "        phi_bra = phi.transpose().conjugate()\n",
      "        temp1 = megasimp(M*phi)\n",
      "        temp = megasimp(phi_bra*M*phi)\n",
      "        temp = temp[0] # Sympy gives a 1x1 matrix result\n",
      "        if V: Print(r'$\\;\\;\\;\\; %s %s %s$' %(\\\n",
      "            myltx(phi_bra),\\\n",
      "            myltx(M),\\\n",
      "            myltx(phi)))\n",
      "        if V: Print(r'$\\;\\;\\;\\;\\;\\;\\;\\; = %s %s$' %(\\\n",
      "            myltx(phi_bra),\\\n",
      "            myltx(temp1)))\n",
      "        if V: Print(r'$\\;\\;\\;\\;\\;\\;\\;\\; = %s$' %myltx(temp))\n",
      "        result += temp\n",
      "    if V: Print(r'$\\;\\;\\;\\; = %s$' %myltx(result))\n",
      "    return(result)\n",
      "\n",
      "# Zero and One states\n",
      "s0 = col(1,0); s1 = col(0,1)\n",
      "# Create a formatter for stuff like |00>\n",
      "fmt = sg_format_state(['0','1'], '').format\n",
      "# Create two-bit states and basis\n",
      "s00=TP(s0,s0); s01=TP(s0,s1); s10=TP(s1,s0); s11=TP(s1,s1)\n",
      "b2bit = [s00, s01, s10, s11]"
     ],
     "language": "python",
     "metadata": {},
     "outputs": []
    },
    {
     "cell_type": "markdown",
     "metadata": {},
     "source": [
      "<h3>One bit examples</h3>\n",
      "<p>"
     ]
    },
    {
     "cell_type": "code",
     "collapsed": false,
     "input": [
      "psi = s0; rho = OP(psi,psi)\n",
      "Print(\n",
      "    r'$%s%s' %(fmt(psi),fmt(psi.adjoint())) \n",
      "    + r'= %s %s' %(myltx(psi),myltx(psi.adjoint())) \n",
      "    + r'=%s$' %myltx(rho)\n",
      "    )"
     ],
     "language": "python",
     "metadata": {},
     "outputs": []
    },
    {
     "cell_type": "code",
     "collapsed": false,
     "input": [
      "psi = s1; psi_ = psi.adjoint(); rho = OP(psi,psi)\n",
      "Print(\n",
      "    r'$%s%s' %(fmt(psi),fmt(psi_)) \n",
      "    + r'= %s %s' %(myltx(psi),myltx(psi_)) \n",
      "    + r'=%s$' %myltx(rho)\n",
      "    )"
     ],
     "language": "python",
     "metadata": {},
     "outputs": []
    },
    {
     "cell_type": "markdown",
     "metadata": {},
     "source": [
      "<h3>Demonstrate the trace operation</h3>\n",
      "<p>"
     ]
    },
    {
     "cell_type": "code",
     "collapsed": false,
     "input": [
      "from sympy import var\n",
      "a_11, a_12, a_21, a_22 = var('a_11, a_12, a_21, a_22')\n",
      "A = mat(a_11, a_12, a_21, a_22)\n",
      "from sglib import pZ, mZ, pX, mX, pY, mY\n",
      "trace = Tr(A, [pZ, mZ], V=True)\n",
      "trace = Tr(A, [pX, mX], V=True)\n",
      "trace = Tr(A, [pY, mY], V=True)"
     ],
     "language": "python",
     "metadata": {},
     "outputs": []
    },
    {
     "cell_type": "markdown",
     "metadata": {},
     "source": [
      "<h3>Single bit states:</h3>\n",
      "<p>"
     ]
    },
    {
     "cell_type": "code",
     "collapsed": false,
     "input": [
      "psi = col(1,0)\n",
      "psi = col(0,1)\n",
      "psi = col(1/sqrt(2), 1/sqrt(2))\n",
      "psi = col(Rational(4,5), Rational(3,5))\n",
      "rho = OP(psi,psi)\n",
      "trace = Tr(rho, [s0, s1])\n",
      "trace = rho.trace()\n",
      "Print(r'$\\psi=%s,\\;\\;\\;\\; \\rho=%s, \\;\\;\\;\\mathrm{Tr}(\\rho)=%s$'\n",
      "      %(fmt(psi), myltx(rho), myltx(trace)))"
     ],
     "language": "python",
     "metadata": {},
     "outputs": []
    },
    {
     "cell_type": "markdown",
     "metadata": {},
     "source": [
      "<h3>Product states:</h3>\n",
      "<p>"
     ]
    },
    {
     "cell_type": "code",
     "collapsed": false,
     "input": [
      "state1 = col(1,0); state2 = col(0,1) # No interference\n",
      "state1 = col(0,1)\n",
      "state1 = col(1/sqrt(2), 1/sqrt(2))\n",
      "#state2 = col(1/sqrt(2), 1/sqrt(2))\n",
      "psi = TP( state1, state2 )\n",
      "rho = OP(psi,psi)\n",
      "trace = Tr(rho, b2bit)\n",
      "trace = rho.trace()\n",
      "Print(r'$\\psi=%s,\\;\\;\\;\\; \\rho=%s, \\;\\;\\;\\mathrm{Tr}(\\rho)=%s$'\n",
      "      %(fmt(psi), myltx(rho), myltx(trace)))"
     ],
     "language": "python",
     "metadata": {},
     "outputs": []
    },
    {
     "cell_type": "markdown",
     "metadata": {},
     "source": [
      "<h3>Maximally entangled states:</h3>\n",
      "<p>"
     ]
    },
    {
     "cell_type": "code",
     "collapsed": false,
     "input": [
      "bell_1 = 1/sqrt(2)*s00 + 1/sqrt(2)*s11 # phi+\n",
      "bell_2 = 1/sqrt(2)*s00 - 1/sqrt(2)*s11 # phi-\n",
      "bell_3 = 1/sqrt(2)*s01 + 1/sqrt(2)*s10 # psi+ (Triplet)\n",
      "bell_4 = 1/sqrt(2)*s01 - 1/sqrt(2)*s10 # psi- (Singlet)\n",
      "bell = [bell_1, bell_2, bell_3, bell_4]\n",
      "for psi in bell:\n",
      "    rho = OP(psi,psi)\n",
      "    trace = Tr(rho, b2bit)\n",
      "    trace = rho.trace()\n",
      "    Print(r'$\\psi=%s,\\;\\;\\;\\; \\rho=%s, \\;\\;\\;\\mathrm{Tr}(\\rho)=%s$'\n",
      "      %(fmt(psi), myltx(rho), myltx(trace)))"
     ],
     "language": "python",
     "metadata": {},
     "outputs": []
    },
    {
     "cell_type": "markdown",
     "metadata": {},
     "source": [
      "<hr size=3>\n",
      "<div style=\"Page-break-after: always;\"></div></code>\n",
      "<a name=2.4.2>\n",
      "<h3><a href=\"#top\">^</a> 2.4.2 Mixed-State Density Matrices</h3>\n",
      "<p>\n",
      "A mixed state can be viewed as a state chosen from a classical ensemble\n",
      "of states, consisting of states $\\{\\psi_i\\}$ for which you know the\n",
      "relative frequency of each state in the ensemble.\n",
      "<p>\n",
      "The density matrix for a mixed state is simply the weighted sum of the\n",
      "density matrices for the individual states:\n",
      "<p>\n",
      "$$\n",
      "(2.20) \\;\\; \\rho = \\sum_i p_i|\\psi_i\\rangle\\langle\\psi_i| \n",
      "$$\n",
      "where $p_i$ is the (classical) probability of drawing $\\psi_i$ from\n",
      "the ensemble.\n",
      "<p>\n",
      "For example, say you have a 50% chance of getting $|0\\rangle$ and a\n",
      "50% chance of getting $|1\\rangle$. Then we have:"
     ]
    },
    {
     "cell_type": "code",
     "collapsed": false,
     "input": [
      "rho = Rational(1,2)*OP(s0,s0) + Rational(1,2)*OP(s1,s1)\n",
      "string = r'$\\psi$ is either $|0\\rangle$ or $|1\\rangle,\\;\\;\\;'\n",
      "string += r'\\rho=%s,\\;\\;\\;'\n",
      "string += r'\\mathrm{Tr}(\\rho)=%s$'\n",
      "Print(string%(myltx(rho), myltx(rho.trace())))"
     ],
     "language": "python",
     "metadata": {},
     "outputs": []
    },
    {
     "cell_type": "markdown",
     "metadata": {},
     "source": [
      "Note the difference between this case and the one where you have a\n",
      "50/50 chance of getting zero or one based on an equal superposition:"
     ]
    },
    {
     "cell_type": "code",
     "collapsed": false,
     "input": [
      "psi = col(1/sqrt(2), 1/sqrt(2))\n",
      "rho = OP(psi,psi)\n",
      "Print(r'$\\psi=%s,\\;\\;\\; \\rho=%s, \\;\\;\\;\\mathrm{Tr}(\\rho)=%s$'\n",
      "      %(fmt(psi), myltx(rho), myltx(rho.trace())))"
     ],
     "language": "python",
     "metadata": {},
     "outputs": []
    },
    {
     "cell_type": "markdown",
     "metadata": {},
     "source": [
      "In both cases, we have 1/2 measurement proabilities for each result. But\n",
      "in the superposition case, we also have the off-diagonal \"interference\"\n",
      "terms."
     ]
    },
    {
     "cell_type": "markdown",
     "metadata": {},
     "source": [
      "<div style=\"Page-break-after: always;\"></div></code>\n",
      "<hr size=3>\n",
      "<a name=exp>\n",
      "<h3><a href=\"#top\">^</a> An Experiment</h3>\n",
      "<p>\n",
      "I want to find out if:\n",
      "$|a_1 b_1\\rangle \\langle a_2 b_2| \n",
      "= |a_1\\rangle \\langle a_2| \\otimes |b_1\\rangle \\langle b_2|$\n",
      "<p>"
     ]
    },
    {
     "cell_type": "code",
     "collapsed": false,
     "input": [
      "from sympy import Symbol as S\n",
      "a11 = S('a11'); a12 = S('a12'); a21 = S('a21'); a22 = S('a22')\n",
      "b11 = S('b11'); b12 = S('b12'); b21 = S('b21'); b22 = S('b22')\n",
      "a1 = col(a11,a12); a2 = col(a21,a22)\n",
      "b1 = col(b11,b12); b2 = col(b21,b22)"
     ],
     "language": "python",
     "metadata": {},
     "outputs": []
    },
    {
     "cell_type": "code",
     "collapsed": false,
     "input": [
      "M1 = TP(OP(a1,a2), OP(b1,b2))\n",
      "M1"
     ],
     "language": "python",
     "metadata": {},
     "outputs": []
    },
    {
     "cell_type": "code",
     "collapsed": false,
     "input": [
      "M2 = OP(TP(a1,b1), TP(a2,b2))\n",
      "M2"
     ],
     "language": "python",
     "metadata": {},
     "outputs": []
    },
    {
     "cell_type": "code",
     "collapsed": false,
     "input": [
      "M1 == M2"
     ],
     "language": "python",
     "metadata": {},
     "outputs": []
    },
    {
     "cell_type": "markdown",
     "metadata": {},
     "source": [
      "And if:\n",
      "$\\;\\;\\;\\;\\;\\mathrm{Tr}(|x\\rangle\\langle y|) = \\langle y|x\\rangle$\n",
      "<p>"
     ]
    },
    {
     "cell_type": "code",
     "collapsed": false,
     "input": [
      "x1 = S('x1'); x2 = S('x2'); y1 = S('y1'); y2 = S('y2')\n",
      "x = col(x1,x2); y = col(y1,y2)\n",
      "Pxy = OP(x,y)\n",
      "Print(r'$|x\\rangle\\langle y|=%s$' %myltx(Pxy))\n",
      "Print(r'$\\mathrm{Tr}(|x\\rangle\\langle y|) = %s$' %myltx(Pxy[0,0]+Pxy[1,1]))\n",
      "Print(r'$\\langle y | x \\rangle = %s %s = %s$'\n",
      "      %(myltx(y.adjoint()), myltx(x), myltx(IP(y,x))))"
     ],
     "language": "python",
     "metadata": {},
     "outputs": []
    },
    {
     "cell_type": "markdown",
     "metadata": {},
     "source": [
      "<div style=\"Page-break-after: always;\"></div></code>\n",
      "<hr size=3>\n",
      "<a name=reduced>\n",
      "<h3><a href=\"#top\">^</a> Reduced Density Matrix</h3>\n",
      "<p>\n",
      "(1) $\\rho_{AB} = \\rho_A \\otimes \\rho_B$. \n",
      "<p>\n",
      "$\\;\\;\\;\\;$ In other words:\n",
      "$|a_1 b_1\\rangle \\langle a_2 b_2| \n",
      "= |a_1\\rangle \\langle a_2| \\otimes |b_1\\rangle \\langle b_2|$\n",
      "<p>\n",
      "(2) The trace of an outer product equals the (reversed) inner product\n",
      "<p>\n",
      "$\\;\\;\\;\\;\\;\\mathrm{Tr}(|x\\rangle\\langle y|) = \\langle y|x\\rangle$\n",
      "<p>\n",
      "\n",
      "(3) The Partial Trace operation, where we \"trace out\" bit B is:\n",
      "<p>\n",
      "$\\;\\;\\;\\;\\;\\mathrm{Tr_B}(|a_1 b_1\\rangle\\langle a_2 b_2|)\n",
      "\\\\\\;\\;\\;\\;\\;\\;\\;\n",
      " = \\mathrm{Tr_B}(|a_1\\rangle\\langle a_2|\\otimes|b_1\\rangle\\langle b_2|)\n",
      "\\\\\\;\\;\\;\\;\\;\\;\\;\n",
      "= |a_1\\rangle\\langle a_2|\\mathrm{Tr_B}(|b_1\\rangle\\langle b_2|)\n",
      "\\\\\\;\\;\\;\\;\\;\\;\\;\n",
      "= |a_1\\rangle\\langle a_2|\\langle b_2|b_1\\rangle\n",
      "$\n",
      "<p>\n",
      "(4) The Reduced Density Matrix, $\\rho_A$ is the\n",
      "matrix where we have \"traced out\" bit B:\n",
      "<p>\n",
      "$\\;\\;\\;\\;\\;\\rho_A = \\mathrm{Tr_B}(\\rho_{AB})$"
     ]
    },
    {
     "cell_type": "code",
     "collapsed": false,
     "input": [
      "# This partial trace is specifically coded to trace out the \"B\"\n",
      "# system of a 4x4 density matrix: rho_AB. This is from page 46\n",
      "# of the power point (currently on my desktop / need to document!)\n",
      "def Tr_B(rho):\n",
      "    from sympy import Matrix\n",
      "    return(Matrix([\n",
      "        (rho[0,0]+rho[1,1], rho[0,2]+rho[1,3]),\n",
      "        (rho[2,0]+rho[3,1], rho[2,2]+rho[3,3])]))"
     ],
     "language": "python",
     "metadata": {},
     "outputs": []
    },
    {
     "cell_type": "code",
     "collapsed": false,
     "input": [
      "one = 1/sqrt(2)*s0 + 1/sqrt(2)*s1\n",
      "two = sqrt(3)/2*s0 + Rational(1,2)*s1\n",
      "state = TP(two, one)\n",
      "Print(r'State = $%s$' %fmt(state, which_ltx='sympy'))\n",
      "rho = OP(state, state)\n",
      "state, rho, Tr_B(rho)"
     ],
     "language": "python",
     "metadata": {},
     "outputs": []
    },
    {
     "cell_type": "code",
     "collapsed": false,
     "input": [
      "half = Rational(1,2)\n",
      "state = 1/sqrt(2)*s00 + half*s01 + half*s11\n",
      "Print(r'State = $%s$' %fmt(state, which_ltx='mine'))\n",
      "rho = OP(state, state)\n",
      "state, rho, Tr_B(rho)"
     ],
     "language": "python",
     "metadata": {},
     "outputs": []
    },
    {
     "cell_type": "markdown",
     "metadata": {},
     "source": [
      "<div style=\"Page-break-after: always;\"></div></code>\n",
      "<hr size=3>\n",
      "<a name=entropy>\n",
      "<h3><a href=\"#top\">^</a> Entropy</h3>\n",
      "<p>\n",
      "<font color=red>\n",
      "NOTE: I'm not sure about the description or the calculations\n",
      "here. I need to look at systems larger than 2 bits!\n",
      "</font>\n",
      "<p>\n",
      "The Entropy $S$ of of a system can be calculated by the following\n",
      "formula, where the $\\lambda$ are the eigenvalues of\n",
      "the system's density (or reduced density) matrix:\n",
      "<p>\n",
      "$\\;\\;\\;\\;S = - \\displaystyle\\sum_{n} \\lambda_n \\mathrm{log}(\\lambda_n) $\n",
      "<p>\n",
      "The entropy of any pure state will be 0. The maximum entropy\n",
      "(assuming you are taking the logs in base 2) will be \n",
      "<font color=red>???.</font>\n"
     ]
    },
    {
     "cell_type": "code",
     "collapsed": false,
     "input": [
      "#\n",
      "# Entropy function. Defaults to base 2.\n",
      "#\n",
      "def Entropy(rho, base=2, V=False):\n",
      "    from sympy import log\n",
      "    s = 0\n",
      "    if V: print('Using base %s'%base)\n",
      "    evals = rho.eigenvals()\n",
      "    for lambda_n, times in sorted(evals.items()):\n",
      "        if V: print('%s appears %s times'%(lambda_n, times))\n",
      "        for m in range(times):\n",
      "            if lambda_n == 0: pass # Define 0*log_2(0) to be zero\n",
      "            else: s += lambda_n * log(lambda_n, base)\n",
      "            if V: print('s=%s'%s)\n",
      "    return(-s)"
     ],
     "language": "python",
     "metadata": {},
     "outputs": []
    },
    {
     "cell_type": "markdown",
     "metadata": {},
     "source": [
      "<b>Example: A one bit pure state</b>"
     ]
    },
    {
     "cell_type": "code",
     "collapsed": false,
     "input": [
      "psi = 1/sqrt(2)*s0 + 1/sqrt(2)*s1\n",
      "rho = OP(psi,psi)\n",
      "S = Entropy(rho)\n",
      "Print(r'$\\rho = %s, \\;\\; S = %s$' %(latex(rho), latex(S)))"
     ],
     "language": "python",
     "metadata": {},
     "outputs": []
    },
    {
     "cell_type": "markdown",
     "metadata": {},
     "source": [
      "<b>Example: A one bit even mixture</b>"
     ]
    },
    {
     "cell_type": "code",
     "collapsed": false,
     "input": [
      "half = Rational(1,2)\n",
      "rho = half*OP(s0,s0) + half*OP(s1,s1)\n",
      "S = Entropy(rho)\n",
      "Print(r'$\\rho = %s, \\;\\; S = %s$' %(latex(rho), latex(S)))"
     ],
     "language": "python",
     "metadata": {},
     "outputs": []
    },
    {
     "cell_type": "markdown",
     "metadata": {},
     "source": [
      "<b>Example: A maximally entangled state</b>"
     ]
    },
    {
     "cell_type": "code",
     "collapsed": false,
     "input": [
      "Print(r'$\\psi = %s$'%fmt(bell_1))\n",
      "rho = OP(bell_1, bell_1)\n",
      "S = Entropy(rho)\n",
      "Print(r'$\\rho = %s, \\;\\; S = %s$' %(latex(rho), latex(S)))"
     ],
     "language": "python",
     "metadata": {},
     "outputs": []
    },
    {
     "cell_type": "markdown",
     "metadata": {},
     "source": [
      "<b>And the reduced density for the first bit</b>"
     ]
    },
    {
     "cell_type": "code",
     "collapsed": false,
     "input": [
      "rho_A = Tr_B(rho)\n",
      "S = Entropy(rho_A)\n",
      "Print(r'$\\rho_A = %s, \\;\\; S = %s$' %(latex(rho_A), latex(S)))"
     ],
     "language": "python",
     "metadata": {},
     "outputs": []
    },
    {
     "cell_type": "markdown",
     "metadata": {},
     "source": [
      "<b>Example: Reproduce Cugini page 13 classical mixture (base e)</b>"
     ]
    },
    {
     "cell_type": "code",
     "collapsed": false,
     "input": [
      "rho = mat(.5,0,0,0, 0,0,0,0, 0,0,0,0, 0,0,0,.5)\n",
      "S = Entropy(rho, base=E)\n",
      "Print(r'$\\rho = %s, \\;\\; S = %s$' %(latex(rho), float(S)))"
     ],
     "language": "python",
     "metadata": {},
     "outputs": []
    },
    {
     "cell_type": "markdown",
     "metadata": {},
     "source": [
      "<b>Example: A non-maximally entangled state</b>"
     ]
    },
    {
     "cell_type": "code",
     "collapsed": false,
     "input": [
      "r3 = 1/sqrt(3)\n",
      "psi = r3*s00 + r3*s01 + r3*s10\n",
      "Print(r'$\\psi = %s$'%fmt(psi))\n",
      "rho = OP(psi,psi)\n",
      "S = Entropy(rho)\n",
      "Print(r'$\\rho = %s, \\;\\; S = %s$' %(latex(rho), latex(S)))\n",
      "# Then do the reduced density for bit one\n",
      "rho_A = Tr_B(rho)\n",
      "S = Entropy(rho_A)\n",
      "Print(r'$\\rho_A = %s, \\;\\; S = %s$' %(latex(rho_A), float(S)))\n",
      "S = Entropy(rho_A, base=E)\n",
      "Print(r'Using natrual log: $S = %s$' %(float(S)))"
     ],
     "language": "python",
     "metadata": {},
     "outputs": []
    },
    {
     "cell_type": "markdown",
     "metadata": {},
     "source": [
      "Example:\n",
      "<p>\n",
      "1/2 | 00 > + 1/2 | 01 > + 1/2 | 10 > - 1/2 | 11 >\n",
      "  (Note the minus on the last term!)\n",
      "<p>\n",
      "<font color=red>\n",
      "I'm not sure what this tells me.\n",
      "</font>"
     ]
    },
    {
     "cell_type": "code",
     "collapsed": false,
     "input": [
      "psi = half*s00 + half*s01 + half*s10 - half*s11\n",
      "Print(r'$\\psi = %s$'%fmt(psi))\n",
      "rho = OP(psi,psi)\n",
      "S = Entropy(rho)\n",
      "Print(r'$\\rho = %s, \\;\\; S = %s$' %(latex(rho), latex(S)))\n",
      "# Then do the reduced density for bit one\n",
      "rho_A = Tr_B(rho)\n",
      "S = Entropy(rho_A)\n",
      "Print(r'$\\rho_A = %s, \\;\\; S = %s$' %(latex(rho_A), float(S)))\n",
      "S = Entropy(rho_A, base=E)\n",
      "Print(r'Using natrual log: $S = %s$' %(float(S)))"
     ],
     "language": "python",
     "metadata": {},
     "outputs": []
    },
    {
     "cell_type": "markdown",
     "metadata": {},
     "source": [
      "<div style=\"Page-break-after: always;\"></div></code>\n",
      "<hr size=3>\n",
      "<a name=sympy>\n",
      "<h3><a href=\"#top\">^</a> Sympy quantum code</h3>\n",
      "<p>\n",
      "The quantum code appears to be broken, at least in the rev I've got."
     ]
    },
    {
     "cell_type": "code",
     "collapsed": false,
     "input": [
      "from sympy.physics.quantum import *\n",
      "from sympy.physics.quantum.density import *\n",
      "psi = Ket('psi')\n",
      "phi = Ket('phi')\n",
      "psi, phi\n",
      "Density((psi,0.5),(phi,0.5))"
     ],
     "language": "python",
     "metadata": {},
     "outputs": []
    },
    {
     "cell_type": "code",
     "collapsed": false,
     "input": [],
     "language": "python",
     "metadata": {},
     "outputs": []
    }
   ],
   "metadata": {}
  }
 ]
}