{
 "metadata": {
  "name": "",
  "signature": "sha256:67ade7dc366a047cc799d299adcc7431d425e65d44a4a179a0ea11763bde1578"
 },
 "nbformat": 3,
 "nbformat_minor": 0,
 "worksheets": [
  {
   "cells": [
    {
     "cell_type": "markdown",
     "metadata": {},
     "source": [
      "<a name=top></a>\n",
      "<center>\n",
      "<h2>This notebook is for testing code in sglib.py</h2>\n",
      "</center>\n",
      "<p>\n",
      "I <i>may</i> end up also using it for documenting sglib functions.\n",
      "<p>"
     ]
    },
    {
     "cell_type": "markdown",
     "metadata": {},
     "source": [
      "<h2>Contents</h2>\n",
      "<ul>\n",
      "<li> <a href=\"#setup\">Setup Cell</a>\n",
      "<li> <a href=\"#string_tensor\">Test of string_tensor()</a>\n",
      "<li> <a href=\"#format_state\">Test of sg_format_state()</a>\n",
      "</ul>"
     ]
    },
    {
     "cell_type": "markdown",
     "metadata": {},
     "source": [
      "<hr size=3>\n",
      "<a name=setup></a>\n",
      "<h2><a href=\"#top\">^</a> Setup Cell</h2>"
     ]
    },
    {
     "cell_type": "code",
     "collapsed": false,
     "input": [
      "%autosave 0\n",
      "%matplotlib inline\n",
      "from sglib import *\n",
      "from sympy.physics.quantum.qubit import matrix_to_qubit"
     ],
     "language": "python",
     "metadata": {},
     "outputs": [
      {
       "javascript": [
        "IPython.notebook.set_autosave_interval(0)"
       ],
       "metadata": {},
       "output_type": "display_data"
      },
      {
       "output_type": "stream",
       "stream": "stdout",
       "text": [
        "Autosave disabled\n"
       ]
      }
     ],
     "prompt_number": 23
    },
    {
     "cell_type": "code",
     "collapsed": false,
     "input": [
      "#\n",
      "# The Bell States\n",
      "#\n",
      "\n",
      "bell_1 = 1/sqrt(2)*TP(pZ,pZ) + 1/sqrt(2)*TP(mZ,mZ) # phi+\n",
      "bell_2 = 1/sqrt(2)*TP(pZ,pZ) - 1/sqrt(2)*TP(mZ,mZ) # phi-\n",
      "bell_3 = 1/sqrt(2)*TP(pZ,mZ) + 1/sqrt(2)*TP(mZ,pZ) # psi+ (Triplet)\n",
      "bell_4 = 1/sqrt(2)*TP(pZ,mZ) - 1/sqrt(2)*TP(mZ,pZ) # psi- (Singlet)\n",
      "\n",
      "Print(r'$\\phi^+ = %s$' %latex(matrix_to_qubit(bell_1)))\n",
      "Print(r'$\\phi^- = %s$' %latex(matrix_to_qubit(bell_2)))\n",
      "Print(r'$\\psi^+ = %s$' %latex(matrix_to_qubit(bell_3)))\n",
      "Print(r'$\\psi^- = %s$' %latex(matrix_to_qubit(bell_4)))"
     ],
     "language": "python",
     "metadata": {},
     "outputs": [
      {
       "html": [
        "<font size=4>$\\phi^+ = \\frac{\\sqrt{2}}{2} {\\left|00\\right\\rangle } + \\frac{\\sqrt{2}}{2} {\\left|11\\right\\rangle }$</font>"
       ],
       "metadata": {},
       "output_type": "display_data",
       "text": [
        "<IPython.core.display.HTML object>"
       ]
      },
      {
       "html": [
        "<font size=4>$\\phi^- = \\frac{\\sqrt{2}}{2} {\\left|00\\right\\rangle } - \\frac{\\sqrt{2}}{2} {\\left|11\\right\\rangle }$</font>"
       ],
       "metadata": {},
       "output_type": "display_data",
       "text": [
        "<IPython.core.display.HTML object>"
       ]
      },
      {
       "html": [
        "<font size=4>$\\psi^+ = \\frac{\\sqrt{2}}{2} {\\left|01\\right\\rangle } + \\frac{\\sqrt{2}}{2} {\\left|10\\right\\rangle }$</font>"
       ],
       "metadata": {},
       "output_type": "display_data",
       "text": [
        "<IPython.core.display.HTML object>"
       ]
      },
      {
       "html": [
        "<font size=4>$\\psi^- = \\frac{\\sqrt{2}}{2} {\\left|01\\right\\rangle } - \\frac{\\sqrt{2}}{2} {\\left|10\\right\\rangle }$</font>"
       ],
       "metadata": {},
       "output_type": "display_data",
       "text": [
        "<IPython.core.display.HTML object>"
       ]
      }
     ],
     "prompt_number": 24
    },
    {
     "cell_type": "markdown",
     "metadata": {},
     "source": [
      "<hr size=3>\n",
      "<a name=string_tensor></a>\n",
      "<h2><a href=\"#top\">^</a> Test of string_tensor()</h2>\n",
      "<p>"
     ]
    },
    {
     "cell_type": "code",
     "collapsed": false,
     "input": [
      "import sglib\n",
      "reload(sglib)\n",
      "from sglib import *\n",
      "\n",
      "string_tensor(2, ['0','1'], separator=',', D=False)"
     ],
     "language": "python",
     "metadata": {},
     "outputs": [
      {
       "metadata": {},
       "output_type": "pyout",
       "prompt_number": 66,
       "text": [
        "['0,0', '0,1', '1,0', '1,1']"
       ]
      }
     ],
     "prompt_number": 66
    },
    {
     "cell_type": "markdown",
     "metadata": {},
     "source": [
      "<hr size=3>\n",
      "<a name=format_state></a>\n",
      "<h2><a href=\"#top\">^</a> Test of sg_format_state()</h2>\n",
      "<p>"
     ]
    },
    {
     "cell_type": "code",
     "collapsed": false,
     "input": [
      "import sglib\n",
      "reload(sglib)\n",
      "from sglib import *\n",
      "\n",
      "fs = sg_format_state(basis=['0', '1'], separator='').format\n",
      "fs = sg_format_state(basis=['+z', '-z'], separator='').format\n",
      "fs = sg_format_state(basis=['Heads', 'Tails'], separator='').format\n",
      "psi = 1/sqrt(2)*col(1,0)+1/sqrt(2)*col(0,1)\n",
      "Print('$\\psi=%s$'%fs(psi))"
     ],
     "language": "python",
     "metadata": {},
     "outputs": [
      {
       "html": [
        "<font size=4>$\\psi=\\frac{1}{\\sqrt{2}}|Heads\\rangle+\\frac{1}{\\sqrt{2}}|Tails\\rangle$</font>"
       ],
       "metadata": {},
       "output_type": "display_data",
       "text": [
        "<IPython.core.display.HTML object>"
       ]
      }
     ],
     "prompt_number": 75
    },
    {
     "cell_type": "code",
     "collapsed": false,
     "input": [
      "# pick a format:\n",
      "fs = sg_format_state(basis=['+z', '-z'], separator=',').format\n",
      "fs = sg_format_state(basis=['0', '1'], separator='').format\n",
      "Print('Bell$_1 = %s$' %(fs(bell_1)))\n",
      "Print('Bell$_2 = %s$' %(fs(bell_2)))\n",
      "Print('Bell$_3 = %s$' %(fs(bell_3)))\n",
      "Print('Bell$_4 = %s$' %(fs(bell_4)))"
     ],
     "language": "python",
     "metadata": {},
     "outputs": [
      {
       "html": [
        "<font size=4>Bell$_1 = \\frac{1}{\\sqrt{2}}|00\\rangle+\\frac{1}{\\sqrt{2}}|11\\rangle$</font>"
       ],
       "metadata": {},
       "output_type": "display_data",
       "text": [
        "<IPython.core.display.HTML object>"
       ]
      },
      {
       "html": [
        "<font size=4>Bell$_2 = \\frac{1}{\\sqrt{2}}|00\\rangle-\\frac{1}{\\sqrt{2}}|11\\rangle$</font>"
       ],
       "metadata": {},
       "output_type": "display_data",
       "text": [
        "<IPython.core.display.HTML object>"
       ]
      },
      {
       "html": [
        "<font size=4>Bell$_3 = \\frac{1}{\\sqrt{2}}|01\\rangle+\\frac{1}{\\sqrt{2}}|10\\rangle$</font>"
       ],
       "metadata": {},
       "output_type": "display_data",
       "text": [
        "<IPython.core.display.HTML object>"
       ]
      },
      {
       "html": [
        "<font size=4>Bell$_4 = \\frac{1}{\\sqrt{2}}|01\\rangle-\\frac{1}{\\sqrt{2}}|10\\rangle$</font>"
       ],
       "metadata": {},
       "output_type": "display_data",
       "text": [
        "<IPython.core.display.HTML object>"
       ]
      }
     ],
     "prompt_number": 78
    },
    {
     "cell_type": "code",
     "collapsed": false,
     "input": [],
     "language": "python",
     "metadata": {},
     "outputs": []
    }
   ],
   "metadata": {}
  }
 ]
}