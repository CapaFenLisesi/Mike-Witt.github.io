{
 "metadata": {
  "name": "",
  "signature": "sha256:aa6943dd75d967c2f5960ba7f0ba085acb20a0f8c4b8b3b94c0cd34ab350c99f"
 },
 "nbformat": 3,
 "nbformat_minor": 0,
 "worksheets": [
  {
   "cells": [
    {
     "cell_type": "markdown",
     "metadata": {},
     "source": [
      "<center>\n",
      "<h2>The Inverse Quantum Zeno Effect</h2>\n",
      "</center>\n",
      "<p>\n",
      "I <i>think</i> I've got a comparison between the probabilities using\n",
      "the Zeno effect and the probabilities you'd get by just alternating\n",
      "Z and X measurements."
     ]
    },
    {
     "cell_type": "code",
     "collapsed": false,
     "input": [
      "%autosave 0\n",
      "%pylab inline\n",
      "\n",
      "def zeno(max_n_meas, V=False):\n",
      "    # Hard coded for: Have +z, Want +x\n",
      "    N = linspace(1, max_n_meas, max_n_meas)\n",
      "    M = range(1, max_n_meas+1, 2)\n",
      "    initial_angle = pi/2\n",
      "    p_zeno = []; p_alt = []\n",
      "    for n_meas in range(1, max_n_meas+1):\n",
      "        theta = initial_angle / n_meas\n",
      "        P = (cos(theta/2)**2)**n_meas\n",
      "        p_zeno += [ P, ]\n",
      "        if V: print('n meas: %s , Zeno: %2.0f%%' %(n_meas, P*100)),\n",
      "        if mod(n_meas, 2)!=0:\n",
      "            m = (n_meas+1)/2\n",
      "            P2 = 1 - 1.0/2.0**m\n",
      "            p_alt += [ P2, ]\n",
      "            if V: print(', Alt: %2.0f%%' %(P2*100)),\n",
      "        if V: print\n",
      "    plot(N, p_zeno, color='black', marker='o', \n",
      "         markersize=4, linestyle='-', linewidth=.5)\n",
      "    plot(M, p_alt, color='green', marker='o', \n",
      "         markersize=4, linestyle='-', linewidth=.5)"
     ],
     "language": "python",
     "metadata": {},
     "outputs": [
      {
       "javascript": [
        "IPython.notebook.set_autosave_interval(0)"
       ],
       "metadata": {},
       "output_type": "display_data"
      },
      {
       "output_type": "stream",
       "stream": "stdout",
       "text": [
        "Autosave disabled\n",
        "Populating the interactive namespace from numpy and matplotlib"
       ]
      },
      {
       "output_type": "stream",
       "stream": "stdout",
       "text": [
        "\n"
       ]
      }
     ],
     "prompt_number": 1
    },
    {
     "cell_type": "code",
     "collapsed": false,
     "input": [
      "zeno(15, V=False)"
     ],
     "language": "python",
     "metadata": {},
     "outputs": [
      {
       "metadata": {},
       "output_type": "display_data",
       "png": "[encoded data removed]",
       "text": [
        "<matplotlib.figure.Figure at 0x9e87a2c>"
       ]
      }
     ],
     "prompt_number": 2
    },
    {
     "cell_type": "code",
     "collapsed": false,
     "input": [],
     "language": "python",
     "metadata": {},
     "outputs": []
    }
   ],
   "metadata": {}
  }
 ]
}