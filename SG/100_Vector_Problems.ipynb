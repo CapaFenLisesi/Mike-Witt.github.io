{
 "metadata": {
  "name": ""
 },
 "nbformat": 3,
 "nbformat_minor": 0,
 "worksheets": [
  {
   "cells": [
    {
     "cell_type": "markdown",
     "metadata": {},
     "source": [
      "<style type=\"text/css\">\n",
      "    p {font-size: 12pt}\n",
      "    b {font-size: 12pt; font-weight: bold;}\n",
      "    i {font-size: 12pt; font-style: italic;}\n",
      "    ul.x {font-size: 12pt; padding: 0 0 0 0;}\n",
      "    ul.x li {margin-bottom: 5pt; }\n",
      "    ol {font-size: 12pt; margin-bottom: 3pt; list-style-type: decimal !important;}\n",
      "    ol.x {padding: 0 0 0 0; font-size: 12pt; list-style-type: decimal !important;}\n",
      "    ol.x li {margin-bottom: 5pt; }\n",
      "    .in {padding-left: 50pt;}\n",
      "    .din {padding-left: 75pt;}\n",
      "    .sp {padding-left: 50pt;}\n",
      "    .f12 {font-size: 12pt;}\n",
      "</style>"
     ]
    },
    {
     "cell_type": "markdown",
     "metadata": {},
     "source": [
      "<center>\n",
      "    <h2>Sunday Group - Vector Problems</h2>  \n",
      "</center>\n",
      "<p>\n",
      "    <h2>Instructions</h2>\n",
      "    <ol class=x>\n",
      "        <li><font color=red>\n",
      "            Do shift-return in the \"Setup\" cell, so that the library will be imported\n",
      "            </font></li>\n",
      "        <li>Read the \"additional notes\" at the bottom, if you haven't done that already</li>\n",
      "        <li>Do shift-return in the \"Problem\" cell to generate a problem</li>\n",
      "        <li>Put your answer in the \"Answer\" cell (after the \"=\" sign)</li>\n",
      "        <li>Shift-return in that cell to check it</li>  \n",
      "    </ol>\n",
      "</p>"
     ]
    },
    {
     "cell_type": "markdown",
     "metadata": {},
     "source": [
      "<h2>Setup Cell</h2>\n"
     ]
    },
    {
     "cell_type": "code",
     "collapsed": false,
     "input": [
      "import sglib\n",
      "reload(sglib)\n",
      "from sglib import *"
     ],
     "language": "python",
     "metadata": {},
     "outputs": []
    },
    {
     "cell_type": "markdown",
     "metadata": {},
     "source": [
      "<h2>Problem Cell</h2>\n"
     ]
    },
    {
     "cell_type": "code",
     "collapsed": false,
     "input": [
      "prob = vector_problem(max_dim=3, max_int=5)\n",
      "prob.new()"
     ],
     "language": "python",
     "metadata": {},
     "outputs": []
    },
    {
     "cell_type": "markdown",
     "metadata": {},
     "source": [
      "<h2>Answer Cell</h2>\n"
     ]
    },
    {
     "cell_type": "code",
     "collapsed": false,
     "input": [
      "answer = row(-4,0)\n",
      "prob.check(answer)"
     ],
     "language": "python",
     "metadata": {},
     "outputs": []
    },
    {
     "cell_type": "markdown",
     "metadata": {},
     "source": [
      "<h2>Additional Notes</h2>\n",
      "<p>\n",
      "<ul class=x>\n",
      "    <li> You have to click on a cell, to \"position\" yourself inside it.\n",
      "        <br>Click where the computer code appears, not on the \"name\" of the cell above it.</li>\n",
      "    <li> \"Shift return\" (pressing the shift and return keys together) activates a cell.\n",
      "        <br>Your keyboard might say \"Enter\" instead of \"Return.\"</li>\n",
      "    <li> Enter a column vector by saying: <code>col(x,y,z)</code>\n",
      "        <br>Note that you need the commas, which we <i>don't</i> use on the whiteboard.</li>\n",
      "    <li> Enter a row vector as: <code>row(x,y,z)</code></li>\n",
      "    <li>To enter a square root, use the \"sqrt\" function.\n",
      "        Example: to enter: $\\sqrt{10}$, type: <code>sqrt(10)</code>.</li>\n",
      "    <li>To multiply, use an asterisk.\n",
      "        Example: For $2\\sqrt{5}$, type: <code>2&#42;sqrt(5)</code></li>\n",
      "    <li>If you were asked to normalize $[1\\;\\; 1]$ you could type the\n",
      "        answer as <code>1/sqrt(2)&#42;row(1,1)</code>.\n",
      "        <br>Either <code>row(1,1)/sqrt(2)</code> or <code>row(1/sqrt(2),1/sqrt(2))</code>\n",
      "        would also work.</li>\n",
      "</ul>\n",
      "</p>\n",
      "        \n",
      "        "
     ]
    }
   ],
   "metadata": {}
  }
 ]
}