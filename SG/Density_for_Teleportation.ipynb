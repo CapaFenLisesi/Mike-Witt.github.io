{
 "metadata": {
  "name": "",
  "signature": "sha256:62015b38b393dc8927b585fdfb9856fbdb23a6b86dfe0d21d6c64c6e3766e933"
 },
 "nbformat": 3,
 "nbformat_minor": 0,
 "worksheets": [
  {
   "cells": [
    {
     "cell_type": "markdown",
     "metadata": {},
     "source": [
      "<a name=top></a>\n",
      "<center>\n",
      "<h2>Density matrices for teleportation states</h2>\n",
      "</center>\n",
      "<p>"
     ]
    },
    {
     "cell_type": "markdown",
     "metadata": {},
     "source": [
      "<a name=contents></a>\n",
      "<h2>Contents</h2>\n",
      "<ol>\n",
      "    <li> <a href=\"#prelim\">Imports, Subroutines, and other Preliminaries</a></li>\n",
      "    <li> <a href=\"#alg0\">The Actual Algorithm</a></li>\n",
      "</ol>"
     ]
    },
    {
     "cell_type": "markdown",
     "metadata": {},
     "source": [
      "<h2>Status</h2>\n",
      "<ul>\n",
      "<li> ...\n",
      "</ul>\n",
      "\n",
      "<h2>Things to do</h2>\n",
      "<ul>\n",
      "<li> ...\n",
      "</ul>"
     ]
    },
    {
     "cell_type": "markdown",
     "metadata": {},
     "source": [
      "<div style=\"Page-break-after: always;\"></div></code>\n",
      "<a name=prelim>\n",
      "<h2><a href=\"#top\">^</a> Preliminaries</h2>"
     ]
    },
    {
     "cell_type": "code",
     "collapsed": false,
     "input": [
      "%autosave 0\n",
      "%matplotlib inline\n",
      "from sglib import *\n",
      "set_font_size(3)\n",
      "from sympy.physics.quantum.qubit import matrix_to_qubit\n",
      "from sympy.physics.quantum.qubit import qubit_to_matrix, Qubit\n",
      "def mtq(bits):\n",
      "    return(latex(matrix_to_qubit(bits).simplify()))"
     ],
     "language": "python",
     "metadata": {},
     "outputs": [
      {
       "javascript": [
        "IPython.notebook.set_autosave_interval(0)"
       ],
       "metadata": {},
       "output_type": "display_data"
      },
      {
       "output_type": "stream",
       "stream": "stdout",
       "text": [
        "Autosave disabled\n"
       ]
      }
     ],
     "prompt_number": 1
    },
    {
     "cell_type": "code",
     "collapsed": false,
     "input": [
      "# Define the single bit Identity, Not, and Hadamard Operators\n",
      "I = Matrix([[1,0],[0,1]])\n",
      "X = Matrix([[0,1],[1,0]])\n",
      "Z = Matrix([[1,0],[0,-1]])\n",
      "H = 1/sqrt(2)*Matrix([[1,1],[1,-1]])\n",
      "\n",
      "# Define the 2bit CNOT, which I just call \"C2\"\n",
      "C2 = Matrix([[1,0,0,0],[0,1,0,0],[0,0,0,1],[0,0,1,0]])\n",
      "\n",
      "# C3 is a three bit operator that actually does a CNOT\n",
      "# on the first two bits, and leaves the third bit alone\n",
      "C3 = TP(C2,I)\n",
      "\n",
      "# H3 is a three bit operator that actually does a Hadamard\n",
      "# on the first bit only, leaving the other two bits alone.\n",
      "H3 = TP(TP(H,I),I)\n",
      "\n",
      "# Take a look at them all\n",
      "Print('C2 = $%s$'%myltx(C2), font_size=2)\n",
      "print\n",
      "Print('C3 = $%s$'%myltx(C3), font_size=2)\n",
      "print\n",
      "Print('H3 = $%s$'%myltx(H3), font_size=2)"
     ],
     "language": "python",
     "metadata": {},
     "outputs": [
      {
       "html": [
        "<font size=2>C2 = $\\left[\\begin{matrix}1 & 0 & 0 & 0\\\\0 & 1 & 0 & 0\\\\0 & 0 & 0 & 1\\\\0 & 0 & 1 & 0\\end{matrix}\\right]$</font>"
       ],
       "metadata": {},
       "output_type": "display_data",
       "text": [
        "<IPython.core.display.HTML at 0xc15bfcc>"
       ]
      },
      {
       "output_type": "stream",
       "stream": "stdout",
       "text": [
        "\n"
       ]
      },
      {
       "html": [
        "<font size=2>C3 = $\\left[\\begin{matrix}1 & 0 & 0 & 0 & 0 & 0 & 0 & 0\\\\0 & 1 & 0 & 0 & 0 & 0 & 0 & 0\\\\0 & 0 & 1 & 0 & 0 & 0 & 0 & 0\\\\0 & 0 & 0 & 1 & 0 & 0 & 0 & 0\\\\0 & 0 & 0 & 0 & 0 & 0 & 1 & 0\\\\0 & 0 & 0 & 0 & 0 & 0 & 0 & 1\\\\0 & 0 & 0 & 0 & 1 & 0 & 0 & 0\\\\0 & 0 & 0 & 0 & 0 & 1 & 0 & 0\\end{matrix}\\right]$</font>"
       ],
       "metadata": {},
       "output_type": "display_data",
       "text": [
        "<IPython.core.display.HTML at 0xc07c40c>"
       ]
      },
      {
       "output_type": "stream",
       "stream": "stdout",
       "text": [
        "\n"
       ]
      },
      {
       "html": [
        "<font size=2>H3 = $\\frac{1}{\\sqrt{2}}\\left[\\begin{matrix}1 & 0 & 0 & 0 & 1 & 0 & 0 & 0\\\\0 & 1 & 0 & 0 & 0 & 1 & 0 & 0\\\\0 & 0 & 1 & 0 & 0 & 0 & 1 & 0\\\\0 & 0 & 0 & 1 & 0 & 0 & 0 & 1\\\\1 & 0 & 0 & 0 & -1 & 0 & 0 & 0\\\\0 & 1 & 0 & 0 & 0 & -1 & 0 & 0\\\\0 & 0 & 1 & 0 & 0 & 0 & -1 & 0\\\\0 & 0 & 0 & 1 & 0 & 0 & 0 & -1\\end{matrix}\\right]$</font>"
       ],
       "metadata": {},
       "output_type": "display_data",
       "text": [
        "<IPython.core.display.HTML at 0xa47cfcc>"
       ]
      }
     ],
     "prompt_number": 2
    },
    {
     "cell_type": "code",
     "collapsed": false,
     "input": [
      "# In general, I haven't figured out how you're actually supposed to\n",
      "# do operations on Sympy \"Qubits\" so I'm keeping my state in Vectors\n",
      "# (which are actually Sympy one-column matrices). Then I can represent\n",
      "# the operations as matrices and just do normal matrix multiplication\n",
      "# to do the operations.\n",
      "\n",
      "# So here is a classical zero (q0) and one (q1)\n",
      "q0 = Matrix([[1],[0]]); q1 = Matrix([[0],[1]])"
     ],
     "language": "python",
     "metadata": {},
     "outputs": [],
     "prompt_number": 3
    },
    {
     "cell_type": "markdown",
     "metadata": {},
     "source": [
      "<a name=alg0>\n",
      "<h2><a href=\"#top\">^</a> The Algorithm</h2>\n",
      "<ol>\n",
      "    <li>Alice has a bit to transmit and Alice and Bob have an\n",
      "        entangled pair.\n",
      "    <br>Bit 1 is the state to be transmitted, bits 2 and 3 are Alice and Bob's entangled bits.\n",
      "    <li>Alice does a CNOT on her two bits</li>\n",
      "    <li>Alice does a Hadamard on the bit to be transmitted</li>\n",
      "    <li>Alice measures her two bits in the classical basis</li>\n",
      "    <li>Bob uses the classical measurement to operate on his bit</li>\n",
      "</ol>"
     ]
    },
    {
     "cell_type": "code",
     "collapsed": false,
     "input": [
      "# Set up the three intitial qubits. Right now I just start\n",
      "# off with Alice and Bob's pair already entangled.\n",
      "q00=TP(q0,q0); q01=TP(q0,q1); q10=TP(q1,q0); q11=TP(q1,q1)\n",
      "a=sy.Symbol('alpha'); b=sy.Symbol('beta')\n",
      "bit1=a*q0+b*q1\n",
      "Print('Step 1')\n",
      "Print('The bit Alice wants to transmit: $%s$'%mtq(bit1))\n",
      "bits2and3 = 1/sqrt(2)*(q00 + q11)\n",
      "Print('The bits Alice and Bob share: $%s$'%mtq(bits2and3))\n",
      "bits_t0 = TP(bit1,bits2and3)\n",
      "Print('All three bits: $%s$'%mtq(bits_t0))"
     ],
     "language": "python",
     "metadata": {},
     "outputs": [
      {
       "html": [
        "<font size=4>Step 1</font>"
       ],
       "metadata": {},
       "output_type": "display_data",
       "text": [
        "<IPython.core.display.HTML at 0xc15b1ec>"
       ]
      },
      {
       "html": [
        "<font size=4>The bit Alice wants to transmit: $\\alpha {\\left|0\\right\\rangle } + \\beta {\\left|1\\right\\rangle }$</font>"
       ],
       "metadata": {},
       "output_type": "display_data",
       "text": [
        "<IPython.core.display.HTML at 0xc1619ac>"
       ]
      },
      {
       "html": [
        "<font size=4>The bits Alice and Bob share: $\\frac{\\sqrt{2}}{2} \\left({\\left|00\\right\\rangle } + {\\left|11\\right\\rangle }\\right)$</font>"
       ],
       "metadata": {},
       "output_type": "display_data",
       "text": [
        "<IPython.core.display.HTML at 0xc1bac2c>"
       ]
      },
      {
       "html": [
        "<font size=4>All three bits: $\\frac{\\sqrt{2}}{2} \\left(\\alpha {\\left|000\\right\\rangle } + \\alpha {\\left|011\\right\\rangle } + \\beta {\\left|100\\right\\rangle } + \\beta {\\left|111\\right\\rangle }\\right)$</font>"
       ],
       "metadata": {},
       "output_type": "display_data",
       "text": [
        "<IPython.core.display.HTML at 0xc1ceb6c>"
       ]
      }
     ],
     "prompt_number": 4
    },
    {
     "cell_type": "code",
     "collapsed": false,
     "input": [
      "Print('The density matrix of Alices independent bit')\n",
      "rho = OP(bit1,bit1)\n",
      "Print(r'$%s$' %latex(rho))\n",
      "Print(r\"We don't know what $\\alpha$ and $\\beta$ are, but we know that\")\n",
      "Print(r'this is a pure state with zero entropy.')"
     ],
     "language": "python",
     "metadata": {},
     "outputs": [
      {
       "html": [
        "<font size=4>The density matrix of Alices independent bit</font>"
       ],
       "metadata": {},
       "output_type": "display_data",
       "text": [
        "<IPython.core.display.HTML at 0xc157eac>"
       ]
      },
      {
       "html": [
        "<font size=4>$\\left[\\begin{matrix}\\alpha \\overline{\\alpha} & \\alpha \\overline{\\beta}\\\\\\beta \\overline{\\alpha} & \\beta \\overline{\\beta}\\end{matrix}\\right]$</font>"
       ],
       "metadata": {},
       "output_type": "display_data",
       "text": [
        "<IPython.core.display.HTML at 0xbff460c>"
       ]
      },
      {
       "html": [
        "<font size=4>We don't know what $\\alpha$ and $\\beta$ are, but we know that</font>"
       ],
       "metadata": {},
       "output_type": "display_data",
       "text": [
        "<IPython.core.display.HTML at 0xa8dfccc>"
       ]
      },
      {
       "html": [
        "<font size=4>this is a pure state with zero entropy.</font>"
       ],
       "metadata": {},
       "output_type": "display_data",
       "text": [
        "<IPython.core.display.HTML at 0xa8dfcac>"
       ]
      }
     ],
     "prompt_number": 5
    },
    {
     "cell_type": "code",
     "collapsed": false,
     "input": [
      "Print('The density matrix of the joint state')\n",
      "rho = OP(bits_t0,bits_t0)\n",
      "Print(r'$%s$' %latex(rho))\n",
      "Print('Trace out Alices unentangled bit')\n",
      "rho_joint = matrix_as_outer_product(rho)\n",
      "rho_joint.partial_trace(0)\n",
      "Print(r'$%s$' %latex(rho_joint.M))"
     ],
     "language": "python",
     "metadata": {},
     "outputs": [
      {
       "html": [
        "<font size=4>The density matrix of the joint state</font>"
       ],
       "metadata": {},
       "output_type": "display_data",
       "text": [
        "<IPython.core.display.HTML at 0xc1636cc>"
       ]
      },
      {
       "html": [
        "<font size=4>$\\left[\\begin{matrix}\\frac{\\alpha \\overline{\\alpha}}{2} & 0 & 0 & \\frac{\\alpha \\overline{\\alpha}}{2} & \\frac{\\alpha \\overline{\\beta}}{2} & 0 & 0 & \\frac{\\alpha \\overline{\\beta}}{2}\\\\0 & 0 & 0 & 0 & 0 & 0 & 0 & 0\\\\0 & 0 & 0 & 0 & 0 & 0 & 0 & 0\\\\\\frac{\\alpha \\overline{\\alpha}}{2} & 0 & 0 & \\frac{\\alpha \\overline{\\alpha}}{2} & \\frac{\\alpha \\overline{\\beta}}{2} & 0 & 0 & \\frac{\\alpha \\overline{\\beta}}{2}\\\\\\frac{\\beta \\overline{\\alpha}}{2} & 0 & 0 & \\frac{\\beta \\overline{\\alpha}}{2} & \\frac{\\beta \\overline{\\beta}}{2} & 0 & 0 & \\frac{\\beta \\overline{\\beta}}{2}\\\\0 & 0 & 0 & 0 & 0 & 0 & 0 & 0\\\\0 & 0 & 0 & 0 & 0 & 0 & 0 & 0\\\\\\frac{\\beta \\overline{\\alpha}}{2} & 0 & 0 & \\frac{\\beta \\overline{\\alpha}}{2} & \\frac{\\beta \\overline{\\beta}}{2} & 0 & 0 & \\frac{\\beta \\overline{\\beta}}{2}\\end{matrix}\\right]$</font>"
       ],
       "metadata": {},
       "output_type": "display_data",
       "text": [
        "<IPython.core.display.HTML at 0xc1ccd8c>"
       ]
      },
      {
       "html": [
        "<font size=4>Trace out Alices unentangled bit</font>"
       ],
       "metadata": {},
       "output_type": "display_data",
       "text": [
        "<IPython.core.display.HTML at 0xa8dfd4c>"
       ]
      },
      {
       "html": [
        "<font size=4>$\\left[\\begin{matrix}\\frac{\\alpha \\overline{\\alpha}}{2} + \\frac{\\beta \\overline{\\beta}}{2} & 0 & 0 & \\frac{\\alpha \\overline{\\alpha}}{2} + \\frac{\\beta \\overline{\\beta}}{2}\\\\0 & 0 & 0 & 0\\\\0 & 0 & 0 & 0\\\\\\frac{\\alpha \\overline{\\alpha}}{2} + \\frac{\\beta \\overline{\\beta}}{2} & 0 & 0 & \\frac{\\alpha \\overline{\\alpha}}{2} + \\frac{\\beta \\overline{\\beta}}{2}\\end{matrix}\\right]$</font>"
       ],
       "metadata": {},
       "output_type": "display_data",
       "text": [
        "<IPython.core.display.HTML at 0xbfecdcc>"
       ]
      }
     ],
     "prompt_number": 6
    },
    {
     "cell_type": "code",
     "collapsed": false,
     "input": [
      "half = Rational(1,2)\n",
      "M = mat(half, 0, 0, half, 0, 0, 0, 0, 0, 0, 0, 0, half, 0, 0, half)\n",
      "Print(r'Since $|\\alpha|^2+|\\beta|^2=1$ this is the same as')\n",
      "examine_dm(M)\n",
      "Print('Showing that we have a pure 2-bit state for the entangled bits')"
     ],
     "language": "python",
     "metadata": {},
     "outputs": [
      {
       "html": [
        "<font size=4>Since $|\\alpha|^2+|\\beta|^2=1$ this is the same as</font>"
       ],
       "metadata": {},
       "output_type": "display_data",
       "text": [
        "<IPython.core.display.HTML at 0xc1dabec>"
       ]
      },
      {
       "html": [
        "<font size=4>$\\rho=\\left[\\begin{matrix}\\frac{1}{2} & 0 & 0 & \\frac{1}{2}\\\\0 & 0 & 0 & 0\\\\0 & 0 & 0 & 0\\\\\\frac{1}{2} & 0 & 0 & \\frac{1}{2}\\end{matrix}\\right],\\;\\;\\mathrm{Tr}(\\rho^2)=1.000,\\;\\;S=0.000$</font>"
       ],
       "metadata": {},
       "output_type": "display_data",
       "text": [
        "<IPython.core.display.HTML at 0xc1ba04c>"
       ]
      },
      {
       "html": [
        "<font size=4>Showing that we have a pure 2-bit state for the entangled bits</font>"
       ],
       "metadata": {},
       "output_type": "display_data",
       "text": [
        "<IPython.core.display.HTML at 0xc1cc9cc>"
       ]
      }
     ],
     "prompt_number": 7
    },
    {
     "cell_type": "code",
     "collapsed": false,
     "input": [
      "Print('Trace out the entangled bits')\n",
      "rho_a = matrix_as_outer_product(rho)\n",
      "rho_a.partial_trace(2)\n",
      "rho_a.partial_trace(1)\n",
      "Print(r'$%s$' %latex(rho_a.M))\n",
      "Print('Which is the same matrix we got in the beginning')"
     ],
     "language": "python",
     "metadata": {},
     "outputs": [
      {
       "html": [
        "<font size=4>Trace out the entangled bits</font>"
       ],
       "metadata": {},
       "output_type": "display_data",
       "text": [
        "<IPython.core.display.HTML at 0xc1dab2c>"
       ]
      },
      {
       "html": [
        "<font size=4>$\\left[\\begin{matrix}\\alpha \\overline{\\alpha} & \\alpha \\overline{\\beta}\\\\\\beta \\overline{\\alpha} & \\beta \\overline{\\beta}\\end{matrix}\\right]$</font>"
       ],
       "metadata": {},
       "output_type": "display_data",
       "text": [
        "<IPython.core.display.HTML at 0xc217e0c>"
       ]
      },
      {
       "html": [
        "<font size=4>Which is the same matrix we got in the beginning</font>"
       ],
       "metadata": {},
       "output_type": "display_data",
       "text": [
        "<IPython.core.display.HTML at 0xc05856c>"
       ]
      }
     ],
     "prompt_number": 8
    },
    {
     "cell_type": "code",
     "collapsed": false,
     "input": [
      "# Step 2: Alice applies the CNOT\n",
      "Print('Step 2')\n",
      "bits_t1 = C3*bits_t0\n",
      "Print('Alice applies the cnot, resulting in:')\n",
      "Print('$%s$'%mtq(bits_t1))"
     ],
     "language": "python",
     "metadata": {},
     "outputs": [
      {
       "html": [
        "<font size=4>Step 2</font>"
       ],
       "metadata": {},
       "output_type": "display_data",
       "text": [
        "<IPython.core.display.HTML at 0xc2176ac>"
       ]
      },
      {
       "html": [
        "<font size=4>Alice applies the cnot, resulting in:</font>"
       ],
       "metadata": {},
       "output_type": "display_data",
       "text": [
        "<IPython.core.display.HTML at 0xa8dfd4c>"
       ]
      },
      {
       "html": [
        "<font size=4>$\\frac{\\sqrt{2}}{2} \\left(\\alpha {\\left|000\\right\\rangle } + \\alpha {\\left|011\\right\\rangle } + \\beta {\\left|101\\right\\rangle } + \\beta {\\left|110\\right\\rangle }\\right)$</font>"
       ],
       "metadata": {},
       "output_type": "display_data",
       "text": [
        "<IPython.core.display.HTML at 0xc161acc>"
       ]
      }
     ],
     "prompt_number": 9
    },
    {
     "cell_type": "code",
     "collapsed": false,
     "input": [
      "Print('Now the density matrix of the joint state is')\n",
      "rho = OP(bits_t1,bits_t1)\n",
      "Print(r'$%s$' %latex(rho))\n",
      "Print('If we trace out Alice and Bob\\'s originally entangled bits')\n",
      "rho_a = matrix_as_outer_product(rho)\n",
      "rho_a.partial_trace(2)\n",
      "rho_a.partial_trace(1)\n",
      "Print(r'$%s$' %latex(rho_a.M))\n",
      "Print('The density matrix is fully mixed. So Alice\\'s bit which was')\n",
      "Print('unentangled, is now maximally entangled with <i>something.</i>')"
     ],
     "language": "python",
     "metadata": {},
     "outputs": [
      {
       "html": [
        "<font size=4>Now the density matrix of the joint state is</font>"
       ],
       "metadata": {},
       "output_type": "display_data",
       "text": [
        "<IPython.core.display.HTML at 0xc2172cc>"
       ]
      },
      {
       "html": [
        "<font size=4>$\\left[\\begin{matrix}\\frac{\\alpha \\overline{\\alpha}}{2} & 0 & 0 & \\frac{\\alpha \\overline{\\alpha}}{2} & 0 & \\frac{\\alpha \\overline{\\beta}}{2} & \\frac{\\alpha \\overline{\\beta}}{2} & 0\\\\0 & 0 & 0 & 0 & 0 & 0 & 0 & 0\\\\0 & 0 & 0 & 0 & 0 & 0 & 0 & 0\\\\\\frac{\\alpha \\overline{\\alpha}}{2} & 0 & 0 & \\frac{\\alpha \\overline{\\alpha}}{2} & 0 & \\frac{\\alpha \\overline{\\beta}}{2} & \\frac{\\alpha \\overline{\\beta}}{2} & 0\\\\0 & 0 & 0 & 0 & 0 & 0 & 0 & 0\\\\\\frac{\\beta \\overline{\\alpha}}{2} & 0 & 0 & \\frac{\\beta \\overline{\\alpha}}{2} & 0 & \\frac{\\beta \\overline{\\beta}}{2} & \\frac{\\beta \\overline{\\beta}}{2} & 0\\\\\\frac{\\beta \\overline{\\alpha}}{2} & 0 & 0 & \\frac{\\beta \\overline{\\alpha}}{2} & 0 & \\frac{\\beta \\overline{\\beta}}{2} & \\frac{\\beta \\overline{\\beta}}{2} & 0\\\\0 & 0 & 0 & 0 & 0 & 0 & 0 & 0\\end{matrix}\\right]$</font>"
       ],
       "metadata": {},
       "output_type": "display_data",
       "text": [
        "<IPython.core.display.HTML at 0xc1ec6ac>"
       ]
      },
      {
       "html": [
        "<font size=4>If we trace out Alice and Bob's originally entangled bits</font>"
       ],
       "metadata": {},
       "output_type": "display_data",
       "text": [
        "<IPython.core.display.HTML at 0xc16410c>"
       ]
      },
      {
       "html": [
        "<font size=4>$\\left[\\begin{matrix}\\alpha \\overline{\\alpha} & 0\\\\0 & \\beta \\overline{\\beta}\\end{matrix}\\right]$</font>"
       ],
       "metadata": {},
       "output_type": "display_data",
       "text": [
        "<IPython.core.display.HTML at 0xc1dacac>"
       ]
      },
      {
       "html": [
        "<font size=4>The density matrix is fully mixed. So Alice's bit which was</font>"
       ],
       "metadata": {},
       "output_type": "display_data",
       "text": [
        "<IPython.core.display.HTML at 0xc1b56cc>"
       ]
      },
      {
       "html": [
        "<font size=4>unentangled, is now maximally entangled with <i>something.</i></font>"
       ],
       "metadata": {},
       "output_type": "display_data",
       "text": [
        "<IPython.core.display.HTML at 0xc1d028c>"
       ]
      }
     ],
     "prompt_number": 10
    },
    {
     "cell_type": "code",
     "collapsed": false,
     "input": [
      "Print('If we trace out both Alice\\'s bits from the total state')\n",
      "rho = OP(bits_t1,bits_t1)\n",
      "Print('If we trace out Alice and Bob\\'s originally entangled bits')\n",
      "rho_b = matrix_as_outer_product(rho)\n",
      "rho_b.partial_trace(0)\n",
      "rho_b.partial_trace(0)\n",
      "Print(r'$%s$' %latex(rho_b.M))\n",
      "Print('Bob\\'s bit is fully entangled')"
     ],
     "language": "python",
     "metadata": {},
     "outputs": [
      {
       "html": [
        "<font size=4>If we trace out both Alice's bits from the total state</font>"
       ],
       "metadata": {},
       "output_type": "display_data",
       "text": [
        "<IPython.core.display.HTML at 0xc219e8c>"
       ]
      },
      {
       "html": [
        "<font size=4>If we trace out Alice and Bob's originally entangled bits</font>"
       ],
       "metadata": {},
       "output_type": "display_data",
       "text": [
        "<IPython.core.display.HTML at 0xc139b2c>"
       ]
      },
      {
       "html": [
        "<font size=4>$\\left[\\begin{matrix}\\frac{\\alpha \\overline{\\alpha}}{2} + \\frac{\\beta \\overline{\\beta}}{2} & 0\\\\0 & \\frac{\\alpha \\overline{\\alpha}}{2} + \\frac{\\beta \\overline{\\beta}}{2}\\end{matrix}\\right]$</font>"
       ],
       "metadata": {},
       "output_type": "display_data",
       "text": [
        "<IPython.core.display.HTML at 0xc217fec>"
       ]
      },
      {
       "html": [
        "<font size=4>Bob's bit is fully entangled</font>"
       ],
       "metadata": {},
       "output_type": "display_data",
       "text": [
        "<IPython.core.display.HTML at 0xc21728c>"
       ]
      }
     ],
     "prompt_number": 11
    },
    {
     "cell_type": "code",
     "collapsed": false,
     "input": [
      "Print('If we trace out both Alice\\'s first bit and Bob\\'s bit')\n",
      "rho = OP(bits_t1,bits_t1)\n",
      "rho_foo = matrix_as_outer_product(rho)\n",
      "rho_foo.partial_trace(2)\n",
      "rho_foo.partial_trace(0)\n",
      "Print(r'$%s$' %latex(rho_foo.M))\n",
      "Print('The \"middle\" bit is fully entangled')\n",
      "Print('So, it appears that <i>all three</i> bits are now entangled.')"
     ],
     "language": "python",
     "metadata": {},
     "outputs": [
      {
       "html": [
        "<font size=4>If we trace out both Alice's first bit and Bob's bit</font>"
       ],
       "metadata": {},
       "output_type": "display_data",
       "text": [
        "<IPython.core.display.HTML at 0xc225acc>"
       ]
      },
      {
       "html": [
        "<font size=4>$\\left[\\begin{matrix}\\frac{\\alpha \\overline{\\alpha}}{2} + \\frac{\\beta \\overline{\\beta}}{2} & 0\\\\0 & \\frac{\\alpha \\overline{\\alpha}}{2} + \\frac{\\beta \\overline{\\beta}}{2}\\end{matrix}\\right]$</font>"
       ],
       "metadata": {},
       "output_type": "display_data",
       "text": [
        "<IPython.core.display.HTML at 0xc22604c>"
       ]
      },
      {
       "html": [
        "<font size=4>The \"middle\" bit is fully entangled</font>"
       ],
       "metadata": {},
       "output_type": "display_data",
       "text": [
        "<IPython.core.display.HTML at 0xc226e8c>"
       ]
      },
      {
       "html": [
        "<font size=4>So, it appears that <i>all three</i> bits are now entangled.</font>"
       ],
       "metadata": {},
       "output_type": "display_data",
       "text": [
        "<IPython.core.display.HTML at 0xc22602c>"
       ]
      }
     ],
     "prompt_number": 12
    },
    {
     "cell_type": "code",
     "collapsed": false,
     "input": [
      "# Step 3: Alice applies the Hadamard\n",
      "Print('Step 3')\n",
      "bits_t2 = H3*bits_t1\n",
      "Print('Alice applies the Hadamard, resulting in:')\n",
      "Print('$%s$'%mtq(bits_t2))"
     ],
     "language": "python",
     "metadata": {},
     "outputs": [
      {
       "html": [
        "<font size=4>Step 3</font>"
       ],
       "metadata": {},
       "output_type": "display_data",
       "text": [
        "<IPython.core.display.HTML at 0xc1ecd4c>"
       ]
      },
      {
       "html": [
        "<font size=4>Alice applies the Hadamard, resulting in:</font>"
       ],
       "metadata": {},
       "output_type": "display_data",
       "text": [
        "<IPython.core.display.HTML at 0xc1eccec>"
       ]
      },
      {
       "html": [
        "<font size=4>$\\frac{1}{2} \\left(\\alpha {\\left|000\\right\\rangle } + \\alpha {\\left|011\\right\\rangle } + \\alpha {\\left|100\\right\\rangle } + \\alpha {\\left|111\\right\\rangle } + \\beta {\\left|001\\right\\rangle } + \\beta {\\left|010\\right\\rangle } - \\beta {\\left|101\\right\\rangle } - \\beta {\\left|110\\right\\rangle }\\right)$</font>"
       ],
       "metadata": {},
       "output_type": "display_data",
       "text": [
        "<IPython.core.display.HTML at 0xc2216cc>"
       ]
      }
     ],
     "prompt_number": 13
    },
    {
     "cell_type": "code",
     "collapsed": false,
     "input": [
      "Print('Now the density matrix of the joint state is')\n",
      "rho = OP(bits_t2,bits_t2)\n",
      "Print(r'$%s$' %latex(rho))\n",
      "rho_1 = matrix_as_outer_product(rho)\n",
      "rho_2 = matrix_as_outer_product(rho)\n",
      "rho_3 = matrix_as_outer_product(rho)\n",
      "Print('Density matrix for bit 1')\n",
      "rho_1.partial_trace(2)\n",
      "rho_1.partial_trace(1)\n",
      "Print(r'$%s$' %latex(rho_1.M))\n",
      "Print('Density matrix for bit 2')\n",
      "rho_2.partial_trace(2)\n",
      "rho_2.partial_trace(0)\n",
      "Print(r'$%s$' %latex(rho_2.M))\n",
      "Print('Density matrix for bit 3')\n",
      "rho_3.partial_trace(0)\n",
      "rho_3.partial_trace(0)\n",
      "Print(r'$%s$' %latex(rho_3.M))\n",
      "Print('It appears that bits two and three are fully entangled (with each')\n",
      "Print('other?). It kind of looks like the first bit is pure now, but I\\'m')\n",
      "Print('not really sure about that!')"
     ],
     "language": "python",
     "metadata": {},
     "outputs": [
      {
       "html": [
        "<font size=4>Now the density matrix of the joint state is</font>"
       ],
       "metadata": {},
       "output_type": "display_data",
       "text": [
        "<IPython.core.display.HTML at 0xc23f36c>"
       ]
      },
      {
       "html": [
        "<font size=4>$\\left[\\begin{matrix}\\frac{\\alpha \\overline{\\alpha}}{4} & \\frac{\\alpha \\overline{\\beta}}{4} & \\frac{\\alpha \\overline{\\beta}}{4} & \\frac{\\alpha \\overline{\\alpha}}{4} & \\frac{\\alpha \\overline{\\alpha}}{4} & - \\frac{\\alpha \\overline{\\beta}}{4} & - \\frac{\\alpha \\overline{\\beta}}{4} & \\frac{\\alpha \\overline{\\alpha}}{4}\\\\\\frac{\\beta \\overline{\\alpha}}{4} & \\frac{\\beta \\overline{\\beta}}{4} & \\frac{\\beta \\overline{\\beta}}{4} & \\frac{\\beta \\overline{\\alpha}}{4} & \\frac{\\beta \\overline{\\alpha}}{4} & - \\frac{\\beta \\overline{\\beta}}{4} & - \\frac{\\beta \\overline{\\beta}}{4} & \\frac{\\beta \\overline{\\alpha}}{4}\\\\\\frac{\\beta \\overline{\\alpha}}{4} & \\frac{\\beta \\overline{\\beta}}{4} & \\frac{\\beta \\overline{\\beta}}{4} & \\frac{\\beta \\overline{\\alpha}}{4} & \\frac{\\beta \\overline{\\alpha}}{4} & - \\frac{\\beta \\overline{\\beta}}{4} & - \\frac{\\beta \\overline{\\beta}}{4} & \\frac{\\beta \\overline{\\alpha}}{4}\\\\\\frac{\\alpha \\overline{\\alpha}}{4} & \\frac{\\alpha \\overline{\\beta}}{4} & \\frac{\\alpha \\overline{\\beta}}{4} & \\frac{\\alpha \\overline{\\alpha}}{4} & \\frac{\\alpha \\overline{\\alpha}}{4} & - \\frac{\\alpha \\overline{\\beta}}{4} & - \\frac{\\alpha \\overline{\\beta}}{4} & \\frac{\\alpha \\overline{\\alpha}}{4}\\\\\\frac{\\alpha \\overline{\\alpha}}{4} & \\frac{\\alpha \\overline{\\beta}}{4} & \\frac{\\alpha \\overline{\\beta}}{4} & \\frac{\\alpha \\overline{\\alpha}}{4} & \\frac{\\alpha \\overline{\\alpha}}{4} & - \\frac{\\alpha \\overline{\\beta}}{4} & - \\frac{\\alpha \\overline{\\beta}}{4} & \\frac{\\alpha \\overline{\\alpha}}{4}\\\\- \\frac{\\beta \\overline{\\alpha}}{4} & - \\frac{\\beta \\overline{\\beta}}{4} & - \\frac{\\beta \\overline{\\beta}}{4} & - \\frac{\\beta \\overline{\\alpha}}{4} & - \\frac{\\beta \\overline{\\alpha}}{4} & \\frac{\\beta \\overline{\\beta}}{4} & \\frac{\\beta \\overline{\\beta}}{4} & - \\frac{\\beta \\overline{\\alpha}}{4}\\\\- \\frac{\\beta \\overline{\\alpha}}{4} & - \\frac{\\beta \\overline{\\beta}}{4} & - \\frac{\\beta \\overline{\\beta}}{4} & - \\frac{\\beta \\overline{\\alpha}}{4} & - \\frac{\\beta \\overline{\\alpha}}{4} & \\frac{\\beta \\overline{\\beta}}{4} & \\frac{\\beta \\overline{\\beta}}{4} & - \\frac{\\beta \\overline{\\alpha}}{4}\\\\\\frac{\\alpha \\overline{\\alpha}}{4} & \\frac{\\alpha \\overline{\\beta}}{4} & \\frac{\\alpha \\overline{\\beta}}{4} & \\frac{\\alpha \\overline{\\alpha}}{4} & \\frac{\\alpha \\overline{\\alpha}}{4} & - \\frac{\\alpha \\overline{\\beta}}{4} & - \\frac{\\alpha \\overline{\\beta}}{4} & \\frac{\\alpha \\overline{\\alpha}}{4}\\end{matrix}\\right]$</font>"
       ],
       "metadata": {},
       "output_type": "display_data",
       "text": [
        "<IPython.core.display.HTML at 0xa8dfccc>"
       ]
      },
      {
       "html": [
        "<font size=4>Density matrix for bit 1</font>"
       ],
       "metadata": {},
       "output_type": "display_data",
       "text": [
        "<IPython.core.display.HTML at 0xc23fd6c>"
       ]
      },
      {
       "html": [
        "<font size=4>$\\left[\\begin{matrix}\\frac{\\alpha \\overline{\\alpha}}{2} + \\frac{\\beta \\overline{\\beta}}{2} & \\frac{\\alpha \\overline{\\alpha}}{2} - \\frac{\\beta \\overline{\\beta}}{2}\\\\\\frac{\\alpha \\overline{\\alpha}}{2} - \\frac{\\beta \\overline{\\beta}}{2} & \\frac{\\alpha \\overline{\\alpha}}{2} + \\frac{\\beta \\overline{\\beta}}{2}\\end{matrix}\\right]$</font>"
       ],
       "metadata": {},
       "output_type": "display_data",
       "text": [
        "<IPython.core.display.HTML at 0xc225f4c>"
       ]
      },
      {
       "html": [
        "<font size=4>Density matrix for bit 2</font>"
       ],
       "metadata": {},
       "output_type": "display_data",
       "text": [
        "<IPython.core.display.HTML at 0xc26e56c>"
       ]
      },
      {
       "html": [
        "<font size=4>$\\left[\\begin{matrix}\\frac{\\alpha \\overline{\\alpha}}{2} + \\frac{\\beta \\overline{\\beta}}{2} & 0\\\\0 & \\frac{\\alpha \\overline{\\alpha}}{2} + \\frac{\\beta \\overline{\\beta}}{2}\\end{matrix}\\right]$</font>"
       ],
       "metadata": {},
       "output_type": "display_data",
       "text": [
        "<IPython.core.display.HTML at 0xc23f90c>"
       ]
      },
      {
       "html": [
        "<font size=4>Density matrix for bit 3</font>"
       ],
       "metadata": {},
       "output_type": "display_data",
       "text": [
        "<IPython.core.display.HTML at 0xc2216cc>"
       ]
      },
      {
       "html": [
        "<font size=4>$\\left[\\begin{matrix}\\frac{\\alpha \\overline{\\alpha}}{2} + \\frac{\\beta \\overline{\\beta}}{2} & 0\\\\0 & \\frac{\\alpha \\overline{\\alpha}}{2} + \\frac{\\beta \\overline{\\beta}}{2}\\end{matrix}\\right]$</font>"
       ],
       "metadata": {},
       "output_type": "display_data",
       "text": [
        "<IPython.core.display.HTML at 0xc23f98c>"
       ]
      },
      {
       "html": [
        "<font size=4>It appears that bits two and three are fully entangled (with each</font>"
       ],
       "metadata": {},
       "output_type": "display_data",
       "text": [
        "<IPython.core.display.HTML at 0xc26b66c>"
       ]
      },
      {
       "html": [
        "<font size=4>other?). It kind of looks like the first bit is pure now, but I'm</font>"
       ],
       "metadata": {},
       "output_type": "display_data",
       "text": [
        "<IPython.core.display.HTML at 0xc26b04c>"
       ]
      },
      {
       "html": [
        "<font size=4>not really sure about that!</font>"
       ],
       "metadata": {},
       "output_type": "display_data",
       "text": [
        "<IPython.core.display.HTML at 0xc26b40c>"
       ]
      }
     ],
     "prompt_number": 14
    },
    {
     "cell_type": "markdown",
     "metadata": {},
     "source": [
      "<hr size=3>\n",
      "Now I'll express the same three bits in an alternate way, to show that they come out right. The expression here does appear to match expression (1.33) through (1.36) at the bottom of\n",
      "Nielsen and Chuang page 27."
     ]
    },
    {
     "cell_type": "code",
     "collapsed": false,
     "input": [
      "one = TP(Qubit('00'), a*Qubit('0')+b*Qubit('1'))\n",
      "two = TP(Qubit('01'), a*Qubit('1')+b*Qubit('0'))\n",
      "three = TP(Qubit('10'), a*Qubit('0')-b*Qubit('1'))\n",
      "four = TP(Qubit('11'), a*Qubit('1')-b*Qubit('0'))\n",
      "alt = Rational(1,2)*(one+two+three+four)\n",
      "Print('(Still on step 3)')\n",
      "Print('The same bits can be expressed in (partially) factored form as:')\n",
      "Print('$%s$'%latex(alt))\n",
      "Print('The above should match (1.33) through (1.36) at the bottom of Nielsen and Chuang page 27.')"
     ],
     "language": "python",
     "metadata": {},
     "outputs": [
      {
       "html": [
        "<font size=4>(Still on step 3)</font>"
       ],
       "metadata": {},
       "output_type": "display_data",
       "text": [
        "<IPython.core.display.HTML at 0xc26bf2c>"
       ]
      },
      {
       "html": [
        "<font size=4>The same bits can be expressed in (partially) factored form as:</font>"
       ],
       "metadata": {},
       "output_type": "display_data",
       "text": [
        "<IPython.core.display.HTML at 0xc26b74c>"
       ]
      },
      {
       "html": [
        "<font size=4>$\\frac{1}{2} \\left({{\\left|00\\right\\rangle }}\\otimes \\left({\\alpha {\\left|0\\right\\rangle } + \\beta {\\left|1\\right\\rangle }}\\right) + {{\\left|01\\right\\rangle }}\\otimes \\left({\\alpha {\\left|1\\right\\rangle } + \\beta {\\left|0\\right\\rangle }}\\right) + {{\\left|10\\right\\rangle }}\\otimes \\left({\\alpha {\\left|0\\right\\rangle } - \\beta {\\left|1\\right\\rangle }}\\right) + {{\\left|11\\right\\rangle }}\\otimes \\left({\\alpha {\\left|1\\right\\rangle } - \\beta {\\left|0\\right\\rangle }}\\right)\\right)$</font>"
       ],
       "metadata": {},
       "output_type": "display_data",
       "text": [
        "<IPython.core.display.HTML at 0xc26bdec>"
       ]
      },
      {
       "html": [
        "<font size=4>The above should match (1.33) through (1.36) at the bottom of Nielsen and Chuang page 27.</font>"
       ],
       "metadata": {},
       "output_type": "display_data",
       "text": [
        "<IPython.core.display.HTML at 0xc26b54c>"
       ]
      }
     ],
     "prompt_number": 15
    },
    {
     "cell_type": "markdown",
     "metadata": {},
     "source": [
      "<hr size=3>\n",
      "Step 4: Alice measures her two bits in the classical basis\n",
      "and sends the results (a classical two bit number) to Bob.\n",
      "Looking at the \"factored\" form of the bits above, you can see\n",
      "how the state of Bob's bit depends on Alice's result.\n",
      "For example, if Alices measures $|00\\rangle$ then Bob's state is\n",
      "$a|0\\rangle + b|1\\rangle$ and so on."
     ]
    },
    {
     "cell_type": "markdown",
     "metadata": {},
     "source": [
      "<hr size=3>\n",
      "Step 5:\n",
      "Bob can now set the state of his bit based on the two classical bits he receives\n",
      "from Alice by doing one of the following operations:"
     ]
    },
    {
     "cell_type": "code",
     "collapsed": false,
     "input": [
      "if00 = a*q0+b*q1 # (No operation needed)\n",
      "if01 = X*(a*q1+b*q0)\n",
      "if10 = Z*(a*q0-b*q1)\n",
      "if11 = Z*X*(a*q1-b*q0)\n",
      "if00, if01, if10, if11"
     ],
     "language": "python",
     "metadata": {},
     "outputs": [
      {
       "latex": [
        "$$\\begin{pmatrix}\\left[\\begin{matrix}\\alpha\\\\\\beta\\end{matrix}\\right], & \\left[\\begin{matrix}\\alpha\\\\\\beta\\end{matrix}\\right], & \\left[\\begin{matrix}\\alpha\\\\\\beta\\end{matrix}\\right], & \\left[\\begin{matrix}\\alpha\\\\\\beta\\end{matrix}\\right]\\end{pmatrix}$$"
       ],
       "metadata": {},
       "output_type": "pyout",
       "png": "[encoded data removed]",
       "prompt_number": 16,
       "text": [
        "\u239b\u23a1\u03b1\u23a4, \u23a1\u03b1\u23a4, \u23a1\u03b1\u23a4, \u23a1\u03b1\u23a4\u239e\n",
        "\u239c\u23a2 \u23a5  \u23a2 \u23a5  \u23a2 \u23a5  \u23a2 \u23a5\u239f\n",
        "\u239d\u23a3\u03b2\u23a6  \u23a3\u03b2\u23a6  \u23a3\u03b2\u23a6  \u23a3\u03b2\u23a6\u23a0"
       ]
      }
     ],
     "prompt_number": 16
    },
    {
     "cell_type": "code",
     "collapsed": false,
     "input": [],
     "language": "python",
     "metadata": {},
     "outputs": [],
     "prompt_number": 16
    }
   ],
   "metadata": {}
  }
 ]
}