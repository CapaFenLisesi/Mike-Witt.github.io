{
 "metadata": {
  "name": "",
  "signature": "sha256:ca20148e494631e03868b85494ea4828331ed8c977d798427775aff728d96dba"
 },
 "nbformat": 3,
 "nbformat_minor": 0,
 "worksheets": [
  {
   "cells": [
    {
     "cell_type": "markdown",
     "metadata": {},
     "source": [
      "<h2>Getting sin() 'eigenfunctions' to come out right</h2>\n",
      "<p>\n",
      "This is how I got the intetegrals we were working on last Tuesday\n",
      "to come out right in Sympy. The issue was declaring the right\n",
      "\"assumptions\" for the variables $L$ and $n$. Note that \"Print\" is\n",
      "not a regular part of Sympy. It's just a work-around to get things\n",
      "to display the way I want them to."
     ]
    },
    {
     "cell_type": "code",
     "collapsed": false,
     "input": [
      "from Print import Print\n",
      "from sympy import *\n",
      "init_printing()"
     ],
     "language": "python",
     "metadata": {},
     "outputs": [],
     "prompt_number": 27
    },
    {
     "cell_type": "markdown",
     "metadata": {},
     "source": [
      "We want the inner product (the integral) of an eigenfunction with\n",
      "itself to be $1$. We did the integral below in order to find out\n",
      "what \"adjustment\" would be needed to the solution we had so far."
     ]
    },
    {
     "cell_type": "code",
     "collapsed": false,
     "input": [
      "L = Symbol('L', positive=True)\n",
      "n = Symbol('n', integer=True, positive=True)\n",
      "f = sin(n*pi*x/L)**2\n",
      "answer = integrate(f, (x, 0, L))\n",
      "Print(r'$\\displaystyle\\int %s dx = %s$'%(latex(f), latex(answer)))"
     ],
     "language": "python",
     "metadata": {},
     "outputs": [
      {
       "html": [
        "<font size=4 color=black>$\\displaystyle\\int \\sin^{2}{\\left (\\frac{\\pi x}{L} n \\right )} dx = \\frac{L}{2}$</font>"
       ],
       "metadata": {},
       "output_type": "display_data",
       "text": [
        "<IPython.core.display.HTML object>"
       ]
      }
     ],
     "prompt_number": 28
    },
    {
     "cell_type": "markdown",
     "metadata": {},
     "source": [
      "The we add the correct constant to \"make up for that\" to our\n",
      "eigenfunction, which I now call $\\phi_n$. We then integrate its\n",
      "product with itself to show that it does come out to unity."
     ]
    },
    {
     "cell_type": "code",
     "collapsed": false,
     "input": [
      "phi = sqrt(2/L)*sin(n*pi*x/L)\n",
      "answer = integrate(phi**2, (x, 0, L))\n",
      "Print(r'$\\phi_n = %s$'%latex(phi))\n",
      "Print(r'$\\displaystyle\\int \\phi_n^2 \\; dx = %s$'%latex(answer))"
     ],
     "language": "python",
     "metadata": {},
     "outputs": [
      {
       "html": [
        "<font size=4 color=black>$\\phi_n = \\frac{\\sqrt{2}}{\\sqrt{L}} \\sin{\\left (\\frac{\\pi x}{L} n \\right )}$</font>"
       ],
       "metadata": {},
       "output_type": "display_data",
       "text": [
        "<IPython.core.display.HTML object>"
       ]
      },
      {
       "html": [
        "<font size=4 color=black>$\\displaystyle\\int \\phi_n^2 \\; dx = 1$</font>"
       ],
       "metadata": {},
       "output_type": "display_data",
       "text": [
        "<IPython.core.display.HTML object>"
       ]
      }
     ],
     "prompt_number": 29
    },
    {
     "cell_type": "code",
     "collapsed": false,
     "input": [],
     "language": "python",
     "metadata": {},
     "outputs": [],
     "prompt_number": 29
    }
   ],
   "metadata": {}
  }
 ]
}