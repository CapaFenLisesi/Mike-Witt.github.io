{
 "metadata": {
  "name": "",
  "signature": "sha256:13b1fdbad14c7ca9c23240958b87346b869c1ca57c30446ff5dbe7d0c0ebb98c"
 },
 "nbformat": 3,
 "nbformat_minor": 0,
 "worksheets": [
  {
   "cells": [
    {
     "cell_type": "markdown",
     "metadata": {},
     "source": [
      "<a name=top></a>\n",
      "<center>\n",
      "<h2>The Bell Basis</h2>\n",
      "</center>\n",
      "<p>\n"
     ]
    },
    {
     "cell_type": "markdown",
     "metadata": {},
     "source": [
      "<h2>Contents</h2>\n",
      "<ul>\n",
      "<li> <a href=\"#setup\">Setup Cell</a>\n",
      "<li> <a href=\"#one\">The four bell states</a>\n",
      "<li> <a href=\"#two\">Entangled pairs in the Bell states</a>\n",
      "<li> <a href=\"#three\">Bell basis measurement operator</a>\n",
      "</ul>"
     ]
    },
    {
     "cell_type": "markdown",
     "metadata": {},
     "source": [
      "<hr size=3>\n",
      "<a name=setup></a>\n",
      "<h2><a href=\"#top\">^</a> Setup Cell</h2>"
     ]
    },
    {
     "cell_type": "code",
     "collapsed": false,
     "input": [
      "%autosave 0\n",
      "%matplotlib inline\n",
      "from sglib import *"
     ],
     "language": "python",
     "metadata": {},
     "outputs": [
      {
       "javascript": [
        "IPython.notebook.set_autosave_interval(0)"
       ],
       "metadata": {},
       "output_type": "display_data"
      },
      {
       "output_type": "stream",
       "stream": "stdout",
       "text": [
        "Autosave disabled\n"
       ]
      }
     ],
     "prompt_number": 1
    },
    {
     "cell_type": "markdown",
     "metadata": {},
     "source": [
      "<hr size=3>\n",
      "<a name=one></a>\n",
      "<h2><a href=\"#top\">^</a> The four bell states</h2>"
     ]
    },
    {
     "cell_type": "markdown",
     "metadata": {},
     "source": [
      "Define the four \"Bell States\", See:\n",
      "http://en.wikipedia.org/wiki/Bell_basis#The_Bell_states\n",
      "<br>\n",
      "This is how Wikipedia defines them:\n",
      "<p>\n",
      "$|\\Phi^+\\rangle = \\frac{1}{\\sqrt{2}} (|0\\rangle_A \\otimes |0\\rangle_B + |1\\rangle_A \\otimes |1\\rangle_B)$\n",
      "\n",
      "$|\\Phi^-\\rangle = \\frac{1}{\\sqrt{2}} (|0\\rangle_A \\otimes |0\\rangle_B - |1\\rangle_A \\otimes |1\\rangle_B)$\n",
      "\n",
      "$|\\Psi^+\\rangle = \\frac{1}{\\sqrt{2}} (|0\\rangle_A \\otimes |1\\rangle_B + |1\\rangle_A \\otimes |0\\rangle_B)$\n",
      "\n",
      "$|\\Psi^-\\rangle = \\frac{1}{\\sqrt{2}} (|0\\rangle_A \\otimes |1\\rangle_B - |1\\rangle_A \\otimes |0\\rangle_B).$"
     ]
    },
    {
     "cell_type": "markdown",
     "metadata": {},
     "source": [
      "<font size=4>\n",
      "I'll create the same states here, using a combination of python libraries\n",
      "and code form our \"sglib.\"\n",
      "</font>"
     ]
    },
    {
     "cell_type": "code",
     "collapsed": false,
     "input": [
      "#\n",
      "# Note: pZ = |+z> = |0>, mZ = |-z> = |1> \n",
      "#       TP() is short for Tensor Product\n",
      "#\n",
      "\n",
      "bell_1 = 1/sqrt(2)*TP(pZ,pZ) + 1/sqrt(2)*TP(mZ,mZ) # phi+\n",
      "bell_2 = 1/sqrt(2)*TP(pZ,pZ) - 1/sqrt(2)*TP(mZ,mZ) # phi-\n",
      "bell_3 = 1/sqrt(2)*TP(pZ,mZ) + 1/sqrt(2)*TP(mZ,pZ) # psi+ (Triplet)\n",
      "bell_4 = 1/sqrt(2)*TP(pZ,mZ) - 1/sqrt(2)*TP(mZ,pZ) # psi- (Singlet)\n",
      "\n",
      "fs = sg_format_state(basis=['0','1'], separator='').format\n",
      "Print(r'$\\phi^+ = %s$' %fs(bell_1))\n",
      "Print(r'$\\phi^- = %s$' %fs(bell_2))\n",
      "Print(r'$\\psi^+ = %s$' %fs(bell_3))\n",
      "Print(r'$\\psi^- = %s$' %fs(bell_4))"
     ],
     "language": "python",
     "metadata": {},
     "outputs": [
      {
       "html": [
        "<font size=4>$\\phi^+ = \\frac{1}{\\sqrt{2}}|00\\rangle+\\frac{1}{\\sqrt{2}}|11\\rangle$</font>"
       ],
       "metadata": {},
       "output_type": "display_data",
       "text": [
        "<IPython.core.display.HTML object>"
       ]
      },
      {
       "html": [
        "<font size=4>$\\phi^- = \\frac{1}{\\sqrt{2}}|00\\rangle-\\frac{1}{\\sqrt{2}}|11\\rangle$</font>"
       ],
       "metadata": {},
       "output_type": "display_data",
       "text": [
        "<IPython.core.display.HTML object>"
       ]
      },
      {
       "html": [
        "<font size=4>$\\psi^+ = \\frac{1}{\\sqrt{2}}|01\\rangle+\\frac{1}{\\sqrt{2}}|10\\rangle$</font>"
       ],
       "metadata": {},
       "output_type": "display_data",
       "text": [
        "<IPython.core.display.HTML object>"
       ]
      },
      {
       "html": [
        "<font size=4>$\\psi^- = \\frac{1}{\\sqrt{2}}|01\\rangle-\\frac{1}{\\sqrt{2}}|10\\rangle$</font>"
       ],
       "metadata": {},
       "output_type": "display_data",
       "text": [
        "<IPython.core.display.HTML object>"
       ]
      }
     ],
     "prompt_number": 8
    },
    {
     "cell_type": "markdown",
     "metadata": {},
     "source": [
      "<hr size=3>\n",
      "<a name=two></a>\n",
      "<h2><a href=\"#top\">^</a> Entangled pairs in the Bell states</h2>\n",
      "<p>\n",
      "Suppose that there\n",
      "are two electrons (for example) whose spin states are entangled in\n",
      "one of the Bell states.\n",
      "We work out the correlations for that situation."
     ]
    },
    {
     "cell_type": "code",
     "collapsed": false,
     "input": [
      "# Put all the bell states in an array\n",
      "bell = [bell_1, bell_2, bell_3, bell_4]\n",
      "# Define format for the different bases\n",
      "fz = sg_format_state(basis=['+z','-z'], separator=',').format\n",
      "fx = sg_format_state(basis=['+x','-x'], separator=',').format\n",
      "f45 = sg_format_state(basis=['+45','-45'], separator=',').format\n",
      "\n",
      "def work_out_stuff(which):\n",
      "    Print('<hr size=4>')\n",
      "    Print('For Bell %s'%(which+1))\n",
      "    z_state = bell[which]\n",
      "    Print('In the Z basis we have $%s$'%fz(z_state))\n",
      "\n",
      "    IP = inner_product\n",
      "    xb = x_basis_2bit\n",
      "    a = IP(xb[0], z_state)\n",
      "    b = IP(xb[1], z_state)\n",
      "    c = IP(xb[2], z_state)\n",
      "    d = IP(xb[3], z_state)\n",
      "    x_state = col(a,b,c,d)\n",
      "\n",
      "    Print('In the X basis we have: $%s$'%fx(x_state))\n",
      "\n",
      "    # Measurement matrix for the vector halfway between x and z\n",
      "    # See the electron spin notebook\n",
      "    M45 = 1/sqrt(2)*mat(1,1,1,-1)\n",
      "    #Print('The 45 degree operator is: $%s$'%myltx(M45))\n",
      "\n",
      "    eval, evec = find_eigenvectors(M45)\n",
      "    m45 = evec[0]; p45 = evec[1]\n",
      "\n",
      "    b45 = []\n",
      "    b45 += [ TP(p45, p45), ]\n",
      "    b45 += [ TP(p45, m45), ]\n",
      "    b45 += [ TP(m45, p45), ]\n",
      "    b45 += [ TP(m45, m45), ]\n",
      "\n",
      "    a = IP(b45[0], z_state)\n",
      "    b = IP(b45[1], z_state)\n",
      "    c = IP(b45[2], z_state)\n",
      "    d = IP(b45[3], z_state)\n",
      "    state_45 = col(a,b,c,d)\n",
      "\n",
      "    # Do everything possible to simplify the state\n",
      "    state_45 = megasimp(state_45)\n",
      "\n",
      "    #Print('And in the 45 degree basis we have:')\n",
      "    #sg_print(state_45, exact=True, ndigs=4)\n",
      "    Print('In the $45^{\\circ}$ basis we have: $%s$'%f45(state_45))\n",
      "    \n",
      "for n in range(4): work_out_stuff(n)\n",
      "    \n",
      "# Do I need this ... ?\n",
      "#eflag = False\n",
      "#sg_print( IP(p45, pZ)*IP(p45, pZ).conjugate(), exact=eflag, ndigs=3)\n",
      "#sg_print( IP(p45, mZ)*IP(p45, mZ).conjugate(), exact=eflag, ndigs=3)\n",
      "#sg_print( IP(p45, pX)*IP(p45, pX).conjugate(), exact=eflag, ndigs=3)\n",
      "#sg_print( IP(p45, mX)*IP(p45, mX).conjugate(), exact=eflag, ndigs=3)"
     ],
     "language": "python",
     "metadata": {},
     "outputs": [
      {
       "html": [
        "<font size=4><hr size=4></font>"
       ],
       "metadata": {},
       "output_type": "display_data",
       "text": [
        "<IPython.core.display.HTML object>"
       ]
      },
      {
       "html": [
        "<font size=4>For Bell 1</font>"
       ],
       "metadata": {},
       "output_type": "display_data",
       "text": [
        "<IPython.core.display.HTML object>"
       ]
      },
      {
       "html": [
        "<font size=4>In the Z basis we have $\\frac{1}{\\sqrt{2}}|+z,+z\\rangle+\\frac{1}{\\sqrt{2}}|-z,-z\\rangle$</font>"
       ],
       "metadata": {},
       "output_type": "display_data",
       "text": [
        "<IPython.core.display.HTML object>"
       ]
      },
      {
       "html": [
        "<font size=4>In the X basis we have: $\\frac{1}{\\sqrt{2}}|+x,+x\\rangle+\\frac{1}{\\sqrt{2}}|-x,-x\\rangle$</font>"
       ],
       "metadata": {},
       "output_type": "display_data",
       "text": [
        "<IPython.core.display.HTML object>"
       ]
      },
      {
       "html": [
        "<font size=4>In the $45^{\\circ}$ basis we have: $\\frac{1}{\\sqrt{2}}|+45,+45\\rangle+\\frac{1}{\\sqrt{2}}|-45,-45\\rangle$</font>"
       ],
       "metadata": {},
       "output_type": "display_data",
       "text": [
        "<IPython.core.display.HTML object>"
       ]
      },
      {
       "html": [
        "<font size=4><hr size=4></font>"
       ],
       "metadata": {},
       "output_type": "display_data",
       "text": [
        "<IPython.core.display.HTML object>"
       ]
      },
      {
       "html": [
        "<font size=4>For Bell 2</font>"
       ],
       "metadata": {},
       "output_type": "display_data",
       "text": [
        "<IPython.core.display.HTML object>"
       ]
      },
      {
       "html": [
        "<font size=4>In the Z basis we have $\\frac{1}{\\sqrt{2}}|+z,+z\\rangle-\\frac{1}{\\sqrt{2}}|-z,-z\\rangle$</font>"
       ],
       "metadata": {},
       "output_type": "display_data",
       "text": [
        "<IPython.core.display.HTML object>"
       ]
      },
      {
       "html": [
        "<font size=4>In the X basis we have: $\\frac{1}{\\sqrt{2}}|+x,-x\\rangle+\\frac{1}{\\sqrt{2}}|-x,+x\\rangle$</font>"
       ],
       "metadata": {},
       "output_type": "display_data",
       "text": [
        "<IPython.core.display.HTML object>"
       ]
      },
      {
       "html": [
        "<font size=4>In the $45^{\\circ}$ basis we have: $\\frac{1}{2}|+45,+45\\rangle-\\frac{1}{2}|+45,-45\\rangle-\\frac{1}{2}|-45,+45\\rangle-\\frac{1}{2}|-45,-45\\rangle$</font>"
       ],
       "metadata": {},
       "output_type": "display_data",
       "text": [
        "<IPython.core.display.HTML object>"
       ]
      },
      {
       "html": [
        "<font size=4><hr size=4></font>"
       ],
       "metadata": {},
       "output_type": "display_data",
       "text": [
        "<IPython.core.display.HTML object>"
       ]
      },
      {
       "html": [
        "<font size=4>For Bell 3</font>"
       ],
       "metadata": {},
       "output_type": "display_data",
       "text": [
        "<IPython.core.display.HTML object>"
       ]
      },
      {
       "html": [
        "<font size=4>In the Z basis we have $\\frac{1}{\\sqrt{2}}|+z,-z\\rangle+\\frac{1}{\\sqrt{2}}|-z,+z\\rangle$</font>"
       ],
       "metadata": {},
       "output_type": "display_data",
       "text": [
        "<IPython.core.display.HTML object>"
       ]
      },
      {
       "html": [
        "<font size=4>In the X basis we have: $\\frac{1}{\\sqrt{2}}|+x,+x\\rangle-\\frac{1}{\\sqrt{2}}|-x,-x\\rangle$</font>"
       ],
       "metadata": {},
       "output_type": "display_data",
       "text": [
        "<IPython.core.display.HTML object>"
       ]
      },
      {
       "html": [
        "<font size=4>In the $45^{\\circ}$ basis we have: $\\frac{1}{2}|+45,+45\\rangle+\\frac{1}{2}|+45,-45\\rangle+\\frac{1}{2}|-45,+45\\rangle-\\frac{1}{2}|-45,-45\\rangle$</font>"
       ],
       "metadata": {},
       "output_type": "display_data",
       "text": [
        "<IPython.core.display.HTML object>"
       ]
      },
      {
       "html": [
        "<font size=4><hr size=4></font>"
       ],
       "metadata": {},
       "output_type": "display_data",
       "text": [
        "<IPython.core.display.HTML object>"
       ]
      },
      {
       "html": [
        "<font size=4>For Bell 4</font>"
       ],
       "metadata": {},
       "output_type": "display_data",
       "text": [
        "<IPython.core.display.HTML object>"
       ]
      },
      {
       "html": [
        "<font size=4>In the Z basis we have $\\frac{1}{\\sqrt{2}}|+z,-z\\rangle-\\frac{1}{\\sqrt{2}}|-z,+z\\rangle$</font>"
       ],
       "metadata": {},
       "output_type": "display_data",
       "text": [
        "<IPython.core.display.HTML object>"
       ]
      },
      {
       "html": [
        "<font size=4>In the X basis we have: $-\\frac{1}{\\sqrt{2}}|+x,-x\\rangle+\\frac{1}{\\sqrt{2}}|-x,+x\\rangle$</font>"
       ],
       "metadata": {},
       "output_type": "display_data",
       "text": [
        "<IPython.core.display.HTML object>"
       ]
      },
      {
       "html": [
        "<font size=4>In the $45^{\\circ}$ basis we have: $\\frac{1}{\\sqrt{2}}|+45,-45\\rangle-\\frac{1}{\\sqrt{2}}|-45,+45\\rangle$</font>"
       ],
       "metadata": {},
       "output_type": "display_data",
       "text": [
        "<IPython.core.display.HTML object>"
       ]
      }
     ],
     "prompt_number": 3
    },
    {
     "cell_type": "markdown",
     "metadata": {},
     "source": [
      "<hr size=3>\n",
      "<a name=three></a>\n",
      "<h2><a href=\"#top\">^</a> Bell Basis Measurement Operator</h2>\n",
      "<p>\n",
      "I'd like to see how this compares with the way it's done in\n",
      "the quantum teleportation scenaio."
     ]
    },
    {
     "cell_type": "code",
     "collapsed": false,
     "input": [
      "evals = (0, 1, 2, 3); evecs = (bell_1, bell_2, bell_3, bell_4)\n",
      "BBM = construct_measurement_operator(evals, evecs)\n",
      "print_eigenvectors(BBM)"
     ],
     "language": "python",
     "metadata": {},
     "outputs": [
      {
       "html": [
        "<font size=4>The operator is: $\\left[\\begin{matrix}\\frac{1}{2} & 0 & 0 & - \\frac{1}{2}\\\\0 & \\frac{5}{2} & - \\frac{1}{2} & 0\\\\0 & - \\frac{1}{2} & \\frac{5}{2} & 0\\\\- \\frac{1}{2} & 0 & 0 & \\frac{1}{2}\\end{matrix}\\right]$</font>"
       ],
       "metadata": {},
       "output_type": "display_data",
       "text": [
        "<IPython.core.display.HTML object>"
       ]
      },
      {
       "html": [
        "<font size=4>eigenvalue: $0$, eigenvector: $\\frac{1}{\\sqrt{2}}\\left[\\begin{matrix}1\\\\0\\\\0\\\\1\\end{matrix}\\right]$</font>"
       ],
       "metadata": {},
       "output_type": "display_data",
       "text": [
        "<IPython.core.display.HTML object>"
       ]
      },
      {
       "html": [
        "<font size=4>eigenvalue: $1$, eigenvector: $\\frac{1}{\\sqrt{2}}\\left[\\begin{matrix}-1\\\\0\\\\0\\\\1\\end{matrix}\\right]$</font>"
       ],
       "metadata": {},
       "output_type": "display_data",
       "text": [
        "<IPython.core.display.HTML object>"
       ]
      },
      {
       "html": [
        "<font size=4>eigenvalue: $2$, eigenvector: $\\frac{1}{\\sqrt{2}}\\left[\\begin{matrix}0\\\\1\\\\1\\\\0\\end{matrix}\\right]$</font>"
       ],
       "metadata": {},
       "output_type": "display_data",
       "text": [
        "<IPython.core.display.HTML object>"
       ]
      },
      {
       "html": [
        "<font size=4>eigenvalue: $3$, eigenvector: $\\frac{1}{\\sqrt{2}}\\left[\\begin{matrix}0\\\\-1\\\\1\\\\0\\end{matrix}\\right]$</font>"
       ],
       "metadata": {},
       "output_type": "display_data",
       "text": [
        "<IPython.core.display.HTML object>"
       ]
      }
     ],
     "prompt_number": 4
    },
    {
     "cell_type": "markdown",
     "metadata": {},
     "source": [
      "<font size=3>\n",
      "<hr size=3>\n",
      "The operator produces the expected eigenvectors, except that the\n",
      "overall phase of the \"-\" states is different. I guess that's OK.\n",
      "<hr size=3>\n",
      "</font>"
     ]
    },
    {
     "cell_type": "code",
     "collapsed": false,
     "input": [
      "evals, evecs = find_eigenvectors(BBM)\n",
      "Print('Operator\\'s eigenvectors:')\n",
      "Print('$%s, %s, %s, %s$'\n",
      "      %(myltx(evecs[0]),myltx(evecs[1]),myltx(evecs[2]),myltx(evecs[3])))\n",
      "Print('Bell states:')\n",
      "Print('$%s, %s, %s, %s$'\n",
      "      %(myltx(bell_1),myltx(bell_2),myltx(bell_3),myltx(bell_4)))"
     ],
     "language": "python",
     "metadata": {},
     "outputs": [
      {
       "html": [
        "<font size=4>Operator's eigenvectors:</font>"
       ],
       "metadata": {},
       "output_type": "display_data",
       "text": [
        "<IPython.core.display.HTML object>"
       ]
      },
      {
       "html": [
        "<font size=4>$\\frac{1}{\\sqrt{2}}\\left[\\begin{matrix}1\\\\0\\\\0\\\\1\\end{matrix}\\right], \\frac{1}{\\sqrt{2}}\\left[\\begin{matrix}-1\\\\0\\\\0\\\\1\\end{matrix}\\right], \\frac{1}{\\sqrt{2}}\\left[\\begin{matrix}0\\\\1\\\\1\\\\0\\end{matrix}\\right], \\frac{1}{\\sqrt{2}}\\left[\\begin{matrix}0\\\\-1\\\\1\\\\0\\end{matrix}\\right]$</font>"
       ],
       "metadata": {},
       "output_type": "display_data",
       "text": [
        "<IPython.core.display.HTML object>"
       ]
      },
      {
       "html": [
        "<font size=4>Bell states:</font>"
       ],
       "metadata": {},
       "output_type": "display_data",
       "text": [
        "<IPython.core.display.HTML object>"
       ]
      },
      {
       "html": [
        "<font size=4>$\\frac{1}{\\sqrt{2}}\\left[\\begin{matrix}1\\\\0\\\\0\\\\1\\end{matrix}\\right], \\frac{1}{\\sqrt{2}}\\left[\\begin{matrix}1\\\\0\\\\0\\\\-1\\end{matrix}\\right], \\frac{1}{\\sqrt{2}}\\left[\\begin{matrix}0\\\\1\\\\1\\\\0\\end{matrix}\\right], \\frac{1}{\\sqrt{2}}\\left[\\begin{matrix}0\\\\1\\\\-1\\\\0\\end{matrix}\\right]$</font>"
       ],
       "metadata": {},
       "output_type": "display_data",
       "text": [
        "<IPython.core.display.HTML object>"
       ]
      }
     ],
     "prompt_number": 5
    },
    {
     "cell_type": "markdown",
     "metadata": {},
     "source": [
      "<font size=3>\n",
      "<hr size=3>\n",
      "Here they are as  bits.\n",
      "<hr size=3>\n",
      "</font>"
     ]
    },
    {
     "cell_type": "code",
     "collapsed": false,
     "input": [
      "Print(r'$\\phi^+ = %s = %s$' %(fs(bell_1), fs(evecs[0])))\n",
      "Print(r'$\\phi^- = %s = %s$' %(fs(bell_2), fs(evecs[1])))\n",
      "Print(r'$\\psi^+ = %s = %s$' %(fs(bell_3), fs(evecs[2])))\n",
      "Print(r'$\\psi^- = %s = %s$' %(fs(bell_4), fs(evecs[3])))"
     ],
     "language": "python",
     "metadata": {},
     "outputs": [
      {
       "html": [
        "<font size=4>$\\phi^+ = \\frac{1}{\\sqrt{2}}|00\\rangle+\\frac{1}{\\sqrt{2}}|11\\rangle = \\frac{1}{\\sqrt{2}}|00\\rangle+\\frac{1}{\\sqrt{2}}|11\\rangle$</font>"
       ],
       "metadata": {},
       "output_type": "display_data",
       "text": [
        "<IPython.core.display.HTML object>"
       ]
      },
      {
       "html": [
        "<font size=4>$\\phi^- = \\frac{1}{\\sqrt{2}}|00\\rangle-\\frac{1}{\\sqrt{2}}|11\\rangle = -\\frac{1}{\\sqrt{2}}|00\\rangle+\\frac{1}{\\sqrt{2}}|11\\rangle$</font>"
       ],
       "metadata": {},
       "output_type": "display_data",
       "text": [
        "<IPython.core.display.HTML object>"
       ]
      },
      {
       "html": [
        "<font size=4>$\\psi^+ = \\frac{1}{\\sqrt{2}}|01\\rangle+\\frac{1}{\\sqrt{2}}|10\\rangle = \\frac{1}{\\sqrt{2}}|01\\rangle+\\frac{1}{\\sqrt{2}}|10\\rangle$</font>"
       ],
       "metadata": {},
       "output_type": "display_data",
       "text": [
        "<IPython.core.display.HTML object>"
       ]
      },
      {
       "html": [
        "<font size=4>$\\psi^- = \\frac{1}{\\sqrt{2}}|01\\rangle-\\frac{1}{\\sqrt{2}}|10\\rangle = -\\frac{1}{\\sqrt{2}}|01\\rangle+\\frac{1}{\\sqrt{2}}|10\\rangle$</font>"
       ],
       "metadata": {},
       "output_type": "display_data",
       "text": [
        "<IPython.core.display.HTML object>"
       ]
      }
     ],
     "prompt_number": 6
    },
    {
     "cell_type": "markdown",
     "metadata": {},
     "source": [
      "<font size=3>\n",
      "<hr size=3>\n",
      "Note above how my version of $\\phi^1$ and $\\psi^-$ but they are numerically\n",
      "\"multiplied through\" by minus one. This is what I meant above when I said\n",
      "the the \"overall phase\" was different. But they will still yield the same\n",
      "probabilities.\n",
      "<p>\n",
      "And, we see below that measurements appear to work.\n",
      "<hr size=3>\n",
      "</font>"
     ]
    },
    {
     "cell_type": "code",
     "collapsed": false,
     "input": [
      "Print('$%s, %s, %s, %s$'\n",
      "      %(myltx(evecs[0]),myltx(evecs[0]),myltx(evecs[0]),myltx(evecs[0])))\n",
      "foo = analyze_measurement(BBM, bell_1)\n",
      "Print('$%s$'%foo)\n",
      "foo = analyze_measurement(BBM, bell_2)\n",
      "Print('$%s$'%foo)\n",
      "foo = analyze_measurement(BBM, bell_3)\n",
      "Print('$%s$'%foo)\n",
      "foo = analyze_measurement(BBM, bell_4)\n",
      "Print('$%s$'%foo)"
     ],
     "language": "python",
     "metadata": {},
     "outputs": [
      {
       "html": [
        "<font size=4>$\\frac{1}{\\sqrt{2}}\\left[\\begin{matrix}1\\\\0\\\\0\\\\1\\end{matrix}\\right], \\frac{1}{\\sqrt{2}}\\left[\\begin{matrix}1\\\\0\\\\0\\\\1\\end{matrix}\\right], \\frac{1}{\\sqrt{2}}\\left[\\begin{matrix}1\\\\0\\\\0\\\\1\\end{matrix}\\right], \\frac{1}{\\sqrt{2}}\\left[\\begin{matrix}1\\\\0\\\\0\\\\1\\end{matrix}\\right]$</font>"
       ],
       "metadata": {},
       "output_type": "display_data",
       "text": [
        "<IPython.core.display.HTML object>"
       ]
      },
      {
       "html": [
        "<font size=4>$[1, 0, 0, 0]$</font>"
       ],
       "metadata": {},
       "output_type": "display_data",
       "text": [
        "<IPython.core.display.HTML object>"
       ]
      },
      {
       "html": [
        "<font size=4>$[0, 1, 0, 0]$</font>"
       ],
       "metadata": {},
       "output_type": "display_data",
       "text": [
        "<IPython.core.display.HTML object>"
       ]
      },
      {
       "html": [
        "<font size=4>$[0, 0, 1, 0]$</font>"
       ],
       "metadata": {},
       "output_type": "display_data",
       "text": [
        "<IPython.core.display.HTML object>"
       ]
      },
      {
       "html": [
        "<font size=4>$[0, 0, 0, 1]$</font>"
       ],
       "metadata": {},
       "output_type": "display_data",
       "text": [
        "<IPython.core.display.HTML object>"
       ]
      }
     ],
     "prompt_number": 7
    },
    {
     "cell_type": "code",
     "collapsed": false,
     "input": [],
     "language": "python",
     "metadata": {},
     "outputs": [],
     "prompt_number": 7
    }
   ],
   "metadata": {}
  }
 ]
}