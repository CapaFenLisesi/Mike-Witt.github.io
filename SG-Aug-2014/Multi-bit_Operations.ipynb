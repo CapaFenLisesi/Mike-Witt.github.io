{
 "metadata": {
  "name": "",
  "signature": "sha256:2b6d35c50d0f9e37b454fe828eacc7a32de72648567b04117ca4665af78e7bf3"
 },
 "nbformat": 3,
 "nbformat_minor": 0,
 "worksheets": [
  {
   "cells": [
    {
     "cell_type": "markdown",
     "metadata": {},
     "source": [
      "<a name=top></a>\n",
      "<center>\n",
      "<h1>Multi-Bit Operations</h1>\n",
      "</center>\n",
      "<p>\n",
      "The purpose of this notebook is just to give a few examples of what you can do with multi-bit (actually 2 bit) operations in python. There is not a lot of tutorial commentary here, so if you haven't been following along with what we've done in the notebooks up to this point, it might not make too much sense. If you're interested in this, but don't get it, let me know. If could become the subject of a \"lab\" session in the future."
     ]
    },
    {
     "cell_type": "markdown",
     "metadata": {},
     "source": [
      "<h2>Setup Cell</h2>\n",
      "<p>\n",
      "Like always, you have to run the cell below to get the libraries included. \n",
      "The \"autosave 0\" line at the top prevents changes to the notebook from automatically being saved every few minutes. If you make changes you want to save you need to pull down the \"File\" menu and select \"Save and Checkpoint\"\n",
      "<p>\n",
      "I'm also importing a routine from one of the \"sympy quantum\" libraries, which prints out a bit state formatted as a ket."
     ]
    },
    {
     "cell_type": "code",
     "collapsed": false,
     "input": [
      "%autosave 0\n",
      "from sglib import *\n",
      "from sympy.physics.quantum.qubit import matrix_to_qubit"
     ],
     "language": "python",
     "metadata": {},
     "outputs": [
      {
       "javascript": [
        "IPython.notebook.set_autosave_interval(0)"
       ],
       "metadata": {},
       "output_type": "display_data"
      },
      {
       "output_type": "stream",
       "stream": "stdout",
       "text": [
        "Autosave disabled\n"
       ]
      }
     ],
     "prompt_number": 2
    },
    {
     "cell_type": "markdown",
     "metadata": {},
     "source": [
      "<h2>Review of single-bit operators</h2>\n",
      "<p>"
     ]
    },
    {
     "cell_type": "code",
     "collapsed": false,
     "input": [
      "I = mat(1,0,0,1)\n",
      "NOT = X = sigma_x\n",
      "H = mat(1,1,1,-1)/sqrt(2)\n",
      "Print('$I = %s$' %myltx(I))\n",
      "Print('$X = %s$' %myltx(X))\n",
      "Print('$H = %s$' %myltx(H))"
     ],
     "language": "python",
     "metadata": {},
     "outputs": [
      {
       "html": [
        "<font size=4>$I = \\left[\\begin{matrix}1 & 0\\\\0 & 1\\end{matrix}\\right]$</font>"
       ],
       "metadata": {},
       "output_type": "display_data",
       "text": [
        "<IPython.core.display.HTML object>"
       ]
      },
      {
       "html": [
        "<font size=4>$X = \\left[\\begin{matrix}0 & 1\\\\1 & 0\\end{matrix}\\right]$</font>"
       ],
       "metadata": {},
       "output_type": "display_data",
       "text": [
        "<IPython.core.display.HTML object>"
       ]
      },
      {
       "html": [
        "<font size=4>$H = \\frac{1}{\\sqrt{2}}\\left[\\begin{matrix}1 & 1\\\\1 & -1\\end{matrix}\\right]$</font>"
       ],
       "metadata": {},
       "output_type": "display_data",
       "text": [
        "<IPython.core.display.HTML object>"
       ]
      }
     ],
     "prompt_number": 3
    },
    {
     "cell_type": "markdown",
     "metadata": {},
     "source": [
      "<h2>$\\sqrt{NOT}$ Operator</h2>\n",
      "<p>\n",
      "We didn't cover this in class. You don't need to worry about it right now."
     ]
    },
    {
     "cell_type": "code",
     "collapsed": false,
     "input": [
      "H = 1/sqrt(2)*Matrix([(1,1),(1,-1)])\n",
      "SN1 = 1/sqrt(2)*Matrix([(i,1),(1,i)])\n",
      "SN2 = 1/sqrt(2)*Matrix([(1,i),(i,1)])\n",
      "sg_print(H)\n",
      "sg_print(SN1)\n",
      "sg_print(SN2)\n",
      "H*H, SN1*SN1, SN2*SN2, SN1*SN1*col(1,0)"
     ],
     "language": "python",
     "metadata": {},
     "outputs": [
      {
       "html": [
        "<font size=4>$\\frac{1}{\\sqrt{2}}\\left[\\begin{matrix}1 & 1\\\\1 & -1\\end{matrix}\\right]$</font>"
       ],
       "metadata": {},
       "output_type": "display_data",
       "text": [
        "<IPython.core.display.HTML object>"
       ]
      },
      {
       "html": [
        "<font size=4>$\\frac{1}{\\sqrt{2}}\\left[\\begin{matrix}i & 1\\\\1 & i\\end{matrix}\\right]$</font>"
       ],
       "metadata": {},
       "output_type": "display_data",
       "text": [
        "<IPython.core.display.HTML object>"
       ]
      },
      {
       "html": [
        "<font size=4>$\\frac{1}{\\sqrt{2}}\\left[\\begin{matrix}1 & i\\\\i & 1\\end{matrix}\\right]$</font>"
       ],
       "metadata": {},
       "output_type": "display_data",
       "text": [
        "<IPython.core.display.HTML object>"
       ]
      },
      {
       "latex": [
        "$$\\begin{pmatrix}\\left[\\begin{matrix}1 & 0\\\\0 & 1\\end{matrix}\\right], & \\left[\\begin{matrix}0 & i\\\\i & 0\\end{matrix}\\right], & \\left[\\begin{matrix}0 & i\\\\i & 0\\end{matrix}\\right], & \\left[\\begin{matrix}0\\\\i\\end{matrix}\\right]\\end{pmatrix}$$"
       ],
       "metadata": {},
       "output_type": "pyout",
       "png": "[encoded data removed]",
       "prompt_number": 5,
       "text": [
        "\u239b\u23a11  0\u23a4, \u23a10  \u2148\u23a4, \u23a10  \u2148\u23a4, \u23a10\u23a4\u239e\n",
        "\u239c\u23a2    \u23a5  \u23a2    \u23a5  \u23a2    \u23a5  \u23a2 \u23a5\u239f\n",
        "\u239d\u23a30  1\u23a6  \u23a3\u2148  0\u23a6  \u23a3\u2148  0\u23a6  \u23a3\u2148\u23a6\u23a0"
       ]
      }
     ],
     "prompt_number": 5
    },
    {
     "cell_type": "markdown",
     "metadata": {},
     "source": [
      "So ... it appears that the \"square root of not\" only deserves that name\n",
      "in terms of the resulting probabilities. You can't actually square\n",
      "it to get a NOT matrix."
     ]
    },
    {
     "cell_type": "markdown",
     "metadata": {},
     "source": [
      "<h2>Two-bit operators</h2>\n",
      "<p>"
     ]
    },
    {
     "cell_type": "code",
     "collapsed": false,
     "input": [
      "SWAP = mat(1,0,0,0, 0,0,1,0, 0,1,0,0, 0,0,0,1)\n",
      "SWAP"
     ],
     "language": "python",
     "metadata": {},
     "outputs": [
      {
       "latex": [
        "$$\\left[\\begin{matrix}1 & 0 & 0 & 0\\\\0 & 0 & 1 & 0\\\\0 & 1 & 0 & 0\\\\0 & 0 & 0 & 1\\end{matrix}\\right]$$"
       ],
       "metadata": {},
       "output_type": "pyout",
       "png": "[encoded data removed]",
       "prompt_number": 6,
       "text": [
        "\u23a11  0  0  0\u23a4\n",
        "\u23a2          \u23a5\n",
        "\u23a20  0  1  0\u23a5\n",
        "\u23a2          \u23a5\n",
        "\u23a20  1  0  0\u23a5\n",
        "\u23a2          \u23a5\n",
        "\u23a30  0  0  1\u23a6"
       ]
      }
     ],
     "prompt_number": 6
    },
    {
     "cell_type": "code",
     "collapsed": false,
     "input": [
      "a_1 = sy.Symbol('a_1'); a_2 = sy.Symbol('a_2');\n",
      "b_1 = sy.Symbol('b_1'); b_2 = sy.Symbol('b_2')\n",
      "a = col(a_1, a_2); b = col(b_1, b_2)\n",
      "# NOTE: \"TP\" is the Tensor Product\n",
      "state = TP(a,b)\n",
      "Print('Before: $%s$'%latex(state))\n",
      "Print('After : $%s$'%latex(SWAP*state))"
     ],
     "language": "python",
     "metadata": {},
     "outputs": [
      {
       "html": [
        "<font size=4>Before: $\\left[\\begin{matrix}a_{1} b_{1}\\\\a_{1} b_{2}\\\\a_{2} b_{1}\\\\a_{2} b_{2}\\end{matrix}\\right]$</font>"
       ],
       "metadata": {},
       "output_type": "display_data",
       "text": [
        "<IPython.core.display.HTML object>"
       ]
      },
      {
       "html": [
        "<font size=4>After : $\\left[\\begin{matrix}a_{1} b_{1}\\\\a_{2} b_{1}\\\\a_{1} b_{2}\\\\a_{2} b_{2}\\end{matrix}\\right]$</font>"
       ],
       "metadata": {},
       "output_type": "display_data",
       "text": [
        "<IPython.core.display.HTML object>"
       ]
      }
     ],
     "prompt_number": 7
    },
    {
     "cell_type": "code",
     "collapsed": false,
     "input": [
      "zero = col(1,0); one = col(0,1)\n",
      "state = TP(zero, one)\n",
      "Print('SWAP $%s = %s$'\n",
      "      %(latex(matrix_to_qubit(state)), latex(matrix_to_qubit(SWAP*state))))\n",
      "state = TP(one, zero)\n",
      "Print('SWAP $%s = %s$'\n",
      "      %(latex(matrix_to_qubit(state)), latex(matrix_to_qubit(SWAP*state))))"
     ],
     "language": "python",
     "metadata": {},
     "outputs": [
      {
       "html": [
        "<font size=4>SWAP ${\\left|01\\right\\rangle } = {\\left|10\\right\\rangle }$</font>"
       ],
       "metadata": {},
       "output_type": "display_data",
       "text": [
        "<IPython.core.display.HTML object>"
       ]
      },
      {
       "html": [
        "<font size=4>SWAP ${\\left|10\\right\\rangle } = {\\left|01\\right\\rangle }$</font>"
       ],
       "metadata": {},
       "output_type": "display_data",
       "text": [
        "<IPython.core.display.HTML object>"
       ]
      }
     ],
     "prompt_number": 8
    },
    {
     "cell_type": "code",
     "collapsed": false,
     "input": [
      "CNOT = mat(1,0,0,0, 0,1,0,0, 0,0,0,1, 0,0,1,0)\n",
      "CNOT"
     ],
     "language": "python",
     "metadata": {},
     "outputs": [
      {
       "latex": [
        "$$\\left[\\begin{matrix}1 & 0 & 0 & 0\\\\0 & 1 & 0 & 0\\\\0 & 0 & 0 & 1\\\\0 & 0 & 1 & 0\\end{matrix}\\right]$$"
       ],
       "metadata": {},
       "output_type": "pyout",
       "png": "[encoded data removed]",
       "prompt_number": 9,
       "text": [
        "\u23a11  0  0  0\u23a4\n",
        "\u23a2          \u23a5\n",
        "\u23a20  1  0  0\u23a5\n",
        "\u23a2          \u23a5\n",
        "\u23a20  0  0  1\u23a5\n",
        "\u23a2          \u23a5\n",
        "\u23a30  0  1  0\u23a6"
       ]
      }
     ],
     "prompt_number": 9
    },
    {
     "cell_type": "code",
     "collapsed": false,
     "input": [
      "state = TP(zero, zero)\n",
      "Print('CNOT $%s = %s$'\n",
      "      %(latex(matrix_to_qubit(state)), latex(matrix_to_qubit(CNOT*state))))\n",
      "state = TP(zero, one)\n",
      "Print('CNOT $%s = %s$'\n",
      "      %(latex(matrix_to_qubit(state)), latex(matrix_to_qubit(CNOT*state))))\n",
      "state = TP(one, zero)\n",
      "Print('CNOT $%s = %s$'\n",
      "      %(latex(matrix_to_qubit(state)), latex(matrix_to_qubit(CNOT*state))))\n",
      "state = TP(one, one)\n",
      "Print('CNOT $%s = %s$'\n",
      "      %(latex(matrix_to_qubit(state)), latex(matrix_to_qubit(CNOT*state))))"
     ],
     "language": "python",
     "metadata": {},
     "outputs": [
      {
       "html": [
        "<font size=4>CNOT ${\\left|00\\right\\rangle } = {\\left|00\\right\\rangle }$</font>"
       ],
       "metadata": {},
       "output_type": "display_data",
       "text": [
        "<IPython.core.display.HTML object>"
       ]
      },
      {
       "html": [
        "<font size=4>CNOT ${\\left|01\\right\\rangle } = {\\left|01\\right\\rangle }$</font>"
       ],
       "metadata": {},
       "output_type": "display_data",
       "text": [
        "<IPython.core.display.HTML object>"
       ]
      },
      {
       "html": [
        "<font size=4>CNOT ${\\left|10\\right\\rangle } = {\\left|11\\right\\rangle }$</font>"
       ],
       "metadata": {},
       "output_type": "display_data",
       "text": [
        "<IPython.core.display.HTML object>"
       ]
      },
      {
       "html": [
        "<font size=4>CNOT ${\\left|11\\right\\rangle } = {\\left|10\\right\\rangle }$</font>"
       ],
       "metadata": {},
       "output_type": "display_data",
       "text": [
        "<IPython.core.display.HTML object>"
       ]
      }
     ],
     "prompt_number": 10
    },
    {
     "cell_type": "code",
     "collapsed": false,
     "input": [],
     "language": "python",
     "metadata": {},
     "outputs": []
    }
   ],
   "metadata": {}
  }
 ]
}