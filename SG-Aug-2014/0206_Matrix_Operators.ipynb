{
 "metadata": {
  "name": "",
  "signature": "sha256:612f832f3c391cb4858d77ca6170539be2fac9d416d52a86be2d69160e531dda"
 },
 "nbformat": 3,
 "nbformat_minor": 0,
 "worksheets": [
  {
   "cells": [
    {
     "cell_type": "markdown",
     "metadata": {},
     "source": [
      "<center>\n",
      "<h2>Matrix Operators</h2>\n",
      "</center>\n",
      "<p>\n",
      "This notebook goes with section 2.6 of the notes."
     ]
    },
    {
     "cell_type": "markdown",
     "metadata": {},
     "source": [
      "<h2>Setup Cell</h2>"
     ]
    },
    {
     "cell_type": "code",
     "collapsed": false,
     "input": [
      "%autosave 0\n",
      "%matplotlib inline\n",
      "from sglib import *"
     ],
     "language": "python",
     "metadata": {},
     "outputs": [
      {
       "javascript": [
        "IPython.notebook.set_autosave_interval(0)"
       ],
       "metadata": {},
       "output_type": "display_data"
      },
      {
       "output_type": "stream",
       "stream": "stdout",
       "text": [
        "Autosave disabled\n"
       ]
      }
     ],
     "prompt_number": 1
    },
    {
     "cell_type": "markdown",
     "metadata": {},
     "source": [
      "<h2>Visualize a Real, 2D Operation on a Vector</h2>\n",
      "<p>\n",
      "You just need to change the input_vector and the matrix.\n",
      "The rest should work automatically. You can either supply\n",
      "a matrix of your own, or you can \"uncomment\" one of the\n",
      "ones already there (by removing the \"#\"). Make sure every\n",
      "matrix except the one you want is commented out.\n",
      "</p>"
     ]
    },
    {
     "cell_type": "code",
     "collapsed": false,
     "input": [
      "input_vector = col(5,2) # Put your vector here.\n",
      "#matrix = Matrix([(2,0),(0,2)]) # Put your matrix here.\n",
      "\n",
      "#\n",
      "# Or, uncomment one of the matrices below\n",
      "#\n",
      "\n",
      "#matrix = Matrix([(-1,0),(0,-1)]) # Minus Operator\n",
      "#matrix = Matrix([(1,0),(0,-1)]) # X Reflect Operator\n",
      "#matrix = Matrix([(-1,0),(0,1)]) # Y Reflect Operator\n",
      "matrix = Matrix([(0,1),(1,0)]) # Not Operator\n",
      "\n",
      "# For the rotation operation, note that theta is in\n",
      "# radians, not degrees. So, for example, pi/2 would\n",
      "# give you 90 degrees, pi/4 would give you 45 degrees.\n",
      "from sympy import pi, sin, cos\n",
      "theta=pi/6\n",
      "a = cos(theta); b=-sin(theta); c=sin(theta); d=cos(theta)\n",
      "#matrix = Matrix([(a,b),(c,d)]) # Rotation Operator\n",
      "\n",
      "#\n",
      "# You probably won't want to change anything below here.\n",
      "# (Unless you want to change the colors below)\n",
      "#\n",
      "\n",
      "# In the next line, the matrix \"operates\" on the vector\n",
      "output_vector = matrix * input_vector\n",
      "\n",
      "# This line contains special code to print the math nicely\n",
      "Print(r'$%s%s=%s$'\n",
      "    %( myltx(matrix), myltx(input_vector), myltx(output_vector) ))\n",
      "\n",
      "# The variable \"D\" results from a calculation that tells how\n",
      "# \"big\" we need to draw the plane and the vectors that go on it.\n",
      "D = max(1,abs(input_vector[0]), abs(input_vector[1]), \n",
      "    abs(output_vector[0]), abs(output_vector[1]))\n",
      "D = float(D)*1.3\n",
      "\n",
      "# Draw a 2D plane and then draw the input and out vectors.\n",
      "# Here you can change the colors if you want to (but be sure\n",
      "# to change the colors in the \"title\" also).\n",
      "draw_plane(domain=[-D, D, -D, D])\n",
      "pylab.title('input vector blue\\n ouput vector green', fontsize=16)\n",
      "draw_vector(input_vector, color='blue', scale=D)\n",
      "draw_vector(output_vector, color='green', scale=D)"
     ],
     "language": "python",
     "metadata": {},
     "outputs": [
      {
       "html": [
        "<font size=4>$\\left[\\begin{matrix}0 & 1\\\\1 & 0\\end{matrix}\\right]\\left[\\begin{matrix}5\\\\2\\end{matrix}\\right]=\\left[\\begin{matrix}2\\\\5\\end{matrix}\\right]$</font>"
       ],
       "metadata": {},
       "output_type": "display_data",
       "text": [
        "<IPython.core.display.HTML object>"
       ]
      },
      {
       "metadata": {},
       "output_type": "display_data",
       "png": "[encoded data removed]",
       "text": [
        "<matplotlib.figure.Figure at 0xa47d22c>"
       ]
      }
     ],
     "prompt_number": 3
    },
    {
     "cell_type": "code",
     "collapsed": false,
     "input": [],
     "language": "python",
     "metadata": {},
     "outputs": [],
     "prompt_number": 2
    }
   ],
   "metadata": {}
  }
 ]
}