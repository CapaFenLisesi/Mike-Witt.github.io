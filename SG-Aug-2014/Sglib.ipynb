{
 "metadata": {
  "name": "",
  "signature": "sha256:8d03e812c3b9c199a40cc90ae2588eebc64bb41b014c6c2a77d32487caba15f5"
 },
 "nbformat": 3,
 "nbformat_minor": 0,
 "worksheets": [
  {
   "cells": [
    {
     "cell_type": "markdown",
     "metadata": {},
     "source": [
      "<a name=top></a>\n",
      "<center>\n",
      "<h2>This notebook is for testing code in sglib.py</h2>\n",
      "</center>\n",
      "<p>\n",
      "I <i>may</i> end up also using it for documenting sglib functions.\n",
      "<p>"
     ]
    },
    {
     "cell_type": "markdown",
     "metadata": {},
     "source": [
      "<h2>Contents</h2>\n",
      "<ul>\n",
      "<li> <a href=\"#setup\">Setup Cell</a>\n",
      "<li> <a href=\"#kets\">kets and vectors</a>\n",
      "<li> <a href=\"#string_tensor\">string_tensor()</a>\n",
      "<li> <a href=\"#format_state\">sg_format_state()</a>\n",
      "</ul>"
     ]
    },
    {
     "cell_type": "markdown",
     "metadata": {},
     "source": [
      "<hr size=3>\n",
      "<a name=setup></a>\n",
      "<h2><a href=\"#top\">^</a> Setup Cell</h2>"
     ]
    },
    {
     "cell_type": "code",
     "collapsed": false,
     "input": [
      "%autosave 0\n",
      "%matplotlib inline\n",
      "import sglib\n",
      "reload(sglib)\n",
      "from sglib import *"
     ],
     "language": "python",
     "metadata": {},
     "outputs": [
      {
       "javascript": [
        "IPython.notebook.set_autosave_interval(0)"
       ],
       "metadata": {},
       "output_type": "display_data"
      },
      {
       "output_type": "stream",
       "stream": "stdout",
       "text": [
        "Autosave disabled\n"
       ]
      }
     ],
     "prompt_number": 10
    },
    {
     "cell_type": "markdown",
     "metadata": {},
     "source": [
      "<hr size=3>\n",
      "<a name=kets></a>\n",
      "<h2><a href=\"#top\">^</a> Kets and Vectors</h2>\n",
      "<p>\n",
      "You can create a state using either the <code>col()</code> or the\n",
      "<code>ket()</code> function. In both cases, the object that gets\n",
      "created is a column vector."
     ]
    },
    {
     "cell_type": "code",
     "collapsed": false,
     "input": [
      "col(1,0)"
     ],
     "language": "python",
     "metadata": {},
     "outputs": [
      {
       "latex": [
        "$$\\left[\\begin{matrix}1\\\\0\\end{matrix}\\right]$$"
       ],
       "metadata": {},
       "output_type": "pyout",
       "png": "[encoded data removed]",
       "prompt_number": 36,
       "text": [
        "\u23a11\u23a4\n",
        "\u23a2 \u23a5\n",
        "\u23a30\u23a6"
       ]
      }
     ],
     "prompt_number": 36
    },
    {
     "cell_type": "code",
     "collapsed": false,
     "input": [
      "ket('+z')"
     ],
     "language": "python",
     "metadata": {},
     "outputs": [
      {
       "latex": [
        "$$\\left[\\begin{matrix}1\\\\0\\end{matrix}\\right]$$"
       ],
       "metadata": {},
       "output_type": "pyout",
       "png": "[encoded data removed]",
       "prompt_number": 37,
       "text": [
        "\u23a11\u23a4\n",
        "\u23a2 \u23a5\n",
        "\u23a30\u23a6"
       ]
      }
     ],
     "prompt_number": 37
    },
    {
     "cell_type": "markdown",
     "metadata": {},
     "source": [
      "When you use the <code>col()</code> the parameters you give it are simply\n",
      "the individual components of the column vector, separated by commas. The\n",
      "vector can have any dimension. Here's one of dimension 4:"
     ]
    },
    {
     "cell_type": "code",
     "collapsed": false,
     "input": [
      "col(1,0,0,0)"
     ],
     "language": "python",
     "metadata": {},
     "outputs": [
      {
       "latex": [
        "$$\\left[\\begin{matrix}1\\\\0\\\\0\\\\0\\end{matrix}\\right]$$"
       ],
       "metadata": {},
       "output_type": "pyout",
       "png": "[encoded data removed]",
       "prompt_number": 40,
       "text": [
        "\u23a11\u23a4\n",
        "\u23a2 \u23a5\n",
        "\u23a20\u23a5\n",
        "\u23a2 \u23a5\n",
        "\u23a20\u23a5\n",
        "\u23a2 \u23a5\n",
        "\u23a30\u23a6"
       ]
      }
     ],
     "prompt_number": 40
    },
    {
     "cell_type": "markdown",
     "metadata": {},
     "source": [
      "The <code>ket()</code> only takes a single parameter, and it needs to by\n",
      "enclosed in quotes. It will recognize the basic electron states, and a\n",
      "zero or one for the classical bit state."
     ]
    },
    {
     "cell_type": "code",
     "collapsed": false,
     "input": [
      "ket('-y')"
     ],
     "language": "python",
     "metadata": {},
     "outputs": [
      {
       "latex": [
        "$$\\left[\\begin{matrix}\\frac{\\sqrt{2}}{2}\\\\- \\frac{\\sqrt{2} i}{2}\\end{matrix}\\right]$$"
       ],
       "metadata": {},
       "output_type": "pyout",
       "png": "[encoded data removed]",
       "prompt_number": 48,
       "text": [
        "\u23a1    ___  \u23a4\n",
        "\u23a2  \u2572\u2571 2   \u23a5\n",
        "\u23a2  \u2500\u2500\u2500\u2500\u2500  \u23a5\n",
        "\u23a2    2    \u23a5\n",
        "\u23a2         \u23a5\n",
        "\u23a2   ___   \u23a5\n",
        "\u23a2-\u2572\u2571 2 \u22c5\u2148 \u23a5\n",
        "\u23a2\u2500\u2500\u2500\u2500\u2500\u2500\u2500\u2500\u2500\u23a5\n",
        "\u23a3    2    \u23a6"
       ]
      }
     ],
     "prompt_number": 48
    },
    {
     "cell_type": "code",
     "collapsed": false,
     "input": [
      "ket('0'), ket('1')"
     ],
     "language": "python",
     "metadata": {},
     "outputs": [
      {
       "latex": [
        "$$\\begin{pmatrix}\\left[\\begin{matrix}1\\\\0\\end{matrix}\\right], & \\left[\\begin{matrix}0\\\\1\\end{matrix}\\right]\\end{pmatrix}$$"
       ],
       "metadata": {},
       "output_type": "pyout",
       "png": "[encoded data removed]",
       "prompt_number": 50,
       "text": [
        "\u239b\u23a11\u23a4, \u23a10\u23a4\u239e\n",
        "\u239c\u23a2 \u23a5  \u23a2 \u23a5\u239f\n",
        "\u239d\u23a30\u23a6  \u23a31\u23a6\u23a0"
       ]
      }
     ],
     "prompt_number": 50
    },
    {
     "cell_type": "code",
     "collapsed": false,
     "input": [
      "import sglib\n",
      "reload(sglib)\n",
      "from sglib import *\n",
      "\n",
      "psi = 1/sqrt(2)*ket('+z') + 1/sqrt(2)*ket('-z')\n",
      "fm = latex\n",
      "fm = sg_latex\n",
      "fm = sg_format_state(['+z','-z'], ',').format\n",
      "Print(r'$\\psi = %s$' % fm(psi))\n"
     ],
     "language": "python",
     "metadata": {},
     "outputs": [
      {
       "html": [
        "<font size=4>$\\psi = \\frac{1}{\\sqrt{2}}|+z\\rangle+\\frac{1}{\\sqrt{2}}|-z\\rangle$</font>"
       ],
       "metadata": {},
       "output_type": "display_data",
       "text": [
        "<IPython.core.display.HTML object>"
       ]
      }
     ],
     "prompt_number": 54
    },
    {
     "cell_type": "code",
     "collapsed": false,
     "input": [],
     "language": "python",
     "metadata": {},
     "outputs": []
    },
    {
     "cell_type": "code",
     "collapsed": false,
     "input": [],
     "language": "python",
     "metadata": {},
     "outputs": []
    },
    {
     "cell_type": "code",
     "collapsed": false,
     "input": [],
     "language": "python",
     "metadata": {},
     "outputs": []
    },
    {
     "cell_type": "code",
     "collapsed": false,
     "input": [],
     "language": "python",
     "metadata": {},
     "outputs": []
    },
    {
     "cell_type": "code",
     "collapsed": false,
     "input": [],
     "language": "python",
     "metadata": {},
     "outputs": []
    },
    {
     "cell_type": "markdown",
     "metadata": {},
     "source": [
      "<hr size=3>\n",
      "<a name=string_tensor></a>\n",
      "<h2><a href=\"#top\">^</a> string_tensor()</h2>\n",
      "<p>"
     ]
    },
    {
     "cell_type": "code",
     "collapsed": false,
     "input": [
      "string_tensor(2, ['0','1'], separator=',', D=False)"
     ],
     "language": "python",
     "metadata": {},
     "outputs": [
      {
       "metadata": {},
       "output_type": "pyout",
       "prompt_number": 15,
       "text": [
        "['0,0', '0,1', '1,0', '1,1']"
       ]
      }
     ],
     "prompt_number": 15
    },
    {
     "cell_type": "markdown",
     "metadata": {},
     "source": [
      "<hr size=3>\n",
      "<a name=format_state></a>\n",
      "<h2><a href=\"#top\">^</a> sg_format_state()</h2>\n",
      "<p>"
     ]
    },
    {
     "cell_type": "code",
     "collapsed": false,
     "input": [
      "fs = sg_format_state(basis=['0', '1'], separator='').format\n",
      "fs = sg_format_state(basis=['+z', '-z'], separator='').format\n",
      "fs = sg_format_state(basis=['Heads', 'Tails'], separator='').format\n",
      "psi = 1/sqrt(2)*col(1,0)+1/sqrt(2)*col(0,1)\n",
      "Print('$\\psi=%s$'%fs(psi))"
     ],
     "language": "python",
     "metadata": {},
     "outputs": [
      {
       "html": [
        "<font size=4>$\\psi=\\frac{1}{\\sqrt{2}}|Heads\\rangle+\\frac{1}{\\sqrt{2}}|Tails\\rangle$</font>"
       ],
       "metadata": {},
       "output_type": "display_data",
       "text": [
        "<IPython.core.display.HTML object>"
       ]
      }
     ],
     "prompt_number": 11
    },
    {
     "cell_type": "code",
     "collapsed": false,
     "input": [
      "#\n",
      "# The Bell States\n",
      "#\n",
      "bell_1 = 1/sqrt(2)*TP(pZ,pZ) + 1/sqrt(2)*TP(mZ,mZ) # phi+\n",
      "bell_2 = 1/sqrt(2)*TP(pZ,pZ) - 1/sqrt(2)*TP(mZ,mZ) # phi-\n",
      "bell_3 = 1/sqrt(2)*TP(pZ,mZ) + 1/sqrt(2)*TP(mZ,pZ) # psi+ (Triplet)\n",
      "bell_4 = 1/sqrt(2)*TP(pZ,mZ) - 1/sqrt(2)*TP(mZ,pZ) # psi- (Singlet)\n",
      "#\n",
      "# pick a format\n",
      "#\n",
      "fs = sg_format_state(basis=['+z', '-z'], separator=',').format\n",
      "fs = sg_format_state(basis=['0', '1'], separator='').format\n",
      "Print('Bell$_1 = %s$' %(fs(bell_1)))\n",
      "Print('Bell$_2 = %s$' %(fs(bell_2)))\n",
      "Print('Bell$_3 = %s$' %(fs(bell_3)))\n",
      "Print('Bell$_4 = %s$' %(fs(bell_4)))"
     ],
     "language": "python",
     "metadata": {},
     "outputs": [
      {
       "html": [
        "<font size=4>Bell$_1 = \\frac{1}{\\sqrt{2}}|00\\rangle+\\frac{1}{\\sqrt{2}}|11\\rangle$</font>"
       ],
       "metadata": {},
       "output_type": "display_data",
       "text": [
        "<IPython.core.display.HTML object>"
       ]
      },
      {
       "html": [
        "<font size=4>Bell$_2 = \\frac{1}{\\sqrt{2}}|00\\rangle-\\frac{1}{\\sqrt{2}}|11\\rangle$</font>"
       ],
       "metadata": {},
       "output_type": "display_data",
       "text": [
        "<IPython.core.display.HTML object>"
       ]
      },
      {
       "html": [
        "<font size=4>Bell$_3 = \\frac{1}{\\sqrt{2}}|01\\rangle+\\frac{1}{\\sqrt{2}}|10\\rangle$</font>"
       ],
       "metadata": {},
       "output_type": "display_data",
       "text": [
        "<IPython.core.display.HTML object>"
       ]
      },
      {
       "html": [
        "<font size=4>Bell$_4 = \\frac{1}{\\sqrt{2}}|01\\rangle-\\frac{1}{\\sqrt{2}}|10\\rangle$</font>"
       ],
       "metadata": {},
       "output_type": "display_data",
       "text": [
        "<IPython.core.display.HTML object>"
       ]
      }
     ],
     "prompt_number": 12
    },
    {
     "cell_type": "code",
     "collapsed": false,
     "input": [],
     "language": "python",
     "metadata": {},
     "outputs": [],
     "prompt_number": 6
    }
   ],
   "metadata": {}
  }
 ]
}