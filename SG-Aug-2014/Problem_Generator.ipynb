{
 "metadata": {
  "name": "",
  "signature": "sha256:91eb95e91841055caf2098afc418f3c26fe3e76a081486da18a0329311321889"
 },
 "nbformat": 3,
 "nbformat_minor": 0,
 "worksheets": [
  {
   "cells": [
    {
     "cell_type": "markdown",
     "metadata": {},
     "source": [
      "<a name=top></a>\n",
      "<center>\n",
      "<h1>Problem Generator Notebook</h1>\n",
      "</center>\n",
      "\n",
      "<p>\n",
      "    \n",
      "</p>"
     ]
    },
    {
     "cell_type": "markdown",
     "metadata": {},
     "source": [
      "<b><font color=brown>This setup cell below must be run first</font></b>"
     ]
    },
    {
     "cell_type": "code",
     "collapsed": false,
     "input": [
      "%matplotlib inline\n",
      "import sglib\n",
      "reload(sglib)\n",
      "from sglib import *\n",
      "# The next import makes expressions like 1/2 work.\n",
      "# So you no longer have to say frac(1/2)\n",
      "from __future__ import division"
     ],
     "language": "python",
     "metadata": {},
     "outputs": [],
     "prompt_number": 1
    },
    {
     "cell_type": "markdown",
     "metadata": {},
     "source": [
      "<h2>Contents</h2>\n",
      "<ul class=ult>\n",
      "    <li> <a href=\"#vector\">Vector Problems</a></li>\n",
      "    <li> <a href=\"#matrix\">Matrix Problems</a></li>\n",
      "    <li> <a href=\"#basis\">Basis Problems</a></li>\n",
      "    <li> <a href=\"#projections\">Draw Projections</a></li>\n",
      "    <li> <a href=\"#electron1\">Electron Spin</a></li>\n",
      "</ul>"
     ]
    },
    {
     "cell_type": "markdown",
     "metadata": {},
     "source": [
      "   \n",
      "<h2>Status</h2>\n",
      "<ul class=ult>\n",
      "    <li>To run locally: <code>ipython notebook</code>\n",
      "        <br>(the \"pylab inline\" thing should no longer be necessary)</li>\n",
      "</ul>"
     ]
    },
    {
     "cell_type": "markdown",
     "metadata": {},
     "source": [
      "<hr size=3>\n",
      "<a name=vector></a>\n",
      "<h2><a href=\"#top\">^</a> Vector Problems</h2>\n",
      "<ul class=sp>\n",
      "    <li>This will now generate <i>complex</i> vector problems.</li>\n",
      "    <li>If you want <i>real only</i> problems set: complex=False</li>\n",
      "    <li>Note: \"True\" and \"Fase\" must have the \"T\" or \"F\" capitalized.</li>\n",
      "</ul>"
     ]
    },
    {
     "cell_type": "code",
     "collapsed": false,
     "input": [
      "prob = vector_problem(max_dim=3, max_int=5, complex=True)\n",
      "prob.new()"
     ],
     "language": "python",
     "metadata": {},
     "outputs": [
      {
       "html": [
        "<font size=4>$\\left[\\begin{matrix}3 + 2 i & 4 + 5 i\\end{matrix}\\right] + \\left[\\begin{matrix}4 i & 2 + 2 i\\end{matrix}\\right]$</font>"
       ],
       "metadata": {},
       "output_type": "display_data",
       "text": [
        "<IPython.core.display.HTML at 0xb054b0c>"
       ]
      }
     ],
     "prompt_number": 5
    },
    {
     "cell_type": "code",
     "collapsed": false,
     "input": [
      "answer = row(3+6*i, 6+7*i)\n",
      "prob.check(answer)"
     ],
     "language": "python",
     "metadata": {},
     "outputs": [
      {
       "output_type": "stream",
       "stream": "stdout",
       "text": [
        "Correct\n"
       ]
      }
     ],
     "prompt_number": 6
    },
    {
     "cell_type": "markdown",
     "metadata": {},
     "source": [
      "<hr size=3>\n",
      "<a name=matrix></a>\n",
      "<h2><a href=\"#top\">^</a> Matrix Problems</h2>\n",
      "<ul class=sp>\n",
      "<li> The answer must be entered in \"matrix format.\" Hopefully we've covered that\n",
      "        in the Sunday meeting. Basically, every <i>row</i> of the matrix is entered\n",
      "        as a list, in parentheses. The the whole thing looks like:\n",
      "        &nbsp;<code>Matrix([ (row2), (row2), ... ])</code>. \n",
      "        <br>Just leave the outer parens and brackets as is, and enter the rows you need. \n",
      "    <br><br>\n",
      "        Example: the matrix\n",
      "    $\\left[\\begin{smallmatrix}1 & 2 & 3\\\\4 & 5 & 6\\\\7 & 8 & 9\\end{smallmatrix}\\right]$\n",
      "    <br><br>\n",
      "    would be entered as: \n",
      "        <br><br>\n",
      "        <code>Matrix([ (1,2,3), (4,5,6), (7,8,9) ])</code></li>\n",
      "<br>\n",
      "<li> You can use the \"Matrix Test\" cell below to see the results of a particular\n",
      "    matrix command.</li>\n",
      "</ul>"
     ]
    },
    {
     "cell_type": "code",
     "collapsed": false,
     "input": [
      "prob = matrix_problem(max_dim=2, max_int=5, complex=True)\n",
      "prob.new()"
     ],
     "language": "python",
     "metadata": {},
     "outputs": [
      {
       "html": [
        "<font size=4>$\\left[\\begin{matrix}5 + 5 i & 3 + i\\\\3 i & 4 + i\\end{matrix}\\right] \\left[\\begin{matrix}2 + 5 i & 4 + 3 i\\\\3 & 0\\end{matrix}\\right]$</font>"
       ],
       "metadata": {},
       "output_type": "display_data",
       "text": [
        "<IPython.core.display.HTML at 0xbd8ff2c>"
       ]
      }
     ],
     "prompt_number": 12
    },
    {
     "cell_type": "code",
     "collapsed": false,
     "input": [
      "answer = Matrix([ (4,8), (7,27) ])\n",
      "prob.check(answer)"
     ],
     "language": "python",
     "metadata": {},
     "outputs": []
    },
    {
     "cell_type": "markdown",
     "metadata": {},
     "source": [
      "<b><font color=brown>Matrix Test</font></b>"
     ]
    },
    {
     "cell_type": "code",
     "collapsed": false,
     "input": [
      "M = Matrix([ (1,2,3), (4,5,6), (7,8,9) ])\n",
      "Print('$%s$'%sy.latex(M))  "
     ],
     "language": "python",
     "metadata": {},
     "outputs": []
    },
    {
     "cell_type": "markdown",
     "metadata": {},
     "source": [
      "<hr size=3>\n",
      "<a name=basis></a>\n",
      "<h2><a href=\"#top\">^</a> Basis Problems</h2>\n",
      "<ul class=sp>\n",
      "<li>In all of these problems, the original vector is given in the\n",
      "            \"standard\" basis (1, 0) and (0, 1).</li>\n",
      "<li> All vectors in these problems are column vectors.</li>\n",
      "</ul>"
     ]
    },
    {
     "cell_type": "code",
     "collapsed": false,
     "input": [
      "prob = change_basis_problem(max_int=5, complex=False)\n",
      "prob.new()"
     ],
     "language": "python",
     "metadata": {},
     "outputs": [
      {
       "html": [
        "<font size=4>Transform the vector $\\left[\\begin{matrix}2\\\\2\\end{matrix}\\right]$ to the basis $\\left(\\frac{1}{\\sqrt{2}}\\left[\\begin{matrix}1\\\\1\\end{matrix}\\right],\\frac{1}{\\sqrt{2}}\\left[\\begin{matrix}1\\\\-1\\end{matrix}\\right]\\right)$</font>"
       ],
       "metadata": {},
       "output_type": "display_data",
       "text": [
        "<IPython.core.display.HTML at 0xbda40ec>"
       ]
      }
     ],
     "prompt_number": 13
    },
    {
     "cell_type": "code",
     "collapsed": false,
     "input": [
      "answer = col(4/sqrt(2), 0)\n",
      "prob.check(answer)"
     ],
     "language": "python",
     "metadata": {},
     "outputs": [
      {
       "html": [
        "<font size=4>Correct</font>"
       ],
       "metadata": {},
       "output_type": "display_data",
       "text": [
        "<IPython.core.display.HTML at 0xbdbd1ec>"
       ]
      }
     ],
     "prompt_number": 14
    },
    {
     "cell_type": "markdown",
     "metadata": {},
     "source": [
      "<hr size=3>\n",
      "<a name=projections></a>\n",
      "<h2><a href=\"#top\">^</a> Draw Projections</h2>\n",
      "<ul class=sp>\n",
      "<li> Pick the cell below that is closest to the problem you're interested in and then modify it for your problem.</li>\n",
      "</ul>"
     ]
    },
    {
     "cell_type": "code",
     "collapsed": false,
     "input": [
      "draw_projections(vector(1,0), vector(0,1), vector(2,3))"
     ],
     "language": "python",
     "metadata": {},
     "outputs": []
    },
    {
     "cell_type": "code",
     "collapsed": false,
     "input": [
      "draw_projections(1/sqrt(2)*vector(1,1), 1/sqrt(2)*vector(1,-1), vector(2,3))"
     ],
     "language": "python",
     "metadata": {},
     "outputs": []
    },
    {
     "cell_type": "code",
     "collapsed": false,
     "input": [
      "draw_projections(vector(-1,0), vector(0,-1), vector(2,3))"
     ],
     "language": "python",
     "metadata": {},
     "outputs": []
    },
    {
     "cell_type": "code",
     "collapsed": false,
     "input": [
      "draw_projections(1/sqrt(5)*vector(2,1), 1/sqrt(5)*vector(-1,2), vector(2,3))"
     ],
     "language": "python",
     "metadata": {},
     "outputs": []
    },
    {
     "cell_type": "markdown",
     "metadata": {},
     "source": [
      "<hr size=3>\n",
      "<a name=electron1></a>\n",
      "<h2><a href=\"#top\">^</a> Electron Spin</h2>\n",
      "<ul class=sp>\n",
      "<li>The \"use_y\" flag will determine whether y spin states are included.</li>\n",
      "<li>The \"complex\" flag tells whether to include complex amplitudes.</li>\n",
      "</ul>"
     ]
    },
    {
     "cell_type": "code",
     "collapsed": false,
     "input": [
      "import sglib\n",
      "reload(sglib)\n",
      "from sglib import *\n",
      "#\n",
      "set_font_size(3) # Font size of 3 or 4 works pretty well\n",
      "z=1; x=2; y=3 # Don't change this line!!!\n",
      "prob = electron_problem(\n",
      "    min_int=0, max_int=5, use_y=True, complex=True)\n",
      "#prob.set_debug(True) # Probably leave this commented out\n",
      "prob.new()"
     ],
     "language": "python",
     "metadata": {},
     "outputs": [
      {
       "html": [
        "<font size=3>Given the input state: $\\;\\dfrac{2 + 5 i}{\\sqrt{46}}| +y \\rangle-\\dfrac{1 + 4 i}{\\sqrt{46}}| -y \\rangle$\n",
        "<br><br>\n",
        "If you do the observation associated with the matrix $\\left[\\begin{matrix}0 & 1\\\\1 & 0\\end{matrix}\\right]$\n",
        "<br><br>\n",
        "What is the probability of seeing the $1$ eigenvalue\n",
        "<br><br>\n",
        "</font>"
       ],
       "metadata": {},
       "output_type": "display_data",
       "text": [
        "<IPython.core.display.HTML at 0xc2da54c>"
       ]
      }
     ],
     "prompt_number": 5
    },
    {
     "cell_type": "code",
     "collapsed": false,
     "input": [
      "answer = 10/23\n",
      "prob.check(answer)"
     ],
     "language": "python",
     "metadata": {},
     "outputs": [
      {
       "html": [
        "<font size=3>Correct</font>"
       ],
       "metadata": {},
       "output_type": "display_data",
       "text": [
        "<IPython.core.display.HTML at 0xc2754cc>"
       ]
      }
     ],
     "prompt_number": 7
    },
    {
     "cell_type": "markdown",
     "metadata": {},
     "source": [
      "<hr size=3>\n",
      "<p>\n",
      "You can ignore everything below this point.\n",
      "</p>\n",
      "<hr size=3>"
     ]
    },
    {
     "cell_type": "code",
     "collapsed": false,
     "input": [
      "Print(prob.latex)"
     ],
     "language": "python",
     "metadata": {},
     "outputs": []
    },
    {
     "cell_type": "code",
     "collapsed": false,
     "input": [
      "print(prob.latex)"
     ],
     "language": "python",
     "metadata": {},
     "outputs": []
    }
   ],
   "metadata": {}
  }
 ]
}