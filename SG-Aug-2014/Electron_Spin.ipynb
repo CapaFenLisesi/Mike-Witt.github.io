{
 "metadata": {
  "name": "",
  "signature": "sha256:2729080400aaa0c5ff57a8859db64e5d60585c148f640526088716e2fdad43ee"
 },
 "nbformat": 3,
 "nbformat_minor": 0,
 "worksheets": [
  {
   "cells": [
    {
     "cell_type": "markdown",
     "metadata": {},
     "source": [
      "<a name=top></a>\n",
      "<center>\n",
      "<h1>Electron Spin</h1>\n",
      "</center>"
     ]
    },
    {
     "cell_type": "markdown",
     "metadata": {},
     "source": [
      "<h2>Contents</h2>\n",
      "<ul class=ult>\n",
      "<li> <a href=\"#setup\">Setup Cell</a></li>\n",
      "    <li> <a href=\"#es_prob\">Electron Spin Problem</a></li>\n",
      "</ul>"
     ]
    },
    {
     "cell_type": "markdown",
     "metadata": {},
     "source": [
      "<hr size=3>\n",
      "<a name=setup></a>\n",
      "<h2><a href=\"#top\">^</a> Setup Cell</h2>"
     ]
    },
    {
     "cell_type": "code",
     "collapsed": false,
     "input": [
      "%autosave 0\n",
      "%matplotlib inline\n",
      "from sglib import *"
     ],
     "language": "python",
     "metadata": {},
     "outputs": [
      {
       "javascript": [
        "IPython.notebook.set_autosave_interval(0)"
       ],
       "metadata": {},
       "output_type": "display_data"
      },
      {
       "output_type": "stream",
       "stream": "stdout",
       "text": [
        "Autosave disabled\n"
       ]
      }
     ],
     "prompt_number": 1
    },
    {
     "cell_type": "markdown",
     "metadata": {},
     "source": [
      "<hr size=3>\n",
      "<a name=es_prob></a>\n",
      "<h2><a href=\"#top\">^</a> Electron Spin Problem</h2>"
     ]
    },
    {
     "cell_type": "code",
     "collapsed": false,
     "input": [
      "import sglib\n",
      "reload(sglib)\n",
      "from sglib import *\n",
      "from sympy import sqrt, cos, sin, pi\n",
      "\n",
      "s_2 = col(1/sqrt(2), 0, 1/sqrt(2)) # This is p45 in the Bell notebook\n",
      "# = col(0, 1/sqrt(2), 1/sqrt(2))\n",
      "# = col(1/sqrt(2), 1/sqrt(2), 0)\n",
      "# = col(0,0,1)\n",
      "s_1 = col(1,0,0)\n",
      "# = col(0,1,0)\n",
      "\n",
      "electron_spin_problem(s_1, s_2, exact=False, ndigs=3, draw_box=True)"
     ],
     "language": "python",
     "metadata": {},
     "outputs": []
    },
    {
     "cell_type": "code",
     "collapsed": false,
     "input": [],
     "language": "python",
     "metadata": {},
     "outputs": []
    }
   ],
   "metadata": {}
  }
 ]
}