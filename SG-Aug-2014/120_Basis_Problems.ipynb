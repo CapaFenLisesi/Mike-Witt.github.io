{
 "metadata": {
  "name": ""
 },
 "nbformat": 3,
 "nbformat_minor": 0,
 "worksheets": [
  {
   "cells": [
    {
     "cell_type": "markdown",
     "metadata": {},
     "source": [
      "<style type=\"text/css\">\n",
      "    p {font-size: 12pt}\n",
      "    b {font-size: 12pt; font-weight: bold;}\n",
      "    i {font-size: 12pt; font-style: italic;}\n",
      "    ul.x {font-size: 12pt; padding: 0 0 0 0;}\n",
      "    ul.x li {margin-bottom: 5pt; }\n",
      "    ol {font-size: 12pt; margin-bottom: 3pt; list-style-type: decimal !important;}\n",
      "    ol.x {padding: 0 0 0 0; font-size: 12pt; list-style-type: decimal !important;}\n",
      "    ol.x li {margin-bottom: 5pt; }\n",
      "    .in {padding-left: 50pt;}\n",
      "    .din {padding-left: 75pt;}\n",
      "    .sp {padding-left: 50pt;}\n",
      "    .f12 {font-size: 12pt;}\n",
      "</style>"
     ]
    },
    {
     "cell_type": "markdown",
     "metadata": {},
     "source": [
      "<center>\n",
      "    <h2>Sunday Group - Change of Basis Problems</h2>  \n",
      "</center>\n",
      "\n",
      "<p>\n",
      "    <h2>Notes</h2>\n",
      "    <ol class=x>\n",
      "        <li><font color=red>\n",
      "            Do shift-return in the \"Setup\" cell, so that the library will be imported\n",
      "            </font></li>\n",
      "        <li>In all of these problems, the original vector is given in the\n",
      "            \"standard\" basis (1, 0) and (0, 1).\n",
      "        <li> All vectors in these problems are column vectors.\n",
      "    </ol>\n",
      "</p>"
     ]
    },
    {
     "cell_type": "markdown",
     "metadata": {},
     "source": [
      "<h2>Setup Cell</h2>\n"
     ]
    },
    {
     "cell_type": "code",
     "collapsed": false,
     "input": [
      "import sglib\n",
      "reload(sglib)\n",
      "from sglib import *"
     ],
     "language": "python",
     "metadata": {},
     "outputs": []
    },
    {
     "cell_type": "markdown",
     "metadata": {},
     "source": [
      "<h2>Problem Cell</h2>\n"
     ]
    },
    {
     "cell_type": "code",
     "collapsed": false,
     "input": [
      "prob = change_basis_problem(max_int=5)\n",
      "prob.new()"
     ],
     "language": "python",
     "metadata": {},
     "outputs": []
    },
    {
     "cell_type": "markdown",
     "metadata": {},
     "source": [
      "<h2>Answer Cell</h2>\n"
     ]
    },
    {
     "cell_type": "code",
     "collapsed": false,
     "input": [
      "answer = col(1,2)\n",
      "prob.check(answer)"
     ],
     "language": "python",
     "metadata": {},
     "outputs": []
    }
   ],
   "metadata": {}
  }
 ]
}