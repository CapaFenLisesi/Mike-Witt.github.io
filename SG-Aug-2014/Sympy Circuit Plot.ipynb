{
 "metadata": {
  "name": "",
  "signature": "sha256:5a23f0b1f0e437b5bf887ae43d6aefddb3c9b55fd74b45f88ab25a48d6ea77d4"
 },
 "nbformat": 3,
 "nbformat_minor": 0,
 "worksheets": [
  {
   "cells": [
    {
     "cell_type": "markdown",
     "metadata": {},
     "source": [
      "# Quantum Circuit Plotting with SymPy\n",
      "Rick Muller, rpmuller@gmail.com\n",
      "\n",
      "Explore what can and cannot be done using existing sympy circuit plotting. The initial aim will be to support everything that is on the [qasm2circ website](http://www.media.mit.edu/quanta/qasm2circ/). When you see a heading listing an example number, it will refer to the example circuit on that page.\n",
      "\n",
      "Note: The examples on this page will require *at least* the [development (i.e. github) branch of sympy](http://github.com/sympy/sympy), and may require work in my current branch (which changes from week to week). If you'd like to play with newer features, and the examples on this page aren't working for you, email me (rpmuller@gmail.com) and I can send you instructions for how to get these to work."
     ]
    },
    {
     "cell_type": "code",
     "collapsed": false,
     "input": [
      "%matplotlib inline\n",
      "from sympy import *\n",
      "from sympy.physics.quantum.circuitplot import CircuitPlot,labeller,Mz,CreateOneQubitGate\n",
      "from sympy.physics.quantum.gate import *\n",
      "from sympy.physics.quantum.qasm import Qasm"
     ],
     "language": "python",
     "metadata": {},
     "outputs": [],
     "prompt_number": 34
    },
    {
     "cell_type": "markdown",
     "metadata": {},
     "source": [
      "## Rough priorities of tasks\n",
      "* Stack multiple gates vertically\n",
      "* Block multiqubit gate\n",
      "* Latex matrices as gates\n",
      "* Do circuits resize correctly?\n",
      "\n",
      "## Qasm tests status\n",
      "1. Works\n",
      "2. Works\n",
      "3. Works\n",
      "4. Works\n",
      "5. Can't plot matrices as operators\n",
      "6. Works\n",
      "7. Works\n",
      "8. Works\n",
      "9. Works\n",
      "10. Multi-qubit blocks + classical lines\n",
      "11. Multi-qubit blocks\n",
      "12. Multi-qubit blocks\n",
      "13. Multi-qubit blocks (kinda works if you convert defbox->def by hand)\n",
      "14. Multi-qubit blocks \n",
      "15. D-shaped measurement\n",
      "16. D-shaped measurement + slash gate + vertical line gates\n",
      "17. D-shaped measurement"
     ]
    },
    {
     "cell_type": "markdown",
     "metadata": {},
     "source": [
      "## X gate test"
     ]
    },
    {
     "cell_type": "code",
     "collapsed": false,
     "input": [
      "CircuitPlot(CNOT(1,0),2)"
     ],
     "language": "python",
     "metadata": {},
     "outputs": [
      {
       "metadata": {},
       "output_type": "pyout",
       "prompt_number": 65,
       "text": [
        "<sympy.physics.quantum.circuitplot.CircuitPlot at 0xefe660c>"
       ]
      },
      {
       "metadata": {},
       "output_type": "display_data",
       "png": "[encoded data removed]",
       "text": [
        "<matplotlib.figure.Figure at 0xefe668c>"
       ]
      }
     ],
     "prompt_number": 65
    },
    {
     "cell_type": "code",
     "collapsed": false,
     "input": [
      "CircuitPlot(X(0),1)"
     ],
     "language": "python",
     "metadata": {},
     "outputs": [
      {
       "metadata": {},
       "output_type": "pyout",
       "prompt_number": 66,
       "text": [
        "<sympy.physics.quantum.circuitplot.CircuitPlot at 0xc57f5ac>"
       ]
      },
      {
       "metadata": {},
       "output_type": "display_data",
       "png": "[encoded data removed]",
       "text": [
        "<matplotlib.figure.Figure at 0xede9cec>"
       ]
      }
     ],
     "prompt_number": 66
    },
    {
     "cell_type": "markdown",
     "metadata": {},
     "source": [
      "Sympy now prints a normal X gate when it's a one-qubit gate, but the circ+ when it's a CNOT!"
     ]
    },
    {
     "cell_type": "markdown",
     "metadata": {},
     "source": [
      "## Z gate test\n"
     ]
    },
    {
     "cell_type": "code",
     "collapsed": false,
     "input": [
      "CircuitPlot(CPHASE(1,0),2)"
     ],
     "language": "python",
     "metadata": {},
     "outputs": [
      {
       "metadata": {},
       "output_type": "pyout",
       "prompt_number": 67,
       "text": [
        "<sympy.physics.quantum.circuitplot.CircuitPlot at 0x1039be4c>"
       ]
      },
      {
       "metadata": {},
       "output_type": "display_data",
       "png": "[encoded data removed]",
       "text": [
        "<matplotlib.figure.Figure at 0x1039b70c>"
       ]
      }
     ],
     "prompt_number": 67
    },
    {
     "cell_type": "code",
     "collapsed": false,
     "input": [
      "CircuitPlot(Z(0),1)"
     ],
     "language": "python",
     "metadata": {},
     "outputs": [
      {
       "metadata": {},
       "output_type": "pyout",
       "prompt_number": 68,
       "text": [
        "<sympy.physics.quantum.circuitplot.CircuitPlot at 0xe850b2c>"
       ]
      },
      {
       "metadata": {},
       "output_type": "display_data",
       "png": "[encoded data removed]",
       "text": [
        "<matplotlib.figure.Figure at 0xe850ecc>"
       ]
      }
     ],
     "prompt_number": 68
    },
    {
     "cell_type": "markdown",
     "metadata": {},
     "source": [
      "## Making arbitrary gates:\n",
      "\n",
      "It's pretty easy to overload single-qubit operators, and you can even specify fairly complicated LaTeX:"
     ]
    },
    {
     "cell_type": "code",
     "collapsed": false,
     "input": [
      "VGate = CreateOneQubitGate('V')\n",
      "SqrtX = CreateOneQubitGate('sqrt-X','\\sqrt{X}')"
     ],
     "language": "python",
     "metadata": {},
     "outputs": [],
     "prompt_number": 69
    },
    {
     "cell_type": "code",
     "collapsed": false,
     "input": [
      "CircuitPlot(SqrtX(0)*VGate(0),1)"
     ],
     "language": "python",
     "metadata": {},
     "outputs": [
      {
       "metadata": {},
       "output_type": "pyout",
       "prompt_number": 70,
       "text": [
        "<sympy.physics.quantum.circuitplot.CircuitPlot at 0x100de28c>"
       ]
      },
      {
       "metadata": {},
       "output_type": "display_data",
       "png": "[encoded data removed]",
       "text": [
        "<matplotlib.figure.Figure at 0xe85004c>"
       ]
      }
     ],
     "prompt_number": 70
    },
    {
     "cell_type": "markdown",
     "metadata": {},
     "source": [
      "You can even make these controlled:"
     ]
    },
    {
     "cell_type": "code",
     "collapsed": false,
     "input": [
      "CircuitPlot(CGate(1,SqrtX(0)),2)"
     ],
     "language": "python",
     "metadata": {},
     "outputs": [
      {
       "metadata": {},
       "output_type": "pyout",
       "prompt_number": 71,
       "text": [
        "<sympy.physics.quantum.circuitplot.CircuitPlot at 0x103c3b6c>"
       ]
      },
      {
       "metadata": {},
       "output_type": "display_data",
       "png": "[encoded data removed]",
       "text": [
        "<matplotlib.figure.Figure at 0x103c370c>"
       ]
      }
     ],
     "prompt_number": 71
    },
    {
     "cell_type": "markdown",
     "metadata": {},
     "source": [
      "Unfortunately, there isn't a general way to make a block multi-qubit gate. You need to overload the plot_gate function, which I haven't. And, I guess you also have to make sure that all of the qubits are contiguous.\n",
      "\n",
      "**Todo** Create multi-qubit gate."
     ]
    },
    {
     "cell_type": "code",
     "collapsed": false,
     "input": [
      "class SqrtSWAP(TwoQubitGate):\n",
      "    gate_name = 'sqrt-SWAP'\n",
      "    gate_name_latex = u'\\sqrt{SWAP}'"
     ],
     "language": "python",
     "metadata": {},
     "outputs": [],
     "prompt_number": 72
    },
    {
     "cell_type": "code",
     "collapsed": false,
     "input": [
      "# This doesn't work:\n",
      "# CircuitPlot(SqrtSWAP(0,1),2)"
     ],
     "language": "python",
     "metadata": {},
     "outputs": [],
     "prompt_number": 43
    },
    {
     "cell_type": "markdown",
     "metadata": {},
     "source": [
      "## Example 1: EPR Creation\n",
      "\n",
      "Goal:\n",
      "\n",
      "<img src=\"http://www.media.mit.edu/quanta/qasm2circ/test1.png\" width=\"200\" />"
     ]
    },
    {
     "cell_type": "code",
     "collapsed": false,
     "input": [
      "CircuitPlot(CNOT(1,0)*H(1),2,labels=labeller(2))"
     ],
     "language": "python",
     "metadata": {},
     "outputs": [
      {
       "metadata": {},
       "output_type": "pyout",
       "prompt_number": 73,
       "text": [
        "<sympy.physics.quantum.circuitplot.CircuitPlot at 0xfa10bec>"
       ]
      },
      {
       "metadata": {},
       "output_type": "display_data",
       "png": "[encoded data removed]",
       "text": [
        "<matplotlib.figure.Figure at 0x100f1b2c>"
       ]
      }
     ],
     "prompt_number": 73
    },
    {
     "cell_type": "markdown",
     "metadata": {},
     "source": [
      "A couple of notes:\n",
      "\n",
      "* The top wire in a figure is the nth qubit in the circuit, not the 0-th or 1st.\n",
      "* The gates in a circuit are ordered left to right. In other words, the first gate to be applied is the left-most gate in the circuit.\n",
      "\n",
      "Both of these make perfect sense from a physics point of view, but they may not be what you expect."
     ]
    },
    {
     "cell_type": "markdown",
     "metadata": {},
     "source": [
      "## qasm version:"
     ]
    },
    {
     "cell_type": "code",
     "collapsed": false,
     "input": [
      "q = Qasm('qubit q0','qubit q1','h q0','cnot q0,q1')\n",
      "q.plot()"
     ],
     "language": "python",
     "metadata": {},
     "outputs": [
      {
       "metadata": {},
       "output_type": "display_data",
       "png": "[encoded data removed]",
       "text": [
        "<matplotlib.figure.Figure at 0x100f872c>"
       ]
      }
     ],
     "prompt_number": 74
    },
    {
     "cell_type": "markdown",
     "metadata": {},
     "source": [
      "Works, but note that I haven't implemented the subscripts in qasm parser yet. It's not hard to rewrite the labelling so that it sticks an underscore between the alphabetical characters and the numbers, but I don't want to limit the way the code works based on assumptions of use cases that I haven't fully thought through. In the meantime, if you stick underscores in the label names, these will work:"
     ]
    },
    {
     "cell_type": "code",
     "collapsed": false,
     "input": [
      "q = Qasm('qubit q_0','qubit q_1','h q_0','cnot q_0,q_1')\n",
      "q.plot()"
     ],
     "language": "python",
     "metadata": {},
     "outputs": [
      {
       "metadata": {},
       "output_type": "display_data",
       "png": "[encoded data removed]",
       "text": [
        "<matplotlib.figure.Figure at 0xf9ecc4c>"
       ]
      }
     ],
     "prompt_number": 75
    },
    {
     "cell_type": "markdown",
     "metadata": {},
     "source": [
      "You can also call the commands directly:"
     ]
    },
    {
     "cell_type": "code",
     "collapsed": false,
     "input": [
      "q = Qasm()\n",
      "q.qubit('q_0')\n",
      "q.qubit('q_1')\n",
      "q.h('q_0')\n",
      "q.cnot('q_0','q_1')\n",
      "q.plot()"
     ],
     "language": "python",
     "metadata": {},
     "outputs": [
      {
       "metadata": {},
       "output_type": "display_data",
       "png": "[encoded data removed]",
       "text": [
        "<matplotlib.figure.Figure at 0xe22f76c>"
       ]
      }
     ],
     "prompt_number": 47
    },
    {
     "cell_type": "markdown",
     "metadata": {},
     "source": [
      "## Example 2: Teleportation Gate\n",
      "\n",
      "Goal:\n",
      "\n",
      "<img src=\"http://www.media.mit.edu/quanta/qasm2circ/test2.png\" width=\"400\" />"
     ]
    },
    {
     "cell_type": "code",
     "collapsed": false,
     "input": [
      "circuit = CGate(2,Z(0))*CGate(1,X(0))*Mz(2)*Mz(1)*H(2)*CNOT(2,1)*CNOT(1,0)*H(1)\n",
      "cp = CircuitPlot(circuit,3,labels=labeller(3))"
     ],
     "language": "python",
     "metadata": {},
     "outputs": [
      {
       "metadata": {},
       "output_type": "display_data",
       "png": "[encoded data removed]",
       "text": [
        "<matplotlib.figure.Figure at 0xf9ec72c>"
       ]
      }
     ],
     "prompt_number": 76
    },
    {
     "cell_type": "code",
     "collapsed": false,
     "input": [
      "# qasm version\n",
      "q = Qasm('qubit q_0','qubit q_1','qubit q_2','h  q_1',\n",
      "         'cnot q_1,q_2','cnot q_0,q_1','h q_0',\n",
      "         'measure q_1','measure q_0',\n",
      "         'c-x q_1,q_2','c-z q_0,q_2')\n",
      "q.plot()"
     ],
     "language": "python",
     "metadata": {},
     "outputs": [
      {
       "metadata": {},
       "output_type": "display_data",
       "png": "[encoded data removed]",
       "text": [
        "<matplotlib.figure.Figure at 0xdd325ec>"
       ]
      }
     ],
     "prompt_number": 49
    },
    {
     "cell_type": "markdown",
     "metadata": {},
     "source": [
      "## Example 3: Swap Gate\n",
      "\n",
      "Goal:\n",
      "\n",
      "<img src=\"http://www.media.mit.edu/quanta/qasm2circ/test3.png\" width=\"200\" />"
     ]
    },
    {
     "cell_type": "code",
     "collapsed": false,
     "input": [
      "CircuitPlot(CNOT(1,0)*CNOT(0,1)*CNOT(1,0),2,labels=labeller(2))"
     ],
     "language": "python",
     "metadata": {},
     "outputs": [
      {
       "metadata": {},
       "output_type": "pyout",
       "prompt_number": 50,
       "text": [
        "<sympy.physics.quantum.circuitplot.CircuitPlot at 0xdd1e4ac>"
       ]
      },
      {
       "metadata": {},
       "output_type": "display_data",
       "png": "[encoded data removed]",
       "text": [
        "<matplotlib.figure.Figure at 0xdd1ee0c>"
       ]
      }
     ],
     "prompt_number": 50
    },
    {
     "cell_type": "markdown",
     "metadata": {},
     "source": [
      "#### qasm version:"
     ]
    },
    {
     "cell_type": "code",
     "collapsed": false,
     "input": [
      "q = Qasm('qubit q_0','qubit q_1','cnot q_0,q_1','cnot q_1,q_0','cnot q_0,q_1')\n",
      "q.plot()"
     ],
     "language": "python",
     "metadata": {},
     "outputs": [
      {
       "metadata": {},
       "output_type": "display_data",
       "png": "[encoded data removed]",
       "text": [
        "<matplotlib.figure.Figure at 0xe84b7cc>"
       ]
      }
     ],
     "prompt_number": 51
    },
    {
     "cell_type": "markdown",
     "metadata": {},
     "source": [
      "## Example 4: QFT on 3 Qubits\n",
      "Goal:\n",
      "\n",
      "<img src=\"http://www.media.mit.edu/quanta/qasm2circ/test4.png\" width=\"300\"/>"
     ]
    },
    {
     "cell_type": "code",
     "collapsed": false,
     "input": [
      "CircuitPlot(SWAP(0,2)*H(0)* CGate((0,),S(1)) *H(1)*CGate((0,),T(2))*CGate((1,),S(2))*H(2),3,labels=labeller(3,'j'))"
     ],
     "language": "python",
     "metadata": {},
     "outputs": [
      {
       "metadata": {},
       "output_type": "pyout",
       "prompt_number": 52,
       "text": [
        "<sympy.physics.quantum.circuitplot.CircuitPlot at 0xdd3e36c>"
       ]
      },
      {
       "metadata": {},
       "output_type": "display_data",
       "png": "[encoded data removed]",
       "text": [
        "<matplotlib.figure.Figure at 0xdd3e28c>"
       ]
      }
     ],
     "prompt_number": 52
    },
    {
     "cell_type": "code",
     "collapsed": false,
     "input": [
      "# qasm version:\n",
      "q = Qasm(\"def\tc-S,1,'S'\",\n",
      "        \"def\tc-T,1,'T'\",\n",
      "        \"qubit\tj0\",\n",
      "        \"qubit\tj1\",\n",
      "        \"qubit\tj2\",\n",
      "        \"h\tj0\",\n",
      "        \"c-S\tj1,j0\",\n",
      "        \"c-T\tj2,j0\",\n",
      "        \"nop\tj1\",\n",
      "        \"h\tj1\",\n",
      "        \"c-S\tj2,j1\",\n",
      "        \"h\tj2\",\n",
      "        \"swap\tj0,j2\")\n",
      "q.plot()"
     ],
     "language": "python",
     "metadata": {},
     "outputs": [
      {
       "metadata": {},
       "output_type": "display_data",
       "png": "[encoded data removed]",
       "text": [
        "<matplotlib.figure.Figure at 0xe56396c>"
       ]
      }
     ],
     "prompt_number": 53
    },
    {
     "cell_type": "markdown",
     "metadata": {},
     "source": [
      "## Example 5\n",
      "Goal:\n",
      "\n",
      "<img src=\"http://www.media.mit.edu/quanta/qasm2circ/test5.png\" width=\"300\" />"
     ]
    },
    {
     "cell_type": "code",
     "collapsed": false,
     "input": [
      "# Note: you currently have to escape (double backslash) the \\b and \\t, \n",
      "# I guess b/c they're whitespace shortcuts\n",
      "class Rot1(OneQubitGate):\n",
      "    gate_name = 'Rot'\n",
      "    gate_name_latex = r'\\begin{array}{ll}\\cos\\theta&-\\sin\\theta\\end{array}'"
     ],
     "language": "python",
     "metadata": {},
     "outputs": [],
     "prompt_number": 54
    },
    {
     "cell_type": "code",
     "collapsed": false,
     "input": [
      "# This doesn't work:\n",
      "#CircuitPlot(Rot1(0),1)"
     ],
     "language": "python",
     "metadata": {},
     "outputs": [],
     "prompt_number": 55
    },
    {
     "cell_type": "raw",
     "metadata": {},
     "source": [
      "Can't stick a matrix in a qubit operator:\n",
      "\n",
      "    ValueError: \n",
      "    \\begin{array}{ll}\\cos\\theta&-\\sin\\theta\\end{array}\n",
      "    ^\n",
      "    Unknown symbol: \\begin (at char 0), (line:1, col:1)\n",
      "\n",
      "Doesn't work any better when I have $ at the beginning/end of the string."
     ]
    },
    {
     "cell_type": "markdown",
     "metadata": {},
     "source": [
      "## Example 6\n",
      "Goal:\n",
      "\n",
      "<img src=\"http://www.media.mit.edu/quanta/qasm2circ/test6.png\" width=\"200\" />"
     ]
    },
    {
     "cell_type": "code",
     "collapsed": false,
     "input": [
      "U = CreateOneQubitGate('U')\n",
      "CircuitPlot(Mz(0)*H(1)*CGate((0,1,3),U(2))*X(3)*CGateS((2,3),X(1)),4,labels=labeller(4,'j'))"
     ],
     "language": "python",
     "metadata": {},
     "outputs": [
      {
       "metadata": {},
       "output_type": "pyout",
       "prompt_number": 56,
       "text": [
        "<sympy.physics.quantum.circuitplot.CircuitPlot at 0xd409f2c>"
       ]
      },
      {
       "metadata": {},
       "output_type": "display_data",
       "png": "[encoded data removed]",
       "text": [
        "<matplotlib.figure.Figure at 0xd409fec>"
       ]
      }
     ],
     "prompt_number": 56
    },
    {
     "cell_type": "code",
     "collapsed": false,
     "input": [
      "# Qasm version:\n",
      "q = Qasm(\"def\tc-U,3,'U'\",\n",
      "    \"qubit\tj0\",\n",
      "    \"qubit\tj1\",\n",
      "\t\"qubit\tj2\",\n",
      "    \"qubit\tj3\",\n",
      "    \"toffoli\tj0,j1,j2\",\n",
      "    \"X\tj0\",\n",
      "    \"c-U\tj2,j3,j0,j1\",\n",
      "    \"H\tj2\",\n",
      "    \"measure\tj3\")\n",
      "q.plot()"
     ],
     "language": "python",
     "metadata": {},
     "outputs": [
      {
       "metadata": {},
       "output_type": "display_data",
       "png": "[encoded data removed]",
       "text": [
        "<matplotlib.figure.Figure at 0xe83b44c>"
       ]
      }
     ],
     "prompt_number": 57
    },
    {
     "cell_type": "markdown",
     "metadata": {},
     "source": [
      "## Example 7\n",
      "Goal:\n",
      "\n",
      "<img src=\"http://www.media.mit.edu/quanta/qasm2circ/test7.png\" width=\"400\" />"
     ]
    },
    {
     "cell_type": "code",
     "collapsed": false,
     "input": [
      "V = CreateOneQubitGate('V')\n",
      "\n",
      "CircuitPlot(CGate(1,V(0))*Mz(1)*H(1)*CGate(1,U(0))*H(1),2,labels=labeller(2))"
     ],
     "language": "python",
     "metadata": {},
     "outputs": [
      {
       "metadata": {},
       "output_type": "pyout",
       "prompt_number": 58,
       "text": [
        "<sympy.physics.quantum.circuitplot.CircuitPlot at 0xc0d7c0c>"
       ]
      },
      {
       "metadata": {},
       "output_type": "display_data",
       "png": "[encoded data removed]",
       "text": [
        "<matplotlib.figure.Figure at 0xc5e416c>"
       ]
      }
     ],
     "prompt_number": 58
    },
    {
     "cell_type": "code",
     "collapsed": false,
     "input": [
      "# Qasm\n",
      "q = Qasm(\"def\tc-U,1,'U'\",\"def\tc-V,1,'V'\",\n",
      "         \"qubit\tq0\",\"qubit\tq1\",\n",
      "         \"H\tq0\",\"c-U\tq0,q1\",\"H\tq0\",\n",
      "         \"measure\tq0\",\"c-V\tq0,q1\")\n",
      "q.plot()"
     ],
     "language": "python",
     "metadata": {},
     "outputs": [
      {
       "metadata": {},
       "output_type": "display_data",
       "png": "[encoded data removed]",
       "text": [
        "<matplotlib.figure.Figure at 0xe82b2cc>"
       ]
      }
     ],
     "prompt_number": 59
    },
    {
     "cell_type": "markdown",
     "metadata": {},
     "source": [
      "## Example 8\n",
      "Goal:\n",
      "\n",
      "<img src=\"http://www.media.mit.edu/quanta/qasm2circ/test8.png\" width=\"400\" />"
     ]
    },
    {
     "cell_type": "code",
     "collapsed": false,
     "input": [
      "CircuitPlot(H(2)*H(2)*CGate(0,Z(2))*H(2)*CNOT(1,0)*CNOT(2,1)*CNOT(1,0)*CNOT(2,1)*H(1),3,labels=labeller(3))"
     ],
     "language": "python",
     "metadata": {},
     "outputs": [
      {
       "metadata": {},
       "output_type": "pyout",
       "prompt_number": 60,
       "text": [
        "<sympy.physics.quantum.circuitplot.CircuitPlot at 0xe828f4c>"
       ]
      },
      {
       "metadata": {},
       "output_type": "display_data",
       "png": "[encoded data removed]",
       "text": [
        "<matplotlib.figure.Figure at 0xe8283cc>"
       ]
      }
     ],
     "prompt_number": 60
    },
    {
     "cell_type": "code",
     "collapsed": false,
     "input": [
      "#Qasm:\n",
      "q = Qasm(\"def\tc-Z,1,'Z'\",\n",
      "         \"qubit\tq0,\\psi\",\"qubit\tq1,0\",\"qubit\tq2,0\",\n",
      "         \"H\tq1\",\"cnot\tq0,q1\",\"cnot\tq1,q2\",\"cnot\tq0,q1\",\"cnot\tq1,q2\",\n",
      "         \"H\tq0\",\"c-Z\tq2,q0\",\"H\tq0\",\"H\tq0\")\n",
      "q.plot()"
     ],
     "language": "python",
     "metadata": {},
     "outputs": [
      {
       "metadata": {},
       "output_type": "display_data",
       "png": "[encoded data removed]",
       "text": [
        "<matplotlib.figure.Figure at 0xf54aeec>"
       ]
      }
     ],
     "prompt_number": 61
    },
    {
     "cell_type": "markdown",
     "metadata": {},
     "source": [
      "## Example 9\n",
      "Goal:\n",
      "\n",
      "<img src=\"http://www.media.mit.edu/quanta/qasm2circ/test9.png\" width=\"300\" />"
     ]
    },
    {
     "cell_type": "code",
     "collapsed": false,
     "input": [
      "SqrtX = CreateOneQubitGate('sqrt-X','\\sqrt{X}')\n",
      "SqrtXdag = CreateOneQubitGate('sqrt-X-dag','\\sqrt{X}^\\dagger')\n",
      "\n",
      "CircuitPlot(CGate(2,SqrtX(0))*CNOT(2,1)*CGate(1,SqrtXdag(0))*CNOT(2,1)*CGate(1,SqrtX(0)),3,labels=labeller(3))"
     ],
     "language": "python",
     "metadata": {},
     "outputs": [
      {
       "metadata": {},
       "output_type": "pyout",
       "prompt_number": 62,
       "text": [
        "<sympy.physics.quantum.circuitplot.CircuitPlot at 0xf78878c>"
       ]
      },
      {
       "metadata": {},
       "output_type": "display_data",
       "png": "[encoded data removed]",
       "text": [
        "<matplotlib.figure.Figure at 0xf788cec>"
       ]
      }
     ],
     "prompt_number": 62
    },
    {
     "cell_type": "code",
     "collapsed": false,
     "input": [
      "q = Qasm(\"def\tc-X,1,'\\sqrt{X}'\",\"def\tc-Xd,1,'{\\sqrt{X}}^\\dagger'\",\n",
      "         \"qubit\tq0\",\"qubit\tq1\",\"qubit\tq2\",\n",
      "         \"c-X\tq1,q2\",\"cnot\tq0,q1\",\"c-Xd\tq1,q2\",\n",
      "         \"cnot\tq0,q1\",\"c-X\tq0,q2\")\n",
      "q.plot()"
     ],
     "language": "python",
     "metadata": {},
     "outputs": [
      {
       "metadata": {},
       "output_type": "display_data",
       "png": "[encoded data removed]",
       "text": [
        "<matplotlib.figure.Figure at 0xe83cbac>"
       ]
      }
     ],
     "prompt_number": 63
    },
    {
     "cell_type": "markdown",
     "metadata": {},
     "source": [
      "## Example 10\n",
      "Goal:\n",
      "\n",
      "<img src=\"http://www.media.mit.edu/quanta/qasm2circ/test10.png\" width=\"300\" />"
     ]
    },
    {
     "cell_type": "markdown",
     "metadata": {},
     "source": [
      "## Example 11\n",
      "Goal:\n",
      "\n",
      "<img src=\"http://www.media.mit.edu/quanta/qasm2circ/test11.png\" width=\"300\" />"
     ]
    },
    {
     "cell_type": "markdown",
     "metadata": {},
     "source": [
      "## Example 12\n",
      "Goal:\n",
      "\n",
      "<img src=\"http://www.media.mit.edu/quanta/qasm2circ/test12.png\" width=\"300\" />"
     ]
    },
    {
     "cell_type": "markdown",
     "metadata": {},
     "source": [
      "## Example 13\n",
      "Goal:\n",
      "\n",
      "<img src=\"http://www.media.mit.edu/quanta/qasm2circ/test13.png\" width=\"300\" />"
     ]
    },
    {
     "cell_type": "code",
     "collapsed": false,
     "input": [
      "# Only works if you convert the defboxes to defs and remove qubit s2:\n",
      "qasm_lines = \"\"\"\\\n",
      "\tdef\tCU,1,'U'\n",
      "\tdef\tCU2,1,'U^2'\n",
      "\tdef\tCU4,1,'U^4'\n",
      "\tdef\tc-S,1,'S'\n",
      "\tdef\tc-T,1,'T'\n",
      "\n",
      "\tqubit\tj0,0\t# QFT qubits\n",
      "\tqubit\tj1,0\n",
      "\tqubit\tj2,0\n",
      "\tqubit\ts0\t# U qubits\n",
      "\n",
      "\th\tj0\t# equal superposition\n",
      "\th\tj1\n",
      "\th\tj2\n",
      "\n",
      "\tCU4\tj0,s0\t# controlled-U\n",
      "\tCU2\tj1,s0\n",
      "\tCU\tj2,s0\n",
      "\n",
      "\th\tj0\t# QFT\n",
      "\tc-S\tj0,j1\n",
      "\th\tj1\n",
      "\tnop\tj0\n",
      "\tc-T\tj0,j2\n",
      "\tc-S\tj1,j2\n",
      "\th\tj2\n",
      "\tnop\tj0\n",
      "\tnop\tj0\n",
      "\tnop\tj1\n",
      "\t\n",
      "\tmeasure\tj0\t# final measurement\n",
      "\tmeasure\tj1\t\n",
      "\tmeasure\tj2\"\"\"\n",
      "\n",
      "q = Qasm(*qasm_lines.splitlines())\n",
      "q.plot()"
     ],
     "language": "python",
     "metadata": {},
     "outputs": [
      {
       "ename": "IndexError",
       "evalue": "list index out of range",
       "output_type": "pyerr",
       "traceback": [
        "\u001b[1;31m---------------------------------------------------------------------------\u001b[0m\n\u001b[1;31mIndexError\u001b[0m                                Traceback (most recent call last)",
        "\u001b[1;32m<ipython-input-64-e4a8c60e02db>\u001b[0m in \u001b[0;36m<module>\u001b[1;34m()\u001b[0m\n\u001b[0;32m     34\u001b[0m \tmeasure\tj2\"\"\"\n\u001b[0;32m     35\u001b[0m \u001b[1;33m\u001b[0m\u001b[0m\n\u001b[1;32m---> 36\u001b[1;33m \u001b[0mq\u001b[0m \u001b[1;33m=\u001b[0m \u001b[0mQasm\u001b[0m\u001b[1;33m(\u001b[0m\u001b[1;33m*\u001b[0m\u001b[0mqasm_lines\u001b[0m\u001b[1;33m.\u001b[0m\u001b[0msplitlines\u001b[0m\u001b[1;33m(\u001b[0m\u001b[1;33m)\u001b[0m\u001b[1;33m)\u001b[0m\u001b[1;33m\u001b[0m\u001b[0m\n\u001b[0m\u001b[0;32m     37\u001b[0m \u001b[0mq\u001b[0m\u001b[1;33m.\u001b[0m\u001b[0mplot\u001b[0m\u001b[1;33m(\u001b[0m\u001b[1;33m)\u001b[0m\u001b[1;33m\u001b[0m\u001b[0m\n",
        "\u001b[1;32m/usr/local/lib/python2.7/dist-packages/sympy/physics/quantum/qasm.pyc\u001b[0m in \u001b[0;36m__init__\u001b[1;34m(self, *args, **kwargs)\u001b[0m\n\u001b[0;32m    132\u001b[0m         \u001b[0mself\u001b[0m\u001b[1;33m.\u001b[0m\u001b[0mlabels\u001b[0m \u001b[1;33m=\u001b[0m \u001b[1;33m[\u001b[0m\u001b[1;33m]\u001b[0m\u001b[1;33m\u001b[0m\u001b[0m\n\u001b[0;32m    133\u001b[0m         \u001b[0mself\u001b[0m\u001b[1;33m.\u001b[0m\u001b[0minits\u001b[0m \u001b[1;33m=\u001b[0m \u001b[1;33m{\u001b[0m\u001b[1;33m}\u001b[0m\u001b[1;33m\u001b[0m\u001b[0m\n\u001b[1;32m--> 134\u001b[1;33m         \u001b[0mself\u001b[0m\u001b[1;33m.\u001b[0m\u001b[0madd\u001b[0m\u001b[1;33m(\u001b[0m\u001b[1;33m*\u001b[0m\u001b[0margs\u001b[0m\u001b[1;33m)\u001b[0m\u001b[1;33m\u001b[0m\u001b[0m\n\u001b[0m\u001b[0;32m    135\u001b[0m         \u001b[0mself\u001b[0m\u001b[1;33m.\u001b[0m\u001b[0mkwargs\u001b[0m \u001b[1;33m=\u001b[0m \u001b[0mkwargs\u001b[0m\u001b[1;33m\u001b[0m\u001b[0m\n\u001b[0;32m    136\u001b[0m \u001b[1;33m\u001b[0m\u001b[0m\n",
        "\u001b[1;32m/usr/local/lib/python2.7/dist-packages/sympy/physics/quantum/qasm.pyc\u001b[0m in \u001b[0;36madd\u001b[1;34m(self, *lines)\u001b[0m\n\u001b[0;32m    137\u001b[0m     \u001b[1;32mdef\u001b[0m \u001b[0madd\u001b[0m\u001b[1;33m(\u001b[0m\u001b[0mself\u001b[0m\u001b[1;33m,\u001b[0m \u001b[1;33m*\u001b[0m\u001b[0mlines\u001b[0m\u001b[1;33m)\u001b[0m\u001b[1;33m:\u001b[0m\u001b[1;33m\u001b[0m\u001b[0m\n\u001b[0;32m    138\u001b[0m         \u001b[1;32mfor\u001b[0m \u001b[0mline\u001b[0m \u001b[1;32min\u001b[0m \u001b[0mnonblank\u001b[0m\u001b[1;33m(\u001b[0m\u001b[0mlines\u001b[0m\u001b[1;33m)\u001b[0m\u001b[1;33m:\u001b[0m\u001b[1;33m\u001b[0m\u001b[0m\n\u001b[1;32m--> 139\u001b[1;33m             \u001b[0mcommand\u001b[0m\u001b[1;33m,\u001b[0m \u001b[0mrest\u001b[0m \u001b[1;33m=\u001b[0m \u001b[0mfullsplit\u001b[0m\u001b[1;33m(\u001b[0m\u001b[0mline\u001b[0m\u001b[1;33m)\u001b[0m\u001b[1;33m\u001b[0m\u001b[0m\n\u001b[0m\u001b[0;32m    140\u001b[0m             \u001b[1;32mif\u001b[0m \u001b[0mself\u001b[0m\u001b[1;33m.\u001b[0m\u001b[0mdefs\u001b[0m\u001b[1;33m.\u001b[0m\u001b[0mget\u001b[0m\u001b[1;33m(\u001b[0m\u001b[0mcommand\u001b[0m\u001b[1;33m)\u001b[0m\u001b[1;33m:\u001b[0m \u001b[1;31m#defs come first, since you can override built-in\u001b[0m\u001b[1;33m\u001b[0m\u001b[0m\n\u001b[0;32m    141\u001b[0m                 \u001b[0mfunction\u001b[0m \u001b[1;33m=\u001b[0m \u001b[0mself\u001b[0m\u001b[1;33m.\u001b[0m\u001b[0mdefs\u001b[0m\u001b[1;33m.\u001b[0m\u001b[0mget\u001b[0m\u001b[1;33m(\u001b[0m\u001b[0mcommand\u001b[0m\u001b[1;33m)\u001b[0m\u001b[1;33m\u001b[0m\u001b[0m\n",
        "\u001b[1;32m/usr/local/lib/python2.7/dist-packages/sympy/physics/quantum/qasm.pyc\u001b[0m in \u001b[0;36mfullsplit\u001b[1;34m(line)\u001b[0m\n\u001b[0;32m     85\u001b[0m     \u001b[0mwords\u001b[0m \u001b[1;33m=\u001b[0m \u001b[0mline\u001b[0m\u001b[1;33m.\u001b[0m\u001b[0msplit\u001b[0m\u001b[1;33m(\u001b[0m\u001b[1;33m)\u001b[0m\u001b[1;33m\u001b[0m\u001b[0m\n\u001b[0;32m     86\u001b[0m     \u001b[0mrest\u001b[0m \u001b[1;33m=\u001b[0m \u001b[1;34m' '\u001b[0m\u001b[1;33m.\u001b[0m\u001b[0mjoin\u001b[0m\u001b[1;33m(\u001b[0m\u001b[0mwords\u001b[0m\u001b[1;33m[\u001b[0m\u001b[1;36m1\u001b[0m\u001b[1;33m:\u001b[0m\u001b[1;33m]\u001b[0m\u001b[1;33m)\u001b[0m\u001b[1;33m\u001b[0m\u001b[0m\n\u001b[1;32m---> 87\u001b[1;33m     \u001b[1;32mreturn\u001b[0m \u001b[0mfixcommand\u001b[0m\u001b[1;33m(\u001b[0m\u001b[0mwords\u001b[0m\u001b[1;33m[\u001b[0m\u001b[1;36m0\u001b[0m\u001b[1;33m]\u001b[0m\u001b[1;33m)\u001b[0m\u001b[1;33m,\u001b[0m \u001b[1;33m[\u001b[0m\u001b[0ms\u001b[0m\u001b[1;33m.\u001b[0m\u001b[0mstrip\u001b[0m\u001b[1;33m(\u001b[0m\u001b[1;33m)\u001b[0m \u001b[1;32mfor\u001b[0m \u001b[0ms\u001b[0m \u001b[1;32min\u001b[0m \u001b[0mrest\u001b[0m\u001b[1;33m.\u001b[0m\u001b[0msplit\u001b[0m\u001b[1;33m(\u001b[0m\u001b[1;34m','\u001b[0m\u001b[1;33m)\u001b[0m\u001b[1;33m]\u001b[0m\u001b[1;33m\u001b[0m\u001b[0m\n\u001b[0m\u001b[0;32m     88\u001b[0m \u001b[1;33m\u001b[0m\u001b[0m\n\u001b[0;32m     89\u001b[0m \u001b[1;32mdef\u001b[0m \u001b[0mfixcommand\u001b[0m\u001b[1;33m(\u001b[0m\u001b[0mc\u001b[0m\u001b[1;33m)\u001b[0m\u001b[1;33m:\u001b[0m\u001b[1;33m\u001b[0m\u001b[0m\n",
        "\u001b[1;31mIndexError\u001b[0m: list index out of range"
       ]
      }
     ],
     "prompt_number": 64
    },
    {
     "cell_type": "markdown",
     "metadata": {},
     "source": [
      "## Example 14\n",
      "Goal:\n",
      "\n",
      "<img src=\"http://www.media.mit.edu/quanta/qasm2circ/test14.png\" width=\"300\" />"
     ]
    },
    {
     "cell_type": "markdown",
     "metadata": {},
     "source": [
      "## Example 15\n",
      "Goal:\n",
      "\n",
      "<img src=\"http://www.media.mit.edu/quanta/qasm2circ/test15.png\" width=\"300\" />"
     ]
    },
    {
     "cell_type": "code",
     "collapsed": false,
     "input": [
      "CircuitPlot(Mz(1)*CPHASE(0,1),2,labels=['+','\\psi'])"
     ],
     "language": "python",
     "metadata": {},
     "outputs": []
    },
    {
     "cell_type": "markdown",
     "metadata": {},
     "source": [
      "## Example 16\n",
      "Goal:\n",
      "\n",
      "<img src=\"http://www.media.mit.edu/quanta/qasm2circ/test16.png\" width=\"300\" />"
     ]
    },
    {
     "cell_type": "code",
     "collapsed": false,
     "input": [
      "CircuitPlot(Mz(0)*CNOT(1,0)*CPHASE(1,2),4,labels=['0','\\phi','\\psi','\\psi'])"
     ],
     "language": "python",
     "metadata": {},
     "outputs": []
    },
    {
     "cell_type": "markdown",
     "metadata": {},
     "source": [
      "## Example 17\n",
      "Goal:\n",
      "\n",
      "<img src=\"http://www.media.mit.edu/quanta/qasm2circ/test17.png\" width=\"300\" />"
     ]
    },
    {
     "cell_type": "code",
     "collapsed": false,
     "input": [
      "CircuitPlot(Mz(2)*Mz(1)*CPHASE(1,2)*CPHASE(1,0)*CPHASE(3,2),4,labels=['\\phi','+','+','\\psi'])"
     ],
     "language": "python",
     "metadata": {},
     "outputs": []
    },
    {
     "cell_type": "markdown",
     "metadata": {},
     "source": [
      "# Surface code \n",
      "These are the X and Z checks from a surface code:"
     ]
    },
    {
     "cell_type": "code",
     "collapsed": false,
     "input": [
      "CircuitPlot(Mz(4)*H(4)*CNOT(4,0)*CNOT(4,1)*CNOT(4,2)*CNOT(4,3)*H(4),5,labels=['d_4','d_3','d_2','d_1','a_0'])"
     ],
     "language": "python",
     "metadata": {},
     "outputs": []
    },
    {
     "cell_type": "code",
     "collapsed": false,
     "input": [
      "CircuitPlot(Mz(4)*CNOT(0,4)*CNOT(1,4)*CNOT(2,4)*CNOT(3,4),5,labels=['d_4','d_3','d_2','d_1','a_0'])"
     ],
     "language": "python",
     "metadata": {},
     "outputs": []
    },
    {
     "cell_type": "markdown",
     "metadata": {},
     "source": [
      "# Steane code\n",
      "\n",
      "Make $|\\bar{0}\\rangle$, Fig 12 from [Aliferis, Gottesman, and Preskill](http://arxiv.org/pdf/quant-ph/0504218.pdf)."
     ]
    },
    {
     "cell_type": "code",
     "collapsed": false,
     "input": [
      "CircuitPlot(CNOT(6,0)*CNOT(5,4)*CNOT(3,2)*CNOT(5,1)*CNOT(3,0)*CNOT(6,2)*CNOT(6,4)*CNOT(3,0),\n",
      "    7,labels=[\"0\",\"0\",\"0\",\"+\",\"0\",\"+\",\"+\"])"
     ],
     "language": "python",
     "metadata": {},
     "outputs": []
    },
    {
     "cell_type": "markdown",
     "metadata": {},
     "source": [
      "Let's use the power of python to make this a little easier:"
     ]
    },
    {
     "cell_type": "code",
     "collapsed": false,
     "input": [
      "import operator\n",
      "def prod(c): return reduce(operator.mul, c, 1)\n",
      "\n",
      "steane_pairs = [(6,0),(5,4),(3,2),(5,1),(3,0),(6,2),(6,4),(3,0)]\n",
      "circuit2 = prod([CNOT(i,j) for i,j in steane_pairs])\n",
      "labels=[\"0\",\"0\",\"0\",\"+\",\"0\",\"+\",\"+\"]\n",
      "CircuitPlot(circuit2,7,labels=labels)"
     ],
     "language": "python",
     "metadata": {},
     "outputs": []
    },
    {
     "cell_type": "markdown",
     "metadata": {},
     "source": [
      "We can now extend this to a full Steane check:"
     ]
    },
    {
     "cell_type": "code",
     "collapsed": false,
     "input": [
      "circuit1 = prod([CNOT(i+7,j+7) for i,j in steane_pairs])\n",
      "decoder = prod([CNOT(i+7,j+7) for i,j in reversed(steane_pairs)])\n",
      "transverse = prod([CPHASE(i+7,i) for i in range(7)])\n",
      "CircuitPlot(decoder*transverse*circuit2*circuit1,14,labels=labels+labels)"
     ],
     "language": "python",
     "metadata": {},
     "outputs": []
    },
    {
     "cell_type": "markdown",
     "metadata": {},
     "source": [
      "That's only 7 real lines of code to plot the encoding."
     ]
    },
    {
     "cell_type": "code",
     "collapsed": false,
     "input": [],
     "language": "python",
     "metadata": {},
     "outputs": []
    }
   ],
   "metadata": {}
  }
 ]
}