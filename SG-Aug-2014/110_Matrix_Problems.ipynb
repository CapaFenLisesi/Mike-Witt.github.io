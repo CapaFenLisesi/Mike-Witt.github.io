{
 "metadata": {
  "name": ""
 },
 "nbformat": 3,
 "nbformat_minor": 0,
 "worksheets": [
  {
   "cells": [
    {
     "cell_type": "markdown",
     "metadata": {},
     "source": [
      "<style type=\"text/css\">\n",
      "    p {font-size: 12pt}\n",
      "    b {font-size: 12pt; font-weight: bold;}\n",
      "    i {font-size: 12pt; font-style: italic;}\n",
      "    ul.x {font-size: 12pt; padding: 0 0 0 0;}\n",
      "    ul.x li {margin-bottom: 5pt; }\n",
      "    ol {font-size: 12pt; margin-bottom: 3pt; list-style-type: decimal !important;}\n",
      "    ol.x {padding: 0 0 0 0; font-size: 12pt; list-style-type: decimal !important;}\n",
      "    ol.x li {margin-bottom: 5pt; }\n",
      "    .in {padding-left: 50pt;}\n",
      "    .din {padding-left: 75pt;}\n",
      "    .sp {padding-left: 50pt;}\n",
      "    .f12 {font-size: 12pt;}\n",
      "</style>"
     ]
    },
    {
     "cell_type": "markdown",
     "metadata": {},
     "source": [
      "<center>\n",
      "    <h2>Sunday Group - Matrix Problems</h2>  \n",
      "</center>\n",
      "<p>\n",
      "    <h2>Instructions</h2>\n",
      "    <ol class=x>\n",
      "        <li><font color=red>\n",
      "            Do shift-return in the \"Setup\" cell, so that the library will be imported\n",
      "            </font></li>\n",
      "        <li>Read the \"additional notes\" at the bottom, if you haven't done that already</li>\n",
      "        <li>Do shift-return in the \"Problem\" cell to generate a problem</li>\n",
      "        <li>Put your answer in the \"Answer\" cell (after the \"=\" sign)</li>\n",
      "        <li>Shift-return in that cell to check it</li>  \n",
      "    </ol>\n",
      "</p>"
     ]
    },
    {
     "cell_type": "markdown",
     "metadata": {},
     "source": [
      "<h2>Setup Cell</h2>\n"
     ]
    },
    {
     "cell_type": "code",
     "collapsed": false,
     "input": [
      "import sglib\n",
      "reload(sglib)\n",
      "from sglib import *"
     ],
     "language": "python",
     "metadata": {},
     "outputs": []
    },
    {
     "cell_type": "markdown",
     "metadata": {},
     "source": [
      "<h2>Problem Cell</h2>\n"
     ]
    },
    {
     "cell_type": "code",
     "collapsed": false,
     "input": [
      "prob = matrix_problem(max_dim=2, max_int=5)\n",
      "prob.new()"
     ],
     "language": "python",
     "metadata": {},
     "outputs": []
    },
    {
     "cell_type": "markdown",
     "metadata": {},
     "source": [
      "<h2>Answer Cell</h2>\n"
     ]
    },
    {
     "cell_type": "code",
     "collapsed": false,
     "input": [
      "answer = Matrix([ (4,8), (7,27) ])\n",
      "prob.check(answer)"
     ],
     "language": "python",
     "metadata": {},
     "outputs": []
    },
    {
     "cell_type": "markdown",
     "metadata": {},
     "source": [
      "<h2>Additional Notes</h2>\n",
      "<p>\n",
      "<ul class=x>\n",
      "    <li> The answer must be entered in \"matrix format.\" Hopefully we've covered that\n",
      "        in the Sunday meeting. Basically, every <i>row</i> of the matrix is entered\n",
      "        as a list, in parentheses. The the whole thing looks like:\n",
      "        &nbsp;<code>Matrix([ (row2), (row2), ... ])</code>. \n",
      "        <br>Just leave the outer parens and brackets as is, and enter the rows you need. \n",
      "    <br><br>\n",
      "        Example: the matrix\n",
      "    $\\left[\\begin{smallmatrix}1 & 2 & 3\\\\4 & 5 & 6\\\\7 & 8 & 9\\end{smallmatrix}\\right]$\n",
      "    <br><br>\n",
      "    would be entered as: \n",
      "        <br><br>\n",
      "        <code>Matrix([ (1,2,3), (4,5,6), (7,8,9) ])</code></li>\n",
      "</ul>\n",
      "</p>\n",
      "        \n",
      "        "
     ]
    },
    {
     "cell_type": "markdown",
     "metadata": {},
     "source": [
      "<h2>Example</h2>\n"
     ]
    },
    {
     "cell_type": "code",
     "collapsed": false,
     "input": [
      "M = Matrix([ (1,2,3), (4,5,6), (7,8,9) ])\n",
      "Print('$%s$'%sy.latex(M))        "
     ],
     "language": "python",
     "metadata": {},
     "outputs": []
    }
   ],
   "metadata": {}
  }
 ]
}