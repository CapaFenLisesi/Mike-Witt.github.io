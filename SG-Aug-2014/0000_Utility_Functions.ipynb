{
 "metadata": {
  "name": "",
  "signature": "sha256:9e30b4353144ef34efd3c4b9ab05157aa3de69cd80af680c66504804f1dc7010"
 },
 "nbformat": 3,
 "nbformat_minor": 0,
 "worksheets": [
  {
   "cells": [
    {
     "cell_type": "markdown",
     "metadata": {},
     "source": [
      "<a name=top></a>\n",
      "<center><h1>Utility Functions</h1></center>\n",
      "<p>\n",
      "This doesn't go with any particular section of the notes. It just\n",
      "demonstrates the use of the a few of the functions from \"sglib.\""
     ]
    },
    {
     "cell_type": "markdown",
     "metadata": {},
     "source": [
      "<h2>Contents</h2>\n",
      "<ul>\n",
      "<li> <a href=\"#setup\">Setup Cell</a></li>\n",
      "<li> <a href=\"#objects\">Creating vectors and matrices</a></li>\n",
      "<li> <a href=\"#printing\">Printing things</a></li>\n",
      "<li> <a href=\"#evecs\">Finding Eigenvectors</a></li>\n",
      "</ul>"
     ]
    },
    {
     "cell_type": "markdown",
     "metadata": {},
     "source": [
      "<hr size=3>\n",
      "<a name=setup></a>\n",
      "<h2><a href=\"#top\">^</a> Setup Cell</h2>"
     ]
    },
    {
     "cell_type": "code",
     "collapsed": false,
     "input": [
      "%autosave 0\n",
      "%matplotlib inline\n",
      "from sglib import *"
     ],
     "language": "python",
     "metadata": {},
     "outputs": [
      {
       "javascript": [
        "IPython.notebook.set_autosave_interval(0)"
       ],
       "metadata": {},
       "output_type": "display_data"
      },
      {
       "output_type": "stream",
       "stream": "stdout",
       "text": [
        "Autosave disabled\n"
       ]
      }
     ],
     "prompt_number": 1
    },
    {
     "cell_type": "markdown",
     "metadata": {},
     "source": [
      "<hr size=3>\n",
      "<a name=objects></a>\n",
      "<h2><a href=\"#top\">^</a> Creating vectors and matrices</h2>\n",
      "<p>\n",
      "You've already been using the <code>col()</code> and <code>row()</code>\n",
      "functions to create column vectors and row vectors:"
     ]
    },
    {
     "cell_type": "code",
     "collapsed": false,
     "input": [
      "col(1,2,3)"
     ],
     "language": "python",
     "metadata": {},
     "outputs": [
      {
       "latex": [
        "$$\\left[\\begin{matrix}1\\\\2\\\\3\\end{matrix}\\right]$$"
       ],
       "metadata": {},
       "output_type": "pyout",
       "png": "[encoded data removed]",
       "prompt_number": 4,
       "text": [
        "\u23a11\u23a4\n",
        "\u23a2 \u23a5\n",
        "\u23a22\u23a5\n",
        "\u23a2 \u23a5\n",
        "\u23a33\u23a6"
       ]
      }
     ],
     "prompt_number": 4
    },
    {
     "cell_type": "code",
     "collapsed": false,
     "input": [
      "row(4,5,6)"
     ],
     "language": "python",
     "metadata": {},
     "outputs": [
      {
       "latex": [
        "$$\\left[\\begin{matrix}4 & 5 & 6\\end{matrix}\\right]$$"
       ],
       "metadata": {},
       "output_type": "pyout",
       "png": "[encoded data removed]",
       "prompt_number": 5,
       "text": [
        "[4  5  6]"
       ]
      }
     ],
     "prompt_number": 5
    },
    {
     "cell_type": "markdown",
     "metadata": {},
     "source": [
      "I've added one more\n",
      "\"creation\" function, <code>mat()</code> which will create <i>square</i>\n",
      "matrices:"
     ]
    },
    {
     "cell_type": "code",
     "collapsed": false,
     "input": [
      "mat(1,0,0,-1)"
     ],
     "language": "python",
     "metadata": {},
     "outputs": [
      {
       "latex": [
        "$$\\left[\\begin{matrix}1 & 0\\\\0 & -1\\end{matrix}\\right]$$"
       ],
       "metadata": {},
       "output_type": "pyout",
       "png": "[encoded data removed]",
       "prompt_number": 6,
       "text": [
        "\u23a11  0 \u23a4\n",
        "\u23a2     \u23a5\n",
        "\u23a30  -1\u23a6"
       ]
      }
     ],
     "prompt_number": 6
    },
    {
     "cell_type": "code",
     "collapsed": false,
     "input": [
      "mat(1,2,3,4,5,6,7,8,9)"
     ],
     "language": "python",
     "metadata": {},
     "outputs": [
      {
       "latex": [
        "$$\\left[\\begin{matrix}1 & 2 & 3\\\\4 & 5 & 6\\\\7 & 8 & 9\\end{matrix}\\right]$$"
       ],
       "metadata": {},
       "output_type": "pyout",
       "png": "[encoded data removed]",
       "prompt_number": 7,
       "text": [
        "\u23a11  2  3\u23a4\n",
        "\u23a2       \u23a5\n",
        "\u23a24  5  6\u23a5\n",
        "\u23a2       \u23a5\n",
        "\u23a37  8  9\u23a6"
       ]
      }
     ],
     "prompt_number": 7
    },
    {
     "cell_type": "markdown",
     "metadata": {},
     "source": [
      "I've also \"predefined\" a number of vectors and matrices that we care about:"
     ]
    },
    {
     "cell_type": "code",
     "collapsed": false,
     "input": [
      "sigma_x, sigma_y, sigma_z"
     ],
     "language": "python",
     "metadata": {},
     "outputs": [
      {
       "latex": [
        "$$\\begin{pmatrix}\\left[\\begin{matrix}0 & 1\\\\1 & 0\\end{matrix}\\right], & \\left[\\begin{matrix}0 & - i\\\\i & 0\\end{matrix}\\right], & \\left[\\begin{matrix}1 & 0\\\\0 & -1\\end{matrix}\\right]\\end{pmatrix}$$"
       ],
       "metadata": {},
       "output_type": "pyout",
       "png": "[encoded data removed]",
       "prompt_number": 8,
       "text": [
        "\u239b\u23a10  1\u23a4, \u23a10  -\u2148\u23a4, \u23a11  0 \u23a4\u239e\n",
        "\u239c\u23a2    \u23a5  \u23a2     \u23a5  \u23a2     \u23a5\u239f\n",
        "\u239d\u23a31  0\u23a6  \u23a3\u2148  0 \u23a6  \u23a30  -1\u23a6\u23a0"
       ]
      }
     ],
     "prompt_number": 8
    },
    {
     "cell_type": "code",
     "collapsed": false,
     "input": [
      "pX, mX, pY, mY, pZ, mZ"
     ],
     "language": "python",
     "metadata": {},
     "outputs": [
      {
       "latex": [
        "$$\\begin{pmatrix}\\left[\\begin{matrix}\\frac{\\sqrt{2}}{2}\\\\\\frac{\\sqrt{2}}{2}\\end{matrix}\\right], & \\left[\\begin{matrix}\\frac{\\sqrt{2}}{2}\\\\- \\frac{\\sqrt{2}}{2}\\end{matrix}\\right], & \\left[\\begin{matrix}\\frac{\\sqrt{2}}{2}\\\\\\frac{\\sqrt{2} i}{2}\\end{matrix}\\right], & \\left[\\begin{matrix}\\frac{\\sqrt{2}}{2}\\\\- \\frac{\\sqrt{2} i}{2}\\end{matrix}\\right], & \\left[\\begin{matrix}1\\\\0\\end{matrix}\\right], & \\left[\\begin{matrix}0\\\\1\\end{matrix}\\right]\\end{pmatrix}$$"
       ],
       "metadata": {},
       "output_type": "pyout",
       "png": "[encoded data removed]",
       "prompt_number": 9,
       "text": [
        "\u239b\u23a1  ___\u23a4  \u23a1   ___ \u23a4  \u23a1   ___ \u23a4  \u23a1    ___  \u23a4          \u239e\n",
        "\u239c\u23a2\u2572\u2571 2 \u23a5  \u23a2 \u2572\u2571 2  \u23a5  \u23a2 \u2572\u2571 2  \u23a5  \u23a2  \u2572\u2571 2   \u23a5          \u239f\n",
        "\u239c\u23a2\u2500\u2500\u2500\u2500\u2500\u23a5, \u23a2 \u2500\u2500\u2500\u2500\u2500 \u23a5, \u23a2 \u2500\u2500\u2500\u2500\u2500 \u23a5, \u23a2  \u2500\u2500\u2500\u2500\u2500  \u23a5, \u23a11\u23a4, \u23a10\u23a4\u239f\n",
        "\u239c\u23a2  2  \u23a5  \u23a2   2   \u23a5  \u23a2   2   \u23a5  \u23a2    2    \u23a5  \u23a2 \u23a5  \u23a2 \u23a5\u239f\n",
        "\u239c\u23a2     \u23a5  \u23a2       \u23a5  \u23a2       \u23a5  \u23a2         \u23a5  \u23a30\u23a6  \u23a31\u23a6\u239f\n",
        "\u239c\u23a2  ___\u23a5  \u23a2   ___ \u23a5  \u23a2  ___  \u23a5  \u23a2   ___   \u23a5          \u239f\n",
        "\u239c\u23a2\u2572\u2571 2 \u23a5  \u23a2-\u2572\u2571 2  \u23a5  \u23a2\u2572\u2571 2 \u22c5\u2148\u23a5  \u23a2-\u2572\u2571 2 \u22c5\u2148 \u23a5          \u239f\n",
        "\u239c\u23a2\u2500\u2500\u2500\u2500\u2500\u23a5  \u23a2\u2500\u2500\u2500\u2500\u2500\u2500\u2500\u23a5  \u23a2\u2500\u2500\u2500\u2500\u2500\u2500\u2500\u23a5  \u23a2\u2500\u2500\u2500\u2500\u2500\u2500\u2500\u2500\u2500\u23a5          \u239f\n",
        "\u239d\u23a3  2  \u23a6  \u23a3   2   \u23a6  \u23a3   2   \u23a6  \u23a3    2    \u23a6          \u23a0"
       ]
      }
     ],
     "prompt_number": 9
    },
    {
     "cell_type": "markdown",
     "metadata": {},
     "source": [
      "<hr size=3>\n",
      "<a name=printing></a>\n",
      "<h2><a href=\"#top\">^</a> Printing things</h2>\n",
      "<p>\n",
      "As you can see above, when you simply put the name of an object\n",
      "in a cell and execute it, python displays the object. But the way\n",
      "it's displayed, is not always the way we would <i>like</i> to see\n",
      "it. For example, in the vectors above the denominators are \"rationalized\"\n",
      "instead of leaving the $\\sqrt{2}$ in the denominator.\n",
      "</p>\n",
      "<p>\n",
      "Here's a function called <code>sg_print()</code> which will <i>attempt</i>\n",
      "to display vectors and matrices in a way that is similar to what we do\n",
      "on the board. It works pretty well, but it is not always successful.\n",
      "</p>"
     ]
    },
    {
     "cell_type": "code",
     "collapsed": false,
     "input": [
      "sg_print(pX)\n",
      "sg_print(mX)\n",
      "sg_print(mY)"
     ],
     "language": "python",
     "metadata": {},
     "outputs": [
      {
       "html": [
        "<font size=4>$\\frac{1}{\\sqrt{2}}\\left[\\begin{matrix}1\\\\1\\end{matrix}\\right]$</font>"
       ],
       "metadata": {},
       "output_type": "display_data",
       "text": [
        "<IPython.core.display.HTML at 0xb533e6c>"
       ]
      },
      {
       "html": [
        "<font size=4>$\\frac{1}{\\sqrt{2}}\\left[\\begin{matrix}1\\\\-1\\end{matrix}\\right]$</font>"
       ],
       "metadata": {},
       "output_type": "display_data",
       "text": [
        "<IPython.core.display.HTML at 0xa288fec>"
       ]
      },
      {
       "html": [
        "<font size=4>$\\frac{1}{\\sqrt{2}}\\left[\\begin{matrix}1\\\\- i\\end{matrix}\\right]$</font>"
       ],
       "metadata": {},
       "output_type": "display_data",
       "text": [
        "<IPython.core.display.HTML at 0x9d52e2c>"
       ]
      }
     ],
     "prompt_number": 10
    },
    {
     "cell_type": "code",
     "collapsed": false,
     "input": [
      "M = mat(1/sqrt(2), 1/sqrt(2), 1/sqrt(2), -1/sqrt(2))\n",
      "M"
     ],
     "language": "python",
     "metadata": {},
     "outputs": [
      {
       "latex": [
        "$$\\left[\\begin{matrix}\\frac{\\sqrt{2}}{2} & \\frac{\\sqrt{2}}{2}\\\\\\frac{\\sqrt{2}}{2} & - \\frac{\\sqrt{2}}{2}\\end{matrix}\\right]$$"
       ],
       "metadata": {},
       "output_type": "pyout",
       "png": "[encoded data removed]",
       "prompt_number": 11,
       "text": [
        "\u23a1  ___     ___ \u23a4\n",
        "\u23a2\u2572\u2571 2    \u2572\u2571 2  \u23a5\n",
        "\u23a2\u2500\u2500\u2500\u2500\u2500   \u2500\u2500\u2500\u2500\u2500 \u23a5\n",
        "\u23a2  2       2   \u23a5\n",
        "\u23a2              \u23a5\n",
        "\u23a2  ___     ___ \u23a5\n",
        "\u23a2\u2572\u2571 2   -\u2572\u2571 2  \u23a5\n",
        "\u23a2\u2500\u2500\u2500\u2500\u2500  \u2500\u2500\u2500\u2500\u2500\u2500\u2500\u23a5\n",
        "\u23a3  2       2   \u23a6"
       ]
      }
     ],
     "prompt_number": 11
    },
    {
     "cell_type": "code",
     "collapsed": false,
     "input": [
      "sg_print(M)"
     ],
     "language": "python",
     "metadata": {},
     "outputs": [
      {
       "html": [
        "<font size=4>$\\frac{1}{\\sqrt{2}}\\left[\\begin{matrix}1 & 1\\\\1 & -1\\end{matrix}\\right]$</font>"
       ],
       "metadata": {},
       "output_type": "display_data",
       "text": [
        "<IPython.core.display.HTML at 0xb5321ec>"
       ]
      }
     ],
     "prompt_number": 12
    },
    {
     "cell_type": "markdown",
     "metadata": {},
     "source": [
      "<code>sg_print()</code> can also do decimal approximations, which can\n",
      "be handy when you're deailing with an object too complicated in its\n",
      "exact format:"
     ]
    },
    {
     "cell_type": "code",
     "collapsed": false,
     "input": [
      "M2 = M/(1+sqrt(3))\n",
      "M2"
     ],
     "language": "python",
     "metadata": {},
     "outputs": [
      {
       "latex": [
        "$$\\left[\\begin{matrix}\\frac{\\sqrt{2}}{2 + 2 \\sqrt{3}} & \\frac{\\sqrt{2}}{2 + 2 \\sqrt{3}}\\\\\\frac{\\sqrt{2}}{2 + 2 \\sqrt{3}} & - \\frac{\\sqrt{2}}{2 + 2 \\sqrt{3}}\\end{matrix}\\right]$$"
       ],
       "metadata": {},
       "output_type": "pyout",
       "png": "[encoded data removed]",
       "prompt_number": 13,
       "text": [
        "\u23a1      ___            ___    \u23a4\n",
        "\u23a2    \u2572\u2571 2           \u2572\u2571 2     \u23a5\n",
        "\u23a2\u2500\u2500\u2500\u2500\u2500\u2500\u2500\u2500\u2500\u2500\u2500\u2500\u2500  \u2500\u2500\u2500\u2500\u2500\u2500\u2500\u2500\u2500\u2500\u2500\u2500\u2500\u23a5\n",
        "\u23a2  \u239b      ___\u239e    \u239b      ___\u239e\u23a5\n",
        "\u23a22\u22c5\u239d1 + \u2572\u2571 3 \u23a0  2\u22c5\u239d1 + \u2572\u2571 3 \u23a0\u23a5\n",
        "\u23a2                            \u23a5\n",
        "\u23a2      ___            ___    \u23a5\n",
        "\u23a2    \u2572\u2571 2          -\u2572\u2571 2     \u23a5\n",
        "\u23a2\u2500\u2500\u2500\u2500\u2500\u2500\u2500\u2500\u2500\u2500\u2500\u2500\u2500  \u2500\u2500\u2500\u2500\u2500\u2500\u2500\u2500\u2500\u2500\u2500\u2500\u2500\u23a5\n",
        "\u23a2  \u239b      ___\u239e    \u239b      ___\u239e\u23a5\n",
        "\u23a32\u22c5\u239d1 + \u2572\u2571 3 \u23a0  2\u22c5\u239d1 + \u2572\u2571 3 \u23a0\u23a6"
       ]
      }
     ],
     "prompt_number": 13
    },
    {
     "cell_type": "code",
     "collapsed": false,
     "input": [
      "sg_print(M, exact=False, ndigs=3)"
     ],
     "language": "python",
     "metadata": {},
     "outputs": [
      {
       "html": [
        "<font size=4>$\\left[\\begin{matrix}0.707 & 0.707\\\\0.707 & -0.707\\end{matrix}\\right]$</font>"
       ],
       "metadata": {},
       "output_type": "display_data",
       "text": [
        "<IPython.core.display.HTML at 0xb5493ec>"
       ]
      }
     ],
     "prompt_number": 14
    },
    {
     "cell_type": "markdown",
     "metadata": {},
     "source": [
      "<p>\n",
      "If you set the \"exact\" parameter to False, then you will get a decimal\n",
      "approximation. Note that python requires \"True\" and \"False\" to begin with\n",
      "a <i>capital</i> \"T\" and \"F.\" The \"ndigs\" parameter tells how many \"digits\n",
      "of accuracy\" you want. In many cases, this will end up meaning the number\n",
      "of digits after the decimal point. There is a limit to how many digits\n",
      "you can get, but we are mainly interested in making the number small, so\n",
      "that things print out in a readable way.\n",
      "</p>\n",
      "<p>\n",
      "The reason I used the name <code>sg_print()</code> is because python\n",
      "already has a <code>print()</code> function:\n",
      "</p>"
     ]
    },
    {
     "cell_type": "code",
     "collapsed": false,
     "input": [
      "print(M)"
     ],
     "language": "python",
     "metadata": {},
     "outputs": [
      {
       "output_type": "stream",
       "stream": "stdout",
       "text": [
        "Matrix([[sqrt(2)/2, sqrt(2)/2], [sqrt(2)/2, -sqrt(2)/2]])\n"
       ]
      }
     ],
     "prompt_number": 15
    },
    {
     "cell_type": "markdown",
     "metadata": {},
     "source": [
      "Python's print tends to prints thing out the way you would enter them\n",
      "into a program. This can be useful if you're trying to figure out\n",
      "<i>how</i> to enter something."
     ]
    },
    {
     "cell_type": "markdown",
     "metadata": {},
     "source": [
      "<hr size=3>\n",
      "<a name=evecs></a>\n",
      "<h2><a href=\"#top\">^</a> Finding Eigenvectors</h2>\n",
      "<p>\n",
      "The <code>print_eigenvectors()</code> function finds the eigenvalues and\n",
      "eigenvectors of an operator (a matrix) and prints them out in a readable\n",
      "format:\n",
      "</p>"
     ]
    },
    {
     "cell_type": "code",
     "collapsed": false,
     "input": [
      "print_eigenvectors(sigma_y)"
     ],
     "language": "python",
     "metadata": {},
     "outputs": [
      {
       "html": [
        "<font size=4>The operator is: $\\left[\\begin{matrix}0 & - i\\\\i & 0\\end{matrix}\\right]$</font>"
       ],
       "metadata": {},
       "output_type": "display_data",
       "text": [
        "<IPython.core.display.HTML at 0xb4eafec>"
       ]
      },
      {
       "html": [
        "<font size=4>eigenvalue: $-1$, eigenvector: $\\frac{1}{\\sqrt{2}}\\left[\\begin{matrix}1\\\\- i\\end{matrix}\\right]$</font>"
       ],
       "metadata": {},
       "output_type": "display_data",
       "text": [
        "<IPython.core.display.HTML at 0xb53172c>"
       ]
      },
      {
       "html": [
        "<font size=4>eigenvalue: $1$, eigenvector: $\\frac{1}{\\sqrt{2}}\\left[\\begin{matrix}1\\\\i\\end{matrix}\\right]$</font>"
       ],
       "metadata": {},
       "output_type": "display_data",
       "text": [
        "<IPython.core.display.HTML at 0xb54914c>"
       ]
      }
     ],
     "prompt_number": 16
    },
    {
     "cell_type": "markdown",
     "metadata": {},
     "source": [
      "But if you want to get the actual eigenvectors and assign them to\n",
      "variables for further calculation, then use the \n",
      "<code>find_eigenvectors()</code> function:"
     ]
    },
    {
     "cell_type": "code",
     "collapsed": false,
     "input": [
      "eval, evec = find_eigenvectors(sigma_y)"
     ],
     "language": "python",
     "metadata": {},
     "outputs": [],
     "prompt_number": 17
    },
    {
     "cell_type": "markdown",
     "metadata": {},
     "source": [
      "<p>\n",
      "\"eval\" and \"evec\" are just variables. You can name them anything you\n",
      "want. The first variable will end up with a list of all the eigenvalues,\n",
      "and the second one will end up with a list of all the eigenvectors.\n",
      "You can get a <i>specific</i> one by supplying an index in square \n",
      "brackets. Note that python, like most computer languages, uses zero for\n",
      "the first index, rather than one.\n",
      "</p>"
     ]
    },
    {
     "cell_type": "code",
     "collapsed": false,
     "input": [
      "eval"
     ],
     "language": "python",
     "metadata": {},
     "outputs": [
      {
       "latex": [
        "$$\\begin{bmatrix}-1, & 1\\end{bmatrix}$$"
       ],
       "metadata": {},
       "output_type": "pyout",
       "png": "[encoded data removed]",
       "prompt_number": 18,
       "text": [
        "[-1, 1]"
       ]
      }
     ],
     "prompt_number": 18
    },
    {
     "cell_type": "code",
     "collapsed": false,
     "input": [
      "eval[0]"
     ],
     "language": "python",
     "metadata": {},
     "outputs": [
      {
       "latex": [
        "$$-1$$"
       ],
       "metadata": {},
       "output_type": "pyout",
       "png": "[encoded data removed]",
       "prompt_number": 19,
       "text": [
        "-1"
       ]
      }
     ],
     "prompt_number": 19
    },
    {
     "cell_type": "code",
     "collapsed": false,
     "input": [
      "eval[1]"
     ],
     "language": "python",
     "metadata": {},
     "outputs": [
      {
       "latex": [
        "$$1$$"
       ],
       "metadata": {},
       "output_type": "pyout",
       "png": "[encoded data removed]",
       "prompt_number": 20,
       "text": [
        "1"
       ]
      }
     ],
     "prompt_number": 20
    },
    {
     "cell_type": "code",
     "collapsed": false,
     "input": [
      "evec"
     ],
     "language": "python",
     "metadata": {},
     "outputs": [
      {
       "latex": [
        "$$\\begin{bmatrix}\\left[\\begin{matrix}\\frac{\\sqrt{2}}{2}\\\\- \\frac{\\sqrt{2} i}{2}\\end{matrix}\\right], & \\left[\\begin{matrix}\\frac{\\sqrt{2}}{2}\\\\\\frac{\\sqrt{2} i}{2}\\end{matrix}\\right]\\end{bmatrix}$$"
       ],
       "metadata": {},
       "output_type": "pyout",
       "png": "[encoded data removed]",
       "prompt_number": 21,
       "text": [
        "\u23a1\u23a1    ___  \u23a4  \u23a1   ___ \u23a4\u23a4\n",
        "\u23a2\u23a2  \u2572\u2571 2   \u23a5  \u23a2 \u2572\u2571 2  \u23a5\u23a5\n",
        "\u23a2\u23a2  \u2500\u2500\u2500\u2500\u2500  \u23a5, \u23a2 \u2500\u2500\u2500\u2500\u2500 \u23a5\u23a5\n",
        "\u23a2\u23a2    2    \u23a5  \u23a2   2   \u23a5\u23a5\n",
        "\u23a2\u23a2         \u23a5  \u23a2       \u23a5\u23a5\n",
        "\u23a2\u23a2   ___   \u23a5  \u23a2  ___  \u23a5\u23a5\n",
        "\u23a2\u23a2-\u2572\u2571 2 \u22c5\u2148 \u23a5  \u23a2\u2572\u2571 2 \u22c5\u2148\u23a5\u23a5\n",
        "\u23a2\u23a2\u2500\u2500\u2500\u2500\u2500\u2500\u2500\u2500\u2500\u23a5  \u23a2\u2500\u2500\u2500\u2500\u2500\u2500\u2500\u23a5\u23a5\n",
        "\u23a3\u23a3    2    \u23a6  \u23a3   2   \u23a6\u23a6"
       ]
      }
     ],
     "prompt_number": 21
    },
    {
     "cell_type": "code",
     "collapsed": false,
     "input": [
      "sg_print(evec[0])\n",
      "sg_print(evec[1])"
     ],
     "language": "python",
     "metadata": {},
     "outputs": [
      {
       "html": [
        "<font size=4>$\\frac{1}{\\sqrt{2}}\\left[\\begin{matrix}1\\\\- i\\end{matrix}\\right]$</font>"
       ],
       "metadata": {},
       "output_type": "display_data",
       "text": [
        "<IPython.core.display.HTML at 0xb5315ec>"
       ]
      },
      {
       "html": [
        "<font size=4>$\\frac{1}{\\sqrt{2}}\\left[\\begin{matrix}1\\\\i\\end{matrix}\\right]$</font>"
       ],
       "metadata": {},
       "output_type": "display_data",
       "text": [
        "<IPython.core.display.HTML at 0xb53196c>"
       ]
      }
     ],
     "prompt_number": 22
    }
   ],
   "metadata": {}
  }
 ]
}