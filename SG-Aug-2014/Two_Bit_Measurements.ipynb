{
 "metadata": {
  "name": "",
  "signature": "sha256:daa5a9d0369e01d2857ee87cac97dfed1edd57ed8a4f7acd31b59e3c85a1e46e"
 },
 "nbformat": 3,
 "nbformat_minor": 0,
 "worksheets": [
  {
   "cells": [
    {
     "cell_type": "markdown",
     "metadata": {},
     "source": [
      "<a name=top></a>\n",
      "<center>\n",
      "<h2>Two Bit Measurements</h2>\n",
      "</center>\n",
      "<p>\n",
      "This is part of \"working up to\" Bell's Inequality. It sort of goes\n",
      "with the Bell_I notebook which is currently in the QT directory.\n",
      "</p>"
     ]
    },
    {
     "cell_type": "markdown",
     "metadata": {},
     "source": [
      "<h2>Contents</h2>\n",
      "<ul>\n",
      "<li> <a href=\"#setup\">Setup Cell</a></li>\n",
      "<li> <a href=\"#one\">Part One</a></li>\n",
      "</ul>"
     ]
    },
    {
     "cell_type": "markdown",
     "metadata": {},
     "source": [
      "<h2>TTD</h2>\n",
      "<ul>\n",
      "<li> Somehow I thought that entaglement in one state meant\n",
      "    entanglement in all. But that's not what I'm seeing here\n",
      "    (vis the \"45\" basis). OK, so this <i>appears</i> to be\n",
      "    true for the singlet state, but not for the triplet.</li>\n",
      "</ul>"
     ]
    },
    {
     "cell_type": "markdown",
     "metadata": {},
     "source": [
      "<hr size=3>\n",
      "<a name=setup></a>\n",
      "<h2><a href=\"#top\">^</a> Setup Cell</h2>"
     ]
    },
    {
     "cell_type": "code",
     "collapsed": false,
     "input": [
      "%autosave 0\n",
      "%matplotlib inline\n",
      "from sglib import *\n",
      "from sympy.physics.quantum.qubit import matrix_to_qubit\n",
      "\n",
      "# To display a state, I change it to a Sympy Qubit so that it looks\n",
      "# like a Ket:|\n",
      "from IPython.display import display\n",
      "def disp(str, val):\n",
      "    display(str)\n",
      "    display(matrix_to_qubit(val).simplify())"
     ],
     "language": "python",
     "metadata": {},
     "outputs": []
    },
    {
     "cell_type": "markdown",
     "metadata": {},
     "source": [
      "<hr size=3>\n",
      "<a name=one></a>\n",
      "<h2><a href=\"#top\">^</a> Part One</h2>"
     ]
    },
    {
     "cell_type": "markdown",
     "metadata": {},
     "source": [
      "Define the four \"Bell States\", See:\n",
      "http://en.wikipedia.org/wiki/Bell_basis#The_Bell_states\n",
      "\n",
      "$|\\Phi^+\\rangle = \\frac{1}{\\sqrt{2}} (|0\\rangle_A \\otimes |0\\rangle_B + |1\\rangle_A \\otimes |1\\rangle_B)$\n",
      "\n",
      "$|\\Phi^-\\rangle = \\frac{1}{\\sqrt{2}} (|0\\rangle_A \\otimes |0\\rangle_B - |1\\rangle_A \\otimes |1\\rangle_B)$\n",
      "\n",
      "$|\\Psi^+\\rangle = \\frac{1}{\\sqrt{2}} (|0\\rangle_A \\otimes |1\\rangle_B + |1\\rangle_A \\otimes |0\\rangle_B)$\n",
      "\n",
      "$|\\Psi^-\\rangle = \\frac{1}{\\sqrt{2}} (|0\\rangle_A \\otimes |1\\rangle_B - |1\\rangle_A \\otimes |0\\rangle_B).$"
     ]
    },
    {
     "cell_type": "code",
     "collapsed": false,
     "input": [
      "#\n",
      "# Note: pZ = |+z> = |0>, mZ = |-z> = |1>\n",
      "#\n",
      "\n",
      "bell_1 = 1/sqrt(2)*TP(pZ,pZ) + 1/sqrt(2)*TP(mZ,mZ) # phi+\n",
      "bell_2 = 1/sqrt(2)*TP(pZ,pZ) - 1/sqrt(2)*TP(mZ,mZ) # phi-\n",
      "bell_3 = 1/sqrt(2)*TP(pZ,mZ) + 1/sqrt(2)*TP(mZ,pZ) # psi+ (Triplet)\n",
      "bell_4 = 1/sqrt(2)*TP(pZ,mZ) - 1/sqrt(2)*TP(mZ,pZ) # psi- (Singlet)\n",
      "\n",
      "Print(r'$\\phi^+ = %s$' %latex(matrix_to_qubit(bell_1)))\n",
      "Print(r'$\\phi^- = %s$' %latex(matrix_to_qubit(bell_2)))\n",
      "Print(r'$\\psi^+ = %s$' %latex(matrix_to_qubit(bell_3)))\n",
      "Print(r'$\\psi- = %s$' %latex(matrix_to_qubit(bell_4)))"
     ],
     "language": "python",
     "metadata": {},
     "outputs": []
    },
    {
     "cell_type": "code",
     "collapsed": false,
     "input": [
      "# Pick a state and ...\n",
      "z_state = bell_3\n",
      "print('In the Z basis we have')\n",
      "sg_print(z_state)\n",
      "\n",
      "IP = inner_product\n",
      "xb = x_basis_2bit\n",
      "a = IP(xb[0], z_state)\n",
      "b = IP(xb[1], z_state)\n",
      "c = IP(xb[2], z_state)\n",
      "d = IP(xb[3], z_state)\n",
      "x_state = col(a,b,c,d)\n",
      "\n",
      "print('In the x basis we have:')\n",
      "sg_print(x_state)\n",
      "\n",
      "# Measurement matrix for the vector halfway between x and z\n",
      "# See the electron spin notebook\n",
      "M45 = 1/sqrt(2)*mat(1,1,1,-1)\n",
      "Print('The 45 degree operator is:')\n",
      "sg_print(M45)\n",
      "\n",
      "eval, evec = find_eigenvectors(M45)\n",
      "m45 = evec[0]; p45 = evec[1]\n",
      "\n",
      "b45 = []\n",
      "b45 += [ TP(p45, p45), ]\n",
      "b45 += [ TP(p45, m45), ]\n",
      "b45 += [ TP(m45, p45), ]\n",
      "b45 += [ TP(m45, m45), ]\n",
      "\n",
      "a = IP(b45[0], z_state)\n",
      "b = IP(b45[1], z_state)\n",
      "c = IP(b45[2], z_state)\n",
      "d = IP(b45[3], z_state)\n",
      "state_45 = col(a,b,c,d)\n",
      "\n",
      "# Do everything possible to simplify the state\n",
      "state_45 = megasimp(state_45)\n",
      "\n",
      "Print('And in the 45 degree basis we have:')\n",
      "sg_print(state_45, exact=True, ndigs=4)"
     ],
     "language": "python",
     "metadata": {},
     "outputs": []
    },
    {
     "cell_type": "code",
     "collapsed": false,
     "input": [
      "Print('Giving the probabilities:')\n",
      "eflag = False\n",
      "sg_print( IP(p45, pZ)*IP(p45, pZ).conjugate(), exact=eflag, ndigs=3)\n",
      "sg_print( IP(p45, mZ)*IP(p45, mZ).conjugate(), exact=eflag, ndigs=3)\n",
      "sg_print( IP(p45, pX)*IP(p45, pX).conjugate(), exact=eflag, ndigs=3)\n",
      "sg_print( IP(p45, mX)*IP(p45, mX).conjugate(), exact=eflag, ndigs=3)"
     ],
     "language": "python",
     "metadata": {},
     "outputs": []
    },
    {
     "cell_type": "markdown",
     "metadata": {},
     "source": [
      "<h2>Bell Basis Measurement Operator?</h2>\n",
      "<p>\n",
      "I need to see how this compares with the way it's done in\n",
      "the quantum teleportation scenaio."
     ]
    },
    {
     "cell_type": "code",
     "collapsed": false,
     "input": [
      "evals = (0, 1, 2, 3); evecs = (bell_1, bell_2, bell_3, bell_4)\n",
      "BBM = construct_measurement_operator(evals, evecs)"
     ],
     "language": "python",
     "metadata": {},
     "outputs": []
    },
    {
     "cell_type": "code",
     "collapsed": false,
     "input": [
      "BBM"
     ],
     "language": "python",
     "metadata": {},
     "outputs": []
    },
    {
     "cell_type": "code",
     "collapsed": false,
     "input": [],
     "language": "python",
     "metadata": {},
     "outputs": []
    }
   ],
   "metadata": {}
  }
 ]
}