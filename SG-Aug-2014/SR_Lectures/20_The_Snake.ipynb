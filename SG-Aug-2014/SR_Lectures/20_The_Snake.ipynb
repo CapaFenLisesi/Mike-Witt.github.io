{
 "metadata": {
  "name": "",
  "signature": "sha256:6c647b5f16c5fdbe28b9e507948cf9c73e37e67426b87aef6d5ff2e85e357b75"
 },
 "nbformat": 3,
 "nbformat_minor": 0,
 "worksheets": [
  {
   "cells": [
    {
     "cell_type": "markdown",
     "metadata": {},
     "source": [
      "<a name=top></a>\n",
      "<center>\n",
      "<h1>The Relativistic Snake</h1>\n",
      "</center>\n",
      "<p>\n",
      "<p>\n",
      "From: <a href=\"http://www.barnesandnoble.com/w/classical-mechanics-john-r-taylor/1100518561?ean=9781891389221\">\n",
      "Classical Mechanics by John Taylor</a>"
     ]
    },
    {
     "cell_type": "markdown",
     "metadata": {},
     "source": [
      "<ul>\n",
      "<li><a href=\"#setup\">Basic Setup</a></li>\n",
      "<li><a href=\"#lab\">The Lab Frame</a></li>\n",
      "<li><a href=\"#snake\">The Snake's Frame</a></li>\n",
      "</ul>"
     ]
    },
    {
     "cell_type": "markdown",
     "metadata": {},
     "source": [
      "<a name=setup></a>\n",
      "<h2><a href=\"#top\">^</a> Setup</h2>\n",
      "<p>"
     ]
    },
    {
     "cell_type": "code",
     "collapsed": false,
     "input": [
      "%autosave 0\n",
      "%matplotlib inline\n",
      "import numpy as np\n",
      "import srlib\n",
      "reload(srlib)\n",
      "from srlib import *\n",
      "\n",
      "#\n",
      "# Here are all of the functions and data that will be needed\n",
      "#\n",
      "\n",
      "# time axis in the Lab frame\n",
      "#a=-1.2; b=2.\n",
      "a = -.2; b=.2\n",
      "t0 = 10*a/c\n",
      "nt = 11. # Number of points to plot\n",
      "t1 = 10*b/c # end time in metres\n",
      "t_axis = np.linspace(t0, t1, nt)\n",
      "v = .6*c\n",
      "\n",
      "# The paths. Everything is in metres.\n",
      "Ox = 0; # The origin. This is there the left knife and snake's tail meet\n",
      "track_l = []; track_r = []; snake_l = []; snake_r = []\n",
      "for t in t_axis:\n",
      "    track_l += [ Ox, ] # The track path is in the lab frame\n",
      "    track_r += [ Ox+1, ]\n",
      "    snake_l += [ Ox, ] # The snake's path is in the snake frame\n",
      "    snake_r += [ Ox+1, ] \n",
      "\n",
      "# Make world lines in their respective frames\n",
      "trackl_wl = world_line('Track', track_l, t_axis, 'black')\n",
      "trackr_wl = world_line('Track', track_r, t_axis, 'black')\n",
      "snakel_wl = world_line('Snake', snake_l, t_axis, 'green')\n",
      "snaker_wl = world_line('Snake', snake_r, t_axis, 'green')\n",
      "\n",
      "# Then translate them for the Lab frame\n",
      "lab_wls = []\n",
      "lab_wls += [ trackl_wl, ]\n",
      "lab_wls += [ trackr_wl, ]\n",
      "lab_wls += [ snakel_wl.ltrans(-v), ]\n",
      "lab_wls += [ snaker_wl.ltrans(-v), ]\n",
      "\n",
      "# Events in the lab frame:\n",
      "E2 = event('E2', 0, 0, 'red')\n",
      "E1 = event('E1', 1, 0, 'blue')\n",
      "lab_evs = [E1, E2]\n",
      "\n",
      "# World lines and events for the Snake's frame\n",
      "snake_wls = []\n",
      "snake_wls += [ trackl_wl.ltrans(v), ]\n",
      "snake_wls += [ trackr_wl.ltrans(v), ]\n",
      "snake_wls += [ snakel_wl, ]\n",
      "snake_wls += [ snaker_wl, ]\n",
      "snake_evs = []\n",
      "snake_evs += [ E1.ltrans(v), ]\n",
      "snake_evs += [ E2.ltrans(v), ]"
     ],
     "language": "python",
     "metadata": {},
     "outputs": [
      {
       "javascript": [
        "IPython.notebook.set_autosave_interval(0)"
       ],
       "metadata": {},
       "output_type": "display_data"
      },
      {
       "output_type": "stream",
       "stream": "stdout",
       "text": [
        "Autosave disabled\n"
       ]
      }
     ],
     "prompt_number": 5
    },
    {
     "cell_type": "markdown",
     "metadata": {},
     "source": [
      "<a name=lab></a>\n",
      "<h2><a href=\"#top\">^</a> The experiment in the lab frame</h2>\n",
      "<p>\n",
      "The black lines represent the places on the track where the knives\n",
      "will fall. The green lines represent the head and tail of the snake.\n",
      "In the lab frame, the length of the snake is contracted so that it\n",
      "fits between the two knives, which fall at the same time."
     ]
    },
    {
     "cell_type": "code",
     "collapsed": false,
     "input": [
      "# Create and display Lab frame\n",
      "lab_frame = frame('Lab Frame', lab_wls, lab_evs)\n",
      "bnds = [-.5, 2, -1.3/c, 1.3/c]\n",
      "pyplot=lab_frame.display(scale='metres', bounds=bnds, figsize=[6,6])"
     ],
     "language": "python",
     "metadata": {},
     "outputs": [
      {
       "metadata": {},
       "output_type": "display_data",
       "png": "[encoded data removed]",
       "text": [
        "<matplotlib.figure.Figure at 0xa81c82c>"
       ]
      }
     ],
     "prompt_number": 4
    },
    {
     "cell_type": "markdown",
     "metadata": {},
     "source": [
      "<a name=snake></a>\n",
      "<h2><a href=\"#top\">^</a> The experiment in the snake's frame</h2>\n",
      "<p>\n",
      "In the snake's frame of reference the track is contracted, and the snake\n",
      "would not fit between the two spots where the knives would fall. However,\n",
      "due to the relativity of simultaneity, the knives do not fall at the same\n",
      "time. The \"blue\" knife (at the snake's head) falls before snake and the\n",
      "track meet. "
     ]
    },
    {
     "cell_type": "code",
     "collapsed": false,
     "input": [
      "# Create and display Snake's frame\n",
      "snake_frame = frame('Snake\\'s Frame', snake_wls, snake_evs)\n",
      "pyplot=snake_frame.display(scale='metres', bounds=bnds, figsize=[6,6])"
     ],
     "language": "python",
     "metadata": {},
     "outputs": [
      {
       "metadata": {},
       "output_type": "display_data",
       "png": "[encoded data removed]",
       "text": [
        "<matplotlib.figure.Figure at 0xa7fd64c>"
       ]
      }
     ],
     "prompt_number": 3
    },
    {
     "cell_type": "code",
     "collapsed": false,
     "input": [],
     "language": "python",
     "metadata": {},
     "outputs": [],
     "prompt_number": 3
    }
   ],
   "metadata": {}
  }
 ]
}